{
 "cells": [
  {
   "cell_type": "markdown",
   "source": "# Images and convolutional networks\n\nIn this notebook, we will dig deeper into convolutional neural networks for image classification.\n\n## Filter visualization\n\nWe will first try to visualize what these networks learn, _i.e._ what kind of local patterns their convolution blocks typically detect.\nFor this exercise, we will focus on the first layer of these models to keep the maths simple.\n\n**Question 1.** Suppose a model has learned a convolution filter (_aka_ kernel) $W$ and a bias $b$.\nWhat is (theoretically) the unit-norm image patch $P$ that maximizes the ouput activation for \nthis specific configuration:\n\n$$\\max_{P} \\varphi(W \\cdot P + b)) \\text{ such that } \\|P\\| = 1$$\n\nwhere $\\varphi$ is the activation function, for which our only assumption will be that it is an non-decreasing function.",
   "metadata": {
    "id": "MTDStjAJrLT-",
    "cell_id": "00000-a1adc4b1-4149-4f25-83f8-faabc945a92c",
    "deepnote_cell_type": "markdown"
   }
  },
  {
   "cell_type": "markdown",
   "source": "Write your (text) answer here.",
   "metadata": {
    "tags": [],
    "cell_id": "00001-716925eb-afb4-4200-b267-0ceaa591c3ca",
    "deepnote_cell_type": "markdown"
   }
  },
  {
   "cell_type": "markdown",
   "source": "**Question 2.** Given your answer above, and the model fit below, visualize, for each filter of the first convolutional \nlayer, the input patch that would correspond to maximum activation.\nSee [`keras` docs](https://keras.io/api/layers/) for more information on how to access weights of \na given layer.",
   "metadata": {
    "tags": [],
    "cell_id": "00002-432ef628-e939-4322-829b-40a0658c80e2",
    "deepnote_cell_type": "markdown"
   }
  },
  {
   "cell_type": "code",
   "metadata": {
    "id": "eZHk0xOhqUH6",
    "colab": {
     "base_uri": "https://localhost:8080/",
     "height": 85
    },
    "outputId": "39552619-cae6-44e7-bbc4-acaf800af98f",
    "output_cleared": false,
    "source_hash": "ffa07d02",
    "execution_millis": 2149,
    "deepnote_to_be_reexecuted": false,
    "execution_start": 1614771639461,
    "cell_id": "00003-21e8f66a-2713-45dc-87fa-c88e1a44caad",
    "deepnote_cell_type": "code"
   },
   "source": "from tensorflow.keras.datasets import mnist\nfrom tensorflow.keras.utils import to_categorical\n\ndef prepare_mnist():\n    (x_train, y_train), (x_test, y_test) = mnist.load_data()\n    x_train = x_train / 255.\n    x_test = x_test / 255.\n    x_train = x_train.reshape((-1, 28, 28, 1))\n    x_test = x_test.reshape((-1, 28, 28, 1))\n    \n    y_train = to_categorical(y_train)\n    y_test = to_categorical(y_test)\n    return x_train, x_test, y_train, y_test\n\nx_train, x_test, y_train, y_test = prepare_mnist()",
   "execution_count": null,
   "outputs": [
    {
     "name": "stdout",
     "text": "Downloading data from https://storage.googleapis.com/tensorflow/tf-keras-datasets/mnist.npz\n11493376/11490434 [==============================] - 0s 0us/step\n",
     "output_type": "stream"
    }
   ]
  },
  {
   "cell_type": "code",
   "metadata": {
    "id": "ug40MwR-uD0X",
    "colab": {
     "base_uri": "https://localhost:8080/",
     "height": 496
    },
    "outputId": "0683554f-22d6-4b3d-c5f0-ba80a33b13ef",
    "output_cleared": false,
    "source_hash": "b8f76da2",
    "execution_millis": 124121,
    "deepnote_to_be_reexecuted": false,
    "execution_start": 1614771645224,
    "cell_id": "00004-8ae61253-9ea8-4e40-bab1-7031326481c7",
    "deepnote_output_heights": [
     null,
     21.1875
    ],
    "deepnote_cell_type": "code"
   },
   "source": "from tensorflow.keras.models import Sequential\nfrom tensorflow.keras.layers import InputLayer, Conv2D, MaxPool2D, Flatten, Dense\n\nfirst_conv_layer = Conv2D(filters=5, kernel_size=5, padding='valid', activation=\"relu\")\n\nmodel = Sequential([\n    InputLayer(input_shape=(28, 28, 1)),\n    first_conv_layer,\n    MaxPool2D(pool_size=2),\n    Conv2D(filters=10, kernel_size=5, padding='valid', activation=\"relu\"),\n    MaxPool2D(pool_size=2),\n    Flatten(),\n    Dense(units=10, activation=\"softmax\")\n])\nmodel.compile(optimizer=\"adam\", loss=\"categorical_crossentropy\", metrics=[\"accuracy\"])\nmodel.fit(x_train, y_train, epochs=5, batch_size=100, validation_data=(x_test, y_test))",
   "execution_count": null,
   "outputs": [
    {
     "name": "stdout",
     "text": "Epoch 1/5\n600/600 [==============================] - 26s 44ms/step - loss: 0.4816 - accuracy: 0.8573 - val_loss: 0.1839 - val_accuracy: 0.9441\nEpoch 2/5\n600/600 [==============================] - 25s 41ms/step - loss: 0.1595 - accuracy: 0.9514 - val_loss: 0.1115 - val_accuracy: 0.9670\nEpoch 3/5\n600/600 [==============================] - 24s 41ms/step - loss: 0.1157 - accuracy: 0.9651 - val_loss: 0.0897 - val_accuracy: 0.9718\nEpoch 4/5\n600/600 [==============================] - 24s 40ms/step - loss: 0.0953 - accuracy: 0.9707 - val_loss: 0.0787 - val_accuracy: 0.9752\nEpoch 5/5\n600/600 [==============================] - 24s 40ms/step - loss: 0.0824 - accuracy: 0.9750 - val_loss: 0.0695 - val_accuracy: 0.9787\n",
     "output_type": "stream"
    },
    {
     "output_type": "execute_result",
     "execution_count": 2,
     "data": {
      "text/plain": "<tensorflow.python.keras.callbacks.History at 0x7ff25d782090>"
     },
     "metadata": {}
    }
   ]
  },
  {
   "cell_type": "code",
   "metadata": {
    "tags": [],
    "deepnote_to_be_reexecuted": false,
    "source_hash": "fd189b5a",
    "execution_millis": 228,
    "output_cleared": true,
    "execution_start": 1614771788343,
    "cell_id": "00005-8b52665c-a14e-49b0-aed8-314f1da3fd1c",
    "deepnote_cell_type": "code"
   },
   "source": "import matplotlib.pyplot as plt\nimport numpy as np\n\n# TODO",
   "execution_count": null,
   "outputs": []
  },
  {
   "cell_type": "markdown",
   "source": "**Question 3.** Repeat this process for the pre-trained ResNet50 model you used in the previous\nlab session.\nVisualize the first 16 filters of the first convolutional layer.",
   "metadata": {
    "tags": [],
    "cell_id": "00006-1cf6b102-550a-43fd-a591-dc8f44048c0a",
    "deepnote_cell_type": "markdown"
   }
  },
  {
   "cell_type": "code",
   "metadata": {
    "tags": [],
    "cell_id": "00007-7c42c15f-ed4e-475e-8ee7-9e4b0c284bfc",
    "deepnote_cell_type": "code"
   },
   "source": "",
   "execution_count": null,
   "outputs": []
  },
  {
   "cell_type": "markdown",
   "source": "# Adversarial examples\n\nIn this section, we will illustrate the concept of adversarial examples and implement a simple \n[fast-sign-gradient method](https://arxiv.org/abs/1412.6572) to generate such examples.\nThe idea of this method is the following:\n\nSuppose we denote by $\\mathcal{L}(x, y; \\theta)$ the loss function (typically categorical cross-entropy) evaluated for\nthe current parameters $\\theta$ of a model on a single example $(x, y)$.\nIf we compute the gradient of $\\mathcal{L}$ **with respect to $x$**, it will give us the direction of \nsteepest increase \nof $\\mathcal{L}$, hence the the direction that is most likely to increase $\\mathcal{L}$ if we perform a small modification on $x$ (not on model parameters, as we usually do when our goal is to fit a model).\nHence if we push $x$ (which is an image here) in that direction, we will perform a gradient ascent on $x$, \nwhich means we will change its pixel content in order to fool the \nclassifier.\nIf we are able to fool the classifier even with small changes, we have successfully generated an adversarial example: an \nexample that is generated on purpose to look easy to classify for a human eye, but still fool the classifier.\n\nMore precisely the update rule for the fast-sign-gradient method is:\n\n$$x^{(t+1)} = x^{(t)}+ \\eta \\, \\text{sign}(\\nabla_x\\mathcal{L}(x^{(t)}, y; \\theta))$$\n\nwhere $\\eta$ is a gradient step (or learning rate).\n\nNote that an alternative way to use this fast-sign-gradient method would be to perform a gradient descent (not ascent, this time)\non the quantity $\\mathcal{L}(x, y^\\prime; \\theta)$ where $y^\\prime$ is a target class that we want the classifier to predict.",
   "metadata": {
    "tags": [],
    "cell_id": "00008-30462a62-6e73-4e35-b07f-a45ae67d1b04",
    "deepnote_cell_type": "markdown"
   }
  },
  {
   "cell_type": "code",
   "metadata": {
    "tags": [],
    "deepnote_to_be_reexecuted": false,
    "source_hash": "3d7fee32",
    "execution_millis": 206,
    "execution_start": 1614771791687,
    "cell_id": "00009-6e6d0711-b1a6-449e-adc0-de08e606fcc5",
    "deepnote_output_heights": [
     250
    ],
    "deepnote_cell_type": "code"
   },
   "source": "img = x_test[0]\n\nplt.imshow(img, cmap='gray')\nlabel = y_test[0]",
   "execution_count": null,
   "outputs": [
    {
     "data": {
      "text/plain": "<Figure size 432x288 with 1 Axes>",
      "image/png": "[encoded data removed]"
     },
     "metadata": {
      "needs_background": "light",
      "image/png": {
       "width": 251,
       "height": 248
      }
     },
     "output_type": "display_data"
    }
   ]
  },
  {
   "cell_type": "markdown",
   "source": "**Question 3.** For the first sample in the MNIST test set (plotted just above ⬆️), what is the probability assigned by\nthe simple model (made of 2 convolutional layers) defined above to **the correct class**?",
   "metadata": {
    "tags": [],
    "cell_id": "00010-5fdaa36f-d5ac-45fc-85cd-221129dc7cb8",
    "deepnote_cell_type": "markdown"
   }
  },
  {
   "cell_type": "code",
   "metadata": {
    "tags": [],
    "deepnote_to_be_reexecuted": false,
    "source_hash": "85f5147d",
    "execution_millis": 4,
    "output_cleared": false,
    "execution_start": 1614771794790,
    "cell_id": "00011-5c8a881e-0bbf-4cf8-8f51-83d8c7cb339c",
    "deepnote_cell_type": "code"
   },
   "source": "def predict_single_image(model, x):\n    return model(x[None]).numpy()[0]\n\npreds = predict_single_image(model, img)\n# TODO",
   "execution_count": null,
   "outputs": []
  },
  {
   "cell_type": "markdown",
   "source": "**Question 4.** The code below adds white noise to the image. See how this impacts (or not) the prediction quality of \nthe model on this sample. You can play with the level of white noise to better visualize the robustness of the model to this \nkind of content modification.",
   "metadata": {
    "tags": [],
    "cell_id": "00012-52869203-fdc6-4707-9250-ec8315960ec6",
    "deepnote_cell_type": "markdown"
   }
  },
  {
   "cell_type": "code",
   "metadata": {
    "tags": [],
    "deepnote_to_be_reexecuted": false,
    "source_hash": "7a8c18f3",
    "execution_millis": 116,
    "output_cleared": false,
    "execution_start": 1614771797978,
    "cell_id": "00013-e188da28-1400-46b9-a0dc-7a3903734287",
    "deepnote_output_heights": [
     21.199996948242188,
     250
    ],
    "deepnote_cell_type": "code"
   },
   "source": "noisy_image = img + .1 * np.random.randn(*img.shape)\nplt.imshow(noisy_image, cmap='gray')\n\n# TODO",
   "execution_count": null,
   "outputs": [
    {
     "output_type": "execute_result",
     "execution_count": 9,
     "data": {
      "text/plain": "<matplotlib.image.AxesImage at 0x7ff1f1494e50>"
     },
     "metadata": {}
    },
    {
     "data": {
      "text/plain": "<Figure size 432x288 with 1 Axes>",
      "image/png": "[encoded data removed]"
     },
     "metadata": {
      "needs_background": "light",
      "image/png": {
       "width": 251,
       "height": 248
      }
     },
     "output_type": "display_data"
    }
   ]
  },
  {
   "cell_type": "markdown",
   "source": "**Question 5.** The function `sign_grad` below computes the quantity $\\text{sign}(\\nabla_x\\mathcal{L}(x^{(t)}, y; \\theta))$.\nUsing calls to this function, iteratively change the content of the non-noisy image to generate an adversarial example.\nYou can use a gradient step of .1 and 5 iterations should be sufficient.\n",
   "metadata": {
    "tags": [],
    "cell_id": "00014-8ebccdf8-ada4-49dd-8b54-bce9a0b6573d",
    "deepnote_cell_type": "markdown"
   }
  },
  {
   "cell_type": "code",
   "metadata": {
    "tags": [],
    "deepnote_to_be_reexecuted": false,
    "source_hash": "7c661f81",
    "execution_millis": 1,
    "output_cleared": true,
    "execution_start": 1614771800982,
    "cell_id": "00015-0ce89e7d-6f58-40b9-b51f-43918dbf4f9a",
    "deepnote_cell_type": "code"
   },
   "source": "import tensorflow as tf\nfrom tensorflow.keras.losses import CategoricalCrossentropy\n\ndef sign_grad(model, image, label):\n    image = tf.cast(image, tf.float32)\n\n    image_batch = image[None]\n    label_batch = label[None]\n    \n    with tf.GradientTape() as tape:\n        tape.watch(image_batch)\n        prediction = model(image_batch)\n        loss = CategoricalCrossentropy()(label_batch, prediction)\n    \n    gradient = tape.gradient(loss, image_batch)\n    \n    signed_grad = tf.sign(gradient)\n    \n    return signed_grad[0]\n\n\nnum_iter = 5\neta = .1\n\n# TODO",
   "execution_count": null,
   "outputs": []
  },
  {
   "cell_type": "markdown",
   "source": "**Question 6.** Adapt your code above to push the model towards classifying the image into a 2.",
   "metadata": {
    "tags": [],
    "cell_id": "00016-3d4aa88d-b20c-4e2b-a03a-71537a64af1b",
    "deepnote_cell_type": "markdown"
   }
  },
  {
   "cell_type": "code",
   "metadata": {
    "tags": [],
    "deepnote_to_be_reexecuted": false,
    "source_hash": null,
    "execution_millis": 93,
    "execution_start": 1614771991443,
    "output_cleared": true,
    "cell_id": "00017-1222c7f3-8b52-44e1-9560-07f295415c39",
    "deepnote_cell_type": "code"
   },
   "source": "from tensorflow.keras.utils import to_categorical\n\nimg = x_test[0]\ntarget_label = to_categorical(2, num_classes=10)\n\n# TODO",
   "execution_count": null,
   "outputs": []
  },
  {
   "cell_type": "markdown",
   "source": "<a style='text-decoration:none;line-height:16px;display:flex;color:#5B5B62;padding:10px;justify-content:end;' href='https://deepnote.com?utm_source=created-in-deepnote-cell&projectId=4418dda1-7b27-41aa-8376-9ca7c94fae59' target=\"_blank\">\n<img alt='Created in deepnote.com' style='display:inline;max-height:16px;margin:0px;margin-right:7.5px;' src='data:image/svg+xml;base64,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' > </img>\nCreated in <span style='font-weight:600;margin-left:4px;'>Deepnote</span></a>",
   "metadata": {
    "tags": [],
    "created_in_deepnote_cell": true,
    "deepnote_cell_type": "markdown"
   }
  }
 ],
 "nbformat": 4,
 "nbformat_minor": 0,
 "metadata": {
  "colab": {
   "name": "Images & ConvNets.ipynb",
   "provenance": [],
   "collapsed_sections": []
  },
  "kernelspec": {
   "name": "python3",
   "display_name": "Python 3"
  },
  "accelerator": "GPU",
  "deepnote_notebook_id": "303bba85-4d53-440b-942d-6eadc6d91c15",
  "deepnote_execution_queue": [],
  "deepnote": {}
 }
}