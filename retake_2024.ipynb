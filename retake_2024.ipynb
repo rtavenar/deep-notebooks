{
 "cells": [
  {
   "cell_type": "markdown",
   "metadata": {},
   "source": [
    "# Retake exam for EDHEC DAAI's Deep Learning Course\n",
    "\n",
    "Given the data loaded as below, propose (at least) two deep learning models to tackle the problem at hand and evaluate them properly in order to decide which model performs best. Each model should have at most 100,000 learnable parameters and the training process should be limited to 10 epochs (could even be 5 epochs if necessary).\n",
    "\n",
    "Your provided file should be a PDF export of the notebook in which you have tackled the assignment described above, with execution traces.\n",
    "\n",
    "## 1. Data loading\n",
    "\n",
    "Execute the cells below to load the data (run the notebook in Google Colab):"
   ]
  },
  {
   "cell_type": "code",
   "execution_count": null,
   "metadata": {},
   "outputs": [],
   "source": [
    "!wget https://github.com/rtavenar/ml-datasets/releases/download/cricket_football_baseball/cricket-football-baseball.zip && unzip -o cricket-football-baseball.zip"
   ]
  },
  {
   "cell_type": "code",
   "execution_count": null,
   "metadata": {},
   "outputs": [],
   "source": [
    "import os\n",
    "from PIL import Image\n",
    "import numpy as np\n",
    "\n",
    "def load_data():\n",
    "    labels = []\n",
    "    images = []\n",
    "\n",
    "    for dir_files in os.listdir('cricket-football-baseball'):\n",
    "        if os.path.isdir(os.path.join('cricket-football-baseball', dir_files)):\n",
    "            for img_file in os.listdir(os.path.join('cricket-football-baseball', dir_files)):\n",
    "                if os.path.isfile(os.path.join('cricket-football-baseball', dir_files, img_file)):\n",
    "                    labels.append(dir_files)\n",
    "                    image = Image.open(os.path.join('cricket-football-baseball', dir_files, img_file))\n",
    "                    images.append(np.array(image))\n",
    "\n",
    "    return images, labels\n",
    "\n",
    "data_images, data_labels = load_data()"
   ]
  }
 ],
 "metadata": {
  "language_info": {
   "name": "python"
  }
 },
 "nbformat": 4,
 "nbformat_minor": 2
}
