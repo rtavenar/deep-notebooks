{
  "cells": [
    {
      "cell_type": "markdown",
      "metadata": {
        "cell_id": "00000-08753959-3ccf-49fa-9e6c-789a22d0baf8",
        "deepnote_cell_type": "markdown",
        "id": "MTDStjAJrLT-"
      },
      "source": [
        "# Images and convolutional networks\n",
        "\n",
        "In this notebook, we'll cover the use of convolutional neural networks for image classification.\n",
        "\n",
        "## Preamble: GPUs\n",
        "\n",
        "Since these networks widely benefit from computations on GPU, you could be curious about whether GPUs will be used for the computations at stake in this notebook."
      ]
    },
    {
      "cell_type": "code",
      "execution_count": 7,
      "metadata": {
        "id": "DbeXU7Wg_vvR",
        "outputId": "c75ab993-68a5-4a48-bd6b-c8f5d3b47ca6",
        "colab": {
          "base_uri": "https://localhost:8080/"
        }
      },
      "outputs": [
        {
          "output_type": "stream",
          "name": "stdout",
          "text": [
            "Found GPU at: /device:GPU:0\n"
          ]
        }
      ],
      "source": [
        "import tensorflow as tf\n",
        "device_name = tf.test.gpu_device_name()\n",
        "if device_name != '/device:GPU:0':\n",
        "  print('GPU device not found')\n",
        "else:\n",
        "  print('Found GPU at: {}'.format(device_name))"
      ]
    },
    {
      "cell_type": "markdown",
      "metadata": {
        "id": "TfKixwfT_vvU"
      },
      "source": [
        "If you are using Google Colab and no GPU is found, enable GPUs for the notebook as follows:\n",
        "\n",
        "- Navigate to Edit→Notebook Settings\n",
        "- select GPU from the Hardware Accelerator drop-down\n",
        "\n",
        "and restart the notebook.\n",
        "\n",
        "By default, all operations in `keras` are run on GPU if a GPU is found.\n",
        "If no GPU is available, the code runs on CPU without requiring any adaptation."
      ]
    },
    {
      "cell_type": "markdown",
      "metadata": {
        "id": "WUvtdiV6_vvV"
      },
      "source": [
        "## LeNet and variants (shallow CNNs)\n",
        "\n",
        "You will first experiments with rather shallow networks to get used to typical layers used in CNNs.\n",
        "\n",
        "\n",
        "**Question 1.** Import the MNIST dataset and make sure it has the correct shape to feed a CNN (i.e. the dataset should \n",
        "have dimensions $(n, w, h, c)$ where $n$ is the number of images in the set, $w$ and $h$ are the width and height of an \n",
        "image and $c$ its number of channels: 1 for black & white images and 3 for RGB ones)."
      ]
    },
    {
      "cell_type": "code",
      "execution_count": 8,
      "metadata": {
        "cell_id": "00001-8f1fb72b-8284-4b4a-bc70-bf21556ec46e",
        "colab": {
          "base_uri": "https://localhost:8080/"
        },
        "deepnote_cell_type": "code",
        "execution_millis": 496,
        "execution_start": 1606744103197,
        "id": "eZHk0xOhqUH6",
        "outputId": "dec06129-681b-48f7-c4d8-35ec08cb7c2f",
        "output_cleared": true,
        "source_hash": null
      },
      "outputs": [
        {
          "output_type": "stream",
          "name": "stdout",
          "text": [
            "Downloading data from https://storage.googleapis.com/tensorflow/tf-keras-datasets/mnist.npz\n",
            "11493376/11490434 [==============================] - 0s 0us/step\n",
            "11501568/11490434 [==============================] - 0s 0us/step\n"
          ]
        }
      ],
      "source": [
        "from tensorflow.keras.datasets import mnist\n",
        "from tensorflow.keras.utils import to_categorical\n",
        "\n",
        "def prepare_mnist():\n",
        "    (x_train, y_train), (x_test, y_test) = mnist.load_data()\n",
        "    x_train = x_train / 255.\n",
        "    x_test = x_test / 255.\n",
        "    x_train = x_train.reshape((-1, 28, 28, 1))\n",
        "    x_test = x_test.reshape((-1, 28, 28, 1))\n",
        "    \n",
        "    y_train = to_categorical(y_train)\n",
        "    y_test = to_categorical(y_test)\n",
        "    return x_train, x_test, y_train, y_test\n",
        "\n",
        "x_train, x_test, y_train, y_test = prepare_mnist()"
      ]
    },
    {
      "cell_type": "markdown",
      "metadata": {
        "cell_id": "00002-01168da6-b0c5-46a9-9d7d-d3210b958f60",
        "deepnote_cell_type": "markdown",
        "id": "kYSVWWgLryss"
      },
      "source": [
        "To define a CNN, you will need (at least) the following layers:\n",
        "* [`Conv2D`](https://www.tensorflow.org/api_docs/python/tf/keras/layers/Conv2D)\n",
        "* [`MaxPool2D`](https://www.tensorflow.org/api_docs/python/tf/keras/layers/MaxPool2D)\n",
        "* [`Flatten`](https://www.tensorflow.org/api_docs/python/tf/keras/layers/Flatten)\n",
        "\n",
        "**Question 2.** Implement a CNN with a single convolutional layer followed by a max-pooling and a fully-connected layer. Show the number of parameters of these networks and evaluate its performance on MNIST data."
      ]
    },
    {
      "cell_type": "code",
      "execution_count": 9,
      "metadata": {
        "cell_id": "00003-46cbd7ca-38ec-4b30-aaa1-5001aa40aa8e",
        "colab": {
          "base_uri": "https://localhost:8080/"
        },
        "deepnote_cell_type": "code",
        "execution_millis": 183869,
        "execution_start": 1606744338698,
        "id": "ug40MwR-uD0X",
        "outputId": "3511c718-0874-4998-a902-23d7fc5d9858",
        "output_cleared": true,
        "source_hash": null
      },
      "outputs": [
        {
          "output_type": "stream",
          "name": "stdout",
          "text": [
            "Epoch 1/10\n",
            "300/300 - 11s - loss: 1.0481 - accuracy: 0.7272 - val_loss: 0.4564 - val_accuracy: 0.8797 - 11s/epoch - 38ms/step\n",
            "Epoch 2/10\n",
            "300/300 - 2s - loss: 0.3674 - accuracy: 0.8980 - val_loss: 0.2874 - val_accuracy: 0.9213 - 2s/epoch - 5ms/step\n",
            "Epoch 3/10\n",
            "300/300 - 2s - loss: 0.2612 - accuracy: 0.9268 - val_loss: 0.2252 - val_accuracy: 0.9357 - 2s/epoch - 5ms/step\n",
            "Epoch 4/10\n",
            "300/300 - 2s - loss: 0.2123 - accuracy: 0.9390 - val_loss: 0.1867 - val_accuracy: 0.9471 - 2s/epoch - 6ms/step\n",
            "Epoch 5/10\n",
            "300/300 - 2s - loss: 0.1839 - accuracy: 0.9464 - val_loss: 0.1657 - val_accuracy: 0.9515 - 2s/epoch - 5ms/step\n",
            "Epoch 6/10\n",
            "300/300 - 2s - loss: 0.1644 - accuracy: 0.9524 - val_loss: 0.1489 - val_accuracy: 0.9565 - 2s/epoch - 5ms/step\n",
            "Epoch 7/10\n",
            "300/300 - 2s - loss: 0.1500 - accuracy: 0.9558 - val_loss: 0.1358 - val_accuracy: 0.9602 - 2s/epoch - 5ms/step\n",
            "Epoch 8/10\n",
            "300/300 - 2s - loss: 0.1397 - accuracy: 0.9586 - val_loss: 0.1261 - val_accuracy: 0.9628 - 2s/epoch - 5ms/step\n",
            "Epoch 9/10\n",
            "300/300 - 2s - loss: 0.1316 - accuracy: 0.9606 - val_loss: 0.1206 - val_accuracy: 0.9633 - 2s/epoch - 5ms/step\n",
            "Epoch 10/10\n",
            "300/300 - 2s - loss: 0.1240 - accuracy: 0.9627 - val_loss: 0.1137 - val_accuracy: 0.9654 - 2s/epoch - 5ms/step\n"
          ]
        },
        {
          "output_type": "execute_result",
          "data": {
            "text/plain": [
              "<keras.callbacks.History at 0x7fd2100ceb90>"
            ]
          },
          "metadata": {},
          "execution_count": 9
        }
      ],
      "source": [
        "from tensorflow.keras.models import Sequential\n",
        "from tensorflow.keras.layers import InputLayer, Conv2D, MaxPool2D, Flatten, Dense\n",
        "\n",
        "model = Sequential([\n",
        "    Conv2D(filters=10, kernel_size=3, activation=\"relu\"),\n",
        "    MaxPool2D(pool_size=5),\n",
        "    Flatten(),\n",
        "    Dense(units=10, activation=\"softmax\")\n",
        "])\n",
        "\n",
        "model.compile(loss=\"categorical_crossentropy\", optimizer=\"adam\", metrics=[\"accuracy\"])\n",
        "model.fit(x_train, y_train, epochs=10, batch_size=200, verbose=2, validation_data=(x_test, y_test))"
      ]
    },
    {
      "cell_type": "code",
      "source": [
        "model.summary()"
      ],
      "metadata": {
        "id": "KcYi81xUlDWM",
        "outputId": "af02a725-72c9-400c-ba5d-706bcc575120",
        "colab": {
          "base_uri": "https://localhost:8080/"
        }
      },
      "execution_count": 10,
      "outputs": [
        {
          "output_type": "stream",
          "name": "stdout",
          "text": [
            "Model: \"sequential\"\n",
            "_________________________________________________________________\n",
            " Layer (type)                Output Shape              Param #   \n",
            "=================================================================\n",
            " conv2d (Conv2D)             (200, 26, 26, 10)         100       \n",
            "                                                                 \n",
            " max_pooling2d (MaxPooling2D  (200, 5, 5, 10)          0         \n",
            " )                                                               \n",
            "                                                                 \n",
            " flatten (Flatten)           (200, 250)                0         \n",
            "                                                                 \n",
            " dense (Dense)               (200, 10)                 2510      \n",
            "                                                                 \n",
            "=================================================================\n",
            "Total params: 2,610\n",
            "Trainable params: 2,610\n",
            "Non-trainable params: 0\n",
            "_________________________________________________________________\n"
          ]
        }
      ]
    },
    {
      "cell_type": "markdown",
      "metadata": {
        "cell_id": "00005-5ad942d1-c9e4-4f52-bcc6-304d0da5620f",
        "deepnote_cell_type": "markdown",
        "id": "uJkImztXuEmX"
      },
      "source": [
        "**Question 3.** Implement the following network (leNet), in which you just change the input image size (but keep the same \n",
        "hyper-parameters for convolution, pooling and dense layers):\n",
        "\n",
        "![leNet model](https://rtavenar.github.io/assets/images/lenet.png)\n",
        "\n",
        "Compare its performance to that of a fully connected model with the same number of parameters."
      ]
    },
    {
      "cell_type": "code",
      "execution_count": 11,
      "metadata": {
        "cell_id": "00006-6bcab523-3647-4b23-b95c-535ba5bb44cc",
        "deepnote_cell_type": "code",
        "execution_millis": 281316,
        "execution_start": 1606746924685,
        "id": "MHaX-IatxEIM",
        "output_cleared": true,
        "source_hash": null,
        "colab": {
          "base_uri": "https://localhost:8080/"
        },
        "outputId": "16500efb-aec6-4306-c6ad-16cdb5dd62b8"
      },
      "outputs": [
        {
          "output_type": "stream",
          "name": "stdout",
          "text": [
            "Epoch 1/10\n",
            "300/300 - 3s - loss: 0.3767 - accuracy: 0.8929 - val_loss: 0.1081 - val_accuracy: 0.9680 - 3s/epoch - 10ms/step\n",
            "Epoch 2/10\n",
            "300/300 - 2s - loss: 0.0993 - accuracy: 0.9699 - val_loss: 0.0666 - val_accuracy: 0.9788 - 2s/epoch - 6ms/step\n",
            "Epoch 3/10\n",
            "300/300 - 2s - loss: 0.0693 - accuracy: 0.9786 - val_loss: 0.0538 - val_accuracy: 0.9836 - 2s/epoch - 6ms/step\n",
            "Epoch 4/10\n",
            "300/300 - 2s - loss: 0.0546 - accuracy: 0.9830 - val_loss: 0.0488 - val_accuracy: 0.9835 - 2s/epoch - 6ms/step\n",
            "Epoch 5/10\n",
            "300/300 - 2s - loss: 0.0455 - accuracy: 0.9861 - val_loss: 0.0441 - val_accuracy: 0.9860 - 2s/epoch - 6ms/step\n",
            "Epoch 6/10\n",
            "300/300 - 2s - loss: 0.0382 - accuracy: 0.9883 - val_loss: 0.0386 - val_accuracy: 0.9872 - 2s/epoch - 6ms/step\n",
            "Epoch 7/10\n",
            "300/300 - 2s - loss: 0.0334 - accuracy: 0.9898 - val_loss: 0.0393 - val_accuracy: 0.9866 - 2s/epoch - 6ms/step\n",
            "Epoch 8/10\n",
            "300/300 - 2s - loss: 0.0293 - accuracy: 0.9906 - val_loss: 0.0391 - val_accuracy: 0.9875 - 2s/epoch - 8ms/step\n",
            "Epoch 9/10\n",
            "300/300 - 2s - loss: 0.0274 - accuracy: 0.9912 - val_loss: 0.0339 - val_accuracy: 0.9896 - 2s/epoch - 6ms/step\n",
            "Epoch 10/10\n",
            "300/300 - 2s - loss: 0.0237 - accuracy: 0.9923 - val_loss: 0.0350 - val_accuracy: 0.9889 - 2s/epoch - 6ms/step\n"
          ]
        },
        {
          "output_type": "execute_result",
          "data": {
            "text/plain": [
              "<keras.callbacks.History at 0x7fd21af41590>"
            ]
          },
          "metadata": {},
          "execution_count": 11
        }
      ],
      "source": [
        "model = Sequential([\n",
        "    Conv2D(filters=6, kernel_size=5, padding=\"valid\", activation=\"relu\"),\n",
        "    MaxPool2D(pool_size=2),\n",
        "    Conv2D(filters=16, kernel_size=5, padding=\"valid\", activation=\"relu\"),\n",
        "    MaxPool2D(pool_size=2),\n",
        "    Flatten(),\n",
        "    Dense(units=120, activation=\"relu\"),\n",
        "    Dense(units=84, activation=\"relu\"),\n",
        "    Dense(units=10, activation=\"softmax\"),\n",
        "])\n",
        "\n",
        "model.compile(loss=\"categorical_crossentropy\", optimizer=\"adam\", metrics=[\"accuracy\"])\n",
        "model.fit(x_train, y_train, epochs=10, batch_size=200, verbose=2, validation_data=(x_test, y_test))"
      ]
    },
    {
      "cell_type": "markdown",
      "metadata": {
        "cell_id": "00007-c568dade-ea13-4ba7-9054-5769d9e529ca",
        "deepnote_cell_type": "markdown",
        "id": "XY4xF7XySH0B"
      },
      "source": [
        "## Image classification with ResNet models\n",
        "\n",
        "A very efficient way to perform real-world image classification is to rely on a pretrained model.\n",
        "`keras` provides models trained on ImageNet.\n",
        "In this section, you will use `ResNet50` to classify images you will provide.\n",
        "\n",
        "**Question 4.** Adapt the following code (that comes from [`keras` docs](https://keras.io/applications/#usage-examples-for-image-classification-models)) to classify a kangaroo image that you will first upload in the notebook files."
      ]
    },
    {
      "cell_type": "code",
      "execution_count": 12,
      "metadata": {
        "cell_id": "00008-b30f1bc6-b36a-4ff5-8cb6-32f5973f3f22",
        "deepnote_cell_type": "code",
        "execution_millis": 2416,
        "execution_start": 1606829450233,
        "id": "Fg5IjBicThZK",
        "output_cleared": true,
        "source_hash": null,
        "colab": {
          "base_uri": "https://localhost:8080/"
        },
        "outputId": "7f6910de-8f84-41a0-87f4-cd07b3b043c1"
      },
      "outputs": [
        {
          "output_type": "stream",
          "name": "stdout",
          "text": [
            "Downloading data from https://storage.googleapis.com/tensorflow/keras-applications/resnet/resnet50_weights_tf_dim_ordering_tf_kernels.h5\n",
            "102973440/102967424 [==============================] - 1s 0us/step\n",
            "102981632/102967424 [==============================] - 1s 0us/step\n",
            "Downloading data from https://storage.googleapis.com/download.tensorflow.org/data/imagenet_class_index.json\n",
            "40960/35363 [==================================] - 0s 0us/step\n",
            "49152/35363 [=========================================] - 0s 0us/step\n",
            "Predicted: [('n01877812', 'wallaby', 0.8171742), ('n02326432', 'hare', 0.07717664), ('n02437312', 'Arabian_camel', 0.05579129)]\n"
          ]
        }
      ],
      "source": [
        "from tensorflow.keras.applications.resnet50 import ResNet50\n",
        "from tensorflow.keras.preprocessing import image\n",
        "from tensorflow.keras.applications.resnet50 import preprocess_input, decode_predictions\n",
        "import numpy as np\n",
        "\n",
        "model = ResNet50(weights='imagenet')\n",
        "\n",
        "img_path = 'kangaroo.png'\n",
        "img = image.load_img(img_path, target_size=(224, 224))\n",
        "x = image.img_to_array(img)\n",
        "x = np.expand_dims(x, axis=0)\n",
        "x = preprocess_input(x)\n",
        "\n",
        "preds = model.predict(x)\n",
        "# decode the results into a list of tuples (class, description, probability)\n",
        "# (one such list for each sample in the batch)\n",
        "print('Predicted:', decode_predictions(preds, top=3)[0])"
      ]
    },
    {
      "cell_type": "code",
      "execution_count": 13,
      "metadata": {
        "cell_id": "00009-34589927-39ac-4d7f-910f-9bcd5e389b87",
        "deepnote_cell_type": "code",
        "execution_millis": 235,
        "execution_start": 1606825861999,
        "id": "VSgVfsSIvhWN",
        "output_cleared": true,
        "source_hash": null,
        "colab": {
          "base_uri": "https://localhost:8080/",
          "height": 324
        },
        "outputId": "4b42d333-11fd-4c50-9ee5-baa6022e2147"
      },
      "outputs": [
        {
          "output_type": "stream",
          "name": "stderr",
          "text": [
            "Clipping input data to the valid range for imshow with RGB data ([0..1] for floats or [0..255] for integers).\n"
          ]
        },
        {
          "output_type": "execute_result",
          "data": {
            "text/plain": [
              "<matplotlib.image.AxesImage at 0x7fd1a1b166d0>"
            ]
          },
          "metadata": {},
          "execution_count": 13
        },
        {
          "output_type": "display_data",
          "data": {
            "image/png": "[encoded data removed]",
            "text/plain": [
              "<Figure size 432x288 with 1 Axes>"
            ]
          },
          "metadata": {
            "needs_background": "light"
          }
        }
      ],
      "source": [
        "import matplotlib.pyplot as plt\n",
        "plt.imshow(x[0] / 255.)"
      ]
    },
    {
      "cell_type": "markdown",
      "metadata": {
        "cell_id": "00010-c5df59f7-dc58-48f4-8a5a-e68bdd7fa1d4",
        "deepnote_cell_type": "markdown",
        "id": "0YRJ6isnVBpl"
      },
      "source": [
        "## Fine-tuning a model to your data\n",
        "\n",
        "Very often, however, your image classification problem will not match ImageNet classes.\n",
        "In such cases, a typical strategy consists in fine-tuning an existing model to your problem.\n",
        "This is done by learning only the fully connected layers at the ouput of the model and keep other layers freezed.\n",
        "\n",
        "When loading weights from a pretrained model, `keras` offers an option to remove the classification layers and freeze weights of the convolutional layers:\n",
        "\n",
        "```python\n",
        "base_model = ResNet50(weights='imagenet', include_top=False, input_shape=x_train.shape[1:])\n",
        "for layer in base_model.layers:\n",
        "  layer.trainable = False\n",
        "```\n",
        "\n",
        "Note that here, we provide the image shape when re-building the `ResNet50` model so that, if that shape is not the one of ImageNet images, `keras` will still be able to compute all tensor shapes in the network automatically.\n",
        "\n",
        "From that point, `base_model` can be used in a `Sequential` model as if it were a single layer, which makes it feasible to plug new layers at the output of the `ResNet50` convolutions.\n",
        "\n",
        "### The dataset\n",
        "\n",
        "In this notebook, you will work with a new dataset that cannot be loaded via `keras.datasets` module.\n",
        "The images should be [downloaded](https://drive.google.com/drive/folders/1_hs6-moToZkCgiub7eXyJmAm7zVT2tNo?usp=sharing) and stored in a subfolder named `./cats_and_dogs/`.\n",
        "\n",
        "Check that you can access the data by running:"
      ]
    },
    {
      "cell_type": "code",
      "source": [
        "from google.colab import drive\n",
        "drive.mount('/content/drive')"
      ],
      "metadata": {
        "colab": {
          "base_uri": "https://localhost:8080/"
        },
        "id": "QrY5tKAnc3Eg",
        "outputId": "157197e6-df57-4c80-c1db-7a5d714d9975"
      },
      "execution_count": 1,
      "outputs": [
        {
          "output_type": "stream",
          "name": "stdout",
          "text": [
            "Mounted at /content/drive\n"
          ]
        }
      ]
    },
    {
      "cell_type": "code",
      "execution_count": 4,
      "metadata": {
        "cell_id": "00011-ac87b5c7-d725-4fb9-b4ca-1726257e3b1f",
        "deepnote_cell_type": "code",
        "id": "B27defToX455",
        "colab": {
          "base_uri": "https://localhost:8080/"
        },
        "outputId": "1a6d10fd-7a1b-4560-a5c9-93a7c65de5aa"
      },
      "outputs": [
        {
          "output_type": "stream",
          "name": "stdout",
          "text": [
            "test_catdog  train_catdog\n"
          ]
        }
      ],
      "source": [
        "!ls '/content/drive/My Drive/cats_and_dogs'"
      ]
    },
    {
      "cell_type": "markdown",
      "metadata": {
        "cell_id": "00012-f0f7bcca-753a-4906-9a2c-50bf9f98f7eb",
        "deepnote_cell_type": "markdown",
        "id": "YU6dp42ILrFy"
      },
      "source": [
        "The last line of the output above should be:\n",
        "```\n",
        "test_catdog  train_catdog\n",
        "```\n",
        "\n",
        "Then the data should be loaded using the following functions:"
      ]
    },
    {
      "cell_type": "code",
      "execution_count": 14,
      "metadata": {
        "cell_id": "00013-92762a1c-18b4-47f3-a999-0a763e88a0ca",
        "deepnote_cell_type": "code",
        "execution_millis": 2898,
        "execution_start": 1606829612818,
        "id": "H90B7fAss1te",
        "output_cleared": true,
        "source_hash": null,
        "colab": {
          "base_uri": "https://localhost:8080/"
        },
        "outputId": "9838e6a3-733f-4189-92cd-673a541d6e73"
      },
      "outputs": [
        {
          "output_type": "stream",
          "name": "stdout",
          "text": [
            "Loading training set\n",
            "9.96 % loaded\n",
            "19.92 % loaded\n",
            "29.88 % loaded\n",
            "39.84 % loaded\n",
            "49.80 % loaded\n",
            "59.76 % loaded\n",
            "69.72 % loaded\n",
            "79.68 % loaded\n",
            "89.64 % loaded\n",
            "99.60 % loaded\n",
            "Loading test set\n",
            "10.00 % loaded\n",
            "20.00 % loaded\n",
            "30.00 % loaded\n",
            "40.00 % loaded\n",
            "50.00 % loaded\n",
            "60.00 % loaded\n",
            "70.00 % loaded\n",
            "80.00 % loaded\n",
            "90.00 % loaded\n",
            "100.00 % loaded\n",
            "(502, 200, 200, 3) (502,) (500, 200, 200, 3) (500,)\n"
          ]
        }
      ],
      "source": [
        "import os\n",
        "\n",
        "def load_cats_and_dogs_folder(path, target_size=None, verbose=True):\n",
        "    X = []\n",
        "    y = []\n",
        "    i = 0\n",
        "    for fname in os.listdir(path):\n",
        "        if 'cat' in fname:\n",
        "            X.append(\n",
        "                np.array(image.load_img(path+fname, target_size=target_size))\n",
        "            )\n",
        "            y.append(0)\n",
        "        elif 'dog' in fname:\n",
        "            X.append(\n",
        "                np.array(image.load_img(path+fname, target_size=target_size))\n",
        "            )\n",
        "            y.append(1)\n",
        "        i+=1\n",
        "        if verbose and i % 50 == 0:\n",
        "            print('{0:.2f} % loaded'.format(100*(i/len(os.listdir(path)))))\n",
        "    return np.array(X), np.array(y)\n",
        "\n",
        "def load_preprocessed_cats_and_dogs(base_folder, target_size=None, \n",
        "                                    verbose=True):\n",
        "    if verbose:\n",
        "        print(\"Loading training set\")\n",
        "    X_train, y_train = load_cats_and_dogs_folder(base_folder + \"/train_catdog/\", \n",
        "                                                 target_size=target_size,\n",
        "                                                 verbose=verbose)\n",
        "    X_train = preprocess_input(X_train)\n",
        "\n",
        "    if verbose:\n",
        "        print(\"Loading test set\")\n",
        "    X_test, y_test = load_cats_and_dogs_folder(base_folder + \"/test_catdog/\", \n",
        "                                               target_size=target_size,\n",
        "                                               verbose=verbose)\n",
        "    X_test = preprocess_input(X_test)\n",
        "\n",
        "    return X_train, X_test, y_train, y_test\n",
        "\n",
        "# The call is here:\n",
        "X_train, X_test, y_train, y_test = load_preprocessed_cats_and_dogs(\n",
        "    '/content/drive/My Drive/cats_and_dogs', target_size=(200, 200)\n",
        ")\n",
        "\n",
        "print(X_train.shape, y_train.shape, X_test.shape, y_test.shape) "
      ]
    },
    {
      "cell_type": "markdown",
      "metadata": {
        "cell_id": "00014-3f165cc8-2d88-4aa5-8c7b-541192998506",
        "deepnote_cell_type": "markdown",
        "id": "MYkREM4wamJ2"
      },
      "source": [
        "### The model\n",
        "\n",
        "**Question 5.** Now you will:\n",
        "\n",
        "1. use convolution layers from a pre-trained `ResNet50` model and freeze them;\n",
        "2. plug an additional logistic regression layer;\n",
        "3. compile the full model;\n",
        "4. observe the performance of such a model on your Cat vs Dog problem."
      ]
    },
    {
      "cell_type": "code",
      "execution_count": 18,
      "metadata": {
        "cell_id": "00014-2a0206ec-4b95-4524-9551-fa76ffc7a43b",
        "deepnote_cell_type": "code",
        "tags": [],
        "id": "KXDJMzwz_vvk",
        "colab": {
          "base_uri": "https://localhost:8080/"
        },
        "outputId": "1e786ded-7782-495b-d632-1714c33ef24e"
      },
      "outputs": [
        {
          "output_type": "stream",
          "name": "stdout",
          "text": [
            "Epoch 1/3\n",
            "6/6 [==============================] - 11s 1s/step - loss: 0.8063 - accuracy: 0.7988 - val_loss: 0.2261 - val_accuracy: 0.9660\n",
            "Epoch 2/3\n",
            "6/6 [==============================] - 8s 2s/step - loss: 0.1515 - accuracy: 0.9841 - val_loss: 0.1693 - val_accuracy: 0.9800\n",
            "Epoch 3/3\n",
            "6/6 [==============================] - 8s 2s/step - loss: 0.0034 - accuracy: 0.9980 - val_loss: 0.1498 - val_accuracy: 0.9820\n"
          ]
        },
        {
          "output_type": "execute_result",
          "data": {
            "text/plain": [
              "<keras.callbacks.History at 0x7fd1a165e890>"
            ]
          },
          "metadata": {},
          "execution_count": 18
        }
      ],
      "source": [
        "base_model = ResNet50(weights='imagenet', include_top=False, input_shape=X_train.shape[1:])\n",
        "for layer in base_model.layers:\n",
        "  layer.trainable = False\n",
        "\n",
        "model = Sequential([\n",
        "      base_model,\n",
        "      Flatten(),\n",
        "      Dense(units=1, activation=\"sigmoid\")\n",
        "])\n",
        "model.compile(loss=\"binary_crossentropy\", optimizer=\"adam\", metrics=[\"accuracy\"])\n",
        "model.fit(X_train, y_train, validation_data=(X_test, y_test), epochs=3, batch_size=100)"
      ]
    },
    {
      "cell_type": "code",
      "source": [
        "model.summary()"
      ],
      "metadata": {
        "colab": {
          "base_uri": "https://localhost:8080/"
        },
        "id": "oiPYYqR6lUr4",
        "outputId": "d64894b4-a7f9-4737-c708-87863154c568"
      },
      "execution_count": 19,
      "outputs": [
        {
          "output_type": "stream",
          "name": "stdout",
          "text": [
            "Model: \"sequential_4\"\n",
            "_________________________________________________________________\n",
            " Layer (type)                Output Shape              Param #   \n",
            "=================================================================\n",
            " resnet50 (Functional)       (None, 7, 7, 2048)        23587712  \n",
            "                                                                 \n",
            " flatten_3 (Flatten)         (None, 100352)            0         \n",
            "                                                                 \n",
            " dense_6 (Dense)             (None, 1)                 100353    \n",
            "                                                                 \n",
            "=================================================================\n",
            "Total params: 23,688,065\n",
            "Trainable params: 100,353\n",
            "Non-trainable params: 23,587,712\n",
            "_________________________________________________________________\n"
          ]
        }
      ]
    },
    {
      "cell_type": "markdown",
      "metadata": {
        "cell_id": "00015-e2c529a5-ca64-48f7-b57b-409f10ff310a",
        "deepnote_cell_type": "markdown",
        "tags": [],
        "id": "MlZQrGMq_vvl"
      },
      "source": [
        "**Question 6.** Starting from the model you got at the previous stage, fine-tune _all_ the weights in this model\n",
        "(even the convolution ones) using a learning rate of .00001 (1e-5). See if this improves on performance."
      ]
    },
    {
      "cell_type": "code",
      "execution_count": 20,
      "metadata": {
        "id": "1nAzNjjL_vvl",
        "colab": {
          "base_uri": "https://localhost:8080/"
        },
        "outputId": "bacad3dd-3caa-4469-a365-265d9f6c2ecd"
      },
      "outputs": [
        {
          "output_type": "stream",
          "name": "stderr",
          "text": [
            "/usr/local/lib/python3.7/dist-packages/keras/optimizer_v2/adam.py:105: UserWarning: The `lr` argument is deprecated, use `learning_rate` instead.\n",
            "  super(Adam, self).__init__(name, **kwargs)\n"
          ]
        },
        {
          "output_type": "stream",
          "name": "stdout",
          "text": [
            "Epoch 1/3\n",
            "6/6 [==============================] - 28s 3s/step - loss: 0.0478 - accuracy: 0.9900 - val_loss: 0.1560 - val_accuracy: 0.9820\n",
            "Epoch 2/3\n",
            "6/6 [==============================] - 14s 2s/step - loss: 7.9032e-05 - accuracy: 1.0000 - val_loss: 0.1569 - val_accuracy: 0.9800\n",
            "Epoch 3/3\n",
            "6/6 [==============================] - 14s 2s/step - loss: 9.0058e-05 - accuracy: 1.0000 - val_loss: 0.1595 - val_accuracy: 0.9800\n"
          ]
        },
        {
          "output_type": "execute_result",
          "data": {
            "text/plain": [
              "<keras.callbacks.History at 0x7fd121d0b210>"
            ]
          },
          "metadata": {},
          "execution_count": 20
        }
      ],
      "source": [
        "from tensorflow.keras.optimizers import Adam\n",
        "\n",
        "for layer in base_model.layers:\n",
        "  layer.trainable = True\n",
        "model.compile(loss=\"binary_crossentropy\", optimizer=Adam(lr=1e-5), metrics=[\"accuracy\"])\n",
        "model.fit(X_train, y_train, validation_data=(X_test, y_test), epochs=3, batch_size=100)"
      ]
    }
  ],
  "metadata": {
    "accelerator": "GPU",
    "colab": {
      "collapsed_sections": [],
      "name": "Copie de Images & ConvNets.ipynb",
      "provenance": []
    },
    "deepnote": {},
    "deepnote_execution_queue": [],
    "deepnote_notebook_id": "6fa42d5d-b2ab-4304-970d-186663f6abae",
    "kernelspec": {
      "display_name": "Python 3",
      "name": "python3"
    }
  },
  "nbformat": 4,
  "nbformat_minor": 0
}