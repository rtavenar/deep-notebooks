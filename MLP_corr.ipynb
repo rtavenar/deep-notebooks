{
 "cells": [
  {
   "cell_type": "markdown",
   "metadata": {
    "cell_id": "00000-4e5bf590-09bc-42f5-a318-08994a30bfd4",
    "deepnote_cell_type": "markdown",
    "id": "NjCKi8REqlN6"
   },
   "source": [
    "# Multi-Layer Perceptron in `keras`\n",
    "\n",
    "In this series of lab sessions, you will use a Python library called `keras`.\n",
    "You should visit [`keras` webpage](https://keras.io/) to get access to more information about this library, including a comprehensive documentation.\n",
    "\n",
    "## The `Sequential` model in `keras`\n",
    "\n",
    "This library offers two ways to define neural network models. \n",
    "We will start with the `Sequential` class of `keras` models.\n",
    "Below is an example of how to define a `Sequential` model:"
   ]
  },
  {
   "cell_type": "markdown",
   "metadata": {},
   "source": [
    "!pip install tensorflow keras_core"
   ]
  },
  {
   "cell_type": "code",
   "execution_count": 1,
   "metadata": {
    "tags": [
     "keep"
    ]
   },
   "outputs": [],
   "source": [
    "import os\n",
    "\n",
    "os.environ[\"KERAS_BACKEND\"] = \"torch\""
   ]
  },
  {
   "cell_type": "code",
   "execution_count": 2,
   "metadata": {
    "tags": [
     "keep"
    ]
   },
   "outputs": [],
   "source": [
    "import keras\n",
    "from keras.models import Sequential\n",
    "from keras.layers import Dense, InputLayer"
   ]
  },
  {
   "cell_type": "markdown",
   "metadata": {
    "cell_id": "00002-fddb7023-3fe5-422a-ab01-7974d23883a6",
    "deepnote_cell_type": "markdown",
    "id": "1UdkphfnspbR"
   },
   "source": [
    "**1. Define layers, and add them one by one to the model**\n"
   ]
  },
  {
   "cell_type": "code",
   "execution_count": 3,
   "metadata": {
    "cell_id": "00003-3e192e55-740f-4e3e-9969-016701af86a1",
    "deepnote_cell_type": "code",
    "deepnote_to_be_reexecuted": false,
    "execution_millis": 57,
    "execution_start": 1613342072806,
    "id": "JD54PuqWsp4Y",
    "source_hash": "e4cce2c1",
    "tags": [
     "keep"
    ]
   },
   "outputs": [
    {
     "name": "stderr",
     "output_type": "stream",
     "text": [
      "/Users/rtavenar/py3.10_ml/lib/python3.10/site-packages/keras/src/layers/core/input_layer.py:26: UserWarning: Argument `input_shape` is deprecated. Use `shape` instead.\n",
      "  warnings.warn(\n"
     ]
    }
   ],
   "source": [
    "input_layer = InputLayer(input_shape=(24,))\n",
    "hidden_layer1 = Dense(units=12, activation=\"relu\")\n",
    "hidden_layer2 = Dense(units=12, activation=\"sigmoid\")\n",
    "#[...]\n",
    "output_layer = Dense(units=3, activation=\"linear\")\n",
    "\n",
    "model = Sequential([\n",
    "    input_layer,\n",
    "    hidden_layer1,\n",
    "    hidden_layer2,\n",
    "    # ...\n",
    "    output_layer\n",
    "])"
   ]
  },
  {
   "cell_type": "markdown",
   "metadata": {
    "cell_id": "00004-607dbfcd-c789-4071-98bf-f51e230e647f",
    "deepnote_cell_type": "markdown",
    "id": "FTQLjyUoszDq"
   },
   "source": [
    "**2. Pick an optimization algorithm (optimizer) and a loss function to be optimized**\n",
    "\n",
    "Usual loss functions are:\n",
    "* `\"mse\"` for regression,\n",
    "* `\"categorical_crossentropy\"` for multiclass classification (when the `y` array fed to `fit` is of shape $(n, n_\\text{classes})$)\n",
    "* `\"binary_crossentropy\"` for binary classification (when the model is fed with `y` array of shape $(n, 1)$)\n",
    "\n",
    "One can also specify additional metrics to be printed during training (correct classification rate here)."
   ]
  },
  {
   "cell_type": "code",
   "execution_count": 4,
   "metadata": {
    "cell_id": "00005-29ab32a8-52eb-40c1-9c63-1e8b8943cbdd",
    "deepnote_cell_type": "code",
    "deepnote_to_be_reexecuted": false,
    "execution_millis": 9,
    "execution_start": 1613342072870,
    "id": "A_21M9Jqs3eJ",
    "source_hash": "63a93405",
    "tags": [
     "keep"
    ]
   },
   "outputs": [],
   "source": [
    "model.compile(optimizer=\"adam\", loss=\"categorical_crossentropy\", metrics=[\"accuracy\"])"
   ]
  },
  {
   "cell_type": "markdown",
   "metadata": {
    "cell_id": "00006-1084a597-d5d5-4e2e-96ba-bf42d51d64c7",
    "deepnote_cell_type": "markdown",
    "id": "ykI4bexvs5x-"
   },
   "source": [
    "**3. Fit the model**\n",
    "\n",
    "NB: do not try to execute the following line of code: variables `X_train` and `y_train` do not exist yet!"
   ]
  },
  {
   "cell_type": "code",
   "execution_count": 5,
   "metadata": {
    "cell_id": "00007-8516017c-c628-4ef3-ac0f-d80ca5f74a93",
    "deepnote_cell_type": "code",
    "deepnote_to_be_reexecuted": false,
    "execution_millis": 2,
    "execution_start": 1613342072879,
    "id": "rt89yAdWs688",
    "source_hash": "fd94a07d",
    "tags": [
     "keep"
    ]
   },
   "outputs": [],
   "source": [
    "#model.fit(X_train, y_train, verbose=2, epochs=10, batch_size=200)"
   ]
  },
  {
   "cell_type": "markdown",
   "metadata": {
    "cell_id": "00008-79f8d9f3-2a42-42bb-8bcc-fc2f1f47eecd",
    "deepnote_cell_type": "markdown",
    "id": "nHhJosslvDRY"
   },
   "source": [
    "## Data pre-processing\n",
    "\n",
    "Have a look at the `prepare_mnist` and `prepare_boston` functions defined below.\n",
    "\n",
    "**Question #1.** What do these functions do? What are the shapes of returned arrays? Does the returned data correpond to classification or regression problems?"
   ]
  },
  {
   "cell_type": "code",
   "execution_count": 6,
   "metadata": {
    "cell_id": "00009-c7c58fdf-b6f1-4f92-b82b-8ade1f4f44ca",
    "deepnote_cell_type": "code",
    "deepnote_to_be_reexecuted": false,
    "execution_millis": 1636,
    "execution_start": 1613342072885,
    "id": "7l-s71YRwTRA",
    "output_cleared": false,
    "source_hash": "1615ed07",
    "tags": [
     "keep"
    ]
   },
   "outputs": [],
   "source": [
    "from sklearn.preprocessing import MinMaxScaler\n",
    "from keras.datasets import mnist, boston_housing\n",
    "from keras.utils import to_categorical\n",
    "\n",
    "def prepare_mnist():\n",
    "    (x_train, y_train), (x_test, y_test) = mnist.load_data()\n",
    "    x_train = x_train.reshape((x_train.shape[0], -1))\n",
    "    x_test = x_test.reshape((x_test.shape[0], -1))\n",
    "    scaler = MinMaxScaler()\n",
    "    scaler.fit(x_train)\n",
    "    x_train = scaler.transform(x_train)\n",
    "    x_test = scaler.transform(x_test)\n",
    "    y_train = to_categorical(y_train)\n",
    "    y_test = to_categorical(y_test)\n",
    "    return x_train, x_test, y_train, y_test\n",
    "\n",
    "\n",
    "def prepare_boston():\n",
    "    (x_train, y_train), (x_test, y_test) = boston_housing.load_data()\n",
    "    scaler_x = MinMaxScaler()\n",
    "    scaler_x.fit(x_train)\n",
    "    x_train = scaler_x.transform(x_train)\n",
    "    x_test = scaler_x.transform(x_test)\n",
    "    scaler_y = MinMaxScaler()\n",
    "    scaler_y.fit(y_train.reshape((-1, 1)))\n",
    "    y_train = scaler_y.transform(y_train.reshape((-1, 1)))\n",
    "    y_test = scaler_y.transform(y_test.reshape((-1, 1)))\n",
    "    return x_train, x_test, y_train, y_test\n",
    "  \n",
    "x_train, x_test, y_train, y_test = prepare_mnist()"
   ]
  },
  {
   "cell_type": "code",
   "execution_count": 7,
   "metadata": {},
   "outputs": [
    {
     "data": {
      "text/plain": [
       "array([[0., 0., 0., 0., 0., 1., 0., 0., 0., 0.],\n",
       "       [1., 0., 0., 0., 0., 0., 0., 0., 0., 0.],\n",
       "       [0., 0., 0., 0., 1., 0., 0., 0., 0., 0.],\n",
       "       [0., 1., 0., 0., 0., 0., 0., 0., 0., 0.],\n",
       "       [0., 0., 0., 0., 0., 0., 0., 0., 0., 1.],\n",
       "       [0., 0., 1., 0., 0., 0., 0., 0., 0., 0.],\n",
       "       [0., 1., 0., 0., 0., 0., 0., 0., 0., 0.],\n",
       "       [0., 0., 0., 1., 0., 0., 0., 0., 0., 0.],\n",
       "       [0., 1., 0., 0., 0., 0., 0., 0., 0., 0.],\n",
       "       [0., 0., 0., 0., 1., 0., 0., 0., 0., 0.]])"
      ]
     },
     "execution_count": 7,
     "metadata": {},
     "output_type": "execute_result"
    }
   ],
   "source": [
    "y_train[:10]"
   ]
  },
  {
   "cell_type": "code",
   "execution_count": 8,
   "metadata": {
    "cell_id": "00010-3c1481af-a4d7-424b-a59e-3a2745234530",
    "deepnote_cell_type": "code",
    "deepnote_to_be_reexecuted": false,
    "execution_millis": 64,
    "execution_start": 1613342074525,
    "id": "CGlUHH6KFpj3",
    "output_cleared": false,
    "source_hash": "7facd6d8"
   },
   "outputs": [],
   "source": [
    "x_train, x_test, y_train, y_test = prepare_boston()"
   ]
  },
  {
   "cell_type": "code",
   "execution_count": 9,
   "metadata": {},
   "outputs": [
    {
     "name": "stdout",
     "output_type": "stream",
     "text": [
      "(404, 13) (404, 1)\n",
      "[[0.22666667]\n",
      " [0.82888889]\n",
      " [1.        ]\n",
      " [0.35777778]\n",
      " [0.28222222]\n",
      " [0.3       ]\n",
      " [0.14      ]\n",
      " [0.23555556]\n",
      " [0.23555556]\n",
      " [0.20888889]]\n"
     ]
    }
   ],
   "source": [
    "print(x_train.shape, y_train.shape)\n",
    "print(y_train[:10])"
   ]
  },
  {
   "cell_type": "markdown",
   "metadata": {
    "cell_id": "00011-1ecdf9c5-01c3-4a0d-a9c6-cfd28e6be23d",
    "deepnote_cell_type": "markdown",
    "id": "VRA_Ec2-yIGA"
   },
   "source": [
    "## Building your first models\n",
    "\n",
    "In the following, when fitting models, restrict the training to 10 epochs (which is not realistic, but training for more epochs takes time...)\n",
    "\n",
    "**Question #2.** Following the guidelines provided above, implement a linear regression model for the `boston` dataset that would optimize on a least squares objective using Stochastic Gradient Descent and fit your model to the corresponding training data."
   ]
  },
  {
   "cell_type": "code",
   "execution_count": 10,
   "metadata": {
    "cell_id": "00013-2e740cd6-9a8b-4a74-b85f-c7a66127d510",
    "deepnote_cell_type": "code",
    "deepnote_to_be_reexecuted": false,
    "execution_millis": 1,
    "execution_start": 1613342074582,
    "output_cleared": true,
    "source_hash": "b623e53d",
    "tags": []
   },
   "outputs": [
    {
     "name": "stdout",
     "output_type": "stream",
     "text": [
      "Epoch 1/10\n",
      "5/5 - 0s - 25ms/step - loss: 0.3560\n",
      "Epoch 2/10\n",
      "5/5 - 0s - 5ms/step - loss: 0.2809\n",
      "Epoch 3/10\n",
      "5/5 - 0s - 4ms/step - loss: 0.2372\n",
      "Epoch 4/10\n"
     ]
    },
    {
     "name": "stderr",
     "output_type": "stream",
     "text": [
      "/Users/rtavenar/py3.10_ml/lib/python3.10/site-packages/keras/src/layers/core/input_layer.py:26: UserWarning: Argument `input_shape` is deprecated. Use `shape` instead.\n",
      "  warnings.warn(\n"
     ]
    },
    {
     "name": "stdout",
     "output_type": "stream",
     "text": [
      "5/5 - 0s - 4ms/step - loss: 0.2077\n",
      "Epoch 5/10\n",
      "5/5 - 0s - 4ms/step - loss: 0.1935\n",
      "Epoch 6/10\n",
      "5/5 - 0s - 4ms/step - loss: 0.1779\n",
      "Epoch 7/10\n",
      "5/5 - 0s - 4ms/step - loss: 0.1663\n",
      "Epoch 8/10\n",
      "5/5 - 0s - 4ms/step - loss: 0.1569\n",
      "Epoch 9/10\n",
      "5/5 - 0s - 7ms/step - loss: 0.1476\n",
      "Epoch 10/10\n",
      "5/5 - 0s - 4ms/step - loss: 0.1405\n"
     ]
    },
    {
     "data": {
      "text/plain": [
       "<keras.src.callbacks.history.History at 0x30e3a9810>"
      ]
     },
     "execution_count": 10,
     "metadata": {},
     "output_type": "execute_result"
    }
   ],
   "source": [
    "input_layer = InputLayer(input_shape=(13,))\n",
    "output_layer = Dense(units=1, activation=\"linear\")\n",
    "\n",
    "model = Sequential([\n",
    "    input_layer,\n",
    "    output_layer\n",
    "])\n",
    "model.compile(loss=\"mse\", optimizer=\"sgd\")\n",
    "model.fit(x_train, y_train, epochs=10, batch_size=100, verbose=2)"
   ]
  },
  {
   "cell_type": "markdown",
   "metadata": {
    "cell_id": "00015-c40decce-b6c2-4f3e-af55-6dc6b2eb29cd",
    "deepnote_cell_type": "markdown",
    "id": "Gqt1yH9Gzfuh"
   },
   "source": [
    "**Question #3.** Similarly, define a logistic regression model for the `mnist` dataset and print its training accuracy during training."
   ]
  },
  {
   "cell_type": "code",
   "execution_count": 11,
   "metadata": {
    "cell_id": "00014-fa195760-a859-4672-bd64-7911ece3c703",
    "deepnote_cell_type": "code",
    "tags": []
   },
   "outputs": [
    {
     "name": "stdout",
     "output_type": "stream",
     "text": [
      "Epoch 1/10\n"
     ]
    },
    {
     "name": "stderr",
     "output_type": "stream",
     "text": [
      "/Users/rtavenar/py3.10_ml/lib/python3.10/site-packages/keras/src/layers/core/input_layer.py:26: UserWarning: Argument `input_shape` is deprecated. Use `shape` instead.\n",
      "  warnings.warn(\n"
     ]
    },
    {
     "name": "stdout",
     "output_type": "stream",
     "text": [
      "600/600 - 4s - 6ms/step - accuracy: 0.8420 - loss: 0.6336\n",
      "Epoch 2/10\n",
      "600/600 - 4s - 6ms/step - accuracy: 0.9052 - loss: 0.3476\n",
      "Epoch 3/10\n",
      "600/600 - 4s - 6ms/step - accuracy: 0.9136 - loss: 0.3104\n",
      "Epoch 4/10\n",
      "600/600 - 5s - 8ms/step - accuracy: 0.9190 - loss: 0.2929\n",
      "Epoch 5/10\n",
      "600/600 - 4s - 6ms/step - accuracy: 0.9211 - loss: 0.2822\n",
      "Epoch 6/10\n",
      "600/600 - 4s - 6ms/step - accuracy: 0.9233 - loss: 0.2753\n",
      "Epoch 7/10\n",
      "600/600 - 4s - 7ms/step - accuracy: 0.9245 - loss: 0.2699\n",
      "Epoch 8/10\n",
      "600/600 - 4s - 7ms/step - accuracy: 0.9259 - loss: 0.2652\n",
      "Epoch 9/10\n",
      "600/600 - 4s - 6ms/step - accuracy: 0.9272 - loss: 0.2620\n",
      "Epoch 10/10\n",
      "600/600 - 4s - 6ms/step - accuracy: 0.9277 - loss: 0.2593\n"
     ]
    },
    {
     "data": {
      "text/plain": [
       "<keras.src.callbacks.history.History at 0x30e3f0190>"
      ]
     },
     "execution_count": 11,
     "metadata": {},
     "output_type": "execute_result"
    }
   ],
   "source": [
    "x_train, x_test, y_train, y_test = prepare_mnist()\n",
    "\n",
    "input_layer = InputLayer(input_shape=x_train.shape[1:])\n",
    "output_layer = Dense(units=y_train.shape[1], activation=\"softmax\")\n",
    "\n",
    "model = Sequential([\n",
    "    input_layer,\n",
    "    output_layer\n",
    "])\n",
    "model.compile(loss=\"categorical_crossentropy\", optimizer=\"adam\", metrics=[\"accuracy\"])\n",
    "model.fit(x_train, y_train, epochs=10, batch_size=100, verbose=2)"
   ]
  },
  {
   "cell_type": "markdown",
   "metadata": {
    "cell_id": "00018-cfad4bc9-a1de-43a4-bb43-d74840d9869d",
    "deepnote_cell_type": "markdown",
    "id": "6SGA-CdS0vwW"
   },
   "source": [
    "**Question #4.** Compare performance (in terms of training accuracy, we will come back to better ways to compare models afterwards) of this logistic regression model with that of a neural network with respectively 1, 2, and 3 hidden layers of 128 neurons each.\n",
    "You will use the `\"relu\"` activation function for hidden layers."
   ]
  },
  {
   "cell_type": "code",
   "execution_count": 12,
   "metadata": {
    "cell_id": "00016-667b31d2-ee2e-4a34-9a88-33c19a38522a",
    "deepnote_cell_type": "code",
    "deepnote_to_be_reexecuted": true,
    "source_hash": "b623e53d",
    "tags": []
   },
   "outputs": [
    {
     "name": "stdout",
     "output_type": "stream",
     "text": [
      "Epoch 1/10\n",
      "600/600 - 4s - 7ms/step - accuracy: 0.9067 - loss: 0.3353\n",
      "Epoch 2/10\n",
      "600/600 - 4s - 7ms/step - accuracy: 0.9549 - loss: 0.1555\n",
      "Epoch 3/10\n",
      "600/600 - 4s - 7ms/step - accuracy: 0.9679 - loss: 0.1116\n",
      "Epoch 4/10\n",
      "600/600 - 4s - 7ms/step - accuracy: 0.9749 - loss: 0.0877\n",
      "Epoch 5/10\n",
      "600/600 - 4s - 7ms/step - accuracy: 0.9798 - loss: 0.0697\n",
      "Epoch 6/10\n",
      "600/600 - 4s - 7ms/step - accuracy: 0.9836 - loss: 0.0575\n",
      "Epoch 7/10\n",
      "600/600 - 4s - 7ms/step - accuracy: 0.9859 - loss: 0.0477\n",
      "Epoch 8/10\n",
      "600/600 - 4s - 7ms/step - accuracy: 0.9883 - loss: 0.0395\n",
      "Epoch 9/10\n",
      "600/600 - 4s - 7ms/step - accuracy: 0.9908 - loss: 0.0324\n",
      "Epoch 10/10\n",
      "600/600 - 4s - 7ms/step - accuracy: 0.9929 - loss: 0.0267\n"
     ]
    },
    {
     "data": {
      "text/plain": [
       "<keras.src.callbacks.history.History at 0x35a526020>"
      ]
     },
     "execution_count": 12,
     "metadata": {},
     "output_type": "execute_result"
    }
   ],
   "source": [
    "model = Sequential([\n",
    "    InputLayer(input_shape=x_train.shape[1:]),\n",
    "    Dense(units=128, activation=\"relu\"),\n",
    "    Dense(units=y_train.shape[1], activation=\"softmax\")\n",
    "])\n",
    "model.compile(loss=\"categorical_crossentropy\", optimizer=\"adam\", metrics=[\"accuracy\"])\n",
    "model.fit(x_train, y_train, epochs=10, batch_size=100, verbose=2)"
   ]
  },
  {
   "cell_type": "code",
   "execution_count": 13,
   "metadata": {},
   "outputs": [
    {
     "name": "stdout",
     "output_type": "stream",
     "text": [
      "Epoch 1/10\n",
      "600/600 - 5s - 8ms/step - accuracy: 0.9161 - loss: 0.2915\n",
      "Epoch 2/10\n",
      "600/600 - 5s - 8ms/step - accuracy: 0.9647 - loss: 0.1170\n",
      "Epoch 3/10\n",
      "600/600 - 5s - 8ms/step - accuracy: 0.9753 - loss: 0.0808\n",
      "Epoch 4/10\n",
      "600/600 - 5s - 8ms/step - accuracy: 0.9818 - loss: 0.0617\n",
      "Epoch 5/10\n",
      "600/600 - 5s - 8ms/step - accuracy: 0.9848 - loss: 0.0484\n",
      "Epoch 6/10\n",
      "600/600 - 5s - 8ms/step - accuracy: 0.9883 - loss: 0.0379\n",
      "Epoch 7/10\n",
      "600/600 - 5s - 8ms/step - accuracy: 0.9900 - loss: 0.0309\n",
      "Epoch 8/10\n",
      "600/600 - 5s - 8ms/step - accuracy: 0.9909 - loss: 0.0268\n",
      "Epoch 9/10\n",
      "600/600 - 5s - 8ms/step - accuracy: 0.9928 - loss: 0.0222\n",
      "Epoch 10/10\n",
      "600/600 - 5s - 8ms/step - accuracy: 0.9936 - loss: 0.0184\n"
     ]
    },
    {
     "data": {
      "text/plain": [
       "<keras.src.callbacks.history.History at 0x333cae4d0>"
      ]
     },
     "execution_count": 13,
     "metadata": {},
     "output_type": "execute_result"
    }
   ],
   "source": [
    "model = Sequential([\n",
    "    InputLayer(input_shape=x_train.shape[1:]),\n",
    "    Dense(units=128, activation=\"relu\"),\n",
    "    Dense(units=128, activation=\"relu\"),\n",
    "    Dense(units=y_train.shape[1], activation=\"softmax\")\n",
    "])\n",
    "model.compile(loss=\"categorical_crossentropy\", optimizer=\"adam\", metrics=[\"accuracy\"])\n",
    "model.fit(x_train, y_train, epochs=10, batch_size=100, verbose=2)"
   ]
  },
  {
   "cell_type": "code",
   "execution_count": 14,
   "metadata": {},
   "outputs": [
    {
     "name": "stdout",
     "output_type": "stream",
     "text": [
      "Epoch 1/10\n",
      "600/600 - 5s - 9ms/step - accuracy: 0.9199 - loss: 0.2785\n",
      "Epoch 2/10\n",
      "600/600 - 5s - 9ms/step - accuracy: 0.9668 - loss: 0.1083\n",
      "Epoch 3/10\n",
      "600/600 - 5s - 9ms/step - accuracy: 0.9757 - loss: 0.0768\n",
      "Epoch 4/10\n",
      "600/600 - 5s - 9ms/step - accuracy: 0.9823 - loss: 0.0578\n",
      "Epoch 5/10\n",
      "600/600 - 5s - 9ms/step - accuracy: 0.9849 - loss: 0.0466\n",
      "Epoch 6/10\n",
      "600/600 - 5s - 9ms/step - accuracy: 0.9887 - loss: 0.0352\n",
      "Epoch 7/10\n",
      "600/600 - 5s - 9ms/step - accuracy: 0.9898 - loss: 0.0301\n",
      "Epoch 8/10\n",
      "600/600 - 5s - 9ms/step - accuracy: 0.9914 - loss: 0.0259\n",
      "Epoch 9/10\n",
      "600/600 - 5s - 9ms/step - accuracy: 0.9923 - loss: 0.0232\n",
      "Epoch 10/10\n",
      "600/600 - 5s - 9ms/step - accuracy: 0.9929 - loss: 0.0209\n"
     ]
    },
    {
     "data": {
      "text/plain": [
       "<keras.src.callbacks.history.History at 0x35a5573a0>"
      ]
     },
     "execution_count": 14,
     "metadata": {},
     "output_type": "execute_result"
    }
   ],
   "source": [
    "model = Sequential([\n",
    "    InputLayer(input_shape=x_train.shape[1:]),\n",
    "    Dense(units=128, activation=\"relu\"),\n",
    "    Dense(units=128, activation=\"relu\"),\n",
    "    Dense(units=128, activation=\"relu\"),\n",
    "    Dense(units=y_train.shape[1], activation=\"softmax\")\n",
    "])\n",
    "model.compile(loss=\"categorical_crossentropy\", optimizer=\"adam\", metrics=[\"accuracy\"])\n",
    "model.fit(x_train, y_train, epochs=10, batch_size=100, verbose=2)"
   ]
  },
  {
   "cell_type": "code",
   "execution_count": 15,
   "metadata": {},
   "outputs": [
    {
     "data": {
      "text/html": [
       "<pre style=\"white-space:pre;overflow-x:auto;line-height:normal;font-family:Menlo,'DejaVu Sans Mono',consolas,'Courier New',monospace\"><span style=\"font-weight: bold\">Model: \"sequential_5\"</span>\n",
       "</pre>\n"
      ],
      "text/plain": [
       "\u001b[1mModel: \"sequential_5\"\u001b[0m\n"
      ]
     },
     "metadata": {},
     "output_type": "display_data"
    },
    {
     "data": {
      "text/html": [
       "<pre style=\"white-space:pre;overflow-x:auto;line-height:normal;font-family:Menlo,'DejaVu Sans Mono',consolas,'Courier New',monospace\">┏━━━━━━━━━━━━━━━━━━━━━━━━━━━━━━━━━┳━━━━━━━━━━━━━━━━━━━━━━━━┳━━━━━━━━━━━━━━━┓\n",
       "┃<span style=\"font-weight: bold\"> Layer (type)                    </span>┃<span style=\"font-weight: bold\"> Output Shape           </span>┃<span style=\"font-weight: bold\">       Param # </span>┃\n",
       "┡━━━━━━━━━━━━━━━━━━━━━━━━━━━━━━━━━╇━━━━━━━━━━━━━━━━━━━━━━━━╇━━━━━━━━━━━━━━━┩\n",
       "│ dense_10 (<span style=\"color: #0087ff; text-decoration-color: #0087ff\">Dense</span>)                │ (<span style=\"color: #00d7ff; text-decoration-color: #00d7ff\">None</span>, <span style=\"color: #00af00; text-decoration-color: #00af00\">128</span>)            │       <span style=\"color: #00af00; text-decoration-color: #00af00\">100,480</span> │\n",
       "├─────────────────────────────────┼────────────────────────┼───────────────┤\n",
       "│ dense_11 (<span style=\"color: #0087ff; text-decoration-color: #0087ff\">Dense</span>)                │ (<span style=\"color: #00d7ff; text-decoration-color: #00d7ff\">None</span>, <span style=\"color: #00af00; text-decoration-color: #00af00\">128</span>)            │        <span style=\"color: #00af00; text-decoration-color: #00af00\">16,512</span> │\n",
       "├─────────────────────────────────┼────────────────────────┼───────────────┤\n",
       "│ dense_12 (<span style=\"color: #0087ff; text-decoration-color: #0087ff\">Dense</span>)                │ (<span style=\"color: #00d7ff; text-decoration-color: #00d7ff\">None</span>, <span style=\"color: #00af00; text-decoration-color: #00af00\">128</span>)            │        <span style=\"color: #00af00; text-decoration-color: #00af00\">16,512</span> │\n",
       "├─────────────────────────────────┼────────────────────────┼───────────────┤\n",
       "│ dense_13 (<span style=\"color: #0087ff; text-decoration-color: #0087ff\">Dense</span>)                │ (<span style=\"color: #00d7ff; text-decoration-color: #00d7ff\">None</span>, <span style=\"color: #00af00; text-decoration-color: #00af00\">10</span>)             │         <span style=\"color: #00af00; text-decoration-color: #00af00\">1,290</span> │\n",
       "└─────────────────────────────────┴────────────────────────┴───────────────┘\n",
       "</pre>\n"
      ],
      "text/plain": [
       "┏━━━━━━━━━━━━━━━━━━━━━━━━━━━━━━━━━┳━━━━━━━━━━━━━━━━━━━━━━━━┳━━━━━━━━━━━━━━━┓\n",
       "┃\u001b[1m \u001b[0m\u001b[1mLayer (type)                   \u001b[0m\u001b[1m \u001b[0m┃\u001b[1m \u001b[0m\u001b[1mOutput Shape          \u001b[0m\u001b[1m \u001b[0m┃\u001b[1m \u001b[0m\u001b[1m      Param #\u001b[0m\u001b[1m \u001b[0m┃\n",
       "┡━━━━━━━━━━━━━━━━━━━━━━━━━━━━━━━━━╇━━━━━━━━━━━━━━━━━━━━━━━━╇━━━━━━━━━━━━━━━┩\n",
       "│ dense_10 (\u001b[38;5;33mDense\u001b[0m)                │ (\u001b[38;5;45mNone\u001b[0m, \u001b[38;5;34m128\u001b[0m)            │       \u001b[38;5;34m100,480\u001b[0m │\n",
       "├─────────────────────────────────┼────────────────────────┼───────────────┤\n",
       "│ dense_11 (\u001b[38;5;33mDense\u001b[0m)                │ (\u001b[38;5;45mNone\u001b[0m, \u001b[38;5;34m128\u001b[0m)            │        \u001b[38;5;34m16,512\u001b[0m │\n",
       "├─────────────────────────────────┼────────────────────────┼───────────────┤\n",
       "│ dense_12 (\u001b[38;5;33mDense\u001b[0m)                │ (\u001b[38;5;45mNone\u001b[0m, \u001b[38;5;34m128\u001b[0m)            │        \u001b[38;5;34m16,512\u001b[0m │\n",
       "├─────────────────────────────────┼────────────────────────┼───────────────┤\n",
       "│ dense_13 (\u001b[38;5;33mDense\u001b[0m)                │ (\u001b[38;5;45mNone\u001b[0m, \u001b[38;5;34m10\u001b[0m)             │         \u001b[38;5;34m1,290\u001b[0m │\n",
       "└─────────────────────────────────┴────────────────────────┴───────────────┘\n"
      ]
     },
     "metadata": {},
     "output_type": "display_data"
    },
    {
     "data": {
      "text/html": [
       "<pre style=\"white-space:pre;overflow-x:auto;line-height:normal;font-family:Menlo,'DejaVu Sans Mono',consolas,'Courier New',monospace\"><span style=\"font-weight: bold\"> Total params: </span><span style=\"color: #00af00; text-decoration-color: #00af00\">404,384</span> (1.54 MB)\n",
       "</pre>\n"
      ],
      "text/plain": [
       "\u001b[1m Total params: \u001b[0m\u001b[38;5;34m404,384\u001b[0m (1.54 MB)\n"
      ]
     },
     "metadata": {},
     "output_type": "display_data"
    },
    {
     "data": {
      "text/html": [
       "<pre style=\"white-space:pre;overflow-x:auto;line-height:normal;font-family:Menlo,'DejaVu Sans Mono',consolas,'Courier New',monospace\"><span style=\"font-weight: bold\"> Trainable params: </span><span style=\"color: #00af00; text-decoration-color: #00af00\">134,794</span> (526.54 KB)\n",
       "</pre>\n"
      ],
      "text/plain": [
       "\u001b[1m Trainable params: \u001b[0m\u001b[38;5;34m134,794\u001b[0m (526.54 KB)\n"
      ]
     },
     "metadata": {},
     "output_type": "display_data"
    },
    {
     "data": {
      "text/html": [
       "<pre style=\"white-space:pre;overflow-x:auto;line-height:normal;font-family:Menlo,'DejaVu Sans Mono',consolas,'Courier New',monospace\"><span style=\"font-weight: bold\"> Non-trainable params: </span><span style=\"color: #00af00; text-decoration-color: #00af00\">0</span> (0.00 B)\n",
       "</pre>\n"
      ],
      "text/plain": [
       "\u001b[1m Non-trainable params: \u001b[0m\u001b[38;5;34m0\u001b[0m (0.00 B)\n"
      ]
     },
     "metadata": {},
     "output_type": "display_data"
    },
    {
     "data": {
      "text/html": [
       "<pre style=\"white-space:pre;overflow-x:auto;line-height:normal;font-family:Menlo,'DejaVu Sans Mono',consolas,'Courier New',monospace\"><span style=\"font-weight: bold\"> Optimizer params: </span><span style=\"color: #00af00; text-decoration-color: #00af00\">269,590</span> (1.03 MB)\n",
       "</pre>\n"
      ],
      "text/plain": [
       "\u001b[1m Optimizer params: \u001b[0m\u001b[38;5;34m269,590\u001b[0m (1.03 MB)\n"
      ]
     },
     "metadata": {},
     "output_type": "display_data"
    }
   ],
   "source": [
    "model.summary()"
   ]
  },
  {
   "cell_type": "markdown",
   "metadata": {
    "cell_id": "00020-a024cc10-c7b4-4021-89d9-0ed7447b2b9e",
    "deepnote_cell_type": "markdown",
    "id": "tC9EB0vs363m"
   },
   "source": [
    "**Question #5.** `keras` models offer a `count_params()` method to get the number of parameters to be learned in the model. Use this facility to get the number of parameters of your 3-hidden-layer model and build a new one-hidden-layer model with an equivalent number of parameters. Compare performance of these two models with similar number of parameters."
   ]
  },
  {
   "cell_type": "code",
   "execution_count": 16,
   "metadata": {
    "cell_id": "00018-d3f7b59d-095f-43d8-903e-2b92eb43619f",
    "deepnote_cell_type": "code",
    "deepnote_to_be_reexecuted": true,
    "source_hash": "b623e53d",
    "tags": []
   },
   "outputs": [
    {
     "name": "stdout",
     "output_type": "stream",
     "text": [
      "134365\n",
      "Epoch 1/10\n",
      "600/600 - 4s - 7ms/step - accuracy: 0.9138 - loss: 0.3130\n",
      "Epoch 2/10\n",
      "600/600 - 5s - 8ms/step - accuracy: 0.9602 - loss: 0.1404\n",
      "Epoch 3/10\n",
      "600/600 - 4s - 7ms/step - accuracy: 0.9721 - loss: 0.0970\n",
      "Epoch 4/10\n",
      "600/600 - 4s - 7ms/step - accuracy: 0.9786 - loss: 0.0727\n",
      "Epoch 5/10\n",
      "600/600 - 4s - 7ms/step - accuracy: 0.9831 - loss: 0.0579\n",
      "Epoch 6/10\n",
      "600/600 - 4s - 7ms/step - accuracy: 0.9869 - loss: 0.0454\n",
      "Epoch 7/10\n",
      "600/600 - 5s - 8ms/step - accuracy: 0.9891 - loss: 0.0377\n",
      "Epoch 8/10\n",
      "600/600 - 4s - 7ms/step - accuracy: 0.9917 - loss: 0.0299\n",
      "Epoch 9/10\n",
      "600/600 - 4s - 7ms/step - accuracy: 0.9933 - loss: 0.0249\n",
      "Epoch 10/10\n",
      "600/600 - 4s - 7ms/step - accuracy: 0.9951 - loss: 0.0196\n"
     ]
    },
    {
     "data": {
      "text/plain": [
       "<keras.src.callbacks.history.History at 0x369319660>"
      ]
     },
     "execution_count": 16,
     "metadata": {},
     "output_type": "execute_result"
    }
   ],
   "source": [
    "units = 134794 / 794\n",
    "\n",
    "model = Sequential([\n",
    "    InputLayer(input_shape=x_train.shape[1:]),\n",
    "    Dense(units=units, activation=\"relu\"),\n",
    "    Dense(units=y_train.shape[1], activation=\"softmax\")\n",
    "])\n",
    "print(model.count_params())\n",
    "model.compile(loss=\"categorical_crossentropy\", optimizer=\"adam\", metrics=[\"accuracy\"])\n",
    "model.fit(x_train, y_train, epochs=10, batch_size=100, verbose=2)"
   ]
  },
  {
   "cell_type": "markdown",
   "metadata": {
    "cell_id": "00024-1bdd65e7-515d-4064-882a-54c651abfd3d",
    "deepnote_cell_type": "markdown",
    "id": "iXxTGmUw5ppd"
   },
   "source": [
    "## A better way to compare models\n",
    "\n",
    "Comparing models based on training accuracy (resp. loss) is a \"great\" way to overfit your model to the training data.\n",
    "A better way to compare models is to use hold out data (aka validation set).\n",
    "\n",
    "To do so, `keras` allows to pass, at `fit` time, a fraction of the training data to be used as validation set. Have a look [there](https://keras.io/api/models/model_training_apis/#fit-method) for more details about how validation samples are selected.\n",
    "\n",
    "**Question #6.** Repeat model comparisons above (relying on validation scores) using 30% of training data as validation set."
   ]
  },
  {
   "cell_type": "code",
   "execution_count": 17,
   "metadata": {},
   "outputs": [
    {
     "name": "stdout",
     "output_type": "stream",
     "text": [
      "Epoch 1/10\n",
      "420/420 - 5s - 11ms/step - accuracy: 0.9018 - loss: 0.3399 - val_accuracy: 0.9472 - val_loss: 0.1783\n",
      "Epoch 2/10\n",
      "420/420 - 5s - 11ms/step - accuracy: 0.9594 - loss: 0.1332 - val_accuracy: 0.9627 - val_loss: 0.1251\n",
      "Epoch 3/10\n",
      "420/420 - 4s - 10ms/step - accuracy: 0.9728 - loss: 0.0883 - val_accuracy: 0.9638 - val_loss: 0.1171\n",
      "Epoch 4/10\n",
      "420/420 - 5s - 11ms/step - accuracy: 0.9793 - loss: 0.0664 - val_accuracy: 0.9656 - val_loss: 0.1158\n",
      "Epoch 5/10\n",
      "420/420 - 4s - 11ms/step - accuracy: 0.9844 - loss: 0.0492 - val_accuracy: 0.9691 - val_loss: 0.1056\n",
      "Epoch 6/10\n",
      "420/420 - 4s - 11ms/step - accuracy: 0.9874 - loss: 0.0399 - val_accuracy: 0.9707 - val_loss: 0.1066\n",
      "Epoch 7/10\n",
      "420/420 - 5s - 11ms/step - accuracy: 0.9894 - loss: 0.0334 - val_accuracy: 0.9709 - val_loss: 0.1089\n",
      "Epoch 8/10\n",
      "420/420 - 5s - 11ms/step - accuracy: 0.9910 - loss: 0.0254 - val_accuracy: 0.9676 - val_loss: 0.1277\n",
      "Epoch 9/10\n",
      "420/420 - 5s - 11ms/step - accuracy: 0.9923 - loss: 0.0233 - val_accuracy: 0.9724 - val_loss: 0.1107\n",
      "Epoch 10/10\n",
      "420/420 - 5s - 11ms/step - accuracy: 0.9928 - loss: 0.0222 - val_accuracy: 0.9686 - val_loss: 0.1358\n"
     ]
    },
    {
     "data": {
      "text/plain": [
       "<keras.src.callbacks.history.History at 0x36931a3b0>"
      ]
     },
     "execution_count": 17,
     "metadata": {},
     "output_type": "execute_result"
    }
   ],
   "source": [
    "model = Sequential([\n",
    "    InputLayer(input_shape=x_train.shape[1:]),\n",
    "    Dense(units=128, activation=\"relu\"),\n",
    "    Dense(units=128, activation=\"relu\"),\n",
    "    Dense(units=128, activation=\"relu\"),\n",
    "    Dense(units=y_train.shape[1], activation=\"softmax\")\n",
    "])\n",
    "model.compile(loss=\"categorical_crossentropy\", optimizer=\"adam\", metrics=[\"accuracy\"])\n",
    "model.fit(x_train, y_train, epochs=10, batch_size=100, verbose=2, validation_split=.3)"
   ]
  },
  {
   "cell_type": "code",
   "execution_count": 18,
   "metadata": {},
   "outputs": [
    {
     "name": "stdout",
     "output_type": "stream",
     "text": [
      "134365\n",
      "Epoch 1/10\n",
      "420/420 - 4s - 9ms/step - accuracy: 0.8975 - loss: 0.3666 - val_accuracy: 0.9377 - val_loss: 0.2204\n",
      "Epoch 2/10\n",
      "420/420 - 4s - 9ms/step - accuracy: 0.9510 - loss: 0.1707 - val_accuracy: 0.9541 - val_loss: 0.1574\n",
      "Epoch 3/10\n",
      "420/420 - 4s - 9ms/step - accuracy: 0.9658 - loss: 0.1204 - val_accuracy: 0.9616 - val_loss: 0.1313\n",
      "Epoch 4/10\n",
      "420/420 - 4s - 9ms/step - accuracy: 0.9744 - loss: 0.0897 - val_accuracy: 0.9648 - val_loss: 0.1164\n",
      "Epoch 5/10\n",
      "420/420 - 4s - 8ms/step - accuracy: 0.9808 - loss: 0.0695 - val_accuracy: 0.9664 - val_loss: 0.1150\n",
      "Epoch 6/10\n",
      "420/420 - 4s - 9ms/step - accuracy: 0.9846 - loss: 0.0554 - val_accuracy: 0.9711 - val_loss: 0.0989\n",
      "Epoch 7/10\n",
      "420/420 - 4s - 8ms/step - accuracy: 0.9867 - loss: 0.0461 - val_accuracy: 0.9693 - val_loss: 0.1087\n",
      "Epoch 8/10\n",
      "420/420 - 4s - 9ms/step - accuracy: 0.9902 - loss: 0.0372 - val_accuracy: 0.9677 - val_loss: 0.1090\n",
      "Epoch 9/10\n",
      "420/420 - 4s - 9ms/step - accuracy: 0.9914 - loss: 0.0299 - val_accuracy: 0.9703 - val_loss: 0.1018\n",
      "Epoch 10/10\n",
      "420/420 - 4s - 9ms/step - accuracy: 0.9944 - loss: 0.0242 - val_accuracy: 0.9734 - val_loss: 0.0928\n"
     ]
    },
    {
     "data": {
      "text/plain": [
       "<keras.src.callbacks.history.History at 0x35a59e530>"
      ]
     },
     "execution_count": 18,
     "metadata": {},
     "output_type": "execute_result"
    }
   ],
   "source": [
    "units = 134794 / 794\n",
    "\n",
    "model = Sequential([\n",
    "    InputLayer(input_shape=x_train.shape[1:]),\n",
    "    Dense(units=units, activation=\"relu\"),\n",
    "    Dense(units=y_train.shape[1], activation=\"softmax\")\n",
    "])\n",
    "print(model.count_params())\n",
    "model.compile(loss=\"categorical_crossentropy\", optimizer=\"adam\", metrics=[\"accuracy\"])\n",
    "model.fit(x_train, y_train, epochs=10, batch_size=100, verbose=2, validation_split=.3)"
   ]
  },
  {
   "cell_type": "markdown",
   "metadata": {
    "cell_id": "00026-77f877a8-a870-4358-a389-6435fd380c88",
    "deepnote_cell_type": "markdown",
    "id": "WehjG92yDMcN"
   },
   "source": [
    "## Optimizers and learning rate\n",
    "\n",
    "**Question #7.** Change the optimizer used for your model. Use an optimizer with momentum and adaptive learning rate."
   ]
  },
  {
   "cell_type": "code",
   "execution_count": 19,
   "metadata": {
    "cell_id": "00021-8889ee1e-48b4-4783-b8e9-fb42783d8d39",
    "deepnote_cell_type": "code",
    "deepnote_to_be_reexecuted": true,
    "source_hash": "b623e53d",
    "tags": []
   },
   "outputs": [
    {
     "name": "stdout",
     "output_type": "stream",
     "text": [
      "Epoch 1/10\n",
      "420/420 - 4s - 9ms/step - accuracy: 0.8992 - loss: 0.3500 - val_accuracy: 0.9441 - val_loss: 0.1895\n",
      "Epoch 2/10\n",
      "420/420 - 4s - 10ms/step - accuracy: 0.9585 - loss: 0.1405 - val_accuracy: 0.9598 - val_loss: 0.1349\n",
      "Epoch 3/10\n",
      "420/420 - 4s - 9ms/step - accuracy: 0.9709 - loss: 0.0976 - val_accuracy: 0.9651 - val_loss: 0.1170\n",
      "Epoch 4/10\n",
      "420/420 - 4s - 9ms/step - accuracy: 0.9787 - loss: 0.0699 - val_accuracy: 0.9693 - val_loss: 0.1017\n",
      "Epoch 5/10\n",
      "420/420 - 4s - 10ms/step - accuracy: 0.9830 - loss: 0.0548 - val_accuracy: 0.9682 - val_loss: 0.1082\n",
      "Epoch 6/10\n",
      "420/420 - 4s - 10ms/step - accuracy: 0.9871 - loss: 0.0418 - val_accuracy: 0.9699 - val_loss: 0.1046\n",
      "Epoch 7/10\n",
      "420/420 - 4s - 10ms/step - accuracy: 0.9898 - loss: 0.0336 - val_accuracy: 0.9711 - val_loss: 0.1033\n",
      "Epoch 8/10\n",
      "420/420 - 4s - 10ms/step - accuracy: 0.9915 - loss: 0.0264 - val_accuracy: 0.9719 - val_loss: 0.1031\n",
      "Epoch 9/10\n",
      "420/420 - 4s - 10ms/step - accuracy: 0.9934 - loss: 0.0223 - val_accuracy: 0.9622 - val_loss: 0.1622\n",
      "Epoch 10/10\n",
      "420/420 - 4s - 10ms/step - accuracy: 0.9943 - loss: 0.0187 - val_accuracy: 0.9724 - val_loss: 0.1073\n"
     ]
    },
    {
     "data": {
      "text/plain": [
       "<keras.src.callbacks.history.History at 0x35a5c5030>"
      ]
     },
     "execution_count": 19,
     "metadata": {},
     "output_type": "execute_result"
    }
   ],
   "source": [
    "model = Sequential([\n",
    "    InputLayer(input_shape=x_train.shape[1:]),\n",
    "    Dense(units=128, activation=\"relu\"),\n",
    "    Dense(units=128, activation=\"relu\"),\n",
    "    Dense(units=y_train.shape[1], activation=\"softmax\")\n",
    "])\n",
    "model.compile(loss=\"categorical_crossentropy\", optimizer=\"adam\", metrics=[\"accuracy\"])\n",
    "model.fit(x_train, y_train, epochs=10, batch_size=100, verbose=2, validation_split=0.3)"
   ]
  },
  {
   "cell_type": "code",
   "execution_count": 20,
   "metadata": {},
   "outputs": [
    {
     "name": "stdout",
     "output_type": "stream",
     "text": [
      "Epoch 1/10\n",
      "420/420 - 3s - 7ms/step - accuracy: 0.6478 - loss: 1.3705 - val_accuracy: 0.8469 - val_loss: 0.6660\n",
      "Epoch 2/10\n",
      "420/420 - 3s - 7ms/step - accuracy: 0.8656 - loss: 0.5363 - val_accuracy: 0.8867 - val_loss: 0.4319\n",
      "Epoch 3/10\n",
      "420/420 - 3s - 7ms/step - accuracy: 0.8894 - loss: 0.4083 - val_accuracy: 0.8967 - val_loss: 0.3694\n",
      "Epoch 4/10\n",
      "420/420 - 3s - 8ms/step - accuracy: 0.9002 - loss: 0.3593 - val_accuracy: 0.9032 - val_loss: 0.3370\n",
      "Epoch 5/10\n",
      "420/420 - 3s - 8ms/step - accuracy: 0.9073 - loss: 0.3300 - val_accuracy: 0.9077 - val_loss: 0.3172\n",
      "Epoch 6/10\n",
      "420/420 - 3s - 7ms/step - accuracy: 0.9119 - loss: 0.3092 - val_accuracy: 0.9117 - val_loss: 0.2998\n",
      "Epoch 7/10\n",
      "420/420 - 3s - 7ms/step - accuracy: 0.9172 - loss: 0.2925 - val_accuracy: 0.9174 - val_loss: 0.2885\n",
      "Epoch 8/10\n",
      "420/420 - 3s - 7ms/step - accuracy: 0.9210 - loss: 0.2783 - val_accuracy: 0.9209 - val_loss: 0.2758\n",
      "Epoch 9/10\n",
      "420/420 - 3s - 8ms/step - accuracy: 0.9245 - loss: 0.2662 - val_accuracy: 0.9233 - val_loss: 0.2674\n",
      "Epoch 10/10\n",
      "420/420 - 3s - 8ms/step - accuracy: 0.9279 - loss: 0.2551 - val_accuracy: 0.9257 - val_loss: 0.2585\n"
     ]
    },
    {
     "data": {
      "text/plain": [
       "<keras.src.callbacks.history.History at 0x35a59f730>"
      ]
     },
     "execution_count": 20,
     "metadata": {},
     "output_type": "execute_result"
    }
   ],
   "source": [
    "model = Sequential([\n",
    "    InputLayer(input_shape=x_train.shape[1:]),\n",
    "    Dense(units=128, activation=\"relu\"),\n",
    "    Dense(units=128, activation=\"relu\"),\n",
    "    Dense(units=y_train.shape[1], activation=\"softmax\")\n",
    "])\n",
    "model.compile(loss=\"categorical_crossentropy\", optimizer=\"sgd\", metrics=[\"accuracy\"])\n",
    "model.fit(x_train, y_train, epochs=10, batch_size=100, verbose=2, validation_split=0.3)"
   ]
  },
  {
   "cell_type": "code",
   "execution_count": 21,
   "metadata": {},
   "outputs": [
    {
     "name": "stdout",
     "output_type": "stream",
     "text": [
      "Epoch 1/10\n",
      "420/420 - 4s - 10ms/step - accuracy: 0.8966 - loss: 0.3595 - val_accuracy: 0.9449 - val_loss: 0.1866\n",
      "Epoch 2/10\n",
      "420/420 - 4s - 10ms/step - accuracy: 0.9570 - loss: 0.1484 - val_accuracy: 0.9581 - val_loss: 0.1415\n",
      "Epoch 3/10\n",
      "420/420 - 4s - 10ms/step - accuracy: 0.9690 - loss: 0.1039 - val_accuracy: 0.9643 - val_loss: 0.1156\n",
      "Epoch 4/10\n",
      "420/420 - 4s - 10ms/step - accuracy: 0.9767 - loss: 0.0774 - val_accuracy: 0.9650 - val_loss: 0.1120\n",
      "Epoch 5/10\n",
      "420/420 - 4s - 10ms/step - accuracy: 0.9817 - loss: 0.0601 - val_accuracy: 0.9691 - val_loss: 0.1036\n",
      "Epoch 6/10\n",
      "420/420 - 4s - 10ms/step - accuracy: 0.9858 - loss: 0.0447 - val_accuracy: 0.9685 - val_loss: 0.1073\n",
      "Epoch 7/10\n",
      "420/420 - 4s - 10ms/step - accuracy: 0.9885 - loss: 0.0366 - val_accuracy: 0.9703 - val_loss: 0.1082\n",
      "Epoch 8/10\n",
      "420/420 - 4s - 10ms/step - accuracy: 0.9899 - loss: 0.0308 - val_accuracy: 0.9720 - val_loss: 0.1059\n",
      "Epoch 9/10\n",
      "420/420 - 4s - 10ms/step - accuracy: 0.9924 - loss: 0.0240 - val_accuracy: 0.9748 - val_loss: 0.1001\n",
      "Epoch 10/10\n",
      "420/420 - 4s - 10ms/step - accuracy: 0.9943 - loss: 0.0185 - val_accuracy: 0.9721 - val_loss: 0.1153\n"
     ]
    },
    {
     "data": {
      "text/plain": [
       "<keras.src.callbacks.history.History at 0x35a5edb70>"
      ]
     },
     "execution_count": 21,
     "metadata": {},
     "output_type": "execute_result"
    }
   ],
   "source": [
    "model = Sequential([\n",
    "    InputLayer(input_shape=x_train.shape[1:]),\n",
    "    Dense(units=128, activation=\"relu\"),\n",
    "    Dense(units=128, activation=\"relu\"),\n",
    "    Dense(units=y_train.shape[1], activation=\"softmax\")\n",
    "])\n",
    "model.compile(loss=\"categorical_crossentropy\", optimizer=\"adam\", metrics=[\"accuracy\"])\n",
    "model.fit(x_train, y_train, epochs=10, batch_size=100, verbose=2, validation_split=0.3)"
   ]
  },
  {
   "cell_type": "markdown",
   "metadata": {
    "cell_id": "00028-47912783-f891-416d-9e9d-05d57a819e7c",
    "deepnote_cell_type": "markdown",
    "id": "ot8jiQHuEZxr"
   },
   "source": [
    "**Question #8.** Using [the docs](https://keras.io/api/optimizers/), vary the learning rate of your optimizer from a very low value to a much larger one so as to show evidence of:\n",
    "* instability when the learning rate is too large;\n",
    "* slow convergence when the learning rate is too low."
   ]
  },
  {
   "cell_type": "code",
   "execution_count": 22,
   "metadata": {
    "cell_id": "00029-16623cf9-4788-418c-8696-9e61bfe444fb",
    "deepnote_cell_type": "code",
    "deepnote_to_be_reexecuted": true,
    "execution_millis": 38776,
    "id": "pZfwWRDPEa1g",
    "output_cleared": true,
    "source_hash": "b623e53d"
   },
   "outputs": [
    {
     "name": "stdout",
     "output_type": "stream",
     "text": [
      "Epoch 1/10\n",
      "420/420 - 4s - 10ms/step - accuracy: 0.7558 - loss: 1.0142 - val_accuracy: 0.8877 - val_loss: 0.4320\n",
      "Epoch 2/10\n",
      "420/420 - 4s - 10ms/step - accuracy: 0.9013 - loss: 0.3652 - val_accuracy: 0.9122 - val_loss: 0.3112\n",
      "Epoch 3/10\n",
      "420/420 - 4s - 10ms/step - accuracy: 0.9204 - loss: 0.2861 - val_accuracy: 0.9231 - val_loss: 0.2664\n",
      "Epoch 4/10\n",
      "420/420 - 4s - 10ms/step - accuracy: 0.9315 - loss: 0.2455 - val_accuracy: 0.9319 - val_loss: 0.2388\n",
      "Epoch 5/10\n",
      "420/420 - 4s - 10ms/step - accuracy: 0.9397 - loss: 0.2174 - val_accuracy: 0.9388 - val_loss: 0.2151\n",
      "Epoch 6/10\n",
      "420/420 - 4s - 10ms/step - accuracy: 0.9459 - loss: 0.1954 - val_accuracy: 0.9433 - val_loss: 0.2005\n",
      "Epoch 7/10\n",
      "420/420 - 4s - 10ms/step - accuracy: 0.9497 - loss: 0.1776 - val_accuracy: 0.9457 - val_loss: 0.1877\n",
      "Epoch 8/10\n",
      "420/420 - 4s - 10ms/step - accuracy: 0.9537 - loss: 0.1633 - val_accuracy: 0.9498 - val_loss: 0.1754\n",
      "Epoch 9/10\n",
      "420/420 - 4s - 10ms/step - accuracy: 0.9579 - loss: 0.1498 - val_accuracy: 0.9522 - val_loss: 0.1656\n",
      "Epoch 10/10\n",
      "420/420 - 4s - 10ms/step - accuracy: 0.9608 - loss: 0.1388 - val_accuracy: 0.9540 - val_loss: 0.1596\n"
     ]
    },
    {
     "data": {
      "text/plain": [
       "<keras.src.callbacks.history.History at 0x35a5eef20>"
      ]
     },
     "execution_count": 22,
     "metadata": {},
     "output_type": "execute_result"
    }
   ],
   "source": [
    "from keras.optimizers import Adam\n",
    "\n",
    "model = Sequential([\n",
    "    InputLayer(input_shape=x_train.shape[1:]),\n",
    "    Dense(units=128, activation=\"relu\"),\n",
    "    Dense(units=128, activation=\"relu\"),\n",
    "    Dense(units=y_train.shape[1], activation=\"softmax\")\n",
    "])\n",
    "model.compile(loss=\"categorical_crossentropy\", optimizer=Adam(learning_rate=0.0001), metrics=[\"accuracy\"])\n",
    "model.fit(x_train, y_train, epochs=10, batch_size=100, verbose=2, validation_split=0.3)"
   ]
  },
  {
   "cell_type": "markdown",
   "metadata": {
    "cell_id": "00030-f3edc3e5-83b2-4417-99c0-ce99030af441",
    "deepnote_cell_type": "markdown",
    "id": "tyCzy_PNEqwE"
   },
   "source": [
    "## Callbacks\n",
    "\n",
    "Callbacks are tools that, in `keras`, allow one to intervene during the training process of a model. \n",
    "Callbacks can be used to take actions (_ie._ save intermediate model, stop optimization if overfitting occurs, _etc._).\n",
    "\n",
    "A first callback one can play with is the one returned by any call to `fit` on a `keras` model.\n",
    "This callback is an object with an `.history` attribute in the form of a Python dictionnary whose keys are the metrics recorded during training. Each of these keys links to an array containing the consecutive values of the considered quantity (one value per epoch).\n",
    "\n",
    "**Question #9.** Plot correct classification rates on both training and validation sets."
   ]
  },
  {
   "cell_type": "code",
   "execution_count": 23,
   "metadata": {
    "cell_id": "00031-a30d0556-649b-490f-8b57-f0ac45eb245a",
    "deepnote_cell_type": "code",
    "deepnote_to_be_reexecuted": true,
    "execution_millis": 67,
    "id": "qA-RPKzaI4-s",
    "output_cleared": true,
    "source_hash": "b623e53d"
   },
   "outputs": [
    {
     "name": "stdout",
     "output_type": "stream",
     "text": [
      "Epoch 1/10\n",
      "420/420 - 4s - 10ms/step - accuracy: 0.9001 - loss: 0.3536 - val_accuracy: 0.9418 - val_loss: 0.1918\n",
      "Epoch 2/10\n",
      "420/420 - 4s - 10ms/step - accuracy: 0.9595 - loss: 0.1383 - val_accuracy: 0.9589 - val_loss: 0.1389\n",
      "Epoch 3/10\n",
      "420/420 - 4s - 10ms/step - accuracy: 0.9715 - loss: 0.0962 - val_accuracy: 0.9654 - val_loss: 0.1212\n",
      "Epoch 4/10\n",
      "420/420 - 4s - 10ms/step - accuracy: 0.9772 - loss: 0.0738 - val_accuracy: 0.9658 - val_loss: 0.1151\n",
      "Epoch 5/10\n",
      "420/420 - 4s - 10ms/step - accuracy: 0.9824 - loss: 0.0557 - val_accuracy: 0.9681 - val_loss: 0.1110\n",
      "Epoch 6/10\n",
      "420/420 - 4s - 10ms/step - accuracy: 0.9876 - loss: 0.0418 - val_accuracy: 0.9716 - val_loss: 0.1023\n",
      "Epoch 7/10\n",
      "420/420 - 4s - 10ms/step - accuracy: 0.9897 - loss: 0.0333 - val_accuracy: 0.9721 - val_loss: 0.1012\n",
      "Epoch 8/10\n",
      "420/420 - 4s - 10ms/step - accuracy: 0.9915 - loss: 0.0267 - val_accuracy: 0.9714 - val_loss: 0.1093\n",
      "Epoch 9/10\n",
      "420/420 - 4s - 10ms/step - accuracy: 0.9927 - loss: 0.0233 - val_accuracy: 0.9737 - val_loss: 0.1036\n",
      "Epoch 10/10\n",
      "420/420 - 4s - 10ms/step - accuracy: 0.9951 - loss: 0.0162 - val_accuracy: 0.9728 - val_loss: 0.1145\n"
     ]
    }
   ],
   "source": [
    "model = Sequential([\n",
    "    InputLayer(input_shape=x_train.shape[1:]),\n",
    "    Dense(units=128, activation=\"relu\"),\n",
    "    Dense(units=128, activation=\"relu\"),\n",
    "    Dense(units=y_train.shape[1], activation=\"softmax\")\n",
    "])\n",
    "model.compile(loss=\"categorical_crossentropy\", optimizer=\"adam\", metrics=[\"accuracy\"])\n",
    "h = model.fit(x_train, y_train, epochs=10, batch_size=100, verbose=2, validation_split=0.3)"
   ]
  },
  {
   "cell_type": "code",
   "execution_count": 24,
   "metadata": {},
   "outputs": [
    {
     "data": {
      "text/plain": [
       "{'accuracy': [0.9000714421272278,\n",
       "  0.9595000147819519,\n",
       "  0.9715476036071777,\n",
       "  0.9772142767906189,\n",
       "  0.9823571443557739,\n",
       "  0.9875714182853699,\n",
       "  0.9896666407585144,\n",
       "  0.9914523959159851,\n",
       "  0.9927380681037903,\n",
       "  0.9950714111328125],\n",
       " 'loss': [0.3535824716091156,\n",
       "  0.13828957080841064,\n",
       "  0.09620407968759537,\n",
       "  0.07375537604093552,\n",
       "  0.05570809543132782,\n",
       "  0.041771069169044495,\n",
       "  0.03327703848481178,\n",
       "  0.02674015238881111,\n",
       "  0.023312589153647423,\n",
       "  0.016157276928424835],\n",
       " 'val_accuracy': [0.941777765750885,\n",
       "  0.9589444398880005,\n",
       "  0.9654444456100464,\n",
       "  0.965833306312561,\n",
       "  0.9681110978126526,\n",
       "  0.9716110825538635,\n",
       "  0.9720555543899536,\n",
       "  0.9714444279670715,\n",
       "  0.9736666679382324,\n",
       "  0.972777783870697],\n",
       " 'val_loss': [0.1917736530303955,\n",
       "  0.13888712227344513,\n",
       "  0.12118659168481827,\n",
       "  0.11511295288801193,\n",
       "  0.11100152134895325,\n",
       "  0.10234344005584717,\n",
       "  0.10124167799949646,\n",
       "  0.1093091070652008,\n",
       "  0.10364564508199692,\n",
       "  0.1145339086651802]}"
      ]
     },
     "execution_count": 24,
     "metadata": {},
     "output_type": "execute_result"
    }
   ],
   "source": [
    "h.history"
   ]
  },
  {
   "cell_type": "code",
   "execution_count": 25,
   "metadata": {},
   "outputs": [
    {
     "data": {
      "image/png": "[encoded data removed]",
      "text/plain": [
       "<Figure size 640x480 with 1 Axes>"
      ]
     },
     "metadata": {},
     "output_type": "display_data"
    }
   ],
   "source": [
    "import matplotlib.pyplot as plt\n",
    "import numpy as np\n",
    "\n",
    "plt.plot(np.arange(1, 11), h.history[\"loss\"], label=\"Training loss\")\n",
    "plt.plot(np.arange(1, 11), h.history[\"val_loss\"], label=\"Validation loss\")\n",
    "plt.axvline(x=np.argmin(h.history[\"val_loss\"]) + 1, color='k', linestyle='--')\n",
    "plt.legend();"
   ]
  },
  {
   "cell_type": "markdown",
   "metadata": {
    "cell_id": "00032-0b2aa348-08ef-45f0-8984-70863c338c77",
    "deepnote_cell_type": "markdown",
    "id": "l9y1at8qI5cO"
   },
   "source": [
    "Setting up other callbacks must be explicit. This is done by passing a list of callbacks to the `fit` method.\n",
    "\n",
    "When training a model is long, one can wish to record intermediate models (in case of a crash during training, or just for cases when intermediate models were performing better than the final one).\n",
    "The [`ModelCheckpoint`](https://keras.io/api/callbacks/model_checkpoint/) callback is designed for that purpose.\n",
    "\n",
    "**Question #10.** Set up recording of intermediate models every epoch. Save the models into a dedicated file `model.keras` on your project. Only record models if validation loss is lower than for all previous models."
   ]
  },
  {
   "cell_type": "code",
   "execution_count": 26,
   "metadata": {
    "cell_id": "00027-fc377b2f-fe5b-4d0e-94b4-faa235dae4bc",
    "deepnote_cell_type": "code",
    "deepnote_to_be_reexecuted": true,
    "source_hash": "b623e53d",
    "tags": []
   },
   "outputs": [
    {
     "name": "stdout",
     "output_type": "stream",
     "text": [
      "Epoch 1/10\n"
     ]
    },
    {
     "name": "stderr",
     "output_type": "stream",
     "text": [
      "/Users/rtavenar/py3.10_ml/lib/python3.10/site-packages/keras/src/layers/core/input_layer.py:26: UserWarning: Argument `input_shape` is deprecated. Use `shape` instead.\n",
      "  warnings.warn(\n"
     ]
    },
    {
     "name": "stdout",
     "output_type": "stream",
     "text": [
      "600/600 - 8s - 14ms/step - accuracy: 0.9146 - loss: 0.3006 - val_accuracy: 0.9588 - val_loss: 0.1377\n",
      "Epoch 2/10\n",
      "600/600 - 5s - 9ms/step - accuracy: 0.9640 - loss: 0.1194 - val_accuracy: 0.9669 - val_loss: 0.1069\n",
      "Epoch 3/10\n",
      "600/600 - 5s - 9ms/step - accuracy: 0.9746 - loss: 0.0821 - val_accuracy: 0.9718 - val_loss: 0.0908\n",
      "Epoch 4/10\n",
      "600/600 - 6s - 9ms/step - accuracy: 0.9810 - loss: 0.0611 - val_accuracy: 0.9737 - val_loss: 0.0889\n",
      "Epoch 5/10\n",
      "600/600 - 6s - 9ms/step - accuracy: 0.9853 - loss: 0.0479 - val_accuracy: 0.9784 - val_loss: 0.0775\n",
      "Epoch 6/10\n",
      "600/600 - 5s - 9ms/step - accuracy: 0.9888 - loss: 0.0373 - val_accuracy: 0.9784 - val_loss: 0.0725\n",
      "Epoch 7/10\n",
      "600/600 - 5s - 9ms/step - accuracy: 0.9899 - loss: 0.0320 - val_accuracy: 0.9759 - val_loss: 0.0788\n",
      "Epoch 8/10\n",
      "600/600 - 5s - 9ms/step - accuracy: 0.9922 - loss: 0.0253 - val_accuracy: 0.9767 - val_loss: 0.0837\n",
      "Epoch 9/10\n",
      "600/600 - 5s - 9ms/step - accuracy: 0.9926 - loss: 0.0222 - val_accuracy: 0.9767 - val_loss: 0.0824\n",
      "Epoch 10/10\n",
      "600/600 - 5s - 9ms/step - accuracy: 0.9939 - loss: 0.0186 - val_accuracy: 0.9761 - val_loss: 0.0911\n"
     ]
    }
   ],
   "source": [
    "from keras.callbacks import ModelCheckpoint\n",
    "\n",
    "cb = ModelCheckpoint(\"model.keras\", save_best_only=True)\n",
    "\n",
    "model = Sequential([\n",
    "    InputLayer(input_shape=x_train.shape[1:]),\n",
    "    Dense(units=128, activation=\"relu\"),\n",
    "    Dense(units=128, activation=\"relu\"),\n",
    "    Dense(units=y_train.shape[1], activation=\"softmax\")\n",
    "])\n",
    "model.compile(loss=\"categorical_crossentropy\", optimizer=\"adam\", metrics=[\"accuracy\"])\n",
    "h = model.fit(x_train, y_train, epochs=10, batch_size=100, verbose=2, validation_data=(x_test, y_test), callbacks=[cb])"
   ]
  },
  {
   "cell_type": "markdown",
   "metadata": {
    "cell_id": "00028-e61b8442-9511-4a89-a53c-9590238e0fd2",
    "deepnote_cell_type": "markdown",
    "tags": []
   },
   "source": [
    "Use the code below to check that a model has been saved:"
   ]
  },
  {
   "cell_type": "code",
   "execution_count": 27,
   "metadata": {
    "cell_id": "00034-e0f2a0eb-f551-440e-94fb-2db94f18bde6",
    "deepnote_cell_type": "code",
    "deepnote_to_be_reexecuted": true,
    "id": "m0Zqsvh8Bowh",
    "source_hash": "3b41946",
    "tags": [
     "keep"
    ]
   },
   "outputs": [
    {
     "name": "stdout",
     "output_type": "stream",
     "text": [
      "-rw-r--r--@ 1 rtavenar  staff   1.4M Oct 24 17:44 model.keras\n"
     ]
    }
   ],
   "source": [
    "%ls -alh \"model.keras\""
   ]
  },
  {
   "cell_type": "code",
   "execution_count": 28,
   "metadata": {
    "tags": [
     "keep"
    ]
   },
   "outputs": [
    {
     "name": "stdout",
     "output_type": "stream",
     "text": [
      "\u001b[1m313/313\u001b[0m \u001b[32m━━━━━━━━━━━━━━━━━━━━\u001b[0m\u001b[37m\u001b[0m \u001b[1m1s\u001b[0m 4ms/step - accuracy: 0.9721 - loss: 0.1064\n"
     ]
    },
    {
     "data": {
      "text/plain": [
       "[0.0910952240228653, 0.9761000275611877]"
      ]
     },
     "execution_count": 28,
     "metadata": {},
     "output_type": "execute_result"
    }
   ],
   "source": [
    "model.evaluate(x_test, y_test)"
   ]
  },
  {
   "cell_type": "code",
   "execution_count": 30,
   "metadata": {
    "tags": [
     "keep"
    ]
   },
   "outputs": [
    {
     "name": "stdout",
     "output_type": "stream",
     "text": [
      "\u001b[1m313/313\u001b[0m \u001b[32m━━━━━━━━━━━━━━━━━━━━\u001b[0m\u001b[37m\u001b[0m \u001b[1m1s\u001b[0m 4ms/step - accuracy: 0.9752 - loss: 0.0818\n"
     ]
    },
    {
     "data": {
      "text/plain": [
       "[0.07248483598232269, 0.9783999919891357]"
      ]
     },
     "execution_count": 30,
     "metadata": {},
     "output_type": "execute_result"
    }
   ],
   "source": [
    "new_model = keras.models.load_model(\"model.keras\")\n",
    "new_model.evaluate(x_test, y_test)"
   ]
  },
  {
   "cell_type": "markdown",
   "metadata": {
    "cell_id": "00035-1206a01d-7467-4a3e-bbdc-ee72b70366a2",
    "deepnote_cell_type": "markdown",
    "id": "WFehub4rLrZm"
   },
   "source": [
    "## Regularization"
   ]
  },
  {
   "cell_type": "markdown",
   "metadata": {
    "cell_id": "00041-10a0c691-e01a-451e-807b-594ba76cc1fa",
    "deepnote_cell_type": "markdown",
    "id": "xbOmJKruNYyS"
   },
   "source": [
    "**Question #11.** Set up an [`EarlyStopping`](https://keras.io/api/callbacks/early_stopping/) strategy such that training the model will stop in case the validation loss does not decrease for 5 consecutive epochs."
   ]
  },
  {
   "cell_type": "code",
   "execution_count": 31,
   "metadata": {
    "cell_id": "00033-d7da52c7-7fbf-4f7d-940d-821cbe255b64",
    "deepnote_cell_type": "code",
    "deepnote_to_be_reexecuted": true,
    "source_hash": "b623e53d",
    "tags": []
   },
   "outputs": [
    {
     "name": "stdout",
     "output_type": "stream",
     "text": [
      "Epoch 1/100\n"
     ]
    },
    {
     "name": "stderr",
     "output_type": "stream",
     "text": [
      "/Users/rtavenar/py3.10_ml/lib/python3.10/site-packages/keras/src/layers/core/input_layer.py:26: UserWarning: Argument `input_shape` is deprecated. Use `shape` instead.\n",
      "  warnings.warn(\n"
     ]
    },
    {
     "name": "stdout",
     "output_type": "stream",
     "text": [
      "600/600 - 5s - 9ms/step - accuracy: 0.9165 - loss: 0.2929 - val_accuracy: 0.9530 - val_loss: 0.1619\n",
      "Epoch 2/100\n",
      "600/600 - 5s - 9ms/step - accuracy: 0.9657 - loss: 0.1165 - val_accuracy: 0.9704 - val_loss: 0.1003\n",
      "Epoch 3/100\n",
      "600/600 - 6s - 9ms/step - accuracy: 0.9761 - loss: 0.0796 - val_accuracy: 0.9737 - val_loss: 0.0870\n",
      "Epoch 4/100\n",
      "600/600 - 5s - 9ms/step - accuracy: 0.9818 - loss: 0.0590 - val_accuracy: 0.9743 - val_loss: 0.0783\n",
      "Epoch 5/100\n",
      "600/600 - 5s - 9ms/step - accuracy: 0.9859 - loss: 0.0462 - val_accuracy: 0.9779 - val_loss: 0.0764\n",
      "Epoch 6/100\n",
      "600/600 - 5s - 9ms/step - accuracy: 0.9883 - loss: 0.0363 - val_accuracy: 0.9761 - val_loss: 0.0771\n",
      "Epoch 7/100\n",
      "600/600 - 5s - 9ms/step - accuracy: 0.9901 - loss: 0.0311 - val_accuracy: 0.9787 - val_loss: 0.0746\n",
      "Epoch 8/100\n",
      "600/600 - 5s - 9ms/step - accuracy: 0.9926 - loss: 0.0238 - val_accuracy: 0.9792 - val_loss: 0.0750\n",
      "Epoch 9/100\n",
      "600/600 - 5s - 9ms/step - accuracy: 0.9937 - loss: 0.0190 - val_accuracy: 0.9772 - val_loss: 0.0895\n",
      "Epoch 10/100\n",
      "600/600 - 5s - 9ms/step - accuracy: 0.9947 - loss: 0.0164 - val_accuracy: 0.9781 - val_loss: 0.0812\n"
     ]
    }
   ],
   "source": [
    "from keras.callbacks import EarlyStopping\n",
    "\n",
    "cb = EarlyStopping(monitor=\"val_loss\", patience=3, restore_best_weights=True)\n",
    "\n",
    "model = Sequential([\n",
    "    InputLayer(input_shape=x_train.shape[1:]),\n",
    "    Dense(units=128, activation=\"relu\"),\n",
    "    Dense(units=128, activation=\"relu\"),\n",
    "    Dense(units=y_train.shape[1], activation=\"softmax\")\n",
    "])\n",
    "model.compile(loss=\"categorical_crossentropy\", optimizer=\"adam\", metrics=[\"accuracy\"])\n",
    "h = model.fit(x_train, y_train, epochs=100, batch_size=100, verbose=2, validation_data=(x_test, y_test), callbacks=[cb])"
   ]
  },
  {
   "cell_type": "code",
   "execution_count": 32,
   "metadata": {},
   "outputs": [
    {
     "name": "stdout",
     "output_type": "stream",
     "text": [
      "\u001b[1m313/313\u001b[0m \u001b[32m━━━━━━━━━━━━━━━━━━━━\u001b[0m\u001b[37m\u001b[0m \u001b[1m1s\u001b[0m 4ms/step - accuracy: 0.9756 - loss: 0.0866\n"
     ]
    },
    {
     "data": {
      "text/plain": [
       "[0.07455960661172867, 0.9786999821662903]"
      ]
     },
     "execution_count": 32,
     "metadata": {},
     "output_type": "execute_result"
    }
   ],
   "source": [
    "model.evaluate(x_test, y_test)"
   ]
  }
 ],
 "metadata": {
  "colab": {
   "collapsed_sections": [],
   "name": "MLP.ipynb",
   "provenance": []
  },
  "deepnote": {},
  "deepnote_execution_queue": [],
  "deepnote_notebook_id": "35aa3537-3e05-40fa-86f0-1f7ded16df52",
  "kernelspec": {
   "display_name": "py3.10_ml",
   "language": "python",
   "name": "python3"
  },
  "language_info": {
   "codemirror_mode": {
    "name": "ipython",
    "version": 3
   },
   "file_extension": ".py",
   "mimetype": "text/x-python",
   "name": "python",
   "nbconvert_exporter": "python",
   "pygments_lexer": "ipython3",
   "version": "3.10.13"
  }
 },
 "nbformat": 4,
 "nbformat_minor": 0
}
