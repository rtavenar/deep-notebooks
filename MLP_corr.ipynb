{
 "cells": [
  {
   "cell_type": "markdown",
   "metadata": {
    "cell_id": "00000-4e5bf590-09bc-42f5-a318-08994a30bfd4",
    "deepnote_cell_type": "markdown",
    "id": "NjCKi8REqlN6"
   },
   "source": [
    "# Multi-Layer Perceptron in `keras`\n",
    "\n",
    "In this series of lab sessions, you will use a Python library called `keras` (that is in fact embedded inside a larger library called `tensorflow`, but we will not discuss `tensorflow` in this course).\n",
    "You should visit [`keras` webpage](https://www.tensorflow.org/guide/keras/overview) to get access to more information about this library, including a comprehensive documentation.\n",
    "\n",
    "## The `Sequential` model in `keras`\n",
    "\n",
    "This library offers two ways to define neural network models. \n",
    "We will start with the `Sequential` class of `keras` models.\n",
    "Below is an example of how to define a `Sequential` model:"
   ]
  },
  {
   "cell_type": "code",
   "execution_count": 1,
   "metadata": {
    "cell_id": "00001-e7a9d101-f83a-49f2-ae43-deb55009fadf",
    "deepnote_cell_type": "code",
    "deepnote_to_be_reexecuted": false,
    "execution_millis": 1216,
    "execution_start": 1613342071585,
    "id": "PRKkYealqiiG",
    "output_cleared": false,
    "source_hash": "b851176a"
   },
   "outputs": [
    {
     "name": "stdout",
     "output_type": "stream",
     "text": [
      "Using TensorFlow backend\n"
     ]
    }
   ],
   "source": [
    "import keras_core as keras\n",
    "from keras.models import Sequential\n",
    "from keras.layers import Dense, InputLayer"
   ]
  },
  {
   "cell_type": "markdown",
   "metadata": {
    "cell_id": "00002-fddb7023-3fe5-422a-ab01-7974d23883a6",
    "deepnote_cell_type": "markdown",
    "id": "1UdkphfnspbR"
   },
   "source": [
    "**1. Define layers, and add them one by one to the model**\n"
   ]
  },
  {
   "cell_type": "code",
   "execution_count": 2,
   "metadata": {
    "cell_id": "00003-3e192e55-740f-4e3e-9969-016701af86a1",
    "deepnote_cell_type": "code",
    "deepnote_to_be_reexecuted": false,
    "execution_millis": 57,
    "execution_start": 1613342072806,
    "id": "JD54PuqWsp4Y",
    "source_hash": "e4cce2c1"
   },
   "outputs": [
    {
     "name": "stderr",
     "output_type": "stream",
     "text": [
      "2023-07-18 15:04:52.751766: I metal_plugin/src/device/metal_device.cc:1154] Metal device set to: Apple M2 Max\n",
      "2023-07-18 15:04:52.751785: I metal_plugin/src/device/metal_device.cc:296] systemMemory: 32.00 GB\n",
      "2023-07-18 15:04:52.751789: I metal_plugin/src/device/metal_device.cc:313] maxCacheSize: 10.67 GB\n",
      "2023-07-18 15:04:52.751822: I tensorflow/core/common_runtime/pluggable_device/pluggable_device_factory.cc:303] Could not identify NUMA node of platform GPU ID 0, defaulting to 0. Your kernel may not have been built with NUMA support.\n",
      "2023-07-18 15:04:52.751837: I tensorflow/core/common_runtime/pluggable_device/pluggable_device_factory.cc:269] Created TensorFlow device (/job:localhost/replica:0/task:0/device:GPU:0 with 0 MB memory) -> physical PluggableDevice (device: 0, name: METAL, pci bus id: <undefined>)\n"
     ]
    }
   ],
   "source": [
    "input_layer = InputLayer(input_shape=(24,))\n",
    "hidden_layer1 = Dense(units=12, activation=\"relu\")\n",
    "hidden_layer2 = Dense(units=12, activation=\"sigmoid\")\n",
    "#[...]\n",
    "output_layer = Dense(units=3, activation=\"linear\")\n",
    "\n",
    "model = Sequential([\n",
    "    input_layer,\n",
    "    hidden_layer1,\n",
    "    hidden_layer2,\n",
    "    # ...\n",
    "    output_layer\n",
    "])"
   ]
  },
  {
   "cell_type": "markdown",
   "metadata": {
    "cell_id": "00004-607dbfcd-c789-4071-98bf-f51e230e647f",
    "deepnote_cell_type": "markdown",
    "id": "FTQLjyUoszDq"
   },
   "source": [
    "**2. Pick an optimization algorithm (optimizer) and a loss function to be optimized**\n",
    "\n",
    "Usual loss functions are:\n",
    "* `\"mse\"` for regression,\n",
    "* `\"categorical_crossentropy\"` for multiclass classification (when the `y` array fed to `fit` is of shape $(n, n_\\text{classes})$)\n",
    "* `\"binary_crossentropy\"` for binary classification (when the model is fed with `y` array of shape $(n, 1)$)\n",
    "\n",
    "One can also specify additional metrics to be printed during training (correct classification rate here)."
   ]
  },
  {
   "cell_type": "code",
   "execution_count": 3,
   "metadata": {
    "cell_id": "00005-29ab32a8-52eb-40c1-9c63-1e8b8943cbdd",
    "deepnote_cell_type": "code",
    "deepnote_to_be_reexecuted": false,
    "execution_millis": 9,
    "execution_start": 1613342072870,
    "id": "A_21M9Jqs3eJ",
    "source_hash": "63a93405"
   },
   "outputs": [],
   "source": [
    "model.compile(optimizer=\"adam\", loss=\"categorical_crossentropy\", metrics=[\"accuracy\"])"
   ]
  },
  {
   "cell_type": "markdown",
   "metadata": {
    "cell_id": "00006-1084a597-d5d5-4e2e-96ba-bf42d51d64c7",
    "deepnote_cell_type": "markdown",
    "id": "ykI4bexvs5x-"
   },
   "source": [
    "**3. Fit the model**\n",
    "\n",
    "NB: do not try to execute the following line of code: variables `X_train` and `y_train` do not exist yet!"
   ]
  },
  {
   "cell_type": "code",
   "execution_count": 4,
   "metadata": {
    "cell_id": "00007-8516017c-c628-4ef3-ac0f-d80ca5f74a93",
    "deepnote_cell_type": "code",
    "deepnote_to_be_reexecuted": false,
    "execution_millis": 2,
    "execution_start": 1613342072879,
    "id": "rt89yAdWs688",
    "source_hash": "fd94a07d"
   },
   "outputs": [],
   "source": [
    "#model.fit(X_train, y_train, verbose=2, epochs=10, batch_size=200)"
   ]
  },
  {
   "cell_type": "markdown",
   "metadata": {
    "cell_id": "00008-79f8d9f3-2a42-42bb-8bcc-fc2f1f47eecd",
    "deepnote_cell_type": "markdown",
    "id": "nHhJosslvDRY"
   },
   "source": [
    "## Data pre-processing\n",
    "\n",
    "Have a look at the `prepare_mnist` and `prepare_boston` functions defined below.\n",
    "\n",
    "**Question #1.** What do these functions do? What are the shapes of returned arrays? Does the returned data correpond to classification or regression problems?"
   ]
  },
  {
   "cell_type": "code",
   "execution_count": 5,
   "metadata": {
    "cell_id": "00009-c7c58fdf-b6f1-4f92-b82b-8ade1f4f44ca",
    "deepnote_cell_type": "code",
    "deepnote_to_be_reexecuted": false,
    "execution_millis": 1636,
    "execution_start": 1613342072885,
    "id": "7l-s71YRwTRA",
    "output_cleared": false,
    "source_hash": "1615ed07"
   },
   "outputs": [],
   "source": [
    "from sklearn.preprocessing import MinMaxScaler\n",
    "from keras.datasets import mnist, boston_housing\n",
    "from keras.utils import to_categorical\n",
    "\n",
    "def prepare_mnist():\n",
    "    (x_train, y_train), (x_test, y_test) = mnist.load_data()\n",
    "    x_train = x_train.reshape((x_train.shape[0], -1))\n",
    "    x_test = x_test.reshape((x_test.shape[0], -1))\n",
    "    scaler = MinMaxScaler()\n",
    "    scaler.fit(x_train)\n",
    "    x_train = scaler.transform(x_train)\n",
    "    x_test = scaler.transform(x_test)\n",
    "    y_train = to_categorical(y_train)\n",
    "    y_test = to_categorical(y_test)\n",
    "    return x_train, x_test, y_train, y_test\n",
    "\n",
    "\n",
    "def prepare_boston():\n",
    "    (x_train, y_train), (x_test, y_test) = boston_housing.load_data()\n",
    "    scaler_x = MinMaxScaler()\n",
    "    scaler_x.fit(x_train)\n",
    "    x_train = scaler_x.transform(x_train)\n",
    "    x_test = scaler_x.transform(x_test)\n",
    "    scaler_y = MinMaxScaler()\n",
    "    scaler_y.fit(y_train.reshape((-1, 1)))\n",
    "    y_train = scaler_y.transform(y_train.reshape((-1, 1)))\n",
    "    y_test = scaler_y.transform(y_test.reshape((-1, 1)))\n",
    "    return x_train, x_test, y_train, y_test\n",
    "  \n",
    "x_train, x_test, y_train, y_test = prepare_mnist()"
   ]
  },
  {
   "cell_type": "code",
   "execution_count": 6,
   "metadata": {},
   "outputs": [
    {
     "data": {
      "text/plain": [
       "array([[0., 0., 0., 0., 0., 1., 0., 0., 0., 0.],\n",
       "       [1., 0., 0., 0., 0., 0., 0., 0., 0., 0.],\n",
       "       [0., 0., 0., 0., 1., 0., 0., 0., 0., 0.],\n",
       "       [0., 1., 0., 0., 0., 0., 0., 0., 0., 0.],\n",
       "       [0., 0., 0., 0., 0., 0., 0., 0., 0., 1.],\n",
       "       [0., 0., 1., 0., 0., 0., 0., 0., 0., 0.],\n",
       "       [0., 1., 0., 0., 0., 0., 0., 0., 0., 0.],\n",
       "       [0., 0., 0., 1., 0., 0., 0., 0., 0., 0.],\n",
       "       [0., 1., 0., 0., 0., 0., 0., 0., 0., 0.],\n",
       "       [0., 0., 0., 0., 1., 0., 0., 0., 0., 0.]], dtype=float32)"
      ]
     },
     "execution_count": 6,
     "metadata": {},
     "output_type": "execute_result"
    }
   ],
   "source": [
    "y_train[:10]"
   ]
  },
  {
   "cell_type": "code",
   "execution_count": 7,
   "metadata": {
    "cell_id": "00010-3c1481af-a4d7-424b-a59e-3a2745234530",
    "deepnote_cell_type": "code",
    "deepnote_to_be_reexecuted": false,
    "execution_millis": 64,
    "execution_start": 1613342074525,
    "id": "CGlUHH6KFpj3",
    "output_cleared": false,
    "source_hash": "7facd6d8"
   },
   "outputs": [],
   "source": [
    "x_train, x_test, y_train, y_test = prepare_boston()"
   ]
  },
  {
   "cell_type": "code",
   "execution_count": 8,
   "metadata": {},
   "outputs": [
    {
     "name": "stdout",
     "output_type": "stream",
     "text": [
      "(404, 13) (404, 1)\n",
      "[[0.22666667]\n",
      " [0.82888889]\n",
      " [1.        ]\n",
      " [0.35777778]\n",
      " [0.28222222]\n",
      " [0.3       ]\n",
      " [0.14      ]\n",
      " [0.23555556]\n",
      " [0.23555556]\n",
      " [0.20888889]]\n"
     ]
    }
   ],
   "source": [
    "print(x_train.shape, y_train.shape)\n",
    "print(y_train[:10])"
   ]
  },
  {
   "cell_type": "markdown",
   "metadata": {
    "cell_id": "00011-1ecdf9c5-01c3-4a0d-a9c6-cfd28e6be23d",
    "deepnote_cell_type": "markdown",
    "id": "VRA_Ec2-yIGA"
   },
   "source": [
    "## Building your first models\n",
    "\n",
    "In the following, when fitting models, restrict the training to 10 epochs (which is not realistic, but training for more epochs takes time...)\n",
    "\n",
    "**Question #2.** Following the guidelines provided above, implement a linear regression model for the `boston` dataset that would optimize on a least squares objective using Stochastic Gradient Descent and fit your model to the corresponding training data."
   ]
  },
  {
   "cell_type": "code",
   "execution_count": 9,
   "metadata": {
    "cell_id": "00013-2e740cd6-9a8b-4a74-b85f-c7a66127d510",
    "deepnote_cell_type": "code",
    "deepnote_to_be_reexecuted": false,
    "execution_millis": 1,
    "execution_start": 1613342074582,
    "output_cleared": true,
    "source_hash": "b623e53d",
    "tags": []
   },
   "outputs": [
    {
     "name": "stdout",
     "output_type": "stream",
     "text": [
      "Epoch 1/10\n",
      "5/5 - 0s - loss: 0.1185 - 198ms/epoch - 40ms/step\n",
      "Epoch 2/10\n",
      "5/5 - 0s - loss: 0.0845 - 15ms/epoch - 3ms/step\n",
      "Epoch 3/10\n",
      "5/5 - 0s - loss: 0.0691 - 22ms/epoch - 4ms/step\n",
      "Epoch 4/10\n",
      "5/5 - 0s - loss: 0.0626 - 16ms/epoch - 3ms/step\n",
      "Epoch 5/10\n"
     ]
    },
    {
     "name": "stderr",
     "output_type": "stream",
     "text": [
      "2023-07-18 15:04:53.581667: I tensorflow/core/grappler/optimizers/custom_graph_optimizer_registry.cc:114] Plugin optimizer for device_type GPU is enabled.\n"
     ]
    },
    {
     "name": "stdout",
     "output_type": "stream",
     "text": [
      "5/5 - 0s - loss: 0.0568 - 24ms/epoch - 5ms/step\n",
      "Epoch 6/10\n",
      "5/5 - 0s - loss: 0.0553 - 18ms/epoch - 4ms/step\n",
      "Epoch 7/10\n",
      "5/5 - 0s - loss: 0.0540 - 18ms/epoch - 4ms/step\n",
      "Epoch 8/10\n",
      "5/5 - 0s - loss: 0.0529 - 16ms/epoch - 3ms/step\n",
      "Epoch 9/10\n",
      "5/5 - 0s - loss: 0.0517 - 18ms/epoch - 4ms/step\n",
      "Epoch 10/10\n",
      "5/5 - 0s - loss: 0.0515 - 27ms/epoch - 5ms/step\n"
     ]
    },
    {
     "data": {
      "text/plain": [
       "<keras.src.callbacks.History at 0x2dc439e40>"
      ]
     },
     "execution_count": 9,
     "metadata": {},
     "output_type": "execute_result"
    }
   ],
   "source": [
    "input_layer = InputLayer(input_shape=(13,))\n",
    "output_layer = Dense(units=1, activation=\"linear\")\n",
    "\n",
    "model = Sequential([\n",
    "    input_layer,\n",
    "    output_layer\n",
    "])\n",
    "model.compile(loss=\"mse\", optimizer=\"sgd\")\n",
    "model.fit(x_train, y_train, epochs=10, batch_size=100, verbose=2)"
   ]
  },
  {
   "cell_type": "markdown",
   "metadata": {
    "cell_id": "00015-c40decce-b6c2-4f3e-af55-6dc6b2eb29cd",
    "deepnote_cell_type": "markdown",
    "id": "Gqt1yH9Gzfuh"
   },
   "source": [
    "**Question #3.** Similarly, define a logistic regression model for the `mnist` dataset and print its training accuracy during training."
   ]
  },
  {
   "cell_type": "code",
   "execution_count": 10,
   "metadata": {
    "cell_id": "00014-fa195760-a859-4672-bd64-7911ece3c703",
    "deepnote_cell_type": "code",
    "tags": []
   },
   "outputs": [
    {
     "name": "stdout",
     "output_type": "stream",
     "text": [
      "Epoch 1/10\n"
     ]
    },
    {
     "name": "stderr",
     "output_type": "stream",
     "text": [
      "2023-07-18 15:04:54.439331: I tensorflow/core/grappler/optimizers/custom_graph_optimizer_registry.cc:114] Plugin optimizer for device_type GPU is enabled.\n"
     ]
    },
    {
     "name": "stdout",
     "output_type": "stream",
     "text": [
      "600/600 - 4s - loss: 0.6327 - accuracy: 0.8415 - 4s/epoch - 6ms/step\n",
      "Epoch 2/10\n",
      "600/600 - 4s - loss: 0.3484 - accuracy: 0.9045 - 4s/epoch - 6ms/step\n",
      "Epoch 3/10\n",
      "600/600 - 4s - loss: 0.3107 - accuracy: 0.9143 - 4s/epoch - 6ms/step\n",
      "Epoch 4/10\n",
      "600/600 - 4s - loss: 0.2932 - accuracy: 0.9182 - 4s/epoch - 6ms/step\n",
      "Epoch 5/10\n",
      "600/600 - 4s - loss: 0.2828 - accuracy: 0.9213 - 4s/epoch - 6ms/step\n",
      "Epoch 6/10\n",
      "600/600 - 4s - loss: 0.2756 - accuracy: 0.9228 - 4s/epoch - 6ms/step\n",
      "Epoch 7/10\n",
      "600/600 - 4s - loss: 0.2695 - accuracy: 0.9249 - 4s/epoch - 6ms/step\n",
      "Epoch 8/10\n",
      "600/600 - 4s - loss: 0.2659 - accuracy: 0.9257 - 4s/epoch - 6ms/step\n",
      "Epoch 9/10\n",
      "600/600 - 4s - loss: 0.2621 - accuracy: 0.9273 - 4s/epoch - 6ms/step\n",
      "Epoch 10/10\n",
      "600/600 - 4s - loss: 0.2596 - accuracy: 0.9280 - 4s/epoch - 6ms/step\n"
     ]
    },
    {
     "data": {
      "text/plain": [
       "<keras.src.callbacks.History at 0x2ff8ec4c0>"
      ]
     },
     "execution_count": 10,
     "metadata": {},
     "output_type": "execute_result"
    }
   ],
   "source": [
    "import tensorflow as tf\n",
    "\n",
    "x_train, x_test, y_train, y_test = prepare_mnist()\n",
    "\n",
    "input_layer = InputLayer(input_shape=x_train.shape[1:])\n",
    "output_layer = Dense(units=y_train.shape[1], activation=\"softmax\")\n",
    "\n",
    "model = Sequential([\n",
    "    input_layer,\n",
    "    output_layer\n",
    "])\n",
    "model.compile(loss=\"categorical_crossentropy\", optimizer=\"adam\", metrics=[\"accuracy\"])\n",
    "model.fit(x_train, y_train, epochs=10, batch_size=100, verbose=2)"
   ]
  },
  {
   "cell_type": "markdown",
   "metadata": {
    "cell_id": "00018-cfad4bc9-a1de-43a4-bb43-d74840d9869d",
    "deepnote_cell_type": "markdown",
    "id": "6SGA-CdS0vwW"
   },
   "source": [
    "**Question #4.** Compare performance (in terms of training accuracy, we will come back to better ways to compare models afterwards) of this logistic regression model with that of a neural network with respectively 1, 2, and 3 hidden layers of 128 neurons each.\n",
    "You will use the `\"relu\"` activation function for hidden layers."
   ]
  },
  {
   "cell_type": "code",
   "execution_count": 11,
   "metadata": {
    "cell_id": "00016-667b31d2-ee2e-4a34-9a88-33c19a38522a",
    "deepnote_cell_type": "code",
    "deepnote_to_be_reexecuted": true,
    "source_hash": "b623e53d",
    "tags": []
   },
   "outputs": [
    {
     "name": "stdout",
     "output_type": "stream",
     "text": [
      "Epoch 1/10\n"
     ]
    },
    {
     "name": "stderr",
     "output_type": "stream",
     "text": [
      "2023-07-18 15:05:31.437644: I tensorflow/core/grappler/optimizers/custom_graph_optimizer_registry.cc:114] Plugin optimizer for device_type GPU is enabled.\n"
     ]
    },
    {
     "name": "stdout",
     "output_type": "stream",
     "text": [
      "600/600 - 4s - loss: 0.3999 - accuracy: 0.8867 - 4s/epoch - 7ms/step\n",
      "Epoch 2/10\n",
      "600/600 - 4s - loss: 0.2925 - accuracy: 0.9185 - 4s/epoch - 6ms/step\n",
      "Epoch 3/10\n",
      "600/600 - 4s - loss: 0.2873 - accuracy: 0.9197 - 4s/epoch - 6ms/step\n",
      "Epoch 4/10\n",
      "600/600 - 4s - loss: 0.2870 - accuracy: 0.9207 - 4s/epoch - 6ms/step\n",
      "Epoch 5/10\n",
      "600/600 - 4s - loss: 0.2850 - accuracy: 0.9218 - 4s/epoch - 6ms/step\n",
      "Epoch 6/10\n",
      "600/600 - 4s - loss: 0.2856 - accuracy: 0.9208 - 4s/epoch - 6ms/step\n",
      "Epoch 7/10\n",
      "600/600 - 4s - loss: 0.2900 - accuracy: 0.9201 - 4s/epoch - 6ms/step\n",
      "Epoch 8/10\n",
      "600/600 - 4s - loss: 0.2907 - accuracy: 0.9197 - 4s/epoch - 6ms/step\n",
      "Epoch 9/10\n",
      "600/600 - 4s - loss: 0.2949 - accuracy: 0.9194 - 4s/epoch - 6ms/step\n",
      "Epoch 10/10\n",
      "600/600 - 4s - loss: 0.2946 - accuracy: 0.9192 - 4s/epoch - 6ms/step\n"
     ]
    },
    {
     "data": {
      "text/plain": [
       "<keras.src.callbacks.History at 0x333105d50>"
      ]
     },
     "execution_count": 11,
     "metadata": {},
     "output_type": "execute_result"
    }
   ],
   "source": [
    "model = Sequential([\n",
    "    InputLayer(input_shape=x_train.shape[1:]),\n",
    "    Dense(units=128, activation=\"relu\"),\n",
    "    Dense(units=y_train.shape[1], activation=\"softmax\")\n",
    "])\n",
    "model.compile(loss=\"categorical_crossentropy\", optimizer=\"adam\", metrics=[\"accuracy\"])\n",
    "model.fit(x_train, y_train, epochs=10, batch_size=100, verbose=2)"
   ]
  },
  {
   "cell_type": "code",
   "execution_count": 12,
   "metadata": {},
   "outputs": [
    {
     "name": "stdout",
     "output_type": "stream",
     "text": [
      "Epoch 1/10\n"
     ]
    },
    {
     "name": "stderr",
     "output_type": "stream",
     "text": [
      "2023-07-18 15:06:09.346241: I tensorflow/core/grappler/optimizers/custom_graph_optimizer_registry.cc:114] Plugin optimizer for device_type GPU is enabled.\n"
     ]
    },
    {
     "name": "stdout",
     "output_type": "stream",
     "text": [
      "600/600 - 4s - loss: 0.4101 - accuracy: 0.8843 - 4s/epoch - 7ms/step\n",
      "Epoch 2/10\n",
      "600/600 - 4s - loss: 0.7182 - accuracy: 0.8594 - 4s/epoch - 7ms/step\n",
      "Epoch 3/10\n",
      "600/600 - 4s - loss: 1.7705 - accuracy: 0.8257 - 4s/epoch - 7ms/step\n",
      "Epoch 4/10\n",
      "600/600 - 4s - loss: 3.3533 - accuracy: 0.8096 - 4s/epoch - 7ms/step\n",
      "Epoch 5/10\n",
      "600/600 - 4s - loss: 4.5909 - accuracy: 0.8097 - 4s/epoch - 7ms/step\n",
      "Epoch 6/10\n",
      "600/600 - 4s - loss: 5.1832 - accuracy: 0.8193 - 4s/epoch - 6ms/step\n",
      "Epoch 7/10\n",
      "600/600 - 4s - loss: 7.4762 - accuracy: 0.8089 - 4s/epoch - 6ms/step\n",
      "Epoch 8/10\n",
      "600/600 - 4s - loss: 8.9257 - accuracy: 0.8101 - 4s/epoch - 6ms/step\n",
      "Epoch 9/10\n",
      "600/600 - 4s - loss: 10.8633 - accuracy: 0.8069 - 4s/epoch - 6ms/step\n",
      "Epoch 10/10\n",
      "600/600 - 4s - loss: 12.5151 - accuracy: 0.8060 - 4s/epoch - 6ms/step\n"
     ]
    },
    {
     "data": {
      "text/plain": [
       "<keras.src.callbacks.History at 0x357360070>"
      ]
     },
     "execution_count": 12,
     "metadata": {},
     "output_type": "execute_result"
    }
   ],
   "source": [
    "model = Sequential([\n",
    "    InputLayer(input_shape=x_train.shape[1:]),\n",
    "    Dense(units=128, activation=\"relu\"),\n",
    "    Dense(units=128, activation=\"relu\"),\n",
    "    Dense(units=y_train.shape[1], activation=\"softmax\")\n",
    "])\n",
    "model.compile(loss=\"categorical_crossentropy\", optimizer=\"adam\", metrics=[\"accuracy\"])\n",
    "model.fit(x_train, y_train, epochs=10, batch_size=100, verbose=2)"
   ]
  },
  {
   "cell_type": "code",
   "execution_count": 13,
   "metadata": {},
   "outputs": [
    {
     "name": "stdout",
     "output_type": "stream",
     "text": [
      "Epoch 1/10\n"
     ]
    },
    {
     "name": "stderr",
     "output_type": "stream",
     "text": [
      "2023-07-18 15:06:47.956243: I tensorflow/core/grappler/optimizers/custom_graph_optimizer_registry.cc:114] Plugin optimizer for device_type GPU is enabled.\n"
     ]
    },
    {
     "name": "stdout",
     "output_type": "stream",
     "text": [
      "600/600 - 4s - loss: 3.2867 - accuracy: 0.7675 - 4s/epoch - 7ms/step\n",
      "Epoch 2/10\n",
      "600/600 - 4s - loss: 61.4468 - accuracy: 0.5022 - 4s/epoch - 7ms/step\n",
      "Epoch 3/10\n",
      "600/600 - 4s - loss: 240.2776 - accuracy: 0.4256 - 4s/epoch - 6ms/step\n",
      "Epoch 4/10\n",
      "600/600 - 4s - loss: 470.2189 - accuracy: 0.4033 - 4s/epoch - 7ms/step\n",
      "Epoch 5/10\n",
      "600/600 - 4s - loss: 861.1790 - accuracy: 0.3809 - 4s/epoch - 6ms/step\n",
      "Epoch 6/10\n",
      "600/600 - 4s - loss: 1317.3137 - accuracy: 0.3826 - 4s/epoch - 6ms/step\n",
      "Epoch 7/10\n",
      "600/600 - 4s - loss: 1902.0969 - accuracy: 0.3650 - 4s/epoch - 6ms/step\n",
      "Epoch 8/10\n",
      "600/600 - 4s - loss: 2200.2087 - accuracy: 0.3810 - 4s/epoch - 7ms/step\n",
      "Epoch 9/10\n",
      "600/600 - 4s - loss: 3314.5220 - accuracy: 0.3549 - 4s/epoch - 6ms/step\n",
      "Epoch 10/10\n",
      "600/600 - 7s - loss: 3921.3835 - accuracy: 0.3596 - 7s/epoch - 11ms/step\n"
     ]
    },
    {
     "data": {
      "text/plain": [
       "<keras.src.callbacks.History at 0x37bea5ff0>"
      ]
     },
     "execution_count": 13,
     "metadata": {},
     "output_type": "execute_result"
    }
   ],
   "source": [
    "model = Sequential([\n",
    "    InputLayer(input_shape=x_train.shape[1:]),\n",
    "    Dense(units=128, activation=\"relu\"),\n",
    "    Dense(units=128, activation=\"relu\"),\n",
    "    Dense(units=128, activation=\"relu\"),\n",
    "    Dense(units=y_train.shape[1], activation=\"softmax\")\n",
    "])\n",
    "model.compile(loss=\"categorical_crossentropy\", optimizer=\"adam\", metrics=[\"accuracy\"])\n",
    "model.fit(x_train, y_train, epochs=10, batch_size=100, verbose=2)"
   ]
  },
  {
   "cell_type": "code",
   "execution_count": 14,
   "metadata": {},
   "outputs": [
    {
     "name": "stdout",
     "output_type": "stream",
     "text": [
      "Model: \"sequential_5\"\n",
      "_________________________________________________________________\n",
      " Layer (type)                Output Shape              Param #   \n",
      "=================================================================\n",
      " dense_10 (Dense)            (None, 128)               100480    \n",
      "                                                                 \n",
      " dense_11 (Dense)            (None, 128)               16512     \n",
      "                                                                 \n",
      " dense_12 (Dense)            (None, 128)               16512     \n",
      "                                                                 \n",
      " dense_13 (Dense)            (None, 10)                1290      \n",
      "                                                                 \n",
      "=================================================================\n",
      "Total params: 134794 (526.54 KB)\n",
      "Trainable params: 134794 (526.54 KB)\n",
      "Non-trainable params: 0 (0.00 Byte)\n",
      "_________________________________________________________________\n"
     ]
    }
   ],
   "source": [
    "model.summary()"
   ]
  },
  {
   "cell_type": "markdown",
   "metadata": {
    "cell_id": "00020-a024cc10-c7b4-4021-89d9-0ed7447b2b9e",
    "deepnote_cell_type": "markdown",
    "id": "tC9EB0vs363m"
   },
   "source": [
    "**Question #5.** `keras` models offer a `count_params()` method to get the number of parameters to be learned in the model. Use this facility to get the number of parameters of your 3-hidden-layer model and build a new one-hidden-layer model with an equivalent number of parameters. Compare performance of these two models with similar number of parameters."
   ]
  },
  {
   "cell_type": "code",
   "execution_count": 15,
   "metadata": {
    "cell_id": "00018-d3f7b59d-095f-43d8-903e-2b92eb43619f",
    "deepnote_cell_type": "code",
    "deepnote_to_be_reexecuted": true,
    "source_hash": "b623e53d",
    "tags": []
   },
   "outputs": [
    {
     "name": "stdout",
     "output_type": "stream",
     "text": [
      "134365\n",
      "Epoch 1/10\n"
     ]
    },
    {
     "name": "stderr",
     "output_type": "stream",
     "text": [
      "2023-07-18 15:07:32.972700: I tensorflow/core/grappler/optimizers/custom_graph_optimizer_registry.cc:114] Plugin optimizer for device_type GPU is enabled.\n"
     ]
    },
    {
     "name": "stdout",
     "output_type": "stream",
     "text": [
      "600/600 - 20s - loss: 0.3844 - accuracy: 0.8917 - 20s/epoch - 33ms/step\n",
      "Epoch 2/10\n",
      "600/600 - 15s - loss: 0.2969 - accuracy: 0.9171 - 15s/epoch - 24ms/step\n",
      "Epoch 3/10\n",
      "600/600 - 16s - loss: 0.2886 - accuracy: 0.9197 - 16s/epoch - 26ms/step\n",
      "Epoch 4/10\n",
      "600/600 - 12s - loss: 0.2909 - accuracy: 0.9196 - 12s/epoch - 20ms/step\n",
      "Epoch 5/10\n",
      "600/600 - 14s - loss: 0.2893 - accuracy: 0.9202 - 14s/epoch - 24ms/step\n",
      "Epoch 6/10\n",
      "600/600 - 14s - loss: 0.2959 - accuracy: 0.9182 - 14s/epoch - 23ms/step\n",
      "Epoch 7/10\n",
      "600/600 - 12s - loss: 0.2974 - accuracy: 0.9181 - 12s/epoch - 20ms/step\n",
      "Epoch 8/10\n",
      "600/600 - 14s - loss: 0.2997 - accuracy: 0.9186 - 14s/epoch - 24ms/step\n",
      "Epoch 9/10\n",
      "600/600 - 11s - loss: 0.3065 - accuracy: 0.9175 - 11s/epoch - 18ms/step\n",
      "Epoch 10/10\n",
      "600/600 - 9s - loss: 0.3106 - accuracy: 0.9160 - 9s/epoch - 15ms/step\n"
     ]
    },
    {
     "data": {
      "text/plain": [
       "<keras.src.callbacks.History at 0x2dde4cfd0>"
      ]
     },
     "execution_count": 15,
     "metadata": {},
     "output_type": "execute_result"
    }
   ],
   "source": [
    "units = 134794 / 794\n",
    "\n",
    "model = Sequential([\n",
    "    InputLayer(input_shape=x_train.shape[1:]),\n",
    "    Dense(units=units, activation=\"relu\"),\n",
    "    Dense(units=y_train.shape[1], activation=\"softmax\")\n",
    "])\n",
    "print(model.count_params())\n",
    "model.compile(loss=\"categorical_crossentropy\", optimizer=\"adam\", metrics=[\"accuracy\"])\n",
    "model.fit(x_train, y_train, epochs=10, batch_size=100, verbose=2)"
   ]
  },
  {
   "cell_type": "markdown",
   "metadata": {
    "cell_id": "00024-1bdd65e7-515d-4064-882a-54c651abfd3d",
    "deepnote_cell_type": "markdown",
    "id": "iXxTGmUw5ppd"
   },
   "source": [
    "## A better way to compare models\n",
    "\n",
    "Comparing models based on training accuracy (resp. loss) is a \"great\" way to overfit your model to the training data.\n",
    "A better way to compare models is to use hold out data (aka validation set).\n",
    "\n",
    "To do so, `keras` allows to pass, at `fit` time, a fraction of the training data to be used as validation set. Have a look [there](https://www.tensorflow.org/guide/keras/train_and_evaluate#automatically_setting_apart_a_validation_holdout_set) for more details about how validation samples are selected.\n",
    "\n",
    "**Question #6.** Repeat model comparisons above (relying on validation scores) using 30% of training data as validation set."
   ]
  },
  {
   "cell_type": "code",
   "execution_count": 16,
   "metadata": {},
   "outputs": [
    {
     "name": "stdout",
     "output_type": "stream",
     "text": [
      "Epoch 1/10\n"
     ]
    },
    {
     "name": "stderr",
     "output_type": "stream",
     "text": [
      "2023-07-18 15:09:49.040656: I tensorflow/core/grappler/optimizers/custom_graph_optimizer_registry.cc:114] Plugin optimizer for device_type GPU is enabled.\n",
      "2023-07-18 15:09:53.885325: I tensorflow/core/grappler/optimizers/custom_graph_optimizer_registry.cc:114] Plugin optimizer for device_type GPU is enabled.\n"
     ]
    },
    {
     "name": "stdout",
     "output_type": "stream",
     "text": [
      "420/420 - 7s - loss: 0.5627 - accuracy: 0.8530 - val_loss: 1.1184 - val_accuracy: 0.8121 - 7s/epoch - 16ms/step\n",
      "Epoch 2/10\n",
      "420/420 - 11s - loss: 12.4700 - accuracy: 0.6704 - val_loss: 26.5088 - val_accuracy: 0.6374 - 11s/epoch - 27ms/step\n",
      "Epoch 3/10\n",
      "420/420 - 7s - loss: 61.6038 - accuracy: 0.5824 - val_loss: 63.4268 - val_accuracy: 0.6259 - 7s/epoch - 17ms/step\n",
      "Epoch 4/10\n",
      "420/420 - 10s - loss: 147.6133 - accuracy: 0.5255 - val_loss: 279.4104 - val_accuracy: 0.5297 - 10s/epoch - 24ms/step\n",
      "Epoch 5/10\n",
      "420/420 - 6s - loss: 301.8796 - accuracy: 0.4909 - val_loss: 478.7811 - val_accuracy: 0.4696 - 6s/epoch - 14ms/step\n",
      "Epoch 6/10\n",
      "420/420 - 9s - loss: 470.1780 - accuracy: 0.4727 - val_loss: 469.8425 - val_accuracy: 0.4704 - 9s/epoch - 21ms/step\n",
      "Epoch 7/10\n",
      "420/420 - 11s - loss: 775.1038 - accuracy: 0.4475 - val_loss: 611.5872 - val_accuracy: 0.5075 - 11s/epoch - 25ms/step\n",
      "Epoch 8/10\n",
      "420/420 - 8s - loss: 1190.0272 - accuracy: 0.4348 - val_loss: 1314.6913 - val_accuracy: 0.4464 - 8s/epoch - 20ms/step\n",
      "Epoch 9/10\n",
      "420/420 - 16s - loss: 1340.1887 - accuracy: 0.4382 - val_loss: 859.8641 - val_accuracy: 0.5125 - 16s/epoch - 39ms/step\n",
      "Epoch 10/10\n",
      "420/420 - 10s - loss: 1661.8307 - accuracy: 0.4293 - val_loss: 2348.0039 - val_accuracy: 0.3435 - 10s/epoch - 23ms/step\n"
     ]
    },
    {
     "data": {
      "text/plain": [
       "<keras.src.callbacks.History at 0x3c5059c90>"
      ]
     },
     "execution_count": 16,
     "metadata": {},
     "output_type": "execute_result"
    }
   ],
   "source": [
    "model = Sequential([\n",
    "    InputLayer(input_shape=x_train.shape[1:]),\n",
    "    Dense(units=128, activation=\"relu\"),\n",
    "    Dense(units=128, activation=\"relu\"),\n",
    "    Dense(units=128, activation=\"relu\"),\n",
    "    Dense(units=y_train.shape[1], activation=\"softmax\")\n",
    "])\n",
    "model.compile(loss=\"categorical_crossentropy\", optimizer=\"adam\", metrics=[\"accuracy\"])\n",
    "model.fit(x_train, y_train, epochs=10, batch_size=100, verbose=2, validation_split=.3)"
   ]
  },
  {
   "cell_type": "code",
   "execution_count": 17,
   "metadata": {},
   "outputs": [
    {
     "name": "stdout",
     "output_type": "stream",
     "text": [
      "134365\n",
      "Epoch 1/10\n"
     ]
    },
    {
     "name": "stderr",
     "output_type": "stream",
     "text": [
      "2023-07-18 15:11:24.452838: I tensorflow/core/grappler/optimizers/custom_graph_optimizer_registry.cc:114] Plugin optimizer for device_type GPU is enabled.\n",
      "2023-07-18 15:11:28.802255: I tensorflow/core/grappler/optimizers/custom_graph_optimizer_registry.cc:114] Plugin optimizer for device_type GPU is enabled.\n"
     ]
    },
    {
     "name": "stdout",
     "output_type": "stream",
     "text": [
      "420/420 - 6s - loss: 0.4158 - accuracy: 0.8830 - val_loss: 0.3160 - val_accuracy: 0.9119 - 6s/epoch - 15ms/step\n",
      "Epoch 2/10\n",
      "420/420 - 8s - loss: 0.2992 - accuracy: 0.9162 - val_loss: 0.2908 - val_accuracy: 0.9213 - 8s/epoch - 20ms/step\n",
      "Epoch 3/10\n",
      "420/420 - 10s - loss: 0.2880 - accuracy: 0.9198 - val_loss: 0.2979 - val_accuracy: 0.9191 - 10s/epoch - 25ms/step\n",
      "Epoch 4/10\n",
      "420/420 - 10s - loss: 0.2836 - accuracy: 0.9210 - val_loss: 0.3029 - val_accuracy: 0.9176 - 10s/epoch - 25ms/step\n",
      "Epoch 5/10\n",
      "420/420 - 11s - loss: 0.2808 - accuracy: 0.9214 - val_loss: 0.3123 - val_accuracy: 0.9140 - 11s/epoch - 26ms/step\n",
      "Epoch 6/10\n",
      "420/420 - 9s - loss: 0.2853 - accuracy: 0.9205 - val_loss: 0.3017 - val_accuracy: 0.9202 - 9s/epoch - 21ms/step\n",
      "Epoch 7/10\n",
      "420/420 - 6s - loss: 0.2834 - accuracy: 0.9222 - val_loss: 0.3265 - val_accuracy: 0.9143 - 6s/epoch - 14ms/step\n",
      "Epoch 8/10\n",
      "420/420 - 5s - loss: 0.2868 - accuracy: 0.9195 - val_loss: 0.3221 - val_accuracy: 0.9155 - 5s/epoch - 12ms/step\n",
      "Epoch 9/10\n",
      "420/420 - 5s - loss: 0.2821 - accuracy: 0.9207 - val_loss: 0.3405 - val_accuracy: 0.9111 - 5s/epoch - 12ms/step\n",
      "Epoch 10/10\n",
      "420/420 - 5s - loss: 0.2884 - accuracy: 0.9205 - val_loss: 0.3299 - val_accuracy: 0.9128 - 5s/epoch - 12ms/step\n"
     ]
    },
    {
     "data": {
      "text/plain": [
       "<keras.src.callbacks.History at 0x3dcfc8c40>"
      ]
     },
     "execution_count": 17,
     "metadata": {},
     "output_type": "execute_result"
    }
   ],
   "source": [
    "units = 134794 / 794\n",
    "\n",
    "model = Sequential([\n",
    "    InputLayer(input_shape=x_train.shape[1:]),\n",
    "    Dense(units=units, activation=\"relu\"),\n",
    "    Dense(units=y_train.shape[1], activation=\"softmax\")\n",
    "])\n",
    "print(model.count_params())\n",
    "model.compile(loss=\"categorical_crossentropy\", optimizer=\"adam\", metrics=[\"accuracy\"])\n",
    "model.fit(x_train, y_train, epochs=10, batch_size=100, verbose=2, validation_split=.3)"
   ]
  },
  {
   "cell_type": "markdown",
   "metadata": {
    "cell_id": "00026-77f877a8-a870-4358-a389-6435fd380c88",
    "deepnote_cell_type": "markdown",
    "id": "WehjG92yDMcN"
   },
   "source": [
    "## Optimizers and learning rate\n",
    "\n",
    "**Question #7.** Change the optimizer used for your model. Use an optimizer with momentum and adaptive learning rate."
   ]
  },
  {
   "cell_type": "code",
   "execution_count": 18,
   "metadata": {
    "cell_id": "00021-8889ee1e-48b4-4783-b8e9-fb42783d8d39",
    "deepnote_cell_type": "code",
    "deepnote_to_be_reexecuted": true,
    "source_hash": "b623e53d",
    "tags": []
   },
   "outputs": [
    {
     "name": "stdout",
     "output_type": "stream",
     "text": [
      "Epoch 1/10\n"
     ]
    },
    {
     "name": "stderr",
     "output_type": "stream",
     "text": [
      "2023-07-18 15:12:40.268811: I tensorflow/core/grappler/optimizers/custom_graph_optimizer_registry.cc:114] Plugin optimizer for device_type GPU is enabled.\n",
      "2023-07-18 15:12:44.641712: I tensorflow/core/grappler/optimizers/custom_graph_optimizer_registry.cc:114] Plugin optimizer for device_type GPU is enabled.\n"
     ]
    },
    {
     "name": "stdout",
     "output_type": "stream",
     "text": [
      "420/420 - 7s - loss: 0.4388 - accuracy: 0.8739 - val_loss: 0.3295 - val_accuracy: 0.9077 - 7s/epoch - 17ms/step\n",
      "Epoch 2/10\n",
      "420/420 - 10s - loss: 0.3978 - accuracy: 0.8942 - val_loss: 0.4355 - val_accuracy: 0.8909 - 10s/epoch - 23ms/step\n",
      "Epoch 3/10\n",
      "420/420 - 6s - loss: 0.7901 - accuracy: 0.8525 - val_loss: 1.0985 - val_accuracy: 0.8367 - 6s/epoch - 15ms/step\n",
      "Epoch 4/10\n",
      "420/420 - 6s - loss: 1.5256 - accuracy: 0.8287 - val_loss: 1.8342 - val_accuracy: 0.8346 - 6s/epoch - 14ms/step\n",
      "Epoch 5/10\n",
      "420/420 - 6s - loss: 2.2124 - accuracy: 0.8213 - val_loss: 3.6359 - val_accuracy: 0.7562 - 6s/epoch - 13ms/step\n",
      "Epoch 6/10\n",
      "420/420 - 6s - loss: 3.1481 - accuracy: 0.8100 - val_loss: 3.4864 - val_accuracy: 0.8183 - 6s/epoch - 13ms/step\n",
      "Epoch 7/10\n",
      "420/420 - 6s - loss: 4.2253 - accuracy: 0.8088 - val_loss: 3.7300 - val_accuracy: 0.8356 - 6s/epoch - 13ms/step\n",
      "Epoch 8/10\n",
      "420/420 - 6s - loss: 5.0158 - accuracy: 0.8107 - val_loss: 5.1326 - val_accuracy: 0.8338 - 6s/epoch - 15ms/step\n",
      "Epoch 9/10\n",
      "420/420 - 6s - loss: 6.2721 - accuracy: 0.8027 - val_loss: 5.9839 - val_accuracy: 0.8046 - 6s/epoch - 15ms/step\n",
      "Epoch 10/10\n",
      "420/420 - 5s - loss: 7.9474 - accuracy: 0.7979 - val_loss: 7.9078 - val_accuracy: 0.7982 - 5s/epoch - 13ms/step\n"
     ]
    },
    {
     "data": {
      "text/plain": [
       "<keras.src.callbacks.History at 0x4033dd060>"
      ]
     },
     "execution_count": 18,
     "metadata": {},
     "output_type": "execute_result"
    }
   ],
   "source": [
    "model = Sequential([\n",
    "    InputLayer(input_shape=x_train.shape[1:]),\n",
    "    Dense(units=128, activation=\"relu\"),\n",
    "    Dense(units=128, activation=\"relu\"),\n",
    "    Dense(units=y_train.shape[1], activation=\"softmax\")\n",
    "])\n",
    "model.compile(loss=\"categorical_crossentropy\", optimizer=\"adam\", metrics=[\"accuracy\"])\n",
    "model.fit(x_train, y_train, epochs=10, batch_size=100, verbose=2, validation_split=0.3)"
   ]
  },
  {
   "cell_type": "code",
   "execution_count": 19,
   "metadata": {},
   "outputs": [
    {
     "name": "stdout",
     "output_type": "stream",
     "text": [
      "Epoch 1/10\n"
     ]
    },
    {
     "name": "stderr",
     "output_type": "stream",
     "text": [
      "2023-07-18 15:13:43.722798: I tensorflow/core/grappler/optimizers/custom_graph_optimizer_registry.cc:114] Plugin optimizer for device_type GPU is enabled.\n",
      "2023-07-18 15:13:49.473591: I tensorflow/core/grappler/optimizers/custom_graph_optimizer_registry.cc:114] Plugin optimizer for device_type GPU is enabled.\n"
     ]
    },
    {
     "name": "stdout",
     "output_type": "stream",
     "text": [
      "420/420 - 9s - loss: 1.2914 - accuracy: 0.6394 - val_loss: 0.6839 - val_accuracy: 0.8322 - 9s/epoch - 22ms/step\n",
      "Epoch 2/10\n",
      "420/420 - 10s - loss: 0.5714 - accuracy: 0.8498 - val_loss: 0.4660 - val_accuracy: 0.8715 - 10s/epoch - 23ms/step\n",
      "Epoch 3/10\n",
      "420/420 - 5s - loss: 0.4440 - accuracy: 0.8775 - val_loss: 0.4023 - val_accuracy: 0.8866 - 5s/epoch - 12ms/step\n",
      "Epoch 4/10\n",
      "420/420 - 5s - loss: 0.3947 - accuracy: 0.8892 - val_loss: 0.3701 - val_accuracy: 0.8932 - 5s/epoch - 12ms/step\n",
      "Epoch 5/10\n",
      "420/420 - 5s - loss: 0.3685 - accuracy: 0.8967 - val_loss: 0.3524 - val_accuracy: 0.8992 - 5s/epoch - 12ms/step\n",
      "Epoch 6/10\n",
      "420/420 - 5s - loss: 0.3519 - accuracy: 0.9004 - val_loss: 0.3415 - val_accuracy: 0.9012 - 5s/epoch - 12ms/step\n",
      "Epoch 7/10\n",
      "420/420 - 6s - loss: 0.3400 - accuracy: 0.9039 - val_loss: 0.3324 - val_accuracy: 0.9044 - 6s/epoch - 13ms/step\n",
      "Epoch 8/10\n",
      "420/420 - 6s - loss: 0.3313 - accuracy: 0.9060 - val_loss: 0.3271 - val_accuracy: 0.9078 - 6s/epoch - 15ms/step\n",
      "Epoch 9/10\n",
      "420/420 - 7s - loss: 0.3240 - accuracy: 0.9086 - val_loss: 0.3229 - val_accuracy: 0.9097 - 7s/epoch - 17ms/step\n",
      "Epoch 10/10\n",
      "420/420 - 5s - loss: 0.3185 - accuracy: 0.9096 - val_loss: 0.3184 - val_accuracy: 0.9091 - 5s/epoch - 12ms/step\n"
     ]
    },
    {
     "data": {
      "text/plain": [
       "<keras.src.callbacks.History at 0x3dcfc9a50>"
      ]
     },
     "execution_count": 19,
     "metadata": {},
     "output_type": "execute_result"
    }
   ],
   "source": [
    "model = Sequential([\n",
    "    InputLayer(input_shape=x_train.shape[1:]),\n",
    "    Dense(units=128, activation=\"relu\"),\n",
    "    Dense(units=128, activation=\"relu\"),\n",
    "    Dense(units=y_train.shape[1], activation=\"softmax\")\n",
    "])\n",
    "model.compile(loss=\"categorical_crossentropy\", optimizer=\"sgd\", metrics=[\"accuracy\"])\n",
    "model.fit(x_train, y_train, epochs=10, batch_size=100, verbose=2, validation_split=0.3)"
   ]
  },
  {
   "cell_type": "code",
   "execution_count": 20,
   "metadata": {},
   "outputs": [
    {
     "name": "stdout",
     "output_type": "stream",
     "text": [
      "Epoch 1/10\n"
     ]
    },
    {
     "name": "stderr",
     "output_type": "stream",
     "text": [
      "2023-07-18 15:14:47.751830: I tensorflow/core/grappler/optimizers/custom_graph_optimizer_registry.cc:114] Plugin optimizer for device_type GPU is enabled.\n",
      "2023-07-18 15:14:52.637360: I tensorflow/core/grappler/optimizers/custom_graph_optimizer_registry.cc:114] Plugin optimizer for device_type GPU is enabled.\n"
     ]
    },
    {
     "name": "stdout",
     "output_type": "stream",
     "text": [
      "420/420 - 8s - loss: 0.4434 - accuracy: 0.8739 - val_loss: 0.3167 - val_accuracy: 0.9134 - 8s/epoch - 20ms/step\n",
      "Epoch 2/10\n",
      "420/420 - 9s - loss: 0.3776 - accuracy: 0.8965 - val_loss: 0.4251 - val_accuracy: 0.8956 - 9s/epoch - 22ms/step\n",
      "Epoch 3/10\n",
      "420/420 - 6s - loss: 0.6625 - accuracy: 0.8615 - val_loss: 0.7213 - val_accuracy: 0.8737 - 6s/epoch - 15ms/step\n",
      "Epoch 4/10\n",
      "420/420 - 6s - loss: 1.1661 - accuracy: 0.8375 - val_loss: 1.2029 - val_accuracy: 0.8516 - 6s/epoch - 15ms/step\n",
      "Epoch 5/10\n",
      "420/420 - 6s - loss: 1.7896 - accuracy: 0.8262 - val_loss: 1.8919 - val_accuracy: 0.8503 - 6s/epoch - 13ms/step\n",
      "Epoch 6/10\n",
      "420/420 - 6s - loss: 2.4814 - accuracy: 0.8244 - val_loss: 2.4888 - val_accuracy: 0.8252 - 6s/epoch - 14ms/step\n",
      "Epoch 7/10\n",
      "420/420 - 7s - loss: 3.3880 - accuracy: 0.8137 - val_loss: 4.4639 - val_accuracy: 0.8011 - 7s/epoch - 17ms/step\n",
      "Epoch 8/10\n",
      "420/420 - 5s - loss: 4.0428 - accuracy: 0.8138 - val_loss: 4.7581 - val_accuracy: 0.8102 - 5s/epoch - 13ms/step\n",
      "Epoch 9/10\n",
      "420/420 - 6s - loss: 5.4440 - accuracy: 0.8037 - val_loss: 4.7501 - val_accuracy: 0.8306 - 6s/epoch - 13ms/step\n",
      "Epoch 10/10\n",
      "420/420 - 9s - loss: 5.3883 - accuracy: 0.8175 - val_loss: 6.8572 - val_accuracy: 0.8062 - 9s/epoch - 22ms/step\n"
     ]
    },
    {
     "data": {
      "text/plain": [
       "<keras.src.callbacks.History at 0x333105ea0>"
      ]
     },
     "execution_count": 20,
     "metadata": {},
     "output_type": "execute_result"
    }
   ],
   "source": [
    "model = Sequential([\n",
    "    InputLayer(input_shape=x_train.shape[1:]),\n",
    "    Dense(units=128, activation=\"relu\"),\n",
    "    Dense(units=128, activation=\"relu\"),\n",
    "    Dense(units=y_train.shape[1], activation=\"softmax\")\n",
    "])\n",
    "model.compile(loss=\"categorical_crossentropy\", optimizer=\"adam\", metrics=[\"accuracy\"])\n",
    "model.fit(x_train, y_train, epochs=10, batch_size=100, verbose=2, validation_split=0.3)"
   ]
  },
  {
   "cell_type": "markdown",
   "metadata": {
    "cell_id": "00028-47912783-f891-416d-9e9d-05d57a819e7c",
    "deepnote_cell_type": "markdown",
    "id": "ot8jiQHuEZxr"
   },
   "source": [
    "**Question #8.** Using [the docs](https://www.tensorflow.org/api_docs/python/tf/keras/optimizers), vary the learning rate of your optimizer from a very low value to a much larger one so as to show evidence of:\n",
    "* instability when the learning rate is too large;\n",
    "* slow convergence when the learning rate is too low."
   ]
  },
  {
   "cell_type": "code",
   "execution_count": 21,
   "metadata": {
    "cell_id": "00029-16623cf9-4788-418c-8696-9e61bfe444fb",
    "deepnote_cell_type": "code",
    "deepnote_to_be_reexecuted": true,
    "execution_millis": 38776,
    "id": "pZfwWRDPEa1g",
    "output_cleared": true,
    "source_hash": "b623e53d"
   },
   "outputs": [
    {
     "name": "stderr",
     "output_type": "stream",
     "text": [
      "WARNING:absl:At this time, the v2.11+ optimizer `tf.keras.optimizers.Adam` runs slowly on M1/M2 Macs, please use the legacy Keras optimizer instead, located at `tf.keras.optimizers.legacy.Adam`.\n",
      "WARNING:absl:There is a known slowdown when using v2.11+ Keras optimizers on M1/M2 Macs. Falling back to the legacy Keras optimizer, i.e., `tf.keras.optimizers.legacy.Adam`.\n"
     ]
    },
    {
     "name": "stdout",
     "output_type": "stream",
     "text": [
      "Epoch 1/10\n"
     ]
    },
    {
     "name": "stderr",
     "output_type": "stream",
     "text": [
      "2023-07-18 15:15:56.609848: I tensorflow/core/grappler/optimizers/custom_graph_optimizer_registry.cc:114] Plugin optimizer for device_type GPU is enabled.\n",
      "2023-07-18 15:16:00.771811: I tensorflow/core/grappler/optimizers/custom_graph_optimizer_registry.cc:114] Plugin optimizer for device_type GPU is enabled.\n"
     ]
    },
    {
     "name": "stdout",
     "output_type": "stream",
     "text": [
      "420/420 - 6s - loss: 0.9960 - accuracy: 0.7246 - val_loss: 0.4592 - val_accuracy: 0.8773 - 6s/epoch - 15ms/step\n",
      "Epoch 2/10\n",
      "420/420 - 6s - loss: 0.3992 - accuracy: 0.8900 - val_loss: 0.3511 - val_accuracy: 0.9009 - 6s/epoch - 14ms/step\n",
      "Epoch 3/10\n",
      "420/420 - 6s - loss: 0.3372 - accuracy: 0.9060 - val_loss: 0.3214 - val_accuracy: 0.9084 - 6s/epoch - 13ms/step\n",
      "Epoch 4/10\n",
      "420/420 - 5s - loss: 0.3143 - accuracy: 0.9121 - val_loss: 0.3098 - val_accuracy: 0.9124 - 5s/epoch - 13ms/step\n",
      "Epoch 5/10\n",
      "420/420 - 5s - loss: 0.3019 - accuracy: 0.9161 - val_loss: 0.3062 - val_accuracy: 0.9133 - 5s/epoch - 13ms/step\n",
      "Epoch 6/10\n",
      "420/420 - 5s - loss: 0.2931 - accuracy: 0.9180 - val_loss: 0.3004 - val_accuracy: 0.9165 - 5s/epoch - 13ms/step\n",
      "Epoch 7/10\n",
      "420/420 - 5s - loss: 0.2872 - accuracy: 0.9195 - val_loss: 0.2990 - val_accuracy: 0.9149 - 5s/epoch - 13ms/step\n",
      "Epoch 8/10\n",
      "420/420 - 6s - loss: 0.2830 - accuracy: 0.9214 - val_loss: 0.2949 - val_accuracy: 0.9188 - 6s/epoch - 15ms/step\n",
      "Epoch 9/10\n",
      "420/420 - 5s - loss: 0.2801 - accuracy: 0.9217 - val_loss: 0.2925 - val_accuracy: 0.9203 - 5s/epoch - 11ms/step\n",
      "Epoch 10/10\n",
      "420/420 - 3s - loss: 0.2775 - accuracy: 0.9230 - val_loss: 0.2935 - val_accuracy: 0.9182 - 3s/epoch - 8ms/step\n"
     ]
    },
    {
     "data": {
      "text/plain": [
       "<keras.src.callbacks.History at 0x431e85e70>"
      ]
     },
     "execution_count": 21,
     "metadata": {},
     "output_type": "execute_result"
    }
   ],
   "source": [
    "from keras.optimizers import Adam\n",
    "\n",
    "model = Sequential([\n",
    "    InputLayer(input_shape=x_train.shape[1:]),\n",
    "    Dense(units=128, activation=\"relu\"),\n",
    "    Dense(units=128, activation=\"relu\"),\n",
    "    Dense(units=y_train.shape[1], activation=\"softmax\")\n",
    "])\n",
    "model.compile(loss=\"categorical_crossentropy\", optimizer=Adam(learning_rate=0.0001), metrics=[\"accuracy\"])\n",
    "model.fit(x_train, y_train, epochs=10, batch_size=100, verbose=2, validation_split=0.3)"
   ]
  },
  {
   "cell_type": "markdown",
   "metadata": {
    "cell_id": "00030-f3edc3e5-83b2-4417-99c0-ce99030af441",
    "deepnote_cell_type": "markdown",
    "id": "tyCzy_PNEqwE"
   },
   "source": [
    "## Callbacks\n",
    "\n",
    "Callbacks are tools that, in `keras`, allow one to intervene during the training process of a model. \n",
    "Callbacks can be used to take actions (_ie._ save intermediate model, stop optimization if overfitting occurs, _etc._).\n",
    "\n",
    "A first callback one can play with is the one returned by any call to `fit` on a `keras` model.\n",
    "This callback is an object with an `.history` attribute in the form of a Python dictionnary whose keys are the metrics recorded during training. Each of these keys links to an array containing the consecutive values of the considered quantity (one value per epoch).\n",
    "\n",
    "**Question #9.** Plot correct classification rates on both training and validation sets."
   ]
  },
  {
   "cell_type": "code",
   "execution_count": 22,
   "metadata": {
    "cell_id": "00031-a30d0556-649b-490f-8b57-f0ac45eb245a",
    "deepnote_cell_type": "code",
    "deepnote_to_be_reexecuted": true,
    "execution_millis": 67,
    "id": "qA-RPKzaI4-s",
    "output_cleared": true,
    "source_hash": "b623e53d"
   },
   "outputs": [
    {
     "name": "stdout",
     "output_type": "stream",
     "text": [
      "Epoch 1/10\n"
     ]
    },
    {
     "name": "stderr",
     "output_type": "stream",
     "text": [
      "2023-07-18 15:16:49.818342: I tensorflow/core/grappler/optimizers/custom_graph_optimizer_registry.cc:114] Plugin optimizer for device_type GPU is enabled.\n",
      "2023-07-18 15:16:52.286589: I tensorflow/core/grappler/optimizers/custom_graph_optimizer_registry.cc:114] Plugin optimizer for device_type GPU is enabled.\n"
     ]
    },
    {
     "name": "stdout",
     "output_type": "stream",
     "text": [
      "420/420 - 4s - loss: 0.4340 - accuracy: 0.8737 - val_loss: 0.3232 - val_accuracy: 0.9094 - 4s/epoch - 8ms/step\n",
      "Epoch 2/10\n",
      "420/420 - 3s - loss: 0.3951 - accuracy: 0.8928 - val_loss: 0.4569 - val_accuracy: 0.8856 - 3s/epoch - 8ms/step\n",
      "Epoch 3/10\n",
      "420/420 - 3s - loss: 0.7120 - accuracy: 0.8583 - val_loss: 1.1132 - val_accuracy: 0.8256 - 3s/epoch - 8ms/step\n",
      "Epoch 4/10\n",
      "420/420 - 3s - loss: 1.1761 - accuracy: 0.8379 - val_loss: 1.1128 - val_accuracy: 0.8519 - 3s/epoch - 8ms/step\n",
      "Epoch 5/10\n",
      "420/420 - 3s - loss: 1.8677 - accuracy: 0.8256 - val_loss: 2.0594 - val_accuracy: 0.8442 - 3s/epoch - 8ms/step\n",
      "Epoch 6/10\n",
      "420/420 - 3s - loss: 2.7890 - accuracy: 0.8168 - val_loss: 2.0981 - val_accuracy: 0.8516 - 3s/epoch - 8ms/step\n",
      "Epoch 7/10\n",
      "420/420 - 3s - loss: 3.2955 - accuracy: 0.8180 - val_loss: 3.7898 - val_accuracy: 0.7926 - 3s/epoch - 8ms/step\n",
      "Epoch 8/10\n",
      "420/420 - 3s - loss: 3.9532 - accuracy: 0.8190 - val_loss: 6.2408 - val_accuracy: 0.7931 - 3s/epoch - 8ms/step\n",
      "Epoch 9/10\n",
      "420/420 - 3s - loss: 4.5659 - accuracy: 0.8201 - val_loss: 4.7146 - val_accuracy: 0.8286 - 3s/epoch - 8ms/step\n",
      "Epoch 10/10\n",
      "420/420 - 3s - loss: 6.0788 - accuracy: 0.8042 - val_loss: 6.8826 - val_accuracy: 0.8098 - 3s/epoch - 8ms/step\n"
     ]
    }
   ],
   "source": [
    "model = Sequential([\n",
    "    InputLayer(input_shape=x_train.shape[1:]),\n",
    "    Dense(units=128, activation=\"relu\"),\n",
    "    Dense(units=128, activation=\"relu\"),\n",
    "    Dense(units=y_train.shape[1], activation=\"softmax\")\n",
    "])\n",
    "model.compile(loss=\"categorical_crossentropy\", optimizer=\"adam\", metrics=[\"accuracy\"])\n",
    "h = model.fit(x_train, y_train, epochs=10, batch_size=100, verbose=2, validation_split=0.3)"
   ]
  },
  {
   "cell_type": "code",
   "execution_count": 23,
   "metadata": {},
   "outputs": [
    {
     "data": {
      "text/plain": [
       "{'loss': [0.4340144097805023,\n",
       "  0.3950565457344055,\n",
       "  0.7119899392127991,\n",
       "  1.1760776042938232,\n",
       "  1.8676561117172241,\n",
       "  2.789045572280884,\n",
       "  3.295520544052124,\n",
       "  3.9532318115234375,\n",
       "  4.565883159637451,\n",
       "  6.078786373138428],\n",
       " 'accuracy': [0.8736904859542847,\n",
       "  0.8928095102310181,\n",
       "  0.8582857251167297,\n",
       "  0.8379047513008118,\n",
       "  0.8255714178085327,\n",
       "  0.8167856931686401,\n",
       "  0.8180238008499146,\n",
       "  0.8190000057220459,\n",
       "  0.8200713992118835,\n",
       "  0.8042142987251282],\n",
       " 'val_loss': [0.3232044279575348,\n",
       "  0.4568624794483185,\n",
       "  1.1131997108459473,\n",
       "  1.1127514839172363,\n",
       "  2.0594043731689453,\n",
       "  2.0980639457702637,\n",
       "  3.789783477783203,\n",
       "  6.2407684326171875,\n",
       "  4.714596271514893,\n",
       "  6.882626533508301],\n",
       " 'val_accuracy': [0.9094444513320923,\n",
       "  0.8855555653572083,\n",
       "  0.8255555629730225,\n",
       "  0.85188889503479,\n",
       "  0.8442222476005554,\n",
       "  0.8515555262565613,\n",
       "  0.7926111221313477,\n",
       "  0.793055534362793,\n",
       "  0.8286111354827881,\n",
       "  0.8097777962684631]}"
      ]
     },
     "execution_count": 23,
     "metadata": {},
     "output_type": "execute_result"
    }
   ],
   "source": [
    "h.history"
   ]
  },
  {
   "cell_type": "code",
   "execution_count": 24,
   "metadata": {},
   "outputs": [
    {
     "data": {
      "image/png": "[encoded data removed]",
      "text/plain": [
       "<Figure size 640x480 with 1 Axes>"
      ]
     },
     "metadata": {},
     "output_type": "display_data"
    }
   ],
   "source": [
    "import matplotlib.pyplot as plt\n",
    "import numpy as np\n",
    "\n",
    "plt.plot(np.arange(1, 11), h.history[\"loss\"], label=\"Training loss\")\n",
    "plt.plot(np.arange(1, 11), h.history[\"val_loss\"], label=\"Validation loss\")\n",
    "plt.axvline(x=np.argmin(h.history[\"val_loss\"]) + 1, color='k', linestyle='--')\n",
    "plt.legend();"
   ]
  },
  {
   "cell_type": "markdown",
   "metadata": {
    "cell_id": "00032-0b2aa348-08ef-45f0-8984-70863c338c77",
    "deepnote_cell_type": "markdown",
    "id": "l9y1at8qI5cO"
   },
   "source": [
    "Setting up other callbacks must be explicit. This is done by passing a list of callbacks to the `fit` method.\n",
    "\n",
    "When training a model is long, one can wish to record intermediate models (in case of a crash during training, or just for cases when intermediate models were performing better than the final one).\n",
    "The [`ModelCheckpoint`](https://www.tensorflow.org/api_docs/python/tf/keras/callbacks/ModelCheckpoint) callback is designed for that purpose.\n",
    "\n",
    "**Question #10.** Set up recording of intermediate models every epoch. Save the models into a dedicated file `model.hdf5` on your Deepnote project. Only record models if validation loss is lower than for all previous models."
   ]
  },
  {
   "cell_type": "code",
   "execution_count": 25,
   "metadata": {
    "cell_id": "00027-fc377b2f-fe5b-4d0e-94b4-faa235dae4bc",
    "deepnote_cell_type": "code",
    "deepnote_to_be_reexecuted": true,
    "source_hash": "b623e53d",
    "tags": []
   },
   "outputs": [
    {
     "name": "stdout",
     "output_type": "stream",
     "text": [
      "Epoch 1/10\n"
     ]
    },
    {
     "name": "stderr",
     "output_type": "stream",
     "text": [
      "2023-07-18 15:17:23.273218: I tensorflow/core/grappler/optimizers/custom_graph_optimizer_registry.cc:114] Plugin optimizer for device_type GPU is enabled.\n",
      "2023-07-18 15:17:26.807537: I tensorflow/core/grappler/optimizers/custom_graph_optimizer_registry.cc:114] Plugin optimizer for device_type GPU is enabled.\n"
     ]
    },
    {
     "name": "stdout",
     "output_type": "stream",
     "text": [
      "600/600 - 4s - loss: 0.4112 - accuracy: 0.8830 - val_loss: 0.3762 - val_accuracy: 0.8969 - 4s/epoch - 7ms/step\n",
      "Epoch 2/10\n"
     ]
    },
    {
     "name": "stderr",
     "output_type": "stream",
     "text": [
      "/Users/rtavenar/py3.10_ml/lib/python3.10/site-packages/keras/src/engine/training.py:3000: UserWarning: You are saving your model as an HDF5 file via `model.save()`. This file format is considered legacy. We recommend using instead the native Keras format, e.g. `model.save('my_model.keras')`.\n",
      "  saving_api.save_model(\n"
     ]
    },
    {
     "name": "stdout",
     "output_type": "stream",
     "text": [
      "600/600 - 4s - loss: 0.7539 - accuracy: 0.8554 - val_loss: 1.1140 - val_accuracy: 0.8552 - 4s/epoch - 7ms/step\n",
      "Epoch 3/10\n",
      "600/600 - 4s - loss: 1.6811 - accuracy: 0.8291 - val_loss: 2.1969 - val_accuracy: 0.8292 - 4s/epoch - 7ms/step\n",
      "Epoch 4/10\n",
      "600/600 - 4s - loss: 2.8393 - accuracy: 0.8167 - val_loss: 5.3911 - val_accuracy: 0.7633 - 4s/epoch - 7ms/step\n",
      "Epoch 5/10\n",
      "600/600 - 4s - loss: 4.1086 - accuracy: 0.8154 - val_loss: 3.4884 - val_accuracy: 0.8280 - 4s/epoch - 7ms/step\n",
      "Epoch 6/10\n",
      "600/600 - 4s - loss: 5.5506 - accuracy: 0.8059 - val_loss: 9.3205 - val_accuracy: 0.7605 - 4s/epoch - 7ms/step\n",
      "Epoch 7/10\n",
      "600/600 - 4s - loss: 7.2047 - accuracy: 0.8056 - val_loss: 12.3705 - val_accuracy: 0.7766 - 4s/epoch - 7ms/step\n",
      "Epoch 8/10\n",
      "600/600 - 4s - loss: 8.4527 - accuracy: 0.8127 - val_loss: 10.1331 - val_accuracy: 0.8124 - 4s/epoch - 7ms/step\n",
      "Epoch 9/10\n",
      "600/600 - 4s - loss: 10.7294 - accuracy: 0.8031 - val_loss: 9.7861 - val_accuracy: 0.8164 - 4s/epoch - 7ms/step\n",
      "Epoch 10/10\n",
      "600/600 - 4s - loss: 11.9720 - accuracy: 0.8095 - val_loss: 14.9235 - val_accuracy: 0.8145 - 4s/epoch - 7ms/step\n"
     ]
    }
   ],
   "source": [
    "from keras.callbacks import ModelCheckpoint\n",
    "\n",
    "cb = ModelCheckpoint(\"model.hdf5\", save_best_only=True)\n",
    "\n",
    "model = Sequential([\n",
    "    InputLayer(input_shape=x_train.shape[1:]),\n",
    "    Dense(units=128, activation=\"relu\"),\n",
    "    Dense(units=128, activation=\"relu\"),\n",
    "    Dense(units=y_train.shape[1], activation=\"softmax\")\n",
    "])\n",
    "model.compile(loss=\"categorical_crossentropy\", optimizer=\"adam\", metrics=[\"accuracy\"])\n",
    "h = model.fit(x_train, y_train, epochs=10, batch_size=100, verbose=2, validation_data=(x_test, y_test), callbacks=[cb])"
   ]
  },
  {
   "cell_type": "markdown",
   "metadata": {
    "cell_id": "00028-e61b8442-9511-4a89-a53c-9590238e0fd2",
    "deepnote_cell_type": "markdown",
    "tags": []
   },
   "source": [
    "Use the code below to check that a model has been saved:"
   ]
  },
  {
   "cell_type": "code",
   "execution_count": 26,
   "metadata": {
    "cell_id": "00034-e0f2a0eb-f551-440e-94fb-2db94f18bde6",
    "deepnote_cell_type": "code",
    "deepnote_to_be_reexecuted": true,
    "id": "m0Zqsvh8Bowh",
    "source_hash": "3b41946"
   },
   "outputs": [
    {
     "name": "stdout",
     "output_type": "stream",
     "text": [
      "-rw-r--r--@ 1 rtavenar  staff   1.4M Jul 18 15:17 model.hdf5\n"
     ]
    }
   ],
   "source": [
    "!ls -alh \"model.hdf5\""
   ]
  },
  {
   "cell_type": "code",
   "execution_count": 27,
   "metadata": {},
   "outputs": [
    {
     "name": "stdout",
     "output_type": "stream",
     "text": [
      "  9/313 [..............................] - ETA: 2s - loss: 11.3925 - accuracy: 0.8507 "
     ]
    },
    {
     "name": "stderr",
     "output_type": "stream",
     "text": [
      "2023-07-18 15:18:03.199180: I tensorflow/core/grappler/optimizers/custom_graph_optimizer_registry.cc:114] Plugin optimizer for device_type GPU is enabled.\n"
     ]
    },
    {
     "name": "stdout",
     "output_type": "stream",
     "text": [
      "313/313 [==============================] - 2s 6ms/step - loss: 14.9235 - accuracy: 0.8145\n"
     ]
    },
    {
     "data": {
      "text/plain": [
       "[14.923468589782715, 0.8144999742507935]"
      ]
     },
     "execution_count": 27,
     "metadata": {},
     "output_type": "execute_result"
    }
   ],
   "source": [
    "model.evaluate(x_test, y_test)"
   ]
  },
  {
   "cell_type": "code",
   "execution_count": 28,
   "metadata": {},
   "outputs": [
    {
     "name": "stdout",
     "output_type": "stream",
     "text": [
      "313/313 [==============================] - 2s 6ms/step - loss: 0.3762 - accuracy: 0.8969\n"
     ]
    },
    {
     "data": {
      "text/plain": [
       "[0.3762185871601105, 0.8968999981880188]"
      ]
     },
     "execution_count": 28,
     "metadata": {},
     "output_type": "execute_result"
    }
   ],
   "source": [
    "model.load_weights(\"model.hdf5\")\n",
    "model.evaluate(x_test, y_test)"
   ]
  },
  {
   "cell_type": "markdown",
   "metadata": {
    "cell_id": "00035-1206a01d-7467-4a3e-bbdc-ee72b70366a2",
    "deepnote_cell_type": "markdown",
    "id": "WFehub4rLrZm"
   },
   "source": [
    "## Regularization"
   ]
  },
  {
   "cell_type": "markdown",
   "metadata": {
    "cell_id": "00041-10a0c691-e01a-451e-807b-594ba76cc1fa",
    "deepnote_cell_type": "markdown",
    "id": "xbOmJKruNYyS"
   },
   "source": [
    "**Question #11.** Set up an [`EarlyStopping`](https://www.tensorflow.org/api_docs/python/tf/keras/callbacks/EarlyStopping) strategy such that training the model will stop in case the validation loss does not decrease for 5 consecutive epochs."
   ]
  },
  {
   "cell_type": "code",
   "execution_count": 33,
   "metadata": {
    "cell_id": "00033-d7da52c7-7fbf-4f7d-940d-821cbe255b64",
    "deepnote_cell_type": "code",
    "deepnote_to_be_reexecuted": true,
    "source_hash": "b623e53d",
    "tags": []
   },
   "outputs": [
    {
     "name": "stdout",
     "output_type": "stream",
     "text": [
      "Epoch 1/100\n"
     ]
    },
    {
     "name": "stderr",
     "output_type": "stream",
     "text": [
      "2023-07-18 15:19:49.398559: I tensorflow/core/grappler/optimizers/custom_graph_optimizer_registry.cc:114] Plugin optimizer for device_type GPU is enabled.\n",
      "2023-07-18 15:19:53.130851: I tensorflow/core/grappler/optimizers/custom_graph_optimizer_registry.cc:114] Plugin optimizer for device_type GPU is enabled.\n"
     ]
    },
    {
     "name": "stdout",
     "output_type": "stream",
     "text": [
      "600/600 - 4s - loss: 0.4254 - accuracy: 0.8785 - val_loss: 0.3535 - val_accuracy: 0.8965 - 4s/epoch - 7ms/step\n",
      "Epoch 2/100\n",
      "600/600 - 4s - loss: 0.6915 - accuracy: 0.8566 - val_loss: 0.9613 - val_accuracy: 0.8579 - 4s/epoch - 7ms/step\n",
      "Epoch 3/100\n",
      "600/600 - 4s - loss: 1.9253 - accuracy: 0.8141 - val_loss: 1.8767 - val_accuracy: 0.8370 - 4s/epoch - 7ms/step\n",
      "Epoch 4/100\n",
      "600/600 - 4s - loss: 2.8833 - accuracy: 0.8126 - val_loss: 2.5009 - val_accuracy: 0.8386 - 4s/epoch - 7ms/step\n"
     ]
    }
   ],
   "source": [
    "from keras.callbacks import EarlyStopping\n",
    "\n",
    "cb = EarlyStopping(monitor=\"val_loss\", patience=3, restore_best_weights=True)\n",
    "\n",
    "model = Sequential([\n",
    "    InputLayer(input_shape=x_train.shape[1:]),\n",
    "    Dense(units=128, activation=\"relu\"),\n",
    "    Dense(units=128, activation=\"relu\"),\n",
    "    Dense(units=y_train.shape[1], activation=\"softmax\")\n",
    "])\n",
    "model.compile(loss=\"categorical_crossentropy\", optimizer=\"adam\", metrics=[\"accuracy\"])\n",
    "h = model.fit(x_train, y_train, epochs=100, batch_size=100, verbose=2, validation_data=(x_test, y_test), callbacks=[cb])"
   ]
  },
  {
   "cell_type": "code",
   "execution_count": 34,
   "metadata": {},
   "outputs": [
    {
     "name": "stdout",
     "output_type": "stream",
     "text": [
      " 16/313 [>.............................] - ETA: 2s - loss: 0.3357 - accuracy: 0.8965"
     ]
    },
    {
     "name": "stderr",
     "output_type": "stream",
     "text": [
      "2023-07-18 15:20:06.230096: I tensorflow/core/grappler/optimizers/custom_graph_optimizer_registry.cc:114] Plugin optimizer for device_type GPU is enabled.\n"
     ]
    },
    {
     "name": "stdout",
     "output_type": "stream",
     "text": [
      "313/313 [==============================] - 2s 7ms/step - loss: 0.3535 - accuracy: 0.8965\n"
     ]
    },
    {
     "data": {
      "text/plain": [
       "[0.3535313010215759, 0.8964999914169312]"
      ]
     },
     "execution_count": 34,
     "metadata": {},
     "output_type": "execute_result"
    }
   ],
   "source": [
    "model.evaluate(x_test, y_test)"
   ]
  }
 ],
 "metadata": {
  "colab": {
   "collapsed_sections": [],
   "name": "MLP.ipynb",
   "provenance": []
  },
  "deepnote": {},
  "deepnote_execution_queue": [],
  "deepnote_notebook_id": "35aa3537-3e05-40fa-86f0-1f7ded16df52",
  "kernelspec": {
   "display_name": "Python 3",
   "name": "python3"
  },
  "language_info": {
   "codemirror_mode": {
    "name": "ipython",
    "version": 3
   },
   "file_extension": ".py",
   "mimetype": "text/x-python",
   "name": "python",
   "nbconvert_exporter": "python",
   "pygments_lexer": "ipython3",
   "version": "3.10.12"
  }
 },
 "nbformat": 4,
 "nbformat_minor": 0
}
