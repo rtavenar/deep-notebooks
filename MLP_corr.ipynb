{
 "cells": [
  {
   "cell_type": "markdown",
   "metadata": {
    "cell_id": "00000-4e5bf590-09bc-42f5-a318-08994a30bfd4",
    "deepnote_cell_type": "markdown",
    "id": "NjCKi8REqlN6"
   },
   "source": [
    "# Multi-Layer Perceptron in `keras`\n",
    "\n",
    "In this series of lab sessions, you will use a Python library called `keras`.\n",
    "You should visit [`keras` webpage](https://keras.io/) to get access to more information about this library, including a comprehensive documentation.\n",
    "\n",
    "## The `Sequential` model in `keras`\n",
    "\n",
    "This library offers two ways to define neural network models. \n",
    "We will start with the `Sequential` class of `keras` models.\n",
    "Below is an example of how to define a `Sequential` model:"
   ]
  },
  {
   "cell_type": "code",
   "execution_count": 1,
   "metadata": {
    "cell_id": "00001-e7a9d101-f83a-49f2-ae43-deb55009fadf",
    "deepnote_cell_type": "code",
    "deepnote_to_be_reexecuted": false,
    "execution_millis": 1216,
    "execution_start": 1613342071585,
    "id": "PRKkYealqiiG",
    "output_cleared": false,
    "source_hash": "b851176a"
   },
   "outputs": [],
   "source": [
    "import keras\n",
    "from keras.models import Sequential\n",
    "from keras.layers import Dense, InputLayer"
   ]
  },
  {
   "cell_type": "markdown",
   "metadata": {
    "cell_id": "00002-fddb7023-3fe5-422a-ab01-7974d23883a6",
    "deepnote_cell_type": "markdown",
    "id": "1UdkphfnspbR"
   },
   "source": [
    "**1. Define layers, and add them one by one to the model**\n"
   ]
  },
  {
   "cell_type": "code",
   "execution_count": 2,
   "metadata": {
    "cell_id": "00003-3e192e55-740f-4e3e-9969-016701af86a1",
    "deepnote_cell_type": "code",
    "deepnote_to_be_reexecuted": false,
    "execution_millis": 57,
    "execution_start": 1613342072806,
    "id": "JD54PuqWsp4Y",
    "source_hash": "e4cce2c1"
   },
   "outputs": [
    {
     "name": "stderr",
     "output_type": "stream",
     "text": [
      "2024-02-02 17:02:04.146686: I metal_plugin/src/device/metal_device.cc:1154] Metal device set to: Apple M2 Max\n",
      "2024-02-02 17:02:04.146704: I metal_plugin/src/device/metal_device.cc:296] systemMemory: 32.00 GB\n",
      "2024-02-02 17:02:04.146708: I metal_plugin/src/device/metal_device.cc:313] maxCacheSize: 10.67 GB\n",
      "2024-02-02 17:02:04.146756: I tensorflow/core/common_runtime/pluggable_device/pluggable_device_factory.cc:306] Could not identify NUMA node of platform GPU ID 0, defaulting to 0. Your kernel may not have been built with NUMA support.\n",
      "2024-02-02 17:02:04.146786: I tensorflow/core/common_runtime/pluggable_device/pluggable_device_factory.cc:272] Created TensorFlow device (/job:localhost/replica:0/task:0/device:GPU:0 with 0 MB memory) -> physical PluggableDevice (device: 0, name: METAL, pci bus id: <undefined>)\n"
     ]
    }
   ],
   "source": [
    "input_layer = InputLayer(input_shape=(24,))\n",
    "hidden_layer1 = Dense(units=12, activation=\"relu\")\n",
    "hidden_layer2 = Dense(units=12, activation=\"sigmoid\")\n",
    "#[...]\n",
    "output_layer = Dense(units=3, activation=\"linear\")\n",
    "\n",
    "model = Sequential([\n",
    "    input_layer,\n",
    "    hidden_layer1,\n",
    "    hidden_layer2,\n",
    "    # ...\n",
    "    output_layer\n",
    "])"
   ]
  },
  {
   "cell_type": "markdown",
   "metadata": {
    "cell_id": "00004-607dbfcd-c789-4071-98bf-f51e230e647f",
    "deepnote_cell_type": "markdown",
    "id": "FTQLjyUoszDq"
   },
   "source": [
    "**2. Pick an optimization algorithm (optimizer) and a loss function to be optimized**\n",
    "\n",
    "Usual loss functions are:\n",
    "* `\"mse\"` for regression,\n",
    "* `\"categorical_crossentropy\"` for multiclass classification (when the `y` array fed to `fit` is of shape $(n, n_\\text{classes})$)\n",
    "* `\"binary_crossentropy\"` for binary classification (when the model is fed with `y` array of shape $(n, 1)$)\n",
    "\n",
    "One can also specify additional metrics to be printed during training (correct classification rate here)."
   ]
  },
  {
   "cell_type": "code",
   "execution_count": 3,
   "metadata": {
    "cell_id": "00005-29ab32a8-52eb-40c1-9c63-1e8b8943cbdd",
    "deepnote_cell_type": "code",
    "deepnote_to_be_reexecuted": false,
    "execution_millis": 9,
    "execution_start": 1613342072870,
    "id": "A_21M9Jqs3eJ",
    "source_hash": "63a93405"
   },
   "outputs": [],
   "source": [
    "model.compile(optimizer=\"adam\", loss=\"categorical_crossentropy\", metrics=[\"accuracy\"])"
   ]
  },
  {
   "cell_type": "markdown",
   "metadata": {
    "cell_id": "00006-1084a597-d5d5-4e2e-96ba-bf42d51d64c7",
    "deepnote_cell_type": "markdown",
    "id": "ykI4bexvs5x-"
   },
   "source": [
    "**3. Fit the model**\n",
    "\n",
    "NB: do not try to execute the following line of code: variables `X_train` and `y_train` do not exist yet!"
   ]
  },
  {
   "cell_type": "code",
   "execution_count": 4,
   "metadata": {
    "cell_id": "00007-8516017c-c628-4ef3-ac0f-d80ca5f74a93",
    "deepnote_cell_type": "code",
    "deepnote_to_be_reexecuted": false,
    "execution_millis": 2,
    "execution_start": 1613342072879,
    "id": "rt89yAdWs688",
    "source_hash": "fd94a07d"
   },
   "outputs": [],
   "source": [
    "#model.fit(X_train, y_train, verbose=2, epochs=10, batch_size=200)"
   ]
  },
  {
   "cell_type": "markdown",
   "metadata": {
    "cell_id": "00008-79f8d9f3-2a42-42bb-8bcc-fc2f1f47eecd",
    "deepnote_cell_type": "markdown",
    "id": "nHhJosslvDRY"
   },
   "source": [
    "## Data pre-processing\n",
    "\n",
    "Have a look at the `prepare_mnist` and `prepare_boston` functions defined below.\n",
    "\n",
    "**Question #1.** What do these functions do? What are the shapes of returned arrays? Does the returned data correpond to classification or regression problems?"
   ]
  },
  {
   "cell_type": "code",
   "execution_count": 5,
   "metadata": {
    "cell_id": "00009-c7c58fdf-b6f1-4f92-b82b-8ade1f4f44ca",
    "deepnote_cell_type": "code",
    "deepnote_to_be_reexecuted": false,
    "execution_millis": 1636,
    "execution_start": 1613342072885,
    "id": "7l-s71YRwTRA",
    "output_cleared": false,
    "source_hash": "1615ed07"
   },
   "outputs": [],
   "source": [
    "from sklearn.preprocessing import MinMaxScaler\n",
    "from keras.datasets import mnist, boston_housing\n",
    "from keras.utils import to_categorical\n",
    "\n",
    "def prepare_mnist():\n",
    "    (x_train, y_train), (x_test, y_test) = mnist.load_data()\n",
    "    x_train = x_train.reshape((x_train.shape[0], -1))\n",
    "    x_test = x_test.reshape((x_test.shape[0], -1))\n",
    "    scaler = MinMaxScaler()\n",
    "    scaler.fit(x_train)\n",
    "    x_train = scaler.transform(x_train)\n",
    "    x_test = scaler.transform(x_test)\n",
    "    y_train = to_categorical(y_train)\n",
    "    y_test = to_categorical(y_test)\n",
    "    return x_train, x_test, y_train, y_test\n",
    "\n",
    "\n",
    "def prepare_boston():\n",
    "    (x_train, y_train), (x_test, y_test) = boston_housing.load_data()\n",
    "    scaler_x = MinMaxScaler()\n",
    "    scaler_x.fit(x_train)\n",
    "    x_train = scaler_x.transform(x_train)\n",
    "    x_test = scaler_x.transform(x_test)\n",
    "    scaler_y = MinMaxScaler()\n",
    "    scaler_y.fit(y_train.reshape((-1, 1)))\n",
    "    y_train = scaler_y.transform(y_train.reshape((-1, 1)))\n",
    "    y_test = scaler_y.transform(y_test.reshape((-1, 1)))\n",
    "    return x_train, x_test, y_train, y_test\n",
    "  \n",
    "x_train, x_test, y_train, y_test = prepare_mnist()"
   ]
  },
  {
   "cell_type": "code",
   "execution_count": 6,
   "metadata": {},
   "outputs": [
    {
     "data": {
      "text/plain": [
       "array([[0., 0., 0., 0., 0., 1., 0., 0., 0., 0.],\n",
       "       [1., 0., 0., 0., 0., 0., 0., 0., 0., 0.],\n",
       "       [0., 0., 0., 0., 1., 0., 0., 0., 0., 0.],\n",
       "       [0., 1., 0., 0., 0., 0., 0., 0., 0., 0.],\n",
       "       [0., 0., 0., 0., 0., 0., 0., 0., 0., 1.],\n",
       "       [0., 0., 1., 0., 0., 0., 0., 0., 0., 0.],\n",
       "       [0., 1., 0., 0., 0., 0., 0., 0., 0., 0.],\n",
       "       [0., 0., 0., 1., 0., 0., 0., 0., 0., 0.],\n",
       "       [0., 1., 0., 0., 0., 0., 0., 0., 0., 0.],\n",
       "       [0., 0., 0., 0., 1., 0., 0., 0., 0., 0.]], dtype=float32)"
      ]
     },
     "execution_count": 6,
     "metadata": {},
     "output_type": "execute_result"
    }
   ],
   "source": [
    "y_train[:10]"
   ]
  },
  {
   "cell_type": "code",
   "execution_count": 7,
   "metadata": {
    "cell_id": "00010-3c1481af-a4d7-424b-a59e-3a2745234530",
    "deepnote_cell_type": "code",
    "deepnote_to_be_reexecuted": false,
    "execution_millis": 64,
    "execution_start": 1613342074525,
    "id": "CGlUHH6KFpj3",
    "output_cleared": false,
    "source_hash": "7facd6d8"
   },
   "outputs": [],
   "source": [
    "x_train, x_test, y_train, y_test = prepare_boston()"
   ]
  },
  {
   "cell_type": "code",
   "execution_count": 8,
   "metadata": {},
   "outputs": [
    {
     "name": "stdout",
     "output_type": "stream",
     "text": [
      "(404, 13) (404, 1)\n",
      "[[0.22666667]\n",
      " [0.82888889]\n",
      " [1.        ]\n",
      " [0.35777778]\n",
      " [0.28222222]\n",
      " [0.3       ]\n",
      " [0.14      ]\n",
      " [0.23555556]\n",
      " [0.23555556]\n",
      " [0.20888889]]\n"
     ]
    }
   ],
   "source": [
    "print(x_train.shape, y_train.shape)\n",
    "print(y_train[:10])"
   ]
  },
  {
   "cell_type": "markdown",
   "metadata": {
    "cell_id": "00011-1ecdf9c5-01c3-4a0d-a9c6-cfd28e6be23d",
    "deepnote_cell_type": "markdown",
    "id": "VRA_Ec2-yIGA"
   },
   "source": [
    "## Building your first models\n",
    "\n",
    "In the following, when fitting models, restrict the training to 10 epochs (which is not realistic, but training for more epochs takes time...)\n",
    "\n",
    "**Question #2.** Following the guidelines provided above, implement a linear regression model for the `boston` dataset that would optimize on a least squares objective using Stochastic Gradient Descent and fit your model to the corresponding training data."
   ]
  },
  {
   "cell_type": "code",
   "execution_count": 9,
   "metadata": {
    "cell_id": "00013-2e740cd6-9a8b-4a74-b85f-c7a66127d510",
    "deepnote_cell_type": "code",
    "deepnote_to_be_reexecuted": false,
    "execution_millis": 1,
    "execution_start": 1613342074582,
    "output_cleared": true,
    "source_hash": "b623e53d",
    "tags": []
   },
   "outputs": [
    {
     "name": "stdout",
     "output_type": "stream",
     "text": [
      "Epoch 1/10\n",
      "5/5 - 0s - loss: 0.3707 - 260ms/epoch - 52ms/step\n",
      "Epoch 2/10\n"
     ]
    },
    {
     "name": "stderr",
     "output_type": "stream",
     "text": [
      "2024-02-02 17:02:04.908001: I tensorflow/core/grappler/optimizers/custom_graph_optimizer_registry.cc:117] Plugin optimizer for device_type GPU is enabled.\n"
     ]
    },
    {
     "name": "stdout",
     "output_type": "stream",
     "text": [
      "5/5 - 0s - loss: 0.1858 - 36ms/epoch - 7ms/step\n",
      "Epoch 3/10\n",
      "5/5 - 0s - loss: 0.1155 - 31ms/epoch - 6ms/step\n",
      "Epoch 4/10\n",
      "5/5 - 0s - loss: 0.0799 - 32ms/epoch - 6ms/step\n",
      "Epoch 5/10\n",
      "5/5 - 0s - loss: 0.0566 - 28ms/epoch - 6ms/step\n",
      "Epoch 6/10\n",
      "5/5 - 0s - loss: 0.0483 - 27ms/epoch - 5ms/step\n",
      "Epoch 7/10\n",
      "5/5 - 0s - loss: 0.0449 - 33ms/epoch - 7ms/step\n",
      "Epoch 8/10\n",
      "5/5 - 0s - loss: 0.0428 - 31ms/epoch - 6ms/step\n",
      "Epoch 9/10\n",
      "5/5 - 0s - loss: 0.0412 - 33ms/epoch - 7ms/step\n",
      "Epoch 10/10\n",
      "5/5 - 0s - loss: 0.0403 - 31ms/epoch - 6ms/step\n"
     ]
    },
    {
     "data": {
      "text/plain": [
       "<keras.src.callbacks.History at 0x2e29f1390>"
      ]
     },
     "execution_count": 9,
     "metadata": {},
     "output_type": "execute_result"
    }
   ],
   "source": [
    "input_layer = InputLayer(input_shape=(13,))\n",
    "output_layer = Dense(units=1, activation=\"linear\")\n",
    "\n",
    "model = Sequential([\n",
    "    input_layer,\n",
    "    output_layer\n",
    "])\n",
    "model.compile(loss=\"mse\", optimizer=\"sgd\")\n",
    "model.fit(x_train, y_train, epochs=10, batch_size=100, verbose=2)"
   ]
  },
  {
   "cell_type": "markdown",
   "metadata": {
    "cell_id": "00015-c40decce-b6c2-4f3e-af55-6dc6b2eb29cd",
    "deepnote_cell_type": "markdown",
    "id": "Gqt1yH9Gzfuh"
   },
   "source": [
    "**Question #3.** Similarly, define a logistic regression model for the `mnist` dataset and print its training accuracy during training."
   ]
  },
  {
   "cell_type": "code",
   "execution_count": 10,
   "metadata": {
    "cell_id": "00014-fa195760-a859-4672-bd64-7911ece3c703",
    "deepnote_cell_type": "code",
    "tags": []
   },
   "outputs": [
    {
     "name": "stdout",
     "output_type": "stream",
     "text": [
      "Epoch 1/10\n",
      "600/600 - 4s - loss: 0.6344 - accuracy: 0.8424 - 4s/epoch - 7ms/step\n",
      "Epoch 2/10\n",
      "600/600 - 4s - loss: 0.3465 - accuracy: 0.9061 - 4s/epoch - 7ms/step\n",
      "Epoch 3/10\n",
      "600/600 - 4s - loss: 0.3099 - accuracy: 0.9138 - 4s/epoch - 7ms/step\n",
      "Epoch 4/10\n",
      "600/600 - 4s - loss: 0.2924 - accuracy: 0.9187 - 4s/epoch - 6ms/step\n",
      "Epoch 5/10\n",
      "600/600 - 4s - loss: 0.2822 - accuracy: 0.9218 - 4s/epoch - 7ms/step\n",
      "Epoch 6/10\n",
      "600/600 - 4s - loss: 0.2750 - accuracy: 0.9229 - 4s/epoch - 7ms/step\n",
      "Epoch 7/10\n",
      "600/600 - 4s - loss: 0.2696 - accuracy: 0.9243 - 4s/epoch - 7ms/step\n",
      "Epoch 8/10\n",
      "600/600 - 4s - loss: 0.2655 - accuracy: 0.9259 - 4s/epoch - 6ms/step\n",
      "Epoch 9/10\n",
      "600/600 - 4s - loss: 0.2621 - accuracy: 0.9270 - 4s/epoch - 7ms/step\n",
      "Epoch 10/10\n",
      "600/600 - 4s - loss: 0.2595 - accuracy: 0.9276 - 4s/epoch - 6ms/step\n"
     ]
    },
    {
     "data": {
      "text/plain": [
       "<keras.src.callbacks.History at 0x2e69de530>"
      ]
     },
     "execution_count": 10,
     "metadata": {},
     "output_type": "execute_result"
    }
   ],
   "source": [
    "import tensorflow as tf\n",
    "\n",
    "x_train, x_test, y_train, y_test = prepare_mnist()\n",
    "\n",
    "input_layer = InputLayer(input_shape=x_train.shape[1:])\n",
    "output_layer = Dense(units=y_train.shape[1], activation=\"softmax\")\n",
    "\n",
    "model = Sequential([\n",
    "    input_layer,\n",
    "    output_layer\n",
    "])\n",
    "model.compile(loss=\"categorical_crossentropy\", optimizer=\"adam\", metrics=[\"accuracy\"])\n",
    "model.fit(x_train, y_train, epochs=10, batch_size=100, verbose=2)"
   ]
  },
  {
   "cell_type": "markdown",
   "metadata": {
    "cell_id": "00018-cfad4bc9-a1de-43a4-bb43-d74840d9869d",
    "deepnote_cell_type": "markdown",
    "id": "6SGA-CdS0vwW"
   },
   "source": [
    "**Question #4.** Compare performance (in terms of training accuracy, we will come back to better ways to compare models afterwards) of this logistic regression model with that of a neural network with respectively 1, 2, and 3 hidden layers of 128 neurons each.\n",
    "You will use the `\"relu\"` activation function for hidden layers."
   ]
  },
  {
   "cell_type": "code",
   "execution_count": 11,
   "metadata": {
    "cell_id": "00016-667b31d2-ee2e-4a34-9a88-33c19a38522a",
    "deepnote_cell_type": "code",
    "deepnote_to_be_reexecuted": true,
    "source_hash": "b623e53d",
    "tags": []
   },
   "outputs": [
    {
     "name": "stdout",
     "output_type": "stream",
     "text": [
      "Epoch 1/10\n",
      "600/600 - 5s - loss: 0.3938 - accuracy: 0.8882 - 5s/epoch - 8ms/step\n",
      "Epoch 2/10\n",
      "600/600 - 4s - loss: 0.2954 - accuracy: 0.9175 - 4s/epoch - 7ms/step\n",
      "Epoch 3/10\n",
      "600/600 - 4s - loss: 0.2882 - accuracy: 0.9193 - 4s/epoch - 7ms/step\n",
      "Epoch 4/10\n",
      "600/600 - 4s - loss: 0.2869 - accuracy: 0.9206 - 4s/epoch - 7ms/step\n",
      "Epoch 5/10\n",
      "600/600 - 4s - loss: 0.2854 - accuracy: 0.9196 - 4s/epoch - 7ms/step\n",
      "Epoch 6/10\n",
      "600/600 - 4s - loss: 0.2849 - accuracy: 0.9210 - 4s/epoch - 7ms/step\n",
      "Epoch 7/10\n",
      "600/600 - 4s - loss: 0.2880 - accuracy: 0.9209 - 4s/epoch - 7ms/step\n",
      "Epoch 8/10\n",
      "600/600 - 4s - loss: 0.2912 - accuracy: 0.9192 - 4s/epoch - 7ms/step\n",
      "Epoch 9/10\n",
      "600/600 - 4s - loss: 0.2950 - accuracy: 0.9187 - 4s/epoch - 7ms/step\n",
      "Epoch 10/10\n",
      "600/600 - 4s - loss: 0.2962 - accuracy: 0.9195 - 4s/epoch - 7ms/step\n"
     ]
    },
    {
     "data": {
      "text/plain": [
       "<keras.src.callbacks.History at 0x30a47a0b0>"
      ]
     },
     "execution_count": 11,
     "metadata": {},
     "output_type": "execute_result"
    }
   ],
   "source": [
    "model = Sequential([\n",
    "    InputLayer(input_shape=x_train.shape[1:]),\n",
    "    Dense(units=128, activation=\"relu\"),\n",
    "    Dense(units=y_train.shape[1], activation=\"softmax\")\n",
    "])\n",
    "model.compile(loss=\"categorical_crossentropy\", optimizer=\"adam\", metrics=[\"accuracy\"])\n",
    "model.fit(x_train, y_train, epochs=10, batch_size=100, verbose=2)"
   ]
  },
  {
   "cell_type": "code",
   "execution_count": 12,
   "metadata": {},
   "outputs": [
    {
     "name": "stdout",
     "output_type": "stream",
     "text": [
      "Epoch 1/10\n",
      "600/600 - 5s - loss: 0.4121 - accuracy: 0.8828 - 5s/epoch - 8ms/step\n",
      "Epoch 2/10\n",
      "600/600 - 5s - loss: 0.6697 - accuracy: 0.8640 - 5s/epoch - 8ms/step\n",
      "Epoch 3/10\n",
      "600/600 - 5s - loss: 1.6338 - accuracy: 0.8278 - 5s/epoch - 8ms/step\n",
      "Epoch 4/10\n",
      "600/600 - 5s - loss: 2.6307 - accuracy: 0.8203 - 5s/epoch - 8ms/step\n",
      "Epoch 5/10\n",
      "600/600 - 5s - loss: 3.7319 - accuracy: 0.8098 - 5s/epoch - 8ms/step\n",
      "Epoch 6/10\n",
      "600/600 - 5s - loss: 4.9935 - accuracy: 0.8091 - 5s/epoch - 8ms/step\n",
      "Epoch 7/10\n",
      "600/600 - 5s - loss: 6.5056 - accuracy: 0.8073 - 5s/epoch - 8ms/step\n",
      "Epoch 8/10\n",
      "600/600 - 4s - loss: 8.0399 - accuracy: 0.8063 - 4s/epoch - 7ms/step\n",
      "Epoch 9/10\n",
      "600/600 - 5s - loss: 9.3308 - accuracy: 0.8024 - 5s/epoch - 8ms/step\n",
      "Epoch 10/10\n",
      "600/600 - 5s - loss: 12.3789 - accuracy: 0.7955 - 5s/epoch - 8ms/step\n"
     ]
    },
    {
     "data": {
      "text/plain": [
       "<keras.src.callbacks.History at 0x30a478c10>"
      ]
     },
     "execution_count": 12,
     "metadata": {},
     "output_type": "execute_result"
    }
   ],
   "source": [
    "model = Sequential([\n",
    "    InputLayer(input_shape=x_train.shape[1:]),\n",
    "    Dense(units=128, activation=\"relu\"),\n",
    "    Dense(units=128, activation=\"relu\"),\n",
    "    Dense(units=y_train.shape[1], activation=\"softmax\")\n",
    "])\n",
    "model.compile(loss=\"categorical_crossentropy\", optimizer=\"adam\", metrics=[\"accuracy\"])\n",
    "model.fit(x_train, y_train, epochs=10, batch_size=100, verbose=2)"
   ]
  },
  {
   "cell_type": "code",
   "execution_count": 13,
   "metadata": {},
   "outputs": [
    {
     "name": "stdout",
     "output_type": "stream",
     "text": [
      "Epoch 1/10\n",
      "600/600 - 5s - loss: 1.8584 - accuracy: 0.8067 - 5s/epoch - 9ms/step\n",
      "Epoch 2/10\n",
      "600/600 - 5s - loss: 49.2097 - accuracy: 0.5727 - 5s/epoch - 8ms/step\n",
      "Epoch 3/10\n",
      "600/600 - 5s - loss: 202.2422 - accuracy: 0.4802 - 5s/epoch - 8ms/step\n",
      "Epoch 4/10\n",
      "600/600 - 5s - loss: 497.8115 - accuracy: 0.4357 - 5s/epoch - 8ms/step\n",
      "Epoch 5/10\n",
      "600/600 - 5s - loss: 919.3269 - accuracy: 0.4154 - 5s/epoch - 8ms/step\n",
      "Epoch 6/10\n",
      "600/600 - 5s - loss: 1448.4635 - accuracy: 0.4041 - 5s/epoch - 8ms/step\n",
      "Epoch 7/10\n",
      "600/600 - 5s - loss: 2249.8123 - accuracy: 0.3863 - 5s/epoch - 8ms/step\n",
      "Epoch 8/10\n",
      "600/600 - 5s - loss: 3079.7344 - accuracy: 0.3814 - 5s/epoch - 8ms/step\n",
      "Epoch 9/10\n",
      "600/600 - 5s - loss: 3921.3958 - accuracy: 0.3736 - 5s/epoch - 8ms/step\n",
      "Epoch 10/10\n",
      "600/600 - 5s - loss: 5095.5479 - accuracy: 0.3709 - 5s/epoch - 9ms/step\n"
     ]
    },
    {
     "data": {
      "text/plain": [
       "<keras.src.callbacks.History at 0x35c145cf0>"
      ]
     },
     "execution_count": 13,
     "metadata": {},
     "output_type": "execute_result"
    }
   ],
   "source": [
    "model = Sequential([\n",
    "    InputLayer(input_shape=x_train.shape[1:]),\n",
    "    Dense(units=128, activation=\"relu\"),\n",
    "    Dense(units=128, activation=\"relu\"),\n",
    "    Dense(units=128, activation=\"relu\"),\n",
    "    Dense(units=y_train.shape[1], activation=\"softmax\")\n",
    "])\n",
    "model.compile(loss=\"categorical_crossentropy\", optimizer=\"adam\", metrics=[\"accuracy\"])\n",
    "model.fit(x_train, y_train, epochs=10, batch_size=100, verbose=2)"
   ]
  },
  {
   "cell_type": "code",
   "execution_count": 14,
   "metadata": {},
   "outputs": [
    {
     "name": "stdout",
     "output_type": "stream",
     "text": [
      "Model: \"sequential_5\"\n",
      "_________________________________________________________________\n",
      " Layer (type)                Output Shape              Param #   \n",
      "=================================================================\n",
      " dense_10 (Dense)            (None, 128)               100480    \n",
      "                                                                 \n",
      " dense_11 (Dense)            (None, 128)               16512     \n",
      "                                                                 \n",
      " dense_12 (Dense)            (None, 128)               16512     \n",
      "                                                                 \n",
      " dense_13 (Dense)            (None, 10)                1290      \n",
      "                                                                 \n",
      "=================================================================\n",
      "Total params: 134794 (526.54 KB)\n",
      "Trainable params: 134794 (526.54 KB)\n",
      "Non-trainable params: 0 (0.00 Byte)\n",
      "_________________________________________________________________\n"
     ]
    }
   ],
   "source": [
    "model.summary()"
   ]
  },
  {
   "cell_type": "markdown",
   "metadata": {
    "cell_id": "00020-a024cc10-c7b4-4021-89d9-0ed7447b2b9e",
    "deepnote_cell_type": "markdown",
    "id": "tC9EB0vs363m"
   },
   "source": [
    "**Question #5.** `keras` models offer a `count_params()` method to get the number of parameters to be learned in the model. Use this facility to get the number of parameters of your 3-hidden-layer model and build a new one-hidden-layer model with an equivalent number of parameters. Compare performance of these two models with similar number of parameters."
   ]
  },
  {
   "cell_type": "code",
   "execution_count": 15,
   "metadata": {
    "cell_id": "00018-d3f7b59d-095f-43d8-903e-2b92eb43619f",
    "deepnote_cell_type": "code",
    "deepnote_to_be_reexecuted": true,
    "source_hash": "b623e53d",
    "tags": []
   },
   "outputs": [
    {
     "name": "stdout",
     "output_type": "stream",
     "text": [
      "134365\n",
      "Epoch 1/10\n",
      "600/600 - 5s - loss: 0.3821 - accuracy: 0.8922 - 5s/epoch - 8ms/step\n",
      "Epoch 2/10\n",
      "600/600 - 4s - loss: 0.2955 - accuracy: 0.9172 - 4s/epoch - 7ms/step\n",
      "Epoch 3/10\n",
      "600/600 - 4s - loss: 0.2910 - accuracy: 0.9191 - 4s/epoch - 7ms/step\n",
      "Epoch 4/10\n",
      "600/600 - 4s - loss: 0.2900 - accuracy: 0.9195 - 4s/epoch - 7ms/step\n",
      "Epoch 5/10\n",
      "600/600 - 4s - loss: 0.2908 - accuracy: 0.9200 - 4s/epoch - 7ms/step\n",
      "Epoch 6/10\n",
      "600/600 - 5s - loss: 0.2921 - accuracy: 0.9189 - 5s/epoch - 8ms/step\n",
      "Epoch 7/10\n",
      "600/600 - 5s - loss: 0.2984 - accuracy: 0.9182 - 5s/epoch - 8ms/step\n",
      "Epoch 8/10\n",
      "600/600 - 4s - loss: 0.3002 - accuracy: 0.9181 - 4s/epoch - 7ms/step\n",
      "Epoch 9/10\n",
      "600/600 - 4s - loss: 0.3020 - accuracy: 0.9183 - 4s/epoch - 7ms/step\n",
      "Epoch 10/10\n",
      "600/600 - 4s - loss: 0.3087 - accuracy: 0.9168 - 4s/epoch - 7ms/step\n"
     ]
    },
    {
     "data": {
      "text/plain": [
       "<keras.src.callbacks.History at 0x35c565ff0>"
      ]
     },
     "execution_count": 15,
     "metadata": {},
     "output_type": "execute_result"
    }
   ],
   "source": [
    "units = 134794 / 794\n",
    "\n",
    "model = Sequential([\n",
    "    InputLayer(input_shape=x_train.shape[1:]),\n",
    "    Dense(units=units, activation=\"relu\"),\n",
    "    Dense(units=y_train.shape[1], activation=\"softmax\")\n",
    "])\n",
    "print(model.count_params())\n",
    "model.compile(loss=\"categorical_crossentropy\", optimizer=\"adam\", metrics=[\"accuracy\"])\n",
    "model.fit(x_train, y_train, epochs=10, batch_size=100, verbose=2)"
   ]
  },
  {
   "cell_type": "markdown",
   "metadata": {
    "cell_id": "00024-1bdd65e7-515d-4064-882a-54c651abfd3d",
    "deepnote_cell_type": "markdown",
    "id": "iXxTGmUw5ppd"
   },
   "source": [
    "## A better way to compare models\n",
    "\n",
    "Comparing models based on training accuracy (resp. loss) is a \"great\" way to overfit your model to the training data.\n",
    "A better way to compare models is to use hold out data (aka validation set).\n",
    "\n",
    "To do so, `keras` allows to pass, at `fit` time, a fraction of the training data to be used as validation set. Have a look [there](https://keras.io/api/models/model_training_apis/#fit-method) for more details about how validation samples are selected.\n",
    "\n",
    "**Question #6.** Repeat model comparisons above (relying on validation scores) using 30% of training data as validation set."
   ]
  },
  {
   "cell_type": "code",
   "execution_count": 16,
   "metadata": {},
   "outputs": [
    {
     "name": "stdout",
     "output_type": "stream",
     "text": [
      "Epoch 1/10\n",
      "420/420 - 5s - loss: 0.6144 - accuracy: 0.8413 - val_loss: 1.7118 - val_accuracy: 0.7206 - 5s/epoch - 12ms/step\n",
      "Epoch 2/10\n",
      "420/420 - 5s - loss: 19.9363 - accuracy: 0.6029 - val_loss: 27.8286 - val_accuracy: 0.5671 - 5s/epoch - 11ms/step\n",
      "Epoch 3/10\n",
      "420/420 - 5s - loss: 85.3183 - accuracy: 0.4922 - val_loss: 113.0518 - val_accuracy: 0.4918 - 5s/epoch - 11ms/step\n",
      "Epoch 4/10\n",
      "420/420 - 5s - loss: 229.5235 - accuracy: 0.4400 - val_loss: 210.3852 - val_accuracy: 0.3343 - 5s/epoch - 11ms/step\n",
      "Epoch 5/10\n",
      "420/420 - 5s - loss: 404.0652 - accuracy: 0.4273 - val_loss: 588.5295 - val_accuracy: 0.3816 - 5s/epoch - 11ms/step\n",
      "Epoch 6/10\n",
      "420/420 - 5s - loss: 697.6278 - accuracy: 0.4088 - val_loss: 953.0876 - val_accuracy: 0.4579 - 5s/epoch - 11ms/step\n",
      "Epoch 7/10\n",
      "420/420 - 5s - loss: 892.5058 - accuracy: 0.4097 - val_loss: 821.6179 - val_accuracy: 0.4669 - 5s/epoch - 12ms/step\n",
      "Epoch 8/10\n",
      "420/420 - 7s - loss: 1285.6104 - accuracy: 0.3974 - val_loss: 1987.2297 - val_accuracy: 0.3044 - 7s/epoch - 16ms/step\n",
      "Epoch 9/10\n",
      "420/420 - 5s - loss: 1639.5353 - accuracy: 0.3969 - val_loss: 1524.7637 - val_accuracy: 0.3843 - 5s/epoch - 12ms/step\n",
      "Epoch 10/10\n",
      "420/420 - 6s - loss: 1934.8330 - accuracy: 0.4049 - val_loss: 2642.1694 - val_accuracy: 0.3867 - 6s/epoch - 13ms/step\n"
     ]
    },
    {
     "data": {
      "text/plain": [
       "<keras.src.callbacks.History at 0x3845b0610>"
      ]
     },
     "execution_count": 16,
     "metadata": {},
     "output_type": "execute_result"
    }
   ],
   "source": [
    "model = Sequential([\n",
    "    InputLayer(input_shape=x_train.shape[1:]),\n",
    "    Dense(units=128, activation=\"relu\"),\n",
    "    Dense(units=128, activation=\"relu\"),\n",
    "    Dense(units=128, activation=\"relu\"),\n",
    "    Dense(units=y_train.shape[1], activation=\"softmax\")\n",
    "])\n",
    "model.compile(loss=\"categorical_crossentropy\", optimizer=\"adam\", metrics=[\"accuracy\"])\n",
    "model.fit(x_train, y_train, epochs=10, batch_size=100, verbose=2, validation_split=.3)"
   ]
  },
  {
   "cell_type": "code",
   "execution_count": 17,
   "metadata": {},
   "outputs": [
    {
     "name": "stdout",
     "output_type": "stream",
     "text": [
      "134365\n",
      "Epoch 1/10\n",
      "420/420 - 6s - loss: 0.4259 - accuracy: 0.8789 - val_loss: 0.3086 - val_accuracy: 0.9135 - 6s/epoch - 14ms/step\n",
      "Epoch 2/10\n",
      "420/420 - 5s - loss: 0.2997 - accuracy: 0.9146 - val_loss: 0.3115 - val_accuracy: 0.9111 - 5s/epoch - 11ms/step\n",
      "Epoch 3/10\n",
      "420/420 - 6s - loss: 0.2891 - accuracy: 0.9185 - val_loss: 0.3086 - val_accuracy: 0.9144 - 6s/epoch - 14ms/step\n",
      "Epoch 4/10\n",
      "420/420 - 6s - loss: 0.2864 - accuracy: 0.9195 - val_loss: 0.3068 - val_accuracy: 0.9144 - 6s/epoch - 15ms/step\n",
      "Epoch 5/10\n",
      "420/420 - 4s - loss: 0.2854 - accuracy: 0.9197 - val_loss: 0.3013 - val_accuracy: 0.9223 - 4s/epoch - 10ms/step\n",
      "Epoch 6/10\n",
      "420/420 - 4s - loss: 0.2866 - accuracy: 0.9197 - val_loss: 0.3171 - val_accuracy: 0.9127 - 4s/epoch - 10ms/step\n",
      "Epoch 7/10\n",
      "420/420 - 4s - loss: 0.2832 - accuracy: 0.9208 - val_loss: 0.3104 - val_accuracy: 0.9203 - 4s/epoch - 10ms/step\n",
      "Epoch 8/10\n",
      "420/420 - 4s - loss: 0.2886 - accuracy: 0.9174 - val_loss: 0.3590 - val_accuracy: 0.9063 - 4s/epoch - 10ms/step\n",
      "Epoch 9/10\n",
      "420/420 - 4s - loss: 0.2874 - accuracy: 0.9195 - val_loss: 0.3217 - val_accuracy: 0.9157 - 4s/epoch - 10ms/step\n",
      "Epoch 10/10\n",
      "420/420 - 4s - loss: 0.2948 - accuracy: 0.9188 - val_loss: 0.3363 - val_accuracy: 0.9113 - 4s/epoch - 10ms/step\n"
     ]
    },
    {
     "data": {
      "text/plain": [
       "<keras.src.callbacks.History at 0x38459db70>"
      ]
     },
     "execution_count": 17,
     "metadata": {},
     "output_type": "execute_result"
    }
   ],
   "source": [
    "units = 134794 / 794\n",
    "\n",
    "model = Sequential([\n",
    "    InputLayer(input_shape=x_train.shape[1:]),\n",
    "    Dense(units=units, activation=\"relu\"),\n",
    "    Dense(units=y_train.shape[1], activation=\"softmax\")\n",
    "])\n",
    "print(model.count_params())\n",
    "model.compile(loss=\"categorical_crossentropy\", optimizer=\"adam\", metrics=[\"accuracy\"])\n",
    "model.fit(x_train, y_train, epochs=10, batch_size=100, verbose=2, validation_split=.3)"
   ]
  },
  {
   "cell_type": "markdown",
   "metadata": {
    "cell_id": "00026-77f877a8-a870-4358-a389-6435fd380c88",
    "deepnote_cell_type": "markdown",
    "id": "WehjG92yDMcN"
   },
   "source": [
    "## Optimizers and learning rate\n",
    "\n",
    "**Question #7.** Change the optimizer used for your model. Use an optimizer with momentum and adaptive learning rate."
   ]
  },
  {
   "cell_type": "code",
   "execution_count": 18,
   "metadata": {
    "cell_id": "00021-8889ee1e-48b4-4783-b8e9-fb42783d8d39",
    "deepnote_cell_type": "code",
    "deepnote_to_be_reexecuted": true,
    "source_hash": "b623e53d",
    "tags": []
   },
   "outputs": [
    {
     "name": "stdout",
     "output_type": "stream",
     "text": [
      "Epoch 1/10\n",
      "420/420 - 5s - loss: 0.4382 - accuracy: 0.8743 - val_loss: 0.3383 - val_accuracy: 0.9051 - 5s/epoch - 12ms/step\n",
      "Epoch 2/10\n",
      "420/420 - 4s - loss: 0.3825 - accuracy: 0.8962 - val_loss: 0.4932 - val_accuracy: 0.8739 - 4s/epoch - 10ms/step\n",
      "Epoch 3/10\n",
      "420/420 - 4s - loss: 0.6338 - accuracy: 0.8645 - val_loss: 0.8431 - val_accuracy: 0.8511 - 4s/epoch - 10ms/step\n",
      "Epoch 4/10\n",
      "420/420 - 4s - loss: 1.1444 - accuracy: 0.8382 - val_loss: 1.2564 - val_accuracy: 0.8558 - 4s/epoch - 10ms/step\n",
      "Epoch 5/10\n",
      "420/420 - 4s - loss: 1.6697 - accuracy: 0.8303 - val_loss: 2.7345 - val_accuracy: 0.7727 - 4s/epoch - 11ms/step\n",
      "Epoch 6/10\n",
      "420/420 - 4s - loss: 2.5544 - accuracy: 0.8179 - val_loss: 2.5920 - val_accuracy: 0.8232 - 4s/epoch - 10ms/step\n",
      "Epoch 7/10\n",
      "420/420 - 4s - loss: 3.1594 - accuracy: 0.8206 - val_loss: 3.1722 - val_accuracy: 0.8287 - 4s/epoch - 10ms/step\n",
      "Epoch 8/10\n",
      "420/420 - 4s - loss: 4.1119 - accuracy: 0.8188 - val_loss: 4.5760 - val_accuracy: 0.8174 - 4s/epoch - 10ms/step\n",
      "Epoch 9/10\n",
      "420/420 - 4s - loss: 4.8352 - accuracy: 0.8162 - val_loss: 8.4505 - val_accuracy: 0.7618 - 4s/epoch - 10ms/step\n",
      "Epoch 10/10\n",
      "420/420 - 4s - loss: 6.2215 - accuracy: 0.8120 - val_loss: 4.6845 - val_accuracy: 0.8473 - 4s/epoch - 10ms/step\n"
     ]
    },
    {
     "data": {
      "text/plain": [
       "<keras.src.callbacks.History at 0x39e22d990>"
      ]
     },
     "execution_count": 18,
     "metadata": {},
     "output_type": "execute_result"
    }
   ],
   "source": [
    "model = Sequential([\n",
    "    InputLayer(input_shape=x_train.shape[1:]),\n",
    "    Dense(units=128, activation=\"relu\"),\n",
    "    Dense(units=128, activation=\"relu\"),\n",
    "    Dense(units=y_train.shape[1], activation=\"softmax\")\n",
    "])\n",
    "model.compile(loss=\"categorical_crossentropy\", optimizer=\"adam\", metrics=[\"accuracy\"])\n",
    "model.fit(x_train, y_train, epochs=10, batch_size=100, verbose=2, validation_split=0.3)"
   ]
  },
  {
   "cell_type": "code",
   "execution_count": 19,
   "metadata": {},
   "outputs": [
    {
     "name": "stdout",
     "output_type": "stream",
     "text": [
      "Epoch 1/10\n",
      "420/420 - 4s - loss: 1.2378 - accuracy: 0.6584 - val_loss: 0.6505 - val_accuracy: 0.8383 - 4s/epoch - 10ms/step\n",
      "Epoch 2/10\n",
      "420/420 - 4s - loss: 0.5468 - accuracy: 0.8576 - val_loss: 0.4552 - val_accuracy: 0.8759 - 4s/epoch - 10ms/step\n",
      "Epoch 3/10\n",
      "420/420 - 4s - loss: 0.4328 - accuracy: 0.8822 - val_loss: 0.3959 - val_accuracy: 0.8889 - 4s/epoch - 10ms/step\n",
      "Epoch 4/10\n",
      "420/420 - 4s - loss: 0.3874 - accuracy: 0.8920 - val_loss: 0.3673 - val_accuracy: 0.8949 - 4s/epoch - 9ms/step\n",
      "Epoch 5/10\n",
      "420/420 - 4s - loss: 0.3634 - accuracy: 0.8981 - val_loss: 0.3523 - val_accuracy: 0.9008 - 4s/epoch - 9ms/step\n",
      "Epoch 6/10\n",
      "420/420 - 4s - loss: 0.3480 - accuracy: 0.9029 - val_loss: 0.3397 - val_accuracy: 0.9037 - 4s/epoch - 10ms/step\n",
      "Epoch 7/10\n",
      "420/420 - 4s - loss: 0.3369 - accuracy: 0.9061 - val_loss: 0.3332 - val_accuracy: 0.9045 - 4s/epoch - 10ms/step\n",
      "Epoch 8/10\n",
      "420/420 - 4s - loss: 0.3292 - accuracy: 0.9079 - val_loss: 0.3263 - val_accuracy: 0.9074 - 4s/epoch - 10ms/step\n",
      "Epoch 9/10\n",
      "420/420 - 4s - loss: 0.3226 - accuracy: 0.9097 - val_loss: 0.3222 - val_accuracy: 0.9080 - 4s/epoch - 10ms/step\n",
      "Epoch 10/10\n",
      "420/420 - 4s - loss: 0.3173 - accuracy: 0.9114 - val_loss: 0.3198 - val_accuracy: 0.9083 - 4s/epoch - 10ms/step\n"
     ]
    },
    {
     "data": {
      "text/plain": [
       "<keras.src.callbacks.History at 0x3ba9b6cb0>"
      ]
     },
     "execution_count": 19,
     "metadata": {},
     "output_type": "execute_result"
    }
   ],
   "source": [
    "model = Sequential([\n",
    "    InputLayer(input_shape=x_train.shape[1:]),\n",
    "    Dense(units=128, activation=\"relu\"),\n",
    "    Dense(units=128, activation=\"relu\"),\n",
    "    Dense(units=y_train.shape[1], activation=\"softmax\")\n",
    "])\n",
    "model.compile(loss=\"categorical_crossentropy\", optimizer=\"sgd\", metrics=[\"accuracy\"])\n",
    "model.fit(x_train, y_train, epochs=10, batch_size=100, verbose=2, validation_split=0.3)"
   ]
  },
  {
   "cell_type": "code",
   "execution_count": 20,
   "metadata": {},
   "outputs": [
    {
     "name": "stdout",
     "output_type": "stream",
     "text": [
      "Epoch 1/10\n",
      "420/420 - 5s - loss: 0.4393 - accuracy: 0.8746 - val_loss: 0.3551 - val_accuracy: 0.8988 - 5s/epoch - 11ms/step\n",
      "Epoch 2/10\n",
      "420/420 - 4s - loss: 0.4900 - accuracy: 0.8775 - val_loss: 0.6364 - val_accuracy: 0.8735 - 4s/epoch - 10ms/step\n",
      "Epoch 3/10\n",
      "420/420 - 4s - loss: 0.9398 - accuracy: 0.8452 - val_loss: 1.0694 - val_accuracy: 0.8383 - 4s/epoch - 10ms/step\n",
      "Epoch 4/10\n",
      "420/420 - 5s - loss: 1.6145 - accuracy: 0.8255 - val_loss: 2.6174 - val_accuracy: 0.7718 - 5s/epoch - 11ms/step\n",
      "Epoch 5/10\n",
      "420/420 - 4s - loss: 2.2794 - accuracy: 0.8246 - val_loss: 2.1097 - val_accuracy: 0.8531 - 4s/epoch - 10ms/step\n",
      "Epoch 6/10\n",
      "420/420 - 4s - loss: 3.1509 - accuracy: 0.8143 - val_loss: 2.8990 - val_accuracy: 0.8306 - 4s/epoch - 10ms/step\n",
      "Epoch 7/10\n",
      "420/420 - 5s - loss: 4.3370 - accuracy: 0.8044 - val_loss: 5.0953 - val_accuracy: 0.7986 - 5s/epoch - 11ms/step\n",
      "Epoch 8/10\n",
      "420/420 - 5s - loss: 5.3691 - accuracy: 0.8063 - val_loss: 6.0889 - val_accuracy: 0.8267 - 5s/epoch - 11ms/step\n",
      "Epoch 9/10\n",
      "420/420 - 4s - loss: 6.3675 - accuracy: 0.8096 - val_loss: 6.8496 - val_accuracy: 0.8218 - 4s/epoch - 10ms/step\n",
      "Epoch 10/10\n",
      "420/420 - 4s - loss: 6.9841 - accuracy: 0.8124 - val_loss: 4.4337 - val_accuracy: 0.8631 - 4s/epoch - 11ms/step\n"
     ]
    },
    {
     "data": {
      "text/plain": [
       "<keras.src.callbacks.History at 0x3cd9f5870>"
      ]
     },
     "execution_count": 20,
     "metadata": {},
     "output_type": "execute_result"
    }
   ],
   "source": [
    "model = Sequential([\n",
    "    InputLayer(input_shape=x_train.shape[1:]),\n",
    "    Dense(units=128, activation=\"relu\"),\n",
    "    Dense(units=128, activation=\"relu\"),\n",
    "    Dense(units=y_train.shape[1], activation=\"softmax\")\n",
    "])\n",
    "model.compile(loss=\"categorical_crossentropy\", optimizer=\"adam\", metrics=[\"accuracy\"])\n",
    "model.fit(x_train, y_train, epochs=10, batch_size=100, verbose=2, validation_split=0.3)"
   ]
  },
  {
   "cell_type": "markdown",
   "metadata": {
    "cell_id": "00028-47912783-f891-416d-9e9d-05d57a819e7c",
    "deepnote_cell_type": "markdown",
    "id": "ot8jiQHuEZxr"
   },
   "source": [
    "**Question #8.** Using [the docs](https://keras.io/api/optimizers/), vary the learning rate of your optimizer from a very low value to a much larger one so as to show evidence of:\n",
    "* instability when the learning rate is too large;\n",
    "* slow convergence when the learning rate is too low."
   ]
  },
  {
   "cell_type": "code",
   "execution_count": 21,
   "metadata": {
    "cell_id": "00029-16623cf9-4788-418c-8696-9e61bfe444fb",
    "deepnote_cell_type": "code",
    "deepnote_to_be_reexecuted": true,
    "execution_millis": 38776,
    "id": "pZfwWRDPEa1g",
    "output_cleared": true,
    "source_hash": "b623e53d"
   },
   "outputs": [
    {
     "name": "stderr",
     "output_type": "stream",
     "text": [
      "WARNING:absl:At this time, the v2.11+ optimizer `tf.keras.optimizers.Adam` runs slowly on M1/M2 Macs, please use the legacy Keras optimizer instead, located at `tf.keras.optimizers.legacy.Adam`.\n"
     ]
    },
    {
     "name": "stdout",
     "output_type": "stream",
     "text": [
      "Epoch 1/10\n"
     ]
    },
    {
     "name": "stderr",
     "output_type": "stream",
     "text": [
      "2024-02-02 17:09:39.754910: E tensorflow/core/grappler/optimizers/meta_optimizer.cc:961] model_pruner failed: INVALID_ARGUMENT: Graph does not contain terminal node Adam/AssignAddVariableOp.\n"
     ]
    },
    {
     "name": "stdout",
     "output_type": "stream",
     "text": [
      "420/420 - 5s - loss: 1.0283 - accuracy: 0.7206 - val_loss: 0.4721 - val_accuracy: 0.8797 - 5s/epoch - 11ms/step\n",
      "Epoch 2/10\n",
      "420/420 - 5s - loss: 0.4113 - accuracy: 0.8890 - val_loss: 0.3560 - val_accuracy: 0.9007 - 5s/epoch - 11ms/step\n",
      "Epoch 3/10\n",
      "420/420 - 4s - loss: 0.3431 - accuracy: 0.9042 - val_loss: 0.3244 - val_accuracy: 0.9096 - 4s/epoch - 10ms/step\n",
      "Epoch 4/10\n",
      "420/420 - 4s - loss: 0.3179 - accuracy: 0.9109 - val_loss: 0.3104 - val_accuracy: 0.9123 - 4s/epoch - 10ms/step\n",
      "Epoch 5/10\n",
      "420/420 - 4s - loss: 0.3040 - accuracy: 0.9151 - val_loss: 0.3023 - val_accuracy: 0.9160 - 4s/epoch - 10ms/step\n",
      "Epoch 6/10\n",
      "420/420 - 4s - loss: 0.2951 - accuracy: 0.9174 - val_loss: 0.2972 - val_accuracy: 0.9181 - 4s/epoch - 10ms/step\n",
      "Epoch 7/10\n",
      "420/420 - 5s - loss: 0.2894 - accuracy: 0.9185 - val_loss: 0.2965 - val_accuracy: 0.9175 - 5s/epoch - 11ms/step\n",
      "Epoch 8/10\n",
      "420/420 - 4s - loss: 0.2846 - accuracy: 0.9209 - val_loss: 0.2902 - val_accuracy: 0.9193 - 4s/epoch - 11ms/step\n",
      "Epoch 9/10\n",
      "420/420 - 4s - loss: 0.2808 - accuracy: 0.9217 - val_loss: 0.2893 - val_accuracy: 0.9203 - 4s/epoch - 10ms/step\n",
      "Epoch 10/10\n",
      "420/420 - 4s - loss: 0.2781 - accuracy: 0.9222 - val_loss: 0.2905 - val_accuracy: 0.9208 - 4s/epoch - 10ms/step\n"
     ]
    },
    {
     "data": {
      "text/plain": [
       "<keras.src.callbacks.History at 0x3d6c566e0>"
      ]
     },
     "execution_count": 21,
     "metadata": {},
     "output_type": "execute_result"
    }
   ],
   "source": [
    "from keras.optimizers import Adam\n",
    "\n",
    "model = Sequential([\n",
    "    InputLayer(input_shape=x_train.shape[1:]),\n",
    "    Dense(units=128, activation=\"relu\"),\n",
    "    Dense(units=128, activation=\"relu\"),\n",
    "    Dense(units=y_train.shape[1], activation=\"softmax\")\n",
    "])\n",
    "model.compile(loss=\"categorical_crossentropy\", optimizer=Adam(learning_rate=0.0001), metrics=[\"accuracy\"])\n",
    "model.fit(x_train, y_train, epochs=10, batch_size=100, verbose=2, validation_split=0.3)"
   ]
  },
  {
   "cell_type": "markdown",
   "metadata": {
    "cell_id": "00030-f3edc3e5-83b2-4417-99c0-ce99030af441",
    "deepnote_cell_type": "markdown",
    "id": "tyCzy_PNEqwE"
   },
   "source": [
    "## Callbacks\n",
    "\n",
    "Callbacks are tools that, in `keras`, allow one to intervene during the training process of a model. \n",
    "Callbacks can be used to take actions (_ie._ save intermediate model, stop optimization if overfitting occurs, _etc._).\n",
    "\n",
    "A first callback one can play with is the one returned by any call to `fit` on a `keras` model.\n",
    "This callback is an object with an `.history` attribute in the form of a Python dictionnary whose keys are the metrics recorded during training. Each of these keys links to an array containing the consecutive values of the considered quantity (one value per epoch).\n",
    "\n",
    "**Question #9.** Plot correct classification rates on both training and validation sets."
   ]
  },
  {
   "cell_type": "code",
   "execution_count": 22,
   "metadata": {
    "cell_id": "00031-a30d0556-649b-490f-8b57-f0ac45eb245a",
    "deepnote_cell_type": "code",
    "deepnote_to_be_reexecuted": true,
    "execution_millis": 67,
    "id": "qA-RPKzaI4-s",
    "output_cleared": true,
    "source_hash": "b623e53d"
   },
   "outputs": [
    {
     "name": "stdout",
     "output_type": "stream",
     "text": [
      "Epoch 1/10\n",
      "420/420 - 5s - loss: 0.4437 - accuracy: 0.8730 - val_loss: 0.3658 - val_accuracy: 0.8962 - 5s/epoch - 12ms/step\n",
      "Epoch 2/10\n",
      "420/420 - 4s - loss: 0.4291 - accuracy: 0.8889 - val_loss: 0.6624 - val_accuracy: 0.8678 - 4s/epoch - 10ms/step\n",
      "Epoch 3/10\n",
      "420/420 - 4s - loss: 0.7805 - accuracy: 0.8559 - val_loss: 0.9537 - val_accuracy: 0.8488 - 4s/epoch - 10ms/step\n",
      "Epoch 4/10\n",
      "420/420 - 4s - loss: 1.3826 - accuracy: 0.8340 - val_loss: 1.2076 - val_accuracy: 0.8631 - 4s/epoch - 10ms/step\n",
      "Epoch 5/10\n",
      "420/420 - 4s - loss: 2.0240 - accuracy: 0.8274 - val_loss: 1.6989 - val_accuracy: 0.8669 - 4s/epoch - 10ms/step\n",
      "Epoch 6/10\n",
      "420/420 - 5s - loss: 2.8265 - accuracy: 0.8178 - val_loss: 3.1032 - val_accuracy: 0.8077 - 5s/epoch - 11ms/step\n",
      "Epoch 7/10\n",
      "420/420 - 5s - loss: 3.6243 - accuracy: 0.8175 - val_loss: 3.9955 - val_accuracy: 0.8087 - 5s/epoch - 11ms/step\n",
      "Epoch 8/10\n",
      "420/420 - 5s - loss: 4.7128 - accuracy: 0.8103 - val_loss: 4.6812 - val_accuracy: 0.8232 - 5s/epoch - 11ms/step\n",
      "Epoch 9/10\n",
      "420/420 - 4s - loss: 6.3652 - accuracy: 0.8041 - val_loss: 6.6557 - val_accuracy: 0.7964 - 4s/epoch - 10ms/step\n",
      "Epoch 10/10\n",
      "420/420 - 4s - loss: 6.5307 - accuracy: 0.8112 - val_loss: 5.7410 - val_accuracy: 0.8433 - 4s/epoch - 10ms/step\n"
     ]
    }
   ],
   "source": [
    "model = Sequential([\n",
    "    InputLayer(input_shape=x_train.shape[1:]),\n",
    "    Dense(units=128, activation=\"relu\"),\n",
    "    Dense(units=128, activation=\"relu\"),\n",
    "    Dense(units=y_train.shape[1], activation=\"softmax\")\n",
    "])\n",
    "model.compile(loss=\"categorical_crossentropy\", optimizer=\"adam\", metrics=[\"accuracy\"])\n",
    "h = model.fit(x_train, y_train, epochs=10, batch_size=100, verbose=2, validation_split=0.3)"
   ]
  },
  {
   "cell_type": "code",
   "execution_count": 23,
   "metadata": {},
   "outputs": [
    {
     "data": {
      "text/plain": [
       "{'loss': [0.4436965584754944,\n",
       "  0.4291226267814636,\n",
       "  0.7804890275001526,\n",
       "  1.3826109170913696,\n",
       "  2.024038791656494,\n",
       "  2.8265128135681152,\n",
       "  3.6242775917053223,\n",
       "  4.712779998779297,\n",
       "  6.365214824676514,\n",
       "  6.530720233917236],\n",
       " 'accuracy': [0.872952401638031,\n",
       "  0.8889285922050476,\n",
       "  0.855904757976532,\n",
       "  0.8339762091636658,\n",
       "  0.8273809552192688,\n",
       "  0.8177618980407715,\n",
       "  0.817476212978363,\n",
       "  0.8102856874465942,\n",
       "  0.8040714263916016,\n",
       "  0.8111904859542847],\n",
       " 'val_loss': [0.365767240524292,\n",
       "  0.6623786091804504,\n",
       "  0.953703761100769,\n",
       "  1.2076003551483154,\n",
       "  1.6989431381225586,\n",
       "  3.103198766708374,\n",
       "  3.995496988296509,\n",
       "  4.681203842163086,\n",
       "  6.655688285827637,\n",
       "  5.741034507751465],\n",
       " 'val_accuracy': [0.8962222337722778,\n",
       "  0.8677777647972107,\n",
       "  0.8487777709960938,\n",
       "  0.863111138343811,\n",
       "  0.866944432258606,\n",
       "  0.8077222108840942,\n",
       "  0.808722198009491,\n",
       "  0.8232222199440002,\n",
       "  0.7964444160461426,\n",
       "  0.8433333039283752]}"
      ]
     },
     "execution_count": 23,
     "metadata": {},
     "output_type": "execute_result"
    }
   ],
   "source": [
    "h.history"
   ]
  },
  {
   "cell_type": "code",
   "execution_count": 24,
   "metadata": {},
   "outputs": [
    {
     "data": {
      "image/png": "[encoded data removed]",
      "text/plain": [
       "<Figure size 640x480 with 1 Axes>"
      ]
     },
     "metadata": {},
     "output_type": "display_data"
    }
   ],
   "source": [
    "import matplotlib.pyplot as plt\n",
    "import numpy as np\n",
    "\n",
    "plt.plot(np.arange(1, 11), h.history[\"loss\"], label=\"Training loss\")\n",
    "plt.plot(np.arange(1, 11), h.history[\"val_loss\"], label=\"Validation loss\")\n",
    "plt.axvline(x=np.argmin(h.history[\"val_loss\"]) + 1, color='k', linestyle='--')\n",
    "plt.legend();"
   ]
  },
  {
   "cell_type": "markdown",
   "metadata": {
    "cell_id": "00032-0b2aa348-08ef-45f0-8984-70863c338c77",
    "deepnote_cell_type": "markdown",
    "id": "l9y1at8qI5cO"
   },
   "source": [
    "Setting up other callbacks must be explicit. This is done by passing a list of callbacks to the `fit` method.\n",
    "\n",
    "When training a model is long, one can wish to record intermediate models (in case of a crash during training, or just for cases when intermediate models were performing better than the final one).\n",
    "The [`ModelCheckpoint`](https://keras.io/api/callbacks/model_checkpoint/) callback is designed for that purpose.\n",
    "\n",
    "**Question #10.** Set up recording of intermediate models every epoch. Save the models into a dedicated file `model.keras` on your project. Only record models if validation loss is lower than for all previous models."
   ]
  },
  {
   "cell_type": "code",
   "execution_count": 25,
   "metadata": {
    "cell_id": "00027-fc377b2f-fe5b-4d0e-94b4-faa235dae4bc",
    "deepnote_cell_type": "code",
    "deepnote_to_be_reexecuted": true,
    "source_hash": "b623e53d",
    "tags": []
   },
   "outputs": [
    {
     "name": "stdout",
     "output_type": "stream",
     "text": [
      "Epoch 1/10\n",
      "600/600 - 6s - loss: 0.4189 - accuracy: 0.8806 - val_loss: 0.3701 - val_accuracy: 0.8957 - 6s/epoch - 9ms/step\n",
      "Epoch 2/10\n",
      "600/600 - 5s - loss: 0.5839 - accuracy: 0.8702 - val_loss: 1.0157 - val_accuracy: 0.8142 - 5s/epoch - 9ms/step\n",
      "Epoch 3/10\n",
      "600/600 - 5s - loss: 1.3750 - accuracy: 0.8321 - val_loss: 1.7010 - val_accuracy: 0.8340 - 5s/epoch - 9ms/step\n",
      "Epoch 4/10\n",
      "600/600 - 5s - loss: 2.6778 - accuracy: 0.8133 - val_loss: 2.5606 - val_accuracy: 0.8380 - 5s/epoch - 8ms/step\n",
      "Epoch 5/10\n",
      "600/600 - 5s - loss: 3.6803 - accuracy: 0.8147 - val_loss: 3.7386 - val_accuracy: 0.8033 - 5s/epoch - 8ms/step\n",
      "Epoch 6/10\n",
      "600/600 - 5s - loss: 4.8506 - accuracy: 0.8119 - val_loss: 9.4423 - val_accuracy: 0.7584 - 5s/epoch - 8ms/step\n",
      "Epoch 7/10\n",
      "600/600 - 5s - loss: 6.2332 - accuracy: 0.8088 - val_loss: 6.5603 - val_accuracy: 0.8029 - 5s/epoch - 8ms/step\n",
      "Epoch 8/10\n",
      "600/600 - 6s - loss: 8.1987 - accuracy: 0.8024 - val_loss: 10.5943 - val_accuracy: 0.7759 - 6s/epoch - 9ms/step\n",
      "Epoch 9/10\n",
      "600/600 - 5s - loss: 8.9013 - accuracy: 0.8113 - val_loss: 10.4742 - val_accuracy: 0.8101 - 5s/epoch - 9ms/step\n",
      "Epoch 10/10\n",
      "600/600 - 5s - loss: 11.3327 - accuracy: 0.8058 - val_loss: 10.1689 - val_accuracy: 0.8226 - 5s/epoch - 9ms/step\n"
     ]
    }
   ],
   "source": [
    "from keras.callbacks import ModelCheckpoint\n",
    "\n",
    "cb = ModelCheckpoint(\"model.keras\", save_best_only=True)\n",
    "\n",
    "model = Sequential([\n",
    "    InputLayer(input_shape=x_train.shape[1:]),\n",
    "    Dense(units=128, activation=\"relu\"),\n",
    "    Dense(units=128, activation=\"relu\"),\n",
    "    Dense(units=y_train.shape[1], activation=\"softmax\")\n",
    "])\n",
    "model.compile(loss=\"categorical_crossentropy\", optimizer=\"adam\", metrics=[\"accuracy\"])\n",
    "h = model.fit(x_train, y_train, epochs=10, batch_size=100, verbose=2, validation_data=(x_test, y_test), callbacks=[cb])"
   ]
  },
  {
   "cell_type": "markdown",
   "metadata": {
    "cell_id": "00028-e61b8442-9511-4a89-a53c-9590238e0fd2",
    "deepnote_cell_type": "markdown",
    "tags": []
   },
   "source": [
    "Use the code below to check that a model has been saved:"
   ]
  },
  {
   "cell_type": "code",
   "execution_count": 26,
   "metadata": {
    "cell_id": "00034-e0f2a0eb-f551-440e-94fb-2db94f18bde6",
    "deepnote_cell_type": "code",
    "deepnote_to_be_reexecuted": true,
    "id": "m0Zqsvh8Bowh",
    "source_hash": "3b41946"
   },
   "outputs": [
    {
     "name": "stdout",
     "output_type": "stream",
     "text": [
      "-rw-r--r--  1 rtavenar  staff   481K Feb  2 17:11 model.keras\n"
     ]
    }
   ],
   "source": [
    "%ls -alh \"model.keras\""
   ]
  },
  {
   "cell_type": "code",
   "execution_count": 27,
   "metadata": {},
   "outputs": [
    {
     "name": "stdout",
     "output_type": "stream",
     "text": [
      "313/313 [==============================] - 3s 9ms/step - loss: 10.1689 - accuracy: 0.8226\n"
     ]
    },
    {
     "data": {
      "text/plain": [
       "[10.168900489807129, 0.8226000070571899]"
      ]
     },
     "execution_count": 27,
     "metadata": {},
     "output_type": "execute_result"
    }
   ],
   "source": [
    "model.evaluate(x_test, y_test)"
   ]
  },
  {
   "cell_type": "code",
   "execution_count": 28,
   "metadata": {},
   "outputs": [
    {
     "name": "stdout",
     "output_type": "stream",
     "text": [
      "313/313 [==============================] - 3s 8ms/step - loss: 0.3701 - accuracy: 0.8957\n"
     ]
    },
    {
     "data": {
      "text/plain": [
       "[0.3700898289680481, 0.8956999778747559]"
      ]
     },
     "execution_count": 28,
     "metadata": {},
     "output_type": "execute_result"
    }
   ],
   "source": [
    "model.load_weights(\"model.keras\")\n",
    "model.evaluate(x_test, y_test)"
   ]
  },
  {
   "cell_type": "markdown",
   "metadata": {
    "cell_id": "00035-1206a01d-7467-4a3e-bbdc-ee72b70366a2",
    "deepnote_cell_type": "markdown",
    "id": "WFehub4rLrZm"
   },
   "source": [
    "## Regularization\n",
    "\n",
    "**Question #11.** Add an $\\ell_2$ regularization to the weights of your model and show its impact on overfitting. [These docs](https://keras.io/api/layers/regularizers/) could help."
   ]
  },
  {
   "cell_type": "code",
   "execution_count": 29,
   "metadata": {
    "cell_id": "00030-dcf2874b-1d98-4a94-9f5d-a048e99081d8",
    "deepnote_cell_type": "code",
    "deepnote_to_be_reexecuted": true,
    "source_hash": "b623e53d",
    "tags": []
   },
   "outputs": [
    {
     "name": "stdout",
     "output_type": "stream",
     "text": [
      "Epoch 1/10\n",
      "480/480 - 9s - loss: 0.6932 - accuracy: 0.8761 - val_loss: 0.6158 - val_accuracy: 0.9011 - 9s/epoch - 20ms/step\n",
      "Epoch 2/10\n",
      "480/480 - 9s - loss: 1.0206 - accuracy: 0.8702 - val_loss: 1.6651 - val_accuracy: 0.8521 - 9s/epoch - 18ms/step\n",
      "Epoch 3/10\n",
      "480/480 - 8s - loss: 2.9696 - accuracy: 0.8205 - val_loss: 4.2017 - val_accuracy: 0.8182 - 8s/epoch - 18ms/step\n",
      "Epoch 4/10\n",
      "480/480 - 9s - loss: 5.6707 - accuracy: 0.8138 - val_loss: 7.2973 - val_accuracy: 0.8105 - 9s/epoch - 18ms/step\n",
      "Epoch 5/10\n",
      "480/480 - 9s - loss: 9.3001 - accuracy: 0.8015 - val_loss: 10.6658 - val_accuracy: 0.8138 - 9s/epoch - 19ms/step\n",
      "Epoch 6/10\n",
      "480/480 - 9s - loss: 12.9551 - accuracy: 0.8026 - val_loss: 14.9347 - val_accuracy: 0.8131 - 9s/epoch - 19ms/step\n",
      "Epoch 7/10\n",
      "480/480 - 9s - loss: 17.9607 - accuracy: 0.7900 - val_loss: 21.9408 - val_accuracy: 0.7816 - 9s/epoch - 19ms/step\n",
      "Epoch 8/10\n",
      "480/480 - 9s - loss: 22.3839 - accuracy: 0.7985 - val_loss: 25.2198 - val_accuracy: 0.7870 - 9s/epoch - 19ms/step\n",
      "Epoch 9/10\n",
      "480/480 - 9s - loss: 28.3745 - accuracy: 0.7903 - val_loss: 30.3835 - val_accuracy: 0.8212 - 9s/epoch - 19ms/step\n",
      "Epoch 10/10\n",
      "480/480 - 9s - loss: 33.2821 - accuracy: 0.7966 - val_loss: 34.0460 - val_accuracy: 0.8236 - 9s/epoch - 18ms/step\n"
     ]
    }
   ],
   "source": [
    "from keras.regularizers import l2\n",
    "\n",
    "model = Sequential([\n",
    "    InputLayer(input_shape=x_train.shape[1:]),\n",
    "    Dense(units=128, activation=\"relu\", kernel_regularizer=l2(.001)),\n",
    "    Dense(units=128, activation=\"relu\", kernel_regularizer=l2(.001)),\n",
    "    Dense(units=y_train.shape[1], activation=\"softmax\", kernel_regularizer=l2(.001))\n",
    "])\n",
    "model.compile(loss=\"categorical_crossentropy\", optimizer=\"adam\", metrics=[\"accuracy\"])\n",
    "h = model.fit(x_train, y_train, epochs=10, batch_size=100, verbose=2, validation_split=.2)"
   ]
  },
  {
   "cell_type": "code",
   "execution_count": 30,
   "metadata": {},
   "outputs": [
    {
     "data": {
      "image/png": "[encoded data removed]",
      "text/plain": [
       "<Figure size 640x480 with 1 Axes>"
      ]
     },
     "metadata": {},
     "output_type": "display_data"
    }
   ],
   "source": [
    "plt.plot(h.history[\"val_loss\"], label=\"Validation loss\")\n",
    "plt.plot(h.history[\"loss\"], label=\"Training loss\")\n",
    "plt.legend();"
   ]
  },
  {
   "cell_type": "markdown",
   "metadata": {
    "cell_id": "00037-eeefff63-cd4e-4d79-b3ed-4f6bfb2ce154",
    "deepnote_cell_type": "markdown",
    "id": "vumLi62gNVhk"
   },
   "source": [
    "**Question #12.** Instead of the $\\ell_2$ regularization, set up a [drop-out](https://keras.io/api/layers/regularization_layers/dropout/) strategy and assess its impact on overfitting (you will turn off 10% of the neurons at each training batch)."
   ]
  },
  {
   "cell_type": "code",
   "execution_count": 31,
   "metadata": {
    "cell_id": "00031-76277bb0-9d1e-44c8-a795-8144cb710525",
    "deepnote_cell_type": "code",
    "deepnote_to_be_reexecuted": true,
    "source_hash": "b623e53d",
    "tags": []
   },
   "outputs": [
    {
     "name": "stdout",
     "output_type": "stream",
     "text": [
      "Epoch 1/10\n",
      "480/480 - 5s - loss: 0.5175 - accuracy: 0.8471 - val_loss: 0.3595 - val_accuracy: 0.9018 - 5s/epoch - 11ms/step\n",
      "Epoch 2/10\n",
      "480/480 - 5s - loss: 0.8310 - accuracy: 0.8375 - val_loss: 0.6608 - val_accuracy: 0.8922 - 5s/epoch - 10ms/step\n",
      "Epoch 3/10\n",
      "480/480 - 5s - loss: 1.8218 - accuracy: 0.8084 - val_loss: 1.5454 - val_accuracy: 0.8484 - 5s/epoch - 10ms/step\n",
      "Epoch 4/10\n",
      "480/480 - 5s - loss: 3.1146 - accuracy: 0.7949 - val_loss: 1.6656 - val_accuracy: 0.8817 - 5s/epoch - 10ms/step\n",
      "Epoch 5/10\n",
      "480/480 - 5s - loss: 4.0003 - accuracy: 0.7949 - val_loss: 2.2969 - val_accuracy: 0.8767 - 5s/epoch - 11ms/step\n",
      "Epoch 6/10\n",
      "480/480 - 6s - loss: 4.9723 - accuracy: 0.7930 - val_loss: 2.5202 - val_accuracy: 0.8732 - 6s/epoch - 12ms/step\n",
      "Epoch 7/10\n",
      "480/480 - 5s - loss: 5.8497 - accuracy: 0.7894 - val_loss: 3.4594 - val_accuracy: 0.8485 - 5s/epoch - 11ms/step\n",
      "Epoch 8/10\n",
      "480/480 - 5s - loss: 6.6248 - accuracy: 0.7871 - val_loss: 3.9581 - val_accuracy: 0.8587 - 5s/epoch - 11ms/step\n",
      "Epoch 9/10\n",
      "480/480 - 5s - loss: 7.6055 - accuracy: 0.7839 - val_loss: 3.8731 - val_accuracy: 0.8723 - 5s/epoch - 11ms/step\n",
      "Epoch 10/10\n",
      "480/480 - 5s - loss: 8.4641 - accuracy: 0.7821 - val_loss: 5.1075 - val_accuracy: 0.8492 - 5s/epoch - 11ms/step\n"
     ]
    }
   ],
   "source": [
    "from keras.layers import Dropout\n",
    "\n",
    "model = Sequential([\n",
    "    InputLayer(input_shape=x_train.shape[1:]),\n",
    "    Dropout(rate=0.1),\n",
    "    Dense(units=128, activation=\"relu\"),\n",
    "    Dropout(rate=0.1),\n",
    "    Dense(units=128, activation=\"relu\"),\n",
    "    Dropout(rate=0.1),\n",
    "    Dense(units=y_train.shape[1], activation=\"softmax\")\n",
    "])\n",
    "model.compile(loss=\"categorical_crossentropy\", optimizer=\"adam\", metrics=[\"accuracy\"])\n",
    "h = model.fit(x_train, y_train, epochs=10, batch_size=100, verbose=2, validation_split=.2)"
   ]
  },
  {
   "cell_type": "code",
   "execution_count": 32,
   "metadata": {},
   "outputs": [
    {
     "data": {
      "image/png": "[encoded data removed]",
      "text/plain": [
       "<Figure size 640x480 with 1 Axes>"
      ]
     },
     "metadata": {},
     "output_type": "display_data"
    }
   ],
   "source": [
    "plt.plot(h.history[\"val_loss\"], label=\"Validation loss\")\n",
    "plt.plot(h.history[\"loss\"], label=\"Training loss\")\n",
    "plt.legend();"
   ]
  },
  {
   "cell_type": "markdown",
   "metadata": {
    "cell_id": "00041-10a0c691-e01a-451e-807b-594ba76cc1fa",
    "deepnote_cell_type": "markdown",
    "id": "xbOmJKruNYyS"
   },
   "source": [
    "**Question #13.** Set up an [`EarlyStopping`](https://keras.io/api/callbacks/early_stopping/) strategy such that training the model will stop in case the validation loss does not decrease for 5 consecutive epochs."
   ]
  },
  {
   "cell_type": "code",
   "execution_count": 33,
   "metadata": {
    "cell_id": "00033-d7da52c7-7fbf-4f7d-940d-821cbe255b64",
    "deepnote_cell_type": "code",
    "deepnote_to_be_reexecuted": true,
    "source_hash": "b623e53d",
    "tags": []
   },
   "outputs": [
    {
     "name": "stdout",
     "output_type": "stream",
     "text": [
      "Epoch 1/100\n",
      "600/600 - 6s - loss: 0.4144 - accuracy: 0.8832 - val_loss: 0.3531 - val_accuracy: 0.8996 - 6s/epoch - 10ms/step\n",
      "Epoch 2/100\n",
      "600/600 - 5s - loss: 0.5933 - accuracy: 0.8700 - val_loss: 0.7460 - val_accuracy: 0.8669 - 5s/epoch - 9ms/step\n",
      "Epoch 3/100\n",
      "600/600 - 5s - loss: 1.3626 - accuracy: 0.8325 - val_loss: 2.7574 - val_accuracy: 0.7939 - 5s/epoch - 9ms/step\n",
      "Epoch 4/100\n",
      "600/600 - 5s - loss: 2.4181 - accuracy: 0.8191 - val_loss: 3.6652 - val_accuracy: 0.7909 - 5s/epoch - 9ms/step\n"
     ]
    }
   ],
   "source": [
    "from keras.callbacks import EarlyStopping\n",
    "\n",
    "cb = EarlyStopping(monitor=\"val_loss\", patience=3, restore_best_weights=True)\n",
    "\n",
    "model = Sequential([\n",
    "    InputLayer(input_shape=x_train.shape[1:]),\n",
    "    Dense(units=128, activation=\"relu\"),\n",
    "    Dense(units=128, activation=\"relu\"),\n",
    "    Dense(units=y_train.shape[1], activation=\"softmax\")\n",
    "])\n",
    "model.compile(loss=\"categorical_crossentropy\", optimizer=\"adam\", metrics=[\"accuracy\"])\n",
    "h = model.fit(x_train, y_train, epochs=100, batch_size=100, verbose=2, validation_data=(x_test, y_test), callbacks=[cb])"
   ]
  },
  {
   "cell_type": "code",
   "execution_count": 34,
   "metadata": {},
   "outputs": [
    {
     "name": "stdout",
     "output_type": "stream",
     "text": [
      "313/313 [==============================] - 3s 9ms/step - loss: 0.3531 - accuracy: 0.8996\n"
     ]
    },
    {
     "data": {
      "text/plain": [
       "[0.35313332080841064, 0.8996000289916992]"
      ]
     },
     "execution_count": 34,
     "metadata": {},
     "output_type": "execute_result"
    }
   ],
   "source": [
    "model.evaluate(x_test, y_test)"
   ]
  }
 ],
 "metadata": {
  "colab": {
   "collapsed_sections": [],
   "name": "MLP.ipynb",
   "provenance": []
  },
  "deepnote": {},
  "deepnote_execution_queue": [],
  "deepnote_notebook_id": "35aa3537-3e05-40fa-86f0-1f7ded16df52",
  "kernelspec": {
   "display_name": "Python 3",
   "name": "python3"
  },
  "language_info": {
   "codemirror_mode": {
    "name": "ipython",
    "version": 3
   },
   "file_extension": ".py",
   "mimetype": "text/x-python",
   "name": "python",
   "nbconvert_exporter": "python",
   "pygments_lexer": "ipython3",
   "version": "3.10.13"
  }
 },
 "nbformat": 4,
 "nbformat_minor": 0
}
