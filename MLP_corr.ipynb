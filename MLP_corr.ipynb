{
 "cells": [
  {
   "cell_type": "markdown",
   "metadata": {
    "cell_id": "00000-4e5bf590-09bc-42f5-a318-08994a30bfd4",
    "deepnote_cell_type": "markdown",
    "id": "NjCKi8REqlN6"
   },
   "source": [
    "# Multi-Layer Perceptron in `keras`\n",
    "\n",
    "In this series of lab sessions, you will use a Python library called `keras`.\n",
    "You should visit [`keras` webpage](https://keras.io/) to get access to more information about this library, including a comprehensive documentation.\n",
    "\n",
    "## The `Sequential` model in `keras`\n",
    "\n",
    "This library offers two ways to define neural network models. \n",
    "We will start with the `Sequential` class of `keras` models.\n",
    "Below is an example of how to define a `Sequential` model:"
   ]
  },
  {
   "cell_type": "code",
   "execution_count": 1,
   "metadata": {
    "tags": [
     "keep"
    ]
   },
   "outputs": [],
   "source": [
    "import os\n",
    "\n",
    "os.environ[\"KERAS_BACKEND\"] = \"torch\""
   ]
  },
  {
   "cell_type": "code",
   "execution_count": 2,
   "metadata": {
    "tags": [
     "keep"
    ]
   },
   "outputs": [],
   "source": [
    "import keras\n",
    "from keras.models import Sequential\n",
    "from keras.layers import Dense, InputLayer"
   ]
  },
  {
   "cell_type": "markdown",
   "metadata": {
    "cell_id": "00002-fddb7023-3fe5-422a-ab01-7974d23883a6",
    "deepnote_cell_type": "markdown",
    "id": "1UdkphfnspbR"
   },
   "source": [
    "**1. Define layers, and add them one by one to the model**\n"
   ]
  },
  {
   "cell_type": "code",
   "execution_count": 3,
   "metadata": {
    "cell_id": "00003-3e192e55-740f-4e3e-9969-016701af86a1",
    "deepnote_cell_type": "code",
    "deepnote_to_be_reexecuted": false,
    "execution_millis": 57,
    "execution_start": 1613342072806,
    "id": "JD54PuqWsp4Y",
    "source_hash": "e4cce2c1",
    "tags": [
     "keep"
    ]
   },
   "outputs": [
    {
     "name": "stderr",
     "output_type": "stream",
     "text": [
      "/Users/rtavenar/py3.10_ml/lib/python3.10/site-packages/keras/src/layers/core/input_layer.py:26: UserWarning: Argument `input_shape` is deprecated. Use `shape` instead.\n",
      "  warnings.warn(\n"
     ]
    }
   ],
   "source": [
    "input_layer = InputLayer(input_shape=(24,))\n",
    "hidden_layer1 = Dense(units=12, activation=\"relu\")\n",
    "hidden_layer2 = Dense(units=12, activation=\"sigmoid\")\n",
    "#[...]\n",
    "output_layer = Dense(units=3, activation=\"linear\")\n",
    "\n",
    "model = Sequential([\n",
    "    input_layer,\n",
    "    hidden_layer1,\n",
    "    hidden_layer2,\n",
    "    # ...\n",
    "    output_layer\n",
    "])"
   ]
  },
  {
   "cell_type": "markdown",
   "metadata": {
    "cell_id": "00004-607dbfcd-c789-4071-98bf-f51e230e647f",
    "deepnote_cell_type": "markdown",
    "id": "FTQLjyUoszDq"
   },
   "source": [
    "**2. Pick an optimization algorithm (optimizer) and a loss function to be optimized**\n",
    "\n",
    "Usual loss functions are:\n",
    "* `\"mse\"` for regression,\n",
    "* `\"categorical_crossentropy\"` for multiclass classification (when the `y` array fed to `fit` is of shape $(n, n_\\text{classes})$)\n",
    "* `\"binary_crossentropy\"` for binary classification (when the model is fed with `y` array of shape $(n, 1)$)\n",
    "\n",
    "One can also specify additional metrics to be printed during training (correct classification rate here)."
   ]
  },
  {
   "cell_type": "code",
   "execution_count": 4,
   "metadata": {
    "cell_id": "00005-29ab32a8-52eb-40c1-9c63-1e8b8943cbdd",
    "deepnote_cell_type": "code",
    "deepnote_to_be_reexecuted": false,
    "execution_millis": 9,
    "execution_start": 1613342072870,
    "id": "A_21M9Jqs3eJ",
    "source_hash": "63a93405",
    "tags": [
     "keep"
    ]
   },
   "outputs": [],
   "source": [
    "model.compile(optimizer=\"adam\", loss=\"categorical_crossentropy\", metrics=[\"accuracy\"])"
   ]
  },
  {
   "cell_type": "markdown",
   "metadata": {
    "cell_id": "00006-1084a597-d5d5-4e2e-96ba-bf42d51d64c7",
    "deepnote_cell_type": "markdown",
    "id": "ykI4bexvs5x-"
   },
   "source": [
    "**3. Fit the model**\n",
    "\n",
    "NB: do not try to execute the following line of code: variables `X_train` and `y_train` do not exist yet!"
   ]
  },
  {
   "cell_type": "code",
   "execution_count": 5,
   "metadata": {
    "cell_id": "00007-8516017c-c628-4ef3-ac0f-d80ca5f74a93",
    "deepnote_cell_type": "code",
    "deepnote_to_be_reexecuted": false,
    "execution_millis": 2,
    "execution_start": 1613342072879,
    "id": "rt89yAdWs688",
    "source_hash": "fd94a07d",
    "tags": [
     "keep"
    ]
   },
   "outputs": [],
   "source": [
    "#model.fit(X_train, y_train, verbose=2, epochs=10, batch_size=200)"
   ]
  },
  {
   "cell_type": "markdown",
   "metadata": {
    "cell_id": "00008-79f8d9f3-2a42-42bb-8bcc-fc2f1f47eecd",
    "deepnote_cell_type": "markdown",
    "id": "nHhJosslvDRY"
   },
   "source": [
    "## Data pre-processing\n",
    "\n",
    "Have a look at the `prepare_mnist` and `prepare_boston` functions defined below.\n",
    "\n",
    "**Question #1.** What do these functions do? What are the shapes of returned arrays? Does the returned data correpond to classification or regression problems?"
   ]
  },
  {
   "cell_type": "code",
   "execution_count": 6,
   "metadata": {
    "cell_id": "00009-c7c58fdf-b6f1-4f92-b82b-8ade1f4f44ca",
    "deepnote_cell_type": "code",
    "deepnote_to_be_reexecuted": false,
    "execution_millis": 1636,
    "execution_start": 1613342072885,
    "id": "7l-s71YRwTRA",
    "output_cleared": false,
    "source_hash": "1615ed07",
    "tags": [
     "keep"
    ]
   },
   "outputs": [],
   "source": [
    "from sklearn.preprocessing import MinMaxScaler\n",
    "from keras.datasets import mnist, boston_housing\n",
    "from keras.utils import to_categorical\n",
    "\n",
    "def prepare_mnist():\n",
    "    (x_train, y_train), (x_test, y_test) = mnist.load_data()\n",
    "    x_train = x_train.reshape((x_train.shape[0], -1))\n",
    "    x_test = x_test.reshape((x_test.shape[0], -1))\n",
    "    scaler = MinMaxScaler()\n",
    "    scaler.fit(x_train)\n",
    "    x_train = scaler.transform(x_train)\n",
    "    x_test = scaler.transform(x_test)\n",
    "    y_train = to_categorical(y_train)\n",
    "    y_test = to_categorical(y_test)\n",
    "    return x_train, x_test, y_train, y_test\n",
    "\n",
    "\n",
    "def prepare_boston():\n",
    "    (x_train, y_train), (x_test, y_test) = boston_housing.load_data()\n",
    "    scaler_x = MinMaxScaler()\n",
    "    scaler_x.fit(x_train)\n",
    "    x_train = scaler_x.transform(x_train)\n",
    "    x_test = scaler_x.transform(x_test)\n",
    "    scaler_y = MinMaxScaler()\n",
    "    scaler_y.fit(y_train.reshape((-1, 1)))\n",
    "    y_train = scaler_y.transform(y_train.reshape((-1, 1)))\n",
    "    y_test = scaler_y.transform(y_test.reshape((-1, 1)))\n",
    "    return x_train, x_test, y_train, y_test\n",
    "  \n",
    "x_train, x_test, y_train, y_test = prepare_mnist()"
   ]
  },
  {
   "cell_type": "code",
   "execution_count": 7,
   "metadata": {},
   "outputs": [
    {
     "data": {
      "text/plain": [
       "array([[0., 0., 0., 0., 0., 1., 0., 0., 0., 0.],\n",
       "       [1., 0., 0., 0., 0., 0., 0., 0., 0., 0.],\n",
       "       [0., 0., 0., 0., 1., 0., 0., 0., 0., 0.],\n",
       "       [0., 1., 0., 0., 0., 0., 0., 0., 0., 0.],\n",
       "       [0., 0., 0., 0., 0., 0., 0., 0., 0., 1.],\n",
       "       [0., 0., 1., 0., 0., 0., 0., 0., 0., 0.],\n",
       "       [0., 1., 0., 0., 0., 0., 0., 0., 0., 0.],\n",
       "       [0., 0., 0., 1., 0., 0., 0., 0., 0., 0.],\n",
       "       [0., 1., 0., 0., 0., 0., 0., 0., 0., 0.],\n",
       "       [0., 0., 0., 0., 1., 0., 0., 0., 0., 0.]])"
      ]
     },
     "execution_count": 7,
     "metadata": {},
     "output_type": "execute_result"
    }
   ],
   "source": [
    "y_train[:10]"
   ]
  },
  {
   "cell_type": "code",
   "execution_count": 8,
   "metadata": {
    "cell_id": "00010-3c1481af-a4d7-424b-a59e-3a2745234530",
    "deepnote_cell_type": "code",
    "deepnote_to_be_reexecuted": false,
    "execution_millis": 64,
    "execution_start": 1613342074525,
    "id": "CGlUHH6KFpj3",
    "output_cleared": false,
    "source_hash": "7facd6d8"
   },
   "outputs": [],
   "source": [
    "x_train, x_test, y_train, y_test = prepare_boston()"
   ]
  },
  {
   "cell_type": "code",
   "execution_count": 9,
   "metadata": {},
   "outputs": [
    {
     "name": "stdout",
     "output_type": "stream",
     "text": [
      "(404, 13) (404, 1)\n",
      "[[0.22666667]\n",
      " [0.82888889]\n",
      " [1.        ]\n",
      " [0.35777778]\n",
      " [0.28222222]\n",
      " [0.3       ]\n",
      " [0.14      ]\n",
      " [0.23555556]\n",
      " [0.23555556]\n",
      " [0.20888889]]\n"
     ]
    }
   ],
   "source": [
    "print(x_train.shape, y_train.shape)\n",
    "print(y_train[:10])"
   ]
  },
  {
   "cell_type": "markdown",
   "metadata": {
    "cell_id": "00011-1ecdf9c5-01c3-4a0d-a9c6-cfd28e6be23d",
    "deepnote_cell_type": "markdown",
    "id": "VRA_Ec2-yIGA"
   },
   "source": [
    "## Building your first models\n",
    "\n",
    "In the following, when fitting models, restrict the training to 10 epochs (which is not realistic, but training for more epochs takes time...)\n",
    "\n",
    "**Question #2.** Following the guidelines provided above, implement a linear regression model for the `boston` dataset that would optimize on a least squares objective using Stochastic Gradient Descent and fit your model to the corresponding training data."
   ]
  },
  {
   "cell_type": "code",
   "execution_count": 10,
   "metadata": {
    "cell_id": "00013-2e740cd6-9a8b-4a74-b85f-c7a66127d510",
    "deepnote_cell_type": "code",
    "deepnote_to_be_reexecuted": false,
    "execution_millis": 1,
    "execution_start": 1613342074582,
    "output_cleared": true,
    "source_hash": "b623e53d",
    "tags": []
   },
   "outputs": [
    {
     "name": "stdout",
     "output_type": "stream",
     "text": [
      "Epoch 1/10\n"
     ]
    },
    {
     "name": "stderr",
     "output_type": "stream",
     "text": [
      "/Users/rtavenar/py3.10_ml/lib/python3.10/site-packages/keras/src/layers/core/input_layer.py:26: UserWarning: Argument `input_shape` is deprecated. Use `shape` instead.\n",
      "  warnings.warn(\n"
     ]
    },
    {
     "name": "stdout",
     "output_type": "stream",
     "text": [
      "5/5 - 1s - 218ms/step - loss: 0.3178\n",
      "Epoch 2/10\n",
      "5/5 - 0s - 4ms/step - loss: 0.2322\n",
      "Epoch 3/10\n",
      "5/5 - 0s - 4ms/step - loss: 0.1924\n",
      "Epoch 4/10\n",
      "5/5 - 0s - 4ms/step - loss: 0.1710\n",
      "Epoch 5/10\n",
      "5/5 - 0s - 4ms/step - loss: 0.1628\n",
      "Epoch 6/10\n",
      "5/5 - 0s - 4ms/step - loss: 0.1563\n",
      "Epoch 7/10\n",
      "5/5 - 0s - 4ms/step - loss: 0.1514\n",
      "Epoch 8/10\n",
      "5/5 - 0s - 4ms/step - loss: 0.1483\n",
      "Epoch 9/10\n",
      "5/5 - 0s - 4ms/step - loss: 0.1447\n",
      "Epoch 10/10\n",
      "5/5 - 0s - 4ms/step - loss: 0.1425\n"
     ]
    },
    {
     "data": {
      "text/plain": [
       "<keras.src.callbacks.history.History at 0x326997dc0>"
      ]
     },
     "execution_count": 10,
     "metadata": {},
     "output_type": "execute_result"
    }
   ],
   "source": [
    "input_layer = InputLayer(input_shape=(13,))\n",
    "output_layer = Dense(units=1, activation=\"linear\")\n",
    "\n",
    "model = Sequential([\n",
    "    input_layer,\n",
    "    output_layer\n",
    "])\n",
    "model.compile(loss=\"mse\", optimizer=\"sgd\")\n",
    "model.fit(x_train, y_train, epochs=10, batch_size=100, verbose=2)"
   ]
  },
  {
   "cell_type": "markdown",
   "metadata": {
    "cell_id": "00015-c40decce-b6c2-4f3e-af55-6dc6b2eb29cd",
    "deepnote_cell_type": "markdown",
    "id": "Gqt1yH9Gzfuh"
   },
   "source": [
    "**Question #3.** Similarly, define a logistic regression model for the `mnist` dataset and print its training accuracy during training."
   ]
  },
  {
   "cell_type": "code",
   "execution_count": 11,
   "metadata": {
    "cell_id": "00014-fa195760-a859-4672-bd64-7911ece3c703",
    "deepnote_cell_type": "code",
    "tags": []
   },
   "outputs": [
    {
     "name": "stdout",
     "output_type": "stream",
     "text": [
      "Epoch 1/10\n"
     ]
    },
    {
     "name": "stderr",
     "output_type": "stream",
     "text": [
      "/Users/rtavenar/py3.10_ml/lib/python3.10/site-packages/keras/src/layers/core/input_layer.py:26: UserWarning: Argument `input_shape` is deprecated. Use `shape` instead.\n",
      "  warnings.warn(\n"
     ]
    },
    {
     "name": "stdout",
     "output_type": "stream",
     "text": [
      "600/600 - 5s - 9ms/step - accuracy: 0.8459 - loss: 0.6229\n",
      "Epoch 2/10\n",
      "600/600 - 4s - 7ms/step - accuracy: 0.9058 - loss: 0.3462\n",
      "Epoch 3/10\n",
      "600/600 - 4s - 6ms/step - accuracy: 0.9148 - loss: 0.3095\n",
      "Epoch 4/10\n",
      "600/600 - 4s - 7ms/step - accuracy: 0.9186 - loss: 0.2920\n",
      "Epoch 5/10\n",
      "600/600 - 4s - 6ms/step - accuracy: 0.9221 - loss: 0.2818\n",
      "Epoch 6/10\n",
      "600/600 - 4s - 6ms/step - accuracy: 0.9240 - loss: 0.2750\n",
      "Epoch 7/10\n",
      "600/600 - 4s - 6ms/step - accuracy: 0.9248 - loss: 0.2694\n",
      "Epoch 8/10\n",
      "600/600 - 4s - 6ms/step - accuracy: 0.9265 - loss: 0.2649\n",
      "Epoch 9/10\n",
      "600/600 - 4s - 6ms/step - accuracy: 0.9269 - loss: 0.2619\n",
      "Epoch 10/10\n",
      "600/600 - 4s - 6ms/step - accuracy: 0.9285 - loss: 0.2585\n"
     ]
    },
    {
     "data": {
      "text/plain": [
       "<keras.src.callbacks.history.History at 0x3269f9bd0>"
      ]
     },
     "execution_count": 11,
     "metadata": {},
     "output_type": "execute_result"
    }
   ],
   "source": [
    "x_train, x_test, y_train, y_test = prepare_mnist()\n",
    "\n",
    "input_layer = InputLayer(input_shape=x_train.shape[1:])\n",
    "output_layer = Dense(units=y_train.shape[1], activation=\"softmax\")\n",
    "\n",
    "model = Sequential([\n",
    "    input_layer,\n",
    "    output_layer\n",
    "])\n",
    "model.compile(loss=\"categorical_crossentropy\", optimizer=\"adam\", metrics=[\"accuracy\"])\n",
    "model.fit(x_train, y_train, epochs=10, batch_size=100, verbose=2)"
   ]
  },
  {
   "cell_type": "markdown",
   "metadata": {
    "cell_id": "00018-cfad4bc9-a1de-43a4-bb43-d74840d9869d",
    "deepnote_cell_type": "markdown",
    "id": "6SGA-CdS0vwW"
   },
   "source": [
    "**Question #4.** Compare performance (in terms of training accuracy, we will come back to better ways to compare models afterwards) of this logistic regression model with that of a neural network with respectively 1, 2, and 3 hidden layers of 128 neurons each.\n",
    "You will use the `\"relu\"` activation function for hidden layers."
   ]
  },
  {
   "cell_type": "code",
   "execution_count": 12,
   "metadata": {
    "cell_id": "00016-667b31d2-ee2e-4a34-9a88-33c19a38522a",
    "deepnote_cell_type": "code",
    "deepnote_to_be_reexecuted": true,
    "source_hash": "b623e53d",
    "tags": []
   },
   "outputs": [
    {
     "name": "stdout",
     "output_type": "stream",
     "text": [
      "Epoch 1/10\n",
      "600/600 - 5s - 8ms/step - accuracy: 0.9053 - loss: 0.3399\n",
      "Epoch 2/10\n",
      "600/600 - 4s - 7ms/step - accuracy: 0.9560 - loss: 0.1531\n",
      "Epoch 3/10\n",
      "600/600 - 4s - 7ms/step - accuracy: 0.9681 - loss: 0.1090\n",
      "Epoch 4/10\n",
      "600/600 - 5s - 8ms/step - accuracy: 0.9751 - loss: 0.0846\n",
      "Epoch 5/10\n",
      "600/600 - 5s - 8ms/step - accuracy: 0.9796 - loss: 0.0680\n",
      "Epoch 6/10\n",
      "600/600 - 5s - 8ms/step - accuracy: 0.9831 - loss: 0.0566\n",
      "Epoch 7/10\n",
      "600/600 - 5s - 8ms/step - accuracy: 0.9866 - loss: 0.0459\n",
      "Epoch 8/10\n",
      "600/600 - 5s - 8ms/step - accuracy: 0.9894 - loss: 0.0381\n",
      "Epoch 9/10\n",
      "600/600 - 5s - 8ms/step - accuracy: 0.9912 - loss: 0.0318\n",
      "Epoch 10/10\n",
      "600/600 - 5s - 8ms/step - accuracy: 0.9930 - loss: 0.0263\n"
     ]
    },
    {
     "data": {
      "text/plain": [
       "<keras.src.callbacks.history.History at 0x361a2a020>"
      ]
     },
     "execution_count": 12,
     "metadata": {},
     "output_type": "execute_result"
    }
   ],
   "source": [
    "model = Sequential([\n",
    "    InputLayer(input_shape=x_train.shape[1:]),\n",
    "    Dense(units=128, activation=\"relu\"),\n",
    "    Dense(units=y_train.shape[1], activation=\"softmax\")\n",
    "])\n",
    "model.compile(loss=\"categorical_crossentropy\", optimizer=\"adam\", metrics=[\"accuracy\"])\n",
    "model.fit(x_train, y_train, epochs=10, batch_size=100, verbose=2)"
   ]
  },
  {
   "cell_type": "code",
   "execution_count": 13,
   "metadata": {},
   "outputs": [
    {
     "name": "stdout",
     "output_type": "stream",
     "text": [
      "Epoch 1/10\n",
      "600/600 - 5s - 9ms/step - accuracy: 0.9150 - loss: 0.2963\n",
      "Epoch 2/10\n",
      "600/600 - 5s - 8ms/step - accuracy: 0.9652 - loss: 0.1142\n",
      "Epoch 3/10\n",
      "600/600 - 5s - 8ms/step - accuracy: 0.9772 - loss: 0.0764\n",
      "Epoch 4/10\n",
      "600/600 - 5s - 8ms/step - accuracy: 0.9821 - loss: 0.0579\n",
      "Epoch 5/10\n",
      "600/600 - 5s - 8ms/step - accuracy: 0.9865 - loss: 0.0437\n",
      "Epoch 6/10\n",
      "600/600 - 5s - 8ms/step - accuracy: 0.9884 - loss: 0.0364\n",
      "Epoch 7/10\n",
      "600/600 - 5s - 8ms/step - accuracy: 0.9907 - loss: 0.0294\n",
      "Epoch 8/10\n",
      "600/600 - 5s - 8ms/step - accuracy: 0.9922 - loss: 0.0245\n",
      "Epoch 9/10\n",
      "600/600 - 5s - 8ms/step - accuracy: 0.9938 - loss: 0.0194\n",
      "Epoch 10/10\n",
      "600/600 - 5s - 8ms/step - accuracy: 0.9951 - loss: 0.0159\n"
     ]
    },
    {
     "data": {
      "text/plain": [
       "<keras.src.callbacks.history.History at 0x361a2a830>"
      ]
     },
     "execution_count": 13,
     "metadata": {},
     "output_type": "execute_result"
    }
   ],
   "source": [
    "model = Sequential([\n",
    "    InputLayer(input_shape=x_train.shape[1:]),\n",
    "    Dense(units=128, activation=\"relu\"),\n",
    "    Dense(units=128, activation=\"relu\"),\n",
    "    Dense(units=y_train.shape[1], activation=\"softmax\")\n",
    "])\n",
    "model.compile(loss=\"categorical_crossentropy\", optimizer=\"adam\", metrics=[\"accuracy\"])\n",
    "model.fit(x_train, y_train, epochs=10, batch_size=100, verbose=2)"
   ]
  },
  {
   "cell_type": "code",
   "execution_count": 14,
   "metadata": {},
   "outputs": [
    {
     "name": "stdout",
     "output_type": "stream",
     "text": [
      "Epoch 1/10\n",
      "600/600 - 5s - 9ms/step - accuracy: 0.9181 - loss: 0.2779\n",
      "Epoch 2/10\n",
      "600/600 - 5s - 9ms/step - accuracy: 0.9673 - loss: 0.1086\n",
      "Epoch 3/10\n",
      "600/600 - 6s - 9ms/step - accuracy: 0.9772 - loss: 0.0748\n",
      "Epoch 4/10\n",
      "600/600 - 6s - 9ms/step - accuracy: 0.9822 - loss: 0.0563\n",
      "Epoch 5/10\n",
      "600/600 - 6s - 9ms/step - accuracy: 0.9855 - loss: 0.0453\n",
      "Epoch 6/10\n",
      "600/600 - 6s - 9ms/step - accuracy: 0.9885 - loss: 0.0351\n",
      "Epoch 7/10\n",
      "600/600 - 5s - 9ms/step - accuracy: 0.9888 - loss: 0.0321\n",
      "Epoch 8/10\n",
      "600/600 - 6s - 9ms/step - accuracy: 0.9915 - loss: 0.0251\n",
      "Epoch 9/10\n",
      "600/600 - 6s - 9ms/step - accuracy: 0.9923 - loss: 0.0232\n",
      "Epoch 10/10\n",
      "600/600 - 6s - 9ms/step - accuracy: 0.9928 - loss: 0.0203\n"
     ]
    },
    {
     "data": {
      "text/plain": [
       "<keras.src.callbacks.history.History at 0x361a5b280>"
      ]
     },
     "execution_count": 14,
     "metadata": {},
     "output_type": "execute_result"
    }
   ],
   "source": [
    "model = Sequential([\n",
    "    InputLayer(input_shape=x_train.shape[1:]),\n",
    "    Dense(units=128, activation=\"relu\"),\n",
    "    Dense(units=128, activation=\"relu\"),\n",
    "    Dense(units=128, activation=\"relu\"),\n",
    "    Dense(units=y_train.shape[1], activation=\"softmax\")\n",
    "])\n",
    "model.compile(loss=\"categorical_crossentropy\", optimizer=\"adam\", metrics=[\"accuracy\"])\n",
    "model.fit(x_train, y_train, epochs=10, batch_size=100, verbose=2)"
   ]
  },
  {
   "cell_type": "code",
   "execution_count": 15,
   "metadata": {},
   "outputs": [
    {
     "data": {
      "text/html": [
       "<pre style=\"white-space:pre;overflow-x:auto;line-height:normal;font-family:Menlo,'DejaVu Sans Mono',consolas,'Courier New',monospace\"><span style=\"font-weight: bold\">Model: \"sequential_5\"</span>\n",
       "</pre>\n"
      ],
      "text/plain": [
       "\u001b[1mModel: \"sequential_5\"\u001b[0m\n"
      ]
     },
     "metadata": {},
     "output_type": "display_data"
    },
    {
     "data": {
      "text/html": [
       "<pre style=\"white-space:pre;overflow-x:auto;line-height:normal;font-family:Menlo,'DejaVu Sans Mono',consolas,'Courier New',monospace\">┏━━━━━━━━━━━━━━━━━━━━━━━━━━━━━━━━━┳━━━━━━━━━━━━━━━━━━━━━━━━┳━━━━━━━━━━━━━━━┓\n",
       "┃<span style=\"font-weight: bold\"> Layer (type)                    </span>┃<span style=\"font-weight: bold\"> Output Shape           </span>┃<span style=\"font-weight: bold\">       Param # </span>┃\n",
       "┡━━━━━━━━━━━━━━━━━━━━━━━━━━━━━━━━━╇━━━━━━━━━━━━━━━━━━━━━━━━╇━━━━━━━━━━━━━━━┩\n",
       "│ dense_10 (<span style=\"color: #0087ff; text-decoration-color: #0087ff\">Dense</span>)                │ (<span style=\"color: #00d7ff; text-decoration-color: #00d7ff\">None</span>, <span style=\"color: #00af00; text-decoration-color: #00af00\">128</span>)            │       <span style=\"color: #00af00; text-decoration-color: #00af00\">100,480</span> │\n",
       "├─────────────────────────────────┼────────────────────────┼───────────────┤\n",
       "│ dense_11 (<span style=\"color: #0087ff; text-decoration-color: #0087ff\">Dense</span>)                │ (<span style=\"color: #00d7ff; text-decoration-color: #00d7ff\">None</span>, <span style=\"color: #00af00; text-decoration-color: #00af00\">128</span>)            │        <span style=\"color: #00af00; text-decoration-color: #00af00\">16,512</span> │\n",
       "├─────────────────────────────────┼────────────────────────┼───────────────┤\n",
       "│ dense_12 (<span style=\"color: #0087ff; text-decoration-color: #0087ff\">Dense</span>)                │ (<span style=\"color: #00d7ff; text-decoration-color: #00d7ff\">None</span>, <span style=\"color: #00af00; text-decoration-color: #00af00\">128</span>)            │        <span style=\"color: #00af00; text-decoration-color: #00af00\">16,512</span> │\n",
       "├─────────────────────────────────┼────────────────────────┼───────────────┤\n",
       "│ dense_13 (<span style=\"color: #0087ff; text-decoration-color: #0087ff\">Dense</span>)                │ (<span style=\"color: #00d7ff; text-decoration-color: #00d7ff\">None</span>, <span style=\"color: #00af00; text-decoration-color: #00af00\">10</span>)             │         <span style=\"color: #00af00; text-decoration-color: #00af00\">1,290</span> │\n",
       "└─────────────────────────────────┴────────────────────────┴───────────────┘\n",
       "</pre>\n"
      ],
      "text/plain": [
       "┏━━━━━━━━━━━━━━━━━━━━━━━━━━━━━━━━━┳━━━━━━━━━━━━━━━━━━━━━━━━┳━━━━━━━━━━━━━━━┓\n",
       "┃\u001b[1m \u001b[0m\u001b[1mLayer (type)                   \u001b[0m\u001b[1m \u001b[0m┃\u001b[1m \u001b[0m\u001b[1mOutput Shape          \u001b[0m\u001b[1m \u001b[0m┃\u001b[1m \u001b[0m\u001b[1m      Param #\u001b[0m\u001b[1m \u001b[0m┃\n",
       "┡━━━━━━━━━━━━━━━━━━━━━━━━━━━━━━━━━╇━━━━━━━━━━━━━━━━━━━━━━━━╇━━━━━━━━━━━━━━━┩\n",
       "│ dense_10 (\u001b[38;5;33mDense\u001b[0m)                │ (\u001b[38;5;45mNone\u001b[0m, \u001b[38;5;34m128\u001b[0m)            │       \u001b[38;5;34m100,480\u001b[0m │\n",
       "├─────────────────────────────────┼────────────────────────┼───────────────┤\n",
       "│ dense_11 (\u001b[38;5;33mDense\u001b[0m)                │ (\u001b[38;5;45mNone\u001b[0m, \u001b[38;5;34m128\u001b[0m)            │        \u001b[38;5;34m16,512\u001b[0m │\n",
       "├─────────────────────────────────┼────────────────────────┼───────────────┤\n",
       "│ dense_12 (\u001b[38;5;33mDense\u001b[0m)                │ (\u001b[38;5;45mNone\u001b[0m, \u001b[38;5;34m128\u001b[0m)            │        \u001b[38;5;34m16,512\u001b[0m │\n",
       "├─────────────────────────────────┼────────────────────────┼───────────────┤\n",
       "│ dense_13 (\u001b[38;5;33mDense\u001b[0m)                │ (\u001b[38;5;45mNone\u001b[0m, \u001b[38;5;34m10\u001b[0m)             │         \u001b[38;5;34m1,290\u001b[0m │\n",
       "└─────────────────────────────────┴────────────────────────┴───────────────┘\n"
      ]
     },
     "metadata": {},
     "output_type": "display_data"
    },
    {
     "data": {
      "text/html": [
       "<pre style=\"white-space:pre;overflow-x:auto;line-height:normal;font-family:Menlo,'DejaVu Sans Mono',consolas,'Courier New',monospace\"><span style=\"font-weight: bold\"> Total params: </span><span style=\"color: #00af00; text-decoration-color: #00af00\">404,384</span> (1.54 MB)\n",
       "</pre>\n"
      ],
      "text/plain": [
       "\u001b[1m Total params: \u001b[0m\u001b[38;5;34m404,384\u001b[0m (1.54 MB)\n"
      ]
     },
     "metadata": {},
     "output_type": "display_data"
    },
    {
     "data": {
      "text/html": [
       "<pre style=\"white-space:pre;overflow-x:auto;line-height:normal;font-family:Menlo,'DejaVu Sans Mono',consolas,'Courier New',monospace\"><span style=\"font-weight: bold\"> Trainable params: </span><span style=\"color: #00af00; text-decoration-color: #00af00\">134,794</span> (526.54 KB)\n",
       "</pre>\n"
      ],
      "text/plain": [
       "\u001b[1m Trainable params: \u001b[0m\u001b[38;5;34m134,794\u001b[0m (526.54 KB)\n"
      ]
     },
     "metadata": {},
     "output_type": "display_data"
    },
    {
     "data": {
      "text/html": [
       "<pre style=\"white-space:pre;overflow-x:auto;line-height:normal;font-family:Menlo,'DejaVu Sans Mono',consolas,'Courier New',monospace\"><span style=\"font-weight: bold\"> Non-trainable params: </span><span style=\"color: #00af00; text-decoration-color: #00af00\">0</span> (0.00 B)\n",
       "</pre>\n"
      ],
      "text/plain": [
       "\u001b[1m Non-trainable params: \u001b[0m\u001b[38;5;34m0\u001b[0m (0.00 B)\n"
      ]
     },
     "metadata": {},
     "output_type": "display_data"
    },
    {
     "data": {
      "text/html": [
       "<pre style=\"white-space:pre;overflow-x:auto;line-height:normal;font-family:Menlo,'DejaVu Sans Mono',consolas,'Courier New',monospace\"><span style=\"font-weight: bold\"> Optimizer params: </span><span style=\"color: #00af00; text-decoration-color: #00af00\">269,590</span> (1.03 MB)\n",
       "</pre>\n"
      ],
      "text/plain": [
       "\u001b[1m Optimizer params: \u001b[0m\u001b[38;5;34m269,590\u001b[0m (1.03 MB)\n"
      ]
     },
     "metadata": {},
     "output_type": "display_data"
    }
   ],
   "source": [
    "model.summary()"
   ]
  },
  {
   "cell_type": "markdown",
   "metadata": {
    "cell_id": "00020-a024cc10-c7b4-4021-89d9-0ed7447b2b9e",
    "deepnote_cell_type": "markdown",
    "id": "tC9EB0vs363m"
   },
   "source": [
    "**Question #5.** `keras` models offer a `count_params()` method to get the number of parameters to be learned in the model. Use this facility to get the number of parameters of your 3-hidden-layer model and build a new one-hidden-layer model with an equivalent number of parameters. Compare performance of these two models with similar number of parameters."
   ]
  },
  {
   "cell_type": "code",
   "execution_count": 16,
   "metadata": {
    "cell_id": "00018-d3f7b59d-095f-43d8-903e-2b92eb43619f",
    "deepnote_cell_type": "code",
    "deepnote_to_be_reexecuted": true,
    "source_hash": "b623e53d",
    "tags": []
   },
   "outputs": [
    {
     "name": "stdout",
     "output_type": "stream",
     "text": [
      "134365\n",
      "Epoch 1/10\n",
      "600/600 - 5s - 8ms/step - accuracy: 0.9096 - loss: 0.3214\n",
      "Epoch 2/10\n",
      "600/600 - 5s - 8ms/step - accuracy: 0.9579 - loss: 0.1453\n",
      "Epoch 3/10\n",
      "600/600 - 5s - 8ms/step - accuracy: 0.9705 - loss: 0.1003\n",
      "Epoch 4/10\n",
      "600/600 - 4s - 7ms/step - accuracy: 0.9782 - loss: 0.0750\n",
      "Epoch 5/10\n",
      "600/600 - 4s - 7ms/step - accuracy: 0.9821 - loss: 0.0591\n",
      "Epoch 6/10\n",
      "600/600 - 5s - 8ms/step - accuracy: 0.9869 - loss: 0.0462\n",
      "Epoch 7/10\n",
      "600/600 - 5s - 8ms/step - accuracy: 0.9893 - loss: 0.0369\n",
      "Epoch 8/10\n",
      "600/600 - 5s - 8ms/step - accuracy: 0.9912 - loss: 0.0302\n",
      "Epoch 9/10\n",
      "600/600 - 5s - 8ms/step - accuracy: 0.9939 - loss: 0.0237\n",
      "Epoch 10/10\n",
      "600/600 - 5s - 8ms/step - accuracy: 0.9950 - loss: 0.0197\n"
     ]
    },
    {
     "data": {
      "text/plain": [
       "<keras.src.callbacks.history.History at 0x367799a50>"
      ]
     },
     "execution_count": 16,
     "metadata": {},
     "output_type": "execute_result"
    }
   ],
   "source": [
    "units = 134794 / 794\n",
    "\n",
    "model = Sequential([\n",
    "    InputLayer(input_shape=x_train.shape[1:]),\n",
    "    Dense(units=units, activation=\"relu\"),\n",
    "    Dense(units=y_train.shape[1], activation=\"softmax\")\n",
    "])\n",
    "print(model.count_params())\n",
    "model.compile(loss=\"categorical_crossentropy\", optimizer=\"adam\", metrics=[\"accuracy\"])\n",
    "model.fit(x_train, y_train, epochs=10, batch_size=100, verbose=2)"
   ]
  },
  {
   "cell_type": "markdown",
   "metadata": {
    "cell_id": "00024-1bdd65e7-515d-4064-882a-54c651abfd3d",
    "deepnote_cell_type": "markdown",
    "id": "iXxTGmUw5ppd"
   },
   "source": [
    "## A better way to compare models\n",
    "\n",
    "Comparing models based on training accuracy (resp. loss) is a \"great\" way to overfit your model to the training data.\n",
    "A better way to compare models is to use hold out data (aka validation set).\n",
    "\n",
    "To do so, `keras` allows to pass, at `fit` time, a fraction of the training data to be used as validation set. Have a look [there](https://keras.io/api/models/model_training_apis/#fit-method) for more details about how validation samples are selected.\n",
    "\n",
    "**Question #6.** Repeat model comparisons above (relying on validation scores) using 30% of training data as validation set."
   ]
  },
  {
   "cell_type": "code",
   "execution_count": 17,
   "metadata": {},
   "outputs": [
    {
     "name": "stdout",
     "output_type": "stream",
     "text": [
      "Epoch 1/10\n",
      "420/420 - 5s - 11ms/step - accuracy: 0.9038 - loss: 0.3343 - val_accuracy: 0.9469 - val_loss: 0.1764\n",
      "Epoch 2/10\n",
      "420/420 - 5s - 11ms/step - accuracy: 0.9612 - loss: 0.1293 - val_accuracy: 0.9569 - val_loss: 0.1419\n",
      "Epoch 3/10\n",
      "420/420 - 5s - 12ms/step - accuracy: 0.9743 - loss: 0.0860 - val_accuracy: 0.9662 - val_loss: 0.1143\n",
      "Epoch 4/10\n",
      "420/420 - 5s - 11ms/step - accuracy: 0.9789 - loss: 0.0643 - val_accuracy: 0.9694 - val_loss: 0.1076\n",
      "Epoch 5/10\n",
      "420/420 - 5s - 11ms/step - accuracy: 0.9837 - loss: 0.0494 - val_accuracy: 0.9731 - val_loss: 0.1001\n",
      "Epoch 6/10\n",
      "420/420 - 5s - 12ms/step - accuracy: 0.9885 - loss: 0.0369 - val_accuracy: 0.9703 - val_loss: 0.1054\n",
      "Epoch 7/10\n",
      "420/420 - 5s - 12ms/step - accuracy: 0.9894 - loss: 0.0342 - val_accuracy: 0.9705 - val_loss: 0.1126\n",
      "Epoch 8/10\n",
      "420/420 - 5s - 12ms/step - accuracy: 0.9913 - loss: 0.0267 - val_accuracy: 0.9716 - val_loss: 0.1159\n",
      "Epoch 9/10\n",
      "420/420 - 5s - 12ms/step - accuracy: 0.9921 - loss: 0.0241 - val_accuracy: 0.9703 - val_loss: 0.1199\n",
      "Epoch 10/10\n",
      "420/420 - 5s - 12ms/step - accuracy: 0.9922 - loss: 0.0244 - val_accuracy: 0.9706 - val_loss: 0.1234\n"
     ]
    },
    {
     "data": {
      "text/plain": [
       "<keras.src.callbacks.history.History at 0x36779bc10>"
      ]
     },
     "execution_count": 17,
     "metadata": {},
     "output_type": "execute_result"
    }
   ],
   "source": [
    "model = Sequential([\n",
    "    InputLayer(input_shape=x_train.shape[1:]),\n",
    "    Dense(units=128, activation=\"relu\"),\n",
    "    Dense(units=128, activation=\"relu\"),\n",
    "    Dense(units=128, activation=\"relu\"),\n",
    "    Dense(units=y_train.shape[1], activation=\"softmax\")\n",
    "])\n",
    "model.compile(loss=\"categorical_crossentropy\", optimizer=\"adam\", metrics=[\"accuracy\"])\n",
    "model.fit(x_train, y_train, epochs=10, batch_size=100, verbose=2, validation_split=.3)"
   ]
  },
  {
   "cell_type": "code",
   "execution_count": 18,
   "metadata": {},
   "outputs": [
    {
     "name": "stdout",
     "output_type": "stream",
     "text": [
      "134365\n",
      "Epoch 1/10\n",
      "420/420 - 4s - 10ms/step - accuracy: 0.8983 - loss: 0.3683 - val_accuracy: 0.9391 - val_loss: 0.2108\n",
      "Epoch 2/10\n",
      "420/420 - 4s - 10ms/step - accuracy: 0.9521 - loss: 0.1667 - val_accuracy: 0.9559 - val_loss: 0.1545\n",
      "Epoch 3/10\n",
      "420/420 - 4s - 9ms/step - accuracy: 0.9663 - loss: 0.1175 - val_accuracy: 0.9609 - val_loss: 0.1335\n",
      "Epoch 4/10\n",
      "420/420 - 4s - 9ms/step - accuracy: 0.9734 - loss: 0.0906 - val_accuracy: 0.9674 - val_loss: 0.1131\n",
      "Epoch 5/10\n",
      "420/420 - 4s - 9ms/step - accuracy: 0.9803 - loss: 0.0704 - val_accuracy: 0.9678 - val_loss: 0.1093\n",
      "Epoch 6/10\n",
      "420/420 - 4s - 9ms/step - accuracy: 0.9845 - loss: 0.0560 - val_accuracy: 0.9707 - val_loss: 0.1011\n",
      "Epoch 7/10\n",
      "420/420 - 4s - 9ms/step - accuracy: 0.9873 - loss: 0.0455 - val_accuracy: 0.9718 - val_loss: 0.0969\n",
      "Epoch 8/10\n",
      "420/420 - 4s - 10ms/step - accuracy: 0.9895 - loss: 0.0372 - val_accuracy: 0.9727 - val_loss: 0.0911\n",
      "Epoch 9/10\n",
      "420/420 - 4s - 9ms/step - accuracy: 0.9916 - loss: 0.0308 - val_accuracy: 0.9729 - val_loss: 0.0952\n",
      "Epoch 10/10\n",
      "420/420 - 4s - 10ms/step - accuracy: 0.9939 - loss: 0.0247 - val_accuracy: 0.9732 - val_loss: 0.0955\n"
     ]
    },
    {
     "data": {
      "text/plain": [
       "<keras.src.callbacks.history.History at 0x361aa9bd0>"
      ]
     },
     "execution_count": 18,
     "metadata": {},
     "output_type": "execute_result"
    }
   ],
   "source": [
    "units = 134794 / 794\n",
    "\n",
    "model = Sequential([\n",
    "    InputLayer(input_shape=x_train.shape[1:]),\n",
    "    Dense(units=units, activation=\"relu\"),\n",
    "    Dense(units=y_train.shape[1], activation=\"softmax\")\n",
    "])\n",
    "print(model.count_params())\n",
    "model.compile(loss=\"categorical_crossentropy\", optimizer=\"adam\", metrics=[\"accuracy\"])\n",
    "model.fit(x_train, y_train, epochs=10, batch_size=100, verbose=2, validation_split=.3)"
   ]
  },
  {
   "cell_type": "markdown",
   "metadata": {
    "cell_id": "00026-77f877a8-a870-4358-a389-6435fd380c88",
    "deepnote_cell_type": "markdown",
    "id": "WehjG92yDMcN"
   },
   "source": [
    "## Optimizers and learning rate\n",
    "\n",
    "**Question #7.** Change the optimizer used for your model. Use an optimizer with momentum and adaptive learning rate."
   ]
  },
  {
   "cell_type": "code",
   "execution_count": 19,
   "metadata": {
    "cell_id": "00021-8889ee1e-48b4-4783-b8e9-fb42783d8d39",
    "deepnote_cell_type": "code",
    "deepnote_to_be_reexecuted": true,
    "source_hash": "b623e53d",
    "tags": []
   },
   "outputs": [
    {
     "name": "stdout",
     "output_type": "stream",
     "text": [
      "Epoch 1/10\n",
      "420/420 - 5s - 12ms/step - accuracy: 0.9015 - loss: 0.3475 - val_accuracy: 0.9439 - val_loss: 0.1901\n",
      "Epoch 2/10\n",
      "420/420 - 5s - 12ms/step - accuracy: 0.9562 - loss: 0.1457 - val_accuracy: 0.9563 - val_loss: 0.1456\n",
      "Epoch 3/10\n",
      "420/420 - 5s - 11ms/step - accuracy: 0.9711 - loss: 0.0986 - val_accuracy: 0.9658 - val_loss: 0.1189\n",
      "Epoch 4/10\n",
      "420/420 - 4s - 10ms/step - accuracy: 0.9769 - loss: 0.0762 - val_accuracy: 0.9687 - val_loss: 0.1074\n",
      "Epoch 5/10\n",
      "420/420 - 4s - 10ms/step - accuracy: 0.9839 - loss: 0.0551 - val_accuracy: 0.9696 - val_loss: 0.1029\n",
      "Epoch 6/10\n",
      "420/420 - 4s - 10ms/step - accuracy: 0.9873 - loss: 0.0427 - val_accuracy: 0.9694 - val_loss: 0.1084\n",
      "Epoch 7/10\n",
      "420/420 - 4s - 11ms/step - accuracy: 0.9892 - loss: 0.0344 - val_accuracy: 0.9688 - val_loss: 0.1147\n",
      "Epoch 8/10\n",
      "420/420 - 4s - 11ms/step - accuracy: 0.9910 - loss: 0.0287 - val_accuracy: 0.9707 - val_loss: 0.1082\n",
      "Epoch 9/10\n",
      "420/420 - 4s - 10ms/step - accuracy: 0.9936 - loss: 0.0221 - val_accuracy: 0.9713 - val_loss: 0.1104\n",
      "Epoch 10/10\n",
      "420/420 - 5s - 11ms/step - accuracy: 0.9953 - loss: 0.0161 - val_accuracy: 0.9730 - val_loss: 0.1101\n"
     ]
    },
    {
     "data": {
      "text/plain": [
       "<keras.src.callbacks.history.History at 0x361aab460>"
      ]
     },
     "execution_count": 19,
     "metadata": {},
     "output_type": "execute_result"
    }
   ],
   "source": [
    "model = Sequential([\n",
    "    InputLayer(input_shape=x_train.shape[1:]),\n",
    "    Dense(units=128, activation=\"relu\"),\n",
    "    Dense(units=128, activation=\"relu\"),\n",
    "    Dense(units=y_train.shape[1], activation=\"softmax\")\n",
    "])\n",
    "model.compile(loss=\"categorical_crossentropy\", optimizer=\"adam\", metrics=[\"accuracy\"])\n",
    "model.fit(x_train, y_train, epochs=10, batch_size=100, verbose=2, validation_split=0.3)"
   ]
  },
  {
   "cell_type": "code",
   "execution_count": 20,
   "metadata": {},
   "outputs": [
    {
     "name": "stdout",
     "output_type": "stream",
     "text": [
      "Epoch 1/10\n",
      "420/420 - 3s - 8ms/step - accuracy: 0.6447 - loss: 1.3478 - val_accuracy: 0.8350 - val_loss: 0.6913\n",
      "Epoch 2/10\n",
      "420/420 - 3s - 8ms/step - accuracy: 0.8542 - loss: 0.5607 - val_accuracy: 0.8784 - val_loss: 0.4497\n",
      "Epoch 3/10\n",
      "420/420 - 3s - 8ms/step - accuracy: 0.8847 - loss: 0.4214 - val_accuracy: 0.8948 - val_loss: 0.3745\n",
      "Epoch 4/10\n",
      "420/420 - 3s - 8ms/step - accuracy: 0.8976 - loss: 0.3642 - val_accuracy: 0.9043 - val_loss: 0.3368\n",
      "Epoch 5/10\n",
      "420/420 - 3s - 8ms/step - accuracy: 0.9055 - loss: 0.3319 - val_accuracy: 0.9088 - val_loss: 0.3165\n",
      "Epoch 6/10\n",
      "420/420 - 3s - 8ms/step - accuracy: 0.9114 - loss: 0.3093 - val_accuracy: 0.9130 - val_loss: 0.2986\n",
      "Epoch 7/10\n",
      "420/420 - 3s - 8ms/step - accuracy: 0.9167 - loss: 0.2915 - val_accuracy: 0.9168 - val_loss: 0.2846\n",
      "Epoch 8/10\n",
      "420/420 - 4s - 9ms/step - accuracy: 0.9207 - loss: 0.2769 - val_accuracy: 0.9223 - val_loss: 0.2729\n",
      "Epoch 9/10\n",
      "420/420 - 3s - 8ms/step - accuracy: 0.9247 - loss: 0.2647 - val_accuracy: 0.9244 - val_loss: 0.2640\n",
      "Epoch 10/10\n",
      "420/420 - 3s - 8ms/step - accuracy: 0.9267 - loss: 0.2532 - val_accuracy: 0.9278 - val_loss: 0.2540\n"
     ]
    },
    {
     "data": {
      "text/plain": [
       "<keras.src.callbacks.history.History at 0x36537f610>"
      ]
     },
     "execution_count": 20,
     "metadata": {},
     "output_type": "execute_result"
    }
   ],
   "source": [
    "model = Sequential([\n",
    "    InputLayer(input_shape=x_train.shape[1:]),\n",
    "    Dense(units=128, activation=\"relu\"),\n",
    "    Dense(units=128, activation=\"relu\"),\n",
    "    Dense(units=y_train.shape[1], activation=\"softmax\")\n",
    "])\n",
    "model.compile(loss=\"categorical_crossentropy\", optimizer=\"sgd\", metrics=[\"accuracy\"])\n",
    "model.fit(x_train, y_train, epochs=10, batch_size=100, verbose=2, validation_split=0.3)"
   ]
  },
  {
   "cell_type": "code",
   "execution_count": 21,
   "metadata": {},
   "outputs": [
    {
     "name": "stdout",
     "output_type": "stream",
     "text": [
      "Epoch 1/10\n",
      "420/420 - 4s - 10ms/step - accuracy: 0.9002 - loss: 0.3519 - val_accuracy: 0.9455 - val_loss: 0.1868\n",
      "Epoch 2/10\n",
      "420/420 - 4s - 10ms/step - accuracy: 0.9590 - loss: 0.1392 - val_accuracy: 0.9621 - val_loss: 0.1335\n",
      "Epoch 3/10\n",
      "420/420 - 4s - 9ms/step - accuracy: 0.9706 - loss: 0.0962 - val_accuracy: 0.9647 - val_loss: 0.1156\n",
      "Epoch 4/10\n",
      "420/420 - 4s - 10ms/step - accuracy: 0.9785 - loss: 0.0707 - val_accuracy: 0.9698 - val_loss: 0.1033\n",
      "Epoch 5/10\n",
      "420/420 - 4s - 9ms/step - accuracy: 0.9838 - loss: 0.0529 - val_accuracy: 0.9706 - val_loss: 0.1020\n",
      "Epoch 6/10\n",
      "420/420 - 4s - 9ms/step - accuracy: 0.9870 - loss: 0.0432 - val_accuracy: 0.9698 - val_loss: 0.1031\n",
      "Epoch 7/10\n",
      "420/420 - 4s - 9ms/step - accuracy: 0.9900 - loss: 0.0331 - val_accuracy: 0.9718 - val_loss: 0.0999\n",
      "Epoch 8/10\n",
      "420/420 - 4s - 9ms/step - accuracy: 0.9918 - loss: 0.0278 - val_accuracy: 0.9724 - val_loss: 0.1010\n",
      "Epoch 9/10\n",
      "420/420 - 4s - 10ms/step - accuracy: 0.9934 - loss: 0.0209 - val_accuracy: 0.9732 - val_loss: 0.1005\n",
      "Epoch 10/10\n",
      "420/420 - 4s - 10ms/step - accuracy: 0.9948 - loss: 0.0173 - val_accuracy: 0.9733 - val_loss: 0.1069\n"
     ]
    },
    {
     "data": {
      "text/plain": [
       "<keras.src.callbacks.history.History at 0x361a19de0>"
      ]
     },
     "execution_count": 21,
     "metadata": {},
     "output_type": "execute_result"
    }
   ],
   "source": [
    "model = Sequential([\n",
    "    InputLayer(input_shape=x_train.shape[1:]),\n",
    "    Dense(units=128, activation=\"relu\"),\n",
    "    Dense(units=128, activation=\"relu\"),\n",
    "    Dense(units=y_train.shape[1], activation=\"softmax\")\n",
    "])\n",
    "model.compile(loss=\"categorical_crossentropy\", optimizer=\"adam\", metrics=[\"accuracy\"])\n",
    "model.fit(x_train, y_train, epochs=10, batch_size=100, verbose=2, validation_split=0.3)"
   ]
  },
  {
   "cell_type": "markdown",
   "metadata": {
    "cell_id": "00028-47912783-f891-416d-9e9d-05d57a819e7c",
    "deepnote_cell_type": "markdown",
    "id": "ot8jiQHuEZxr"
   },
   "source": [
    "**Question #8.** Using [the docs](https://keras.io/api/optimizers/), vary the learning rate of your optimizer from a very low value to a much larger one so as to show evidence of:\n",
    "* instability when the learning rate is too large;\n",
    "* slow convergence when the learning rate is too low."
   ]
  },
  {
   "cell_type": "code",
   "execution_count": 22,
   "metadata": {
    "cell_id": "00029-16623cf9-4788-418c-8696-9e61bfe444fb",
    "deepnote_cell_type": "code",
    "deepnote_to_be_reexecuted": true,
    "execution_millis": 38776,
    "id": "pZfwWRDPEa1g",
    "output_cleared": true,
    "source_hash": "b623e53d"
   },
   "outputs": [
    {
     "name": "stdout",
     "output_type": "stream",
     "text": [
      "Epoch 1/10\n",
      "420/420 - 4s - 10ms/step - accuracy: 0.7586 - loss: 0.9743 - val_accuracy: 0.8934 - val_loss: 0.4076\n",
      "Epoch 2/10\n",
      "420/420 - 4s - 10ms/step - accuracy: 0.9056 - loss: 0.3469 - val_accuracy: 0.9166 - val_loss: 0.2953\n",
      "Epoch 3/10\n",
      "420/420 - 4s - 10ms/step - accuracy: 0.9241 - loss: 0.2745 - val_accuracy: 0.9263 - val_loss: 0.2573\n",
      "Epoch 4/10\n",
      "420/420 - 4s - 10ms/step - accuracy: 0.9335 - loss: 0.2372 - val_accuracy: 0.9346 - val_loss: 0.2283\n",
      "Epoch 5/10\n",
      "420/420 - 4s - 10ms/step - accuracy: 0.9398 - loss: 0.2117 - val_accuracy: 0.9398 - val_loss: 0.2097\n",
      "Epoch 6/10\n",
      "420/420 - 4s - 10ms/step - accuracy: 0.9453 - loss: 0.1916 - val_accuracy: 0.9446 - val_loss: 0.1952\n",
      "Epoch 7/10\n",
      "420/420 - 4s - 10ms/step - accuracy: 0.9495 - loss: 0.1746 - val_accuracy: 0.9462 - val_loss: 0.1855\n",
      "Epoch 8/10\n",
      "420/420 - 4s - 10ms/step - accuracy: 0.9540 - loss: 0.1611 - val_accuracy: 0.9503 - val_loss: 0.1742\n",
      "Epoch 9/10\n",
      "420/420 - 4s - 10ms/step - accuracy: 0.9572 - loss: 0.1488 - val_accuracy: 0.9523 - val_loss: 0.1668\n",
      "Epoch 10/10\n",
      "420/420 - 4s - 10ms/step - accuracy: 0.9609 - loss: 0.1384 - val_accuracy: 0.9537 - val_loss: 0.1589\n"
     ]
    },
    {
     "data": {
      "text/plain": [
       "<keras.src.callbacks.history.History at 0x361a18d30>"
      ]
     },
     "execution_count": 22,
     "metadata": {},
     "output_type": "execute_result"
    }
   ],
   "source": [
    "from keras.optimizers import Adam\n",
    "\n",
    "model = Sequential([\n",
    "    InputLayer(input_shape=x_train.shape[1:]),\n",
    "    Dense(units=128, activation=\"relu\"),\n",
    "    Dense(units=128, activation=\"relu\"),\n",
    "    Dense(units=y_train.shape[1], activation=\"softmax\")\n",
    "])\n",
    "model.compile(loss=\"categorical_crossentropy\", optimizer=Adam(learning_rate=0.0001), metrics=[\"accuracy\"])\n",
    "model.fit(x_train, y_train, epochs=10, batch_size=100, verbose=2, validation_split=0.3)"
   ]
  },
  {
   "cell_type": "markdown",
   "metadata": {
    "cell_id": "00030-f3edc3e5-83b2-4417-99c0-ce99030af441",
    "deepnote_cell_type": "markdown",
    "id": "tyCzy_PNEqwE"
   },
   "source": [
    "## Callbacks\n",
    "\n",
    "Callbacks are tools that, in `keras`, allow one to intervene during the training process of a model. \n",
    "Callbacks can be used to take actions (_ie._ save intermediate model, stop optimization if overfitting occurs, _etc._).\n",
    "\n",
    "A first callback one can play with is the one returned by any call to `fit` on a `keras` model.\n",
    "This callback is an object with an `.history` attribute in the form of a Python dictionnary whose keys are the metrics recorded during training. Each of these keys links to an array containing the consecutive values of the considered quantity (one value per epoch).\n",
    "\n",
    "**Question #9.** Plot correct classification rates on both training and validation sets."
   ]
  },
  {
   "cell_type": "code",
   "execution_count": 23,
   "metadata": {
    "cell_id": "00031-a30d0556-649b-490f-8b57-f0ac45eb245a",
    "deepnote_cell_type": "code",
    "deepnote_to_be_reexecuted": true,
    "execution_millis": 67,
    "id": "qA-RPKzaI4-s",
    "output_cleared": true,
    "source_hash": "b623e53d"
   },
   "outputs": [
    {
     "name": "stdout",
     "output_type": "stream",
     "text": [
      "Epoch 1/10\n",
      "420/420 - 4s - 10ms/step - accuracy: 0.8996 - loss: 0.3591 - val_accuracy: 0.9418 - val_loss: 0.1947\n",
      "Epoch 2/10\n",
      "420/420 - 4s - 10ms/step - accuracy: 0.9566 - loss: 0.1437 - val_accuracy: 0.9588 - val_loss: 0.1355\n",
      "Epoch 3/10\n",
      "420/420 - 4s - 10ms/step - accuracy: 0.9713 - loss: 0.0980 - val_accuracy: 0.9636 - val_loss: 0.1221\n",
      "Epoch 4/10\n",
      "420/420 - 4s - 10ms/step - accuracy: 0.9780 - loss: 0.0724 - val_accuracy: 0.9696 - val_loss: 0.1041\n",
      "Epoch 5/10\n",
      "420/420 - 4s - 10ms/step - accuracy: 0.9828 - loss: 0.0555 - val_accuracy: 0.9662 - val_loss: 0.1142\n",
      "Epoch 6/10\n",
      "420/420 - 4s - 10ms/step - accuracy: 0.9864 - loss: 0.0439 - val_accuracy: 0.9713 - val_loss: 0.1044\n",
      "Epoch 7/10\n",
      "420/420 - 4s - 10ms/step - accuracy: 0.9894 - loss: 0.0346 - val_accuracy: 0.9729 - val_loss: 0.1006\n",
      "Epoch 8/10\n",
      "420/420 - 4s - 10ms/step - accuracy: 0.9914 - loss: 0.0273 - val_accuracy: 0.9719 - val_loss: 0.1032\n",
      "Epoch 9/10\n",
      "420/420 - 4s - 10ms/step - accuracy: 0.9935 - loss: 0.0219 - val_accuracy: 0.9704 - val_loss: 0.1115\n",
      "Epoch 10/10\n",
      "420/420 - 4s - 10ms/step - accuracy: 0.9939 - loss: 0.0190 - val_accuracy: 0.9704 - val_loss: 0.1154\n"
     ]
    }
   ],
   "source": [
    "model = Sequential([\n",
    "    InputLayer(input_shape=x_train.shape[1:]),\n",
    "    Dense(units=128, activation=\"relu\"),\n",
    "    Dense(units=128, activation=\"relu\"),\n",
    "    Dense(units=y_train.shape[1], activation=\"softmax\")\n",
    "])\n",
    "model.compile(loss=\"categorical_crossentropy\", optimizer=\"adam\", metrics=[\"accuracy\"])\n",
    "h = model.fit(x_train, y_train, epochs=10, batch_size=100, verbose=2, validation_split=0.3)"
   ]
  },
  {
   "cell_type": "code",
   "execution_count": 24,
   "metadata": {},
   "outputs": [
    {
     "data": {
      "text/plain": [
       "{'accuracy': [0.8995952606201172,\n",
       "  0.9566190242767334,\n",
       "  0.9712857007980347,\n",
       "  0.9779523611068726,\n",
       "  0.9828333258628845,\n",
       "  0.986380934715271,\n",
       "  0.9894047379493713,\n",
       "  0.9913809299468994,\n",
       "  0.9934523701667786,\n",
       "  0.9938571453094482],\n",
       " 'loss': [0.35914379358291626,\n",
       "  0.14373275637626648,\n",
       "  0.09797342121601105,\n",
       "  0.0723658949136734,\n",
       "  0.0555119626224041,\n",
       "  0.0439017117023468,\n",
       "  0.03464082255959511,\n",
       "  0.027300510555505753,\n",
       "  0.021908661350607872,\n",
       "  0.019001413136720657],\n",
       " 'val_accuracy': [0.941777765750885,\n",
       "  0.9587777853012085,\n",
       "  0.9635555744171143,\n",
       "  0.9696111083030701,\n",
       "  0.9662222266197205,\n",
       "  0.9713333249092102,\n",
       "  0.972944438457489,\n",
       "  0.9718888998031616,\n",
       "  0.9704444408416748,\n",
       "  0.9703888893127441],\n",
       " 'val_loss': [0.19467352330684662,\n",
       "  0.1355045884847641,\n",
       "  0.12206780165433884,\n",
       "  0.10405910015106201,\n",
       "  0.11418715864419937,\n",
       "  0.10435378551483154,\n",
       "  0.10064545273780823,\n",
       "  0.10321809351444244,\n",
       "  0.11145588010549545,\n",
       "  0.115390844643116]}"
      ]
     },
     "execution_count": 24,
     "metadata": {},
     "output_type": "execute_result"
    }
   ],
   "source": [
    "h.history"
   ]
  },
  {
   "cell_type": "code",
   "execution_count": 25,
   "metadata": {},
   "outputs": [
    {
     "data": {
      "image/png": "[encoded data removed]",
      "text/plain": [
       "<Figure size 640x480 with 1 Axes>"
      ]
     },
     "metadata": {},
     "output_type": "display_data"
    }
   ],
   "source": [
    "import matplotlib.pyplot as plt\n",
    "import numpy as np\n",
    "\n",
    "plt.plot(np.arange(1, 11), h.history[\"loss\"], label=\"Training loss\")\n",
    "plt.plot(np.arange(1, 11), h.history[\"val_loss\"], label=\"Validation loss\")\n",
    "plt.axvline(x=np.argmin(h.history[\"val_loss\"]) + 1, color='k', linestyle='--')\n",
    "plt.legend();"
   ]
  },
  {
   "cell_type": "markdown",
   "metadata": {
    "cell_id": "00032-0b2aa348-08ef-45f0-8984-70863c338c77",
    "deepnote_cell_type": "markdown",
    "id": "l9y1at8qI5cO"
   },
   "source": [
    "Setting up other callbacks must be explicit. This is done by passing a list of callbacks to the `fit` method.\n",
    "\n",
    "When training a model is long, one can wish to record intermediate models (in case of a crash during training, or just for cases when intermediate models were performing better than the final one).\n",
    "The [`ModelCheckpoint`](https://keras.io/api/callbacks/model_checkpoint/) callback is designed for that purpose.\n",
    "\n",
    "**Question #10.** Set up recording of intermediate models every epoch. Save the models into a dedicated file `model.keras` on your project. Only record models if validation loss is lower than for all previous models."
   ]
  },
  {
   "cell_type": "code",
   "execution_count": 26,
   "metadata": {
    "cell_id": "00027-fc377b2f-fe5b-4d0e-94b4-faa235dae4bc",
    "deepnote_cell_type": "code",
    "deepnote_to_be_reexecuted": true,
    "source_hash": "b623e53d",
    "tags": []
   },
   "outputs": [
    {
     "name": "stdout",
     "output_type": "stream",
     "text": [
      "Epoch 1/10\n"
     ]
    },
    {
     "name": "stderr",
     "output_type": "stream",
     "text": [
      "/Users/rtavenar/py3.10_ml/lib/python3.10/site-packages/keras/src/layers/core/input_layer.py:26: UserWarning: Argument `input_shape` is deprecated. Use `shape` instead.\n",
      "  warnings.warn(\n"
     ]
    },
    {
     "name": "stdout",
     "output_type": "stream",
     "text": [
      "600/600 - 7s - 12ms/step - accuracy: 0.9147 - loss: 0.2984 - val_accuracy: 0.9555 - val_loss: 0.1498\n",
      "Epoch 2/10\n",
      "600/600 - 6s - 9ms/step - accuracy: 0.9644 - loss: 0.1177 - val_accuracy: 0.9701 - val_loss: 0.0941\n",
      "Epoch 3/10\n",
      "600/600 - 5s - 9ms/step - accuracy: 0.9767 - loss: 0.0789 - val_accuracy: 0.9732 - val_loss: 0.0869\n",
      "Epoch 4/10\n",
      "600/600 - 5s - 9ms/step - accuracy: 0.9811 - loss: 0.0612 - val_accuracy: 0.9747 - val_loss: 0.0805\n",
      "Epoch 5/10\n",
      "600/600 - 5s - 9ms/step - accuracy: 0.9859 - loss: 0.0458 - val_accuracy: 0.9767 - val_loss: 0.0760\n",
      "Epoch 6/10\n",
      "600/600 - 5s - 9ms/step - accuracy: 0.9884 - loss: 0.0370 - val_accuracy: 0.9791 - val_loss: 0.0706\n",
      "Epoch 7/10\n",
      "600/600 - 5s - 9ms/step - accuracy: 0.9908 - loss: 0.0305 - val_accuracy: 0.9794 - val_loss: 0.0741\n",
      "Epoch 8/10\n",
      "600/600 - 5s - 9ms/step - accuracy: 0.9917 - loss: 0.0250 - val_accuracy: 0.9797 - val_loss: 0.0773\n",
      "Epoch 9/10\n",
      "600/600 - 5s - 9ms/step - accuracy: 0.9939 - loss: 0.0194 - val_accuracy: 0.9797 - val_loss: 0.0751\n",
      "Epoch 10/10\n",
      "600/600 - 5s - 9ms/step - accuracy: 0.9939 - loss: 0.0193 - val_accuracy: 0.9768 - val_loss: 0.0890\n"
     ]
    }
   ],
   "source": [
    "from keras.callbacks import ModelCheckpoint\n",
    "\n",
    "cb = ModelCheckpoint(\"model.keras\", save_best_only=True)\n",
    "\n",
    "model = Sequential([\n",
    "    InputLayer(input_shape=x_train.shape[1:]),\n",
    "    Dense(units=128, activation=\"relu\"),\n",
    "    Dense(units=128, activation=\"relu\"),\n",
    "    Dense(units=y_train.shape[1], activation=\"softmax\")\n",
    "])\n",
    "model.compile(loss=\"categorical_crossentropy\", optimizer=\"adam\", metrics=[\"accuracy\"])\n",
    "h = model.fit(x_train, y_train, epochs=10, batch_size=100, verbose=2, validation_data=(x_test, y_test), callbacks=[cb])"
   ]
  },
  {
   "cell_type": "markdown",
   "metadata": {
    "cell_id": "00028-e61b8442-9511-4a89-a53c-9590238e0fd2",
    "deepnote_cell_type": "markdown",
    "tags": []
   },
   "source": [
    "Use the code below to check that a model has been saved:"
   ]
  },
  {
   "cell_type": "code",
   "execution_count": 27,
   "metadata": {
    "cell_id": "00034-e0f2a0eb-f551-440e-94fb-2db94f18bde6",
    "deepnote_cell_type": "code",
    "deepnote_to_be_reexecuted": true,
    "id": "m0Zqsvh8Bowh",
    "source_hash": "3b41946",
    "tags": [
     "keep"
    ]
   },
   "outputs": [
    {
     "name": "stdout",
     "output_type": "stream",
     "text": [
      "-rw-r--r--@ 1 rtavenar  staff   1.4M Oct  8 17:00 model.keras\n"
     ]
    }
   ],
   "source": [
    "%ls -alh \"model.keras\""
   ]
  },
  {
   "cell_type": "code",
   "execution_count": 28,
   "metadata": {
    "tags": [
     "keep"
    ]
   },
   "outputs": [
    {
     "name": "stdout",
     "output_type": "stream",
     "text": [
      "\u001b[1m313/313\u001b[0m \u001b[32m━━━━━━━━━━━━━━━━━━━━\u001b[0m\u001b[37m\u001b[0m \u001b[1m1s\u001b[0m 4ms/step - accuracy: 0.9731 - loss: 0.1036\n"
     ]
    },
    {
     "data": {
      "text/plain": [
       "[0.0890207588672638, 0.9768000245094299]"
      ]
     },
     "execution_count": 28,
     "metadata": {},
     "output_type": "execute_result"
    }
   ],
   "source": [
    "model.evaluate(x_test, y_test)"
   ]
  },
  {
   "cell_type": "code",
   "execution_count": 29,
   "metadata": {
    "tags": [
     "keep"
    ]
   },
   "outputs": [
    {
     "name": "stdout",
     "output_type": "stream",
     "text": [
      "\u001b[1m313/313\u001b[0m \u001b[32m━━━━━━━━━━━━━━━━━━━━\u001b[0m\u001b[37m\u001b[0m \u001b[1m1s\u001b[0m 4ms/step - accuracy: 0.9754 - loss: 0.0819\n"
     ]
    },
    {
     "data": {
      "text/plain": [
       "[0.07058621942996979, 0.9790999889373779]"
      ]
     },
     "execution_count": 29,
     "metadata": {},
     "output_type": "execute_result"
    }
   ],
   "source": [
    "model.load_weights(\"model.keras\")\n",
    "model.evaluate(x_test, y_test)"
   ]
  },
  {
   "cell_type": "markdown",
   "metadata": {
    "cell_id": "00035-1206a01d-7467-4a3e-bbdc-ee72b70366a2",
    "deepnote_cell_type": "markdown",
    "id": "WFehub4rLrZm"
   },
   "source": [
    "## Regularization"
   ]
  },
  {
   "cell_type": "markdown",
   "metadata": {
    "cell_id": "00041-10a0c691-e01a-451e-807b-594ba76cc1fa",
    "deepnote_cell_type": "markdown",
    "id": "xbOmJKruNYyS"
   },
   "source": [
    "**Question #11.** Set up an [`EarlyStopping`](https://keras.io/api/callbacks/early_stopping/) strategy such that training the model will stop in case the validation loss does not decrease for 5 consecutive epochs."
   ]
  },
  {
   "cell_type": "code",
   "execution_count": 30,
   "metadata": {
    "cell_id": "00033-d7da52c7-7fbf-4f7d-940d-821cbe255b64",
    "deepnote_cell_type": "code",
    "deepnote_to_be_reexecuted": true,
    "source_hash": "b623e53d",
    "tags": []
   },
   "outputs": [
    {
     "name": "stdout",
     "output_type": "stream",
     "text": [
      "Epoch 1/100\n",
      "600/600 - 6s - 9ms/step - accuracy: 0.9158 - loss: 0.2924 - val_accuracy: 0.9585 - val_loss: 0.1368\n",
      "Epoch 2/100\n",
      "600/600 - 5s - 9ms/step - accuracy: 0.9646 - loss: 0.1201 - val_accuracy: 0.9679 - val_loss: 0.1050\n",
      "Epoch 3/100\n",
      "600/600 - 5s - 9ms/step - accuracy: 0.9757 - loss: 0.0806 - val_accuracy: 0.9749 - val_loss: 0.0852\n",
      "Epoch 4/100\n",
      "600/600 - 5s - 9ms/step - accuracy: 0.9812 - loss: 0.0609 - val_accuracy: 0.9730 - val_loss: 0.0874\n",
      "Epoch 5/100\n",
      "600/600 - 5s - 9ms/step - accuracy: 0.9862 - loss: 0.0461 - val_accuracy: 0.9739 - val_loss: 0.0839\n",
      "Epoch 6/100\n",
      "600/600 - 5s - 9ms/step - accuracy: 0.9878 - loss: 0.0383 - val_accuracy: 0.9759 - val_loss: 0.0789\n",
      "Epoch 7/100\n",
      "600/600 - 5s - 9ms/step - accuracy: 0.9898 - loss: 0.0316 - val_accuracy: 0.9757 - val_loss: 0.0850\n",
      "Epoch 8/100\n",
      "600/600 - 5s - 9ms/step - accuracy: 0.9922 - loss: 0.0248 - val_accuracy: 0.9777 - val_loss: 0.0764\n",
      "Epoch 9/100\n",
      "600/600 - 5s - 9ms/step - accuracy: 0.9935 - loss: 0.0199 - val_accuracy: 0.9775 - val_loss: 0.0861\n",
      "Epoch 10/100\n",
      "600/600 - 5s - 9ms/step - accuracy: 0.9946 - loss: 0.0174 - val_accuracy: 0.9762 - val_loss: 0.0846\n",
      "Epoch 11/100\n",
      "600/600 - 5s - 9ms/step - accuracy: 0.9945 - loss: 0.0161 - val_accuracy: 0.9775 - val_loss: 0.0865\n"
     ]
    }
   ],
   "source": [
    "from keras.callbacks import EarlyStopping\n",
    "\n",
    "cb = EarlyStopping(monitor=\"val_loss\", patience=3, restore_best_weights=True)\n",
    "\n",
    "model = Sequential([\n",
    "    InputLayer(input_shape=x_train.shape[1:]),\n",
    "    Dense(units=128, activation=\"relu\"),\n",
    "    Dense(units=128, activation=\"relu\"),\n",
    "    Dense(units=y_train.shape[1], activation=\"softmax\")\n",
    "])\n",
    "model.compile(loss=\"categorical_crossentropy\", optimizer=\"adam\", metrics=[\"accuracy\"])\n",
    "h = model.fit(x_train, y_train, epochs=100, batch_size=100, verbose=2, validation_data=(x_test, y_test), callbacks=[cb])"
   ]
  },
  {
   "cell_type": "code",
   "execution_count": 31,
   "metadata": {},
   "outputs": [
    {
     "name": "stdout",
     "output_type": "stream",
     "text": [
      "\u001b[1m  1/313\u001b[0m \u001b[37m━━━━━━━━━━━━━━━━━━━━\u001b[0m \u001b[1m3s\u001b[0m 10ms/step - accuracy: 1.0000 - loss: 0.0025"
     ]
    },
    {
     "name": "stdout",
     "output_type": "stream",
     "text": [
      "\u001b[1m313/313\u001b[0m \u001b[32m━━━━━━━━━━━━━━━━━━━━\u001b[0m\u001b[37m\u001b[0m \u001b[1m1s\u001b[0m 4ms/step - accuracy: 0.9748 - loss: 0.0904\n"
     ]
    },
    {
     "data": {
      "text/plain": [
       "[0.0763961523771286, 0.9776999950408936]"
      ]
     },
     "execution_count": 31,
     "metadata": {},
     "output_type": "execute_result"
    }
   ],
   "source": [
    "model.evaluate(x_test, y_test)"
   ]
  }
 ],
 "metadata": {
  "colab": {
   "collapsed_sections": [],
   "name": "MLP.ipynb",
   "provenance": []
  },
  "deepnote": {},
  "deepnote_execution_queue": [],
  "deepnote_notebook_id": "35aa3537-3e05-40fa-86f0-1f7ded16df52",
  "kernelspec": {
   "display_name": "py3.10_ml",
   "language": "python",
   "name": "python3"
  },
  "language_info": {
   "codemirror_mode": {
    "name": "ipython",
    "version": 3
   },
   "file_extension": ".py",
   "mimetype": "text/x-python",
   "name": "python",
   "nbconvert_exporter": "python",
   "pygments_lexer": "ipython3",
   "version": "3.10.13"
  }
 },
 "nbformat": 4,
 "nbformat_minor": 0
}
