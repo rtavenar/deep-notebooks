{
 "cells": [
  {
   "cell_type": "markdown",
   "metadata": {
    "cell_id": "00000-4e5bf590-09bc-42f5-a318-08994a30bfd4",
    "deepnote_cell_type": "markdown",
    "id": "NjCKi8REqlN6"
   },
   "source": [
    "# Multi-Layer Perceptron in `keras`\n",
    "\n",
    "In this series of lab sessions, you will use a Python library called `keras`.\n",
    "You should visit [`keras` webpage](https://keras.io/) to get access to more information about this library, including a comprehensive documentation.\n",
    "\n",
    "## The `Sequential` model in `keras`\n",
    "\n",
    "This library offers two ways to define neural network models. \n",
    "We will start with the `Sequential` class of `keras` models.\n",
    "Below is an example of how to define a `Sequential` model:"
   ]
  },
  {
   "cell_type": "code",
   "execution_count": 1,
   "metadata": {
    "tags": [
     "keep"
    ]
   },
   "outputs": [],
   "source": [
    "import os\n",
    "\n",
    "os.environ[\"KERAS_BACKEND\"] = \"torch\""
   ]
  },
  {
   "cell_type": "code",
   "execution_count": 2,
   "metadata": {
    "cell_id": "00001-e7a9d101-f83a-49f2-ae43-deb55009fadf",
    "deepnote_cell_type": "code",
    "deepnote_to_be_reexecuted": false,
    "execution_millis": 1216,
    "execution_start": 1613342071585,
    "id": "PRKkYealqiiG",
    "output_cleared": false,
    "source_hash": "b851176a",
    "tags": [
     "keep"
    ]
   },
   "outputs": [],
   "source": [
    "import keras\n",
    "from keras.models import Sequential\n",
    "from keras.layers import Dense, InputLayer"
   ]
  },
  {
   "cell_type": "markdown",
   "metadata": {
    "cell_id": "00002-fddb7023-3fe5-422a-ab01-7974d23883a6",
    "deepnote_cell_type": "markdown",
    "id": "1UdkphfnspbR"
   },
   "source": [
    "**1. Define layers, and add them one by one to the model**\n"
   ]
  },
  {
   "cell_type": "code",
   "execution_count": 3,
   "metadata": {
    "cell_id": "00003-3e192e55-740f-4e3e-9969-016701af86a1",
    "deepnote_cell_type": "code",
    "deepnote_to_be_reexecuted": false,
    "execution_millis": 57,
    "execution_start": 1613342072806,
    "id": "JD54PuqWsp4Y",
    "source_hash": "e4cce2c1",
    "tags": [
     "keep"
    ]
   },
   "outputs": [],
   "source": [
    "input_layer = InputLayer(shape=(24,))\n",
    "hidden_layer1 = Dense(units=12, activation=\"relu\")\n",
    "hidden_layer2 = Dense(units=12, activation=\"sigmoid\")\n",
    "#[...]\n",
    "output_layer = Dense(units=3, activation=\"linear\")\n",
    "\n",
    "model = Sequential([\n",
    "    input_layer,\n",
    "    hidden_layer1,\n",
    "    hidden_layer2,\n",
    "    # ...\n",
    "    output_layer\n",
    "])"
   ]
  },
  {
   "cell_type": "markdown",
   "metadata": {
    "cell_id": "00004-607dbfcd-c789-4071-98bf-f51e230e647f",
    "deepnote_cell_type": "markdown",
    "id": "FTQLjyUoszDq"
   },
   "source": [
    "**2. Pick an optimization algorithm (optimizer) and a loss function to be optimized**\n",
    "\n",
    "Usual loss functions are:\n",
    "* `\"mse\"` for regression,\n",
    "* `\"categorical_crossentropy\"` for multiclass classification (when the `y` array fed to `fit` is of shape $(n, n_\\text{classes})$)\n",
    "* `\"binary_crossentropy\"` for binary classification (when the model is fed with `y` array of shape $(n, 1)$)\n",
    "\n",
    "One can also specify additional metrics to be printed during training (correct classification rate here)."
   ]
  },
  {
   "cell_type": "code",
   "execution_count": 4,
   "metadata": {
    "cell_id": "00005-29ab32a8-52eb-40c1-9c63-1e8b8943cbdd",
    "deepnote_cell_type": "code",
    "deepnote_to_be_reexecuted": false,
    "execution_millis": 9,
    "execution_start": 1613342072870,
    "id": "A_21M9Jqs3eJ",
    "source_hash": "63a93405",
    "tags": [
     "keep"
    ]
   },
   "outputs": [],
   "source": [
    "model.compile(optimizer=\"adam\", loss=\"categorical_crossentropy\", metrics=[\"accuracy\"])"
   ]
  },
  {
   "cell_type": "markdown",
   "metadata": {
    "cell_id": "00006-1084a597-d5d5-4e2e-96ba-bf42d51d64c7",
    "deepnote_cell_type": "markdown",
    "id": "ykI4bexvs5x-"
   },
   "source": [
    "**3. Fit the model**\n",
    "\n",
    "NB: do not try to execute the following line of code: variables `X_train` and `y_train` do not exist yet!"
   ]
  },
  {
   "cell_type": "code",
   "execution_count": 5,
   "metadata": {
    "cell_id": "00007-8516017c-c628-4ef3-ac0f-d80ca5f74a93",
    "deepnote_cell_type": "code",
    "deepnote_to_be_reexecuted": false,
    "execution_millis": 2,
    "execution_start": 1613342072879,
    "id": "rt89yAdWs688",
    "source_hash": "fd94a07d",
    "tags": [
     "keep"
    ]
   },
   "outputs": [],
   "source": [
    "#model.fit(X_train, y_train, verbose=2, epochs=10, batch_size=200)"
   ]
  },
  {
   "cell_type": "markdown",
   "metadata": {
    "cell_id": "00008-79f8d9f3-2a42-42bb-8bcc-fc2f1f47eecd",
    "deepnote_cell_type": "markdown",
    "id": "nHhJosslvDRY"
   },
   "source": [
    "## Data pre-processing\n",
    "\n",
    "Have a look at the `prepare_mnist` and `prepare_boston` functions defined below.\n",
    "\n",
    "**Question #1.** What do these functions do? What are the shapes of returned arrays? Does the returned data correpond to classification or regression problems?"
   ]
  },
  {
   "cell_type": "code",
   "execution_count": 6,
   "metadata": {
    "cell_id": "00009-c7c58fdf-b6f1-4f92-b82b-8ade1f4f44ca",
    "deepnote_cell_type": "code",
    "deepnote_to_be_reexecuted": false,
    "execution_millis": 1636,
    "execution_start": 1613342072885,
    "id": "7l-s71YRwTRA",
    "output_cleared": false,
    "source_hash": "1615ed07",
    "tags": [
     "keep"
    ]
   },
   "outputs": [],
   "source": [
    "from sklearn.preprocessing import MinMaxScaler\n",
    "from keras.datasets import mnist, boston_housing\n",
    "from keras.utils import to_categorical\n",
    "\n",
    "def prepare_mnist():\n",
    "    (x_train, y_train), (x_test, y_test) = mnist.load_data()\n",
    "    x_train = x_train.reshape((x_train.shape[0], -1))\n",
    "    x_test = x_test.reshape((x_test.shape[0], -1))\n",
    "    scaler = MinMaxScaler()\n",
    "    scaler.fit(x_train)\n",
    "    x_train = scaler.transform(x_train)\n",
    "    x_test = scaler.transform(x_test)\n",
    "    y_train = to_categorical(y_train)\n",
    "    y_test = to_categorical(y_test)\n",
    "    return x_train, x_test, y_train, y_test\n",
    "\n",
    "\n",
    "def prepare_boston():\n",
    "    (x_train, y_train), (x_test, y_test) = boston_housing.load_data()\n",
    "    scaler_x = MinMaxScaler()\n",
    "    scaler_x.fit(x_train)\n",
    "    x_train = scaler_x.transform(x_train)\n",
    "    x_test = scaler_x.transform(x_test)\n",
    "    scaler_y = MinMaxScaler()\n",
    "    scaler_y.fit(y_train.reshape((-1, 1)))\n",
    "    y_train = scaler_y.transform(y_train.reshape((-1, 1)))\n",
    "    y_test = scaler_y.transform(y_test.reshape((-1, 1)))\n",
    "    return x_train, x_test, y_train, y_test\n",
    "  \n",
    "x_train, x_test, y_train, y_test = prepare_mnist()"
   ]
  },
  {
   "cell_type": "code",
   "execution_count": 7,
   "metadata": {},
   "outputs": [
    {
     "data": {
      "text/plain": [
       "array([[0., 0., 0., 0., 0., 1., 0., 0., 0., 0.],\n",
       "       [1., 0., 0., 0., 0., 0., 0., 0., 0., 0.],\n",
       "       [0., 0., 0., 0., 1., 0., 0., 0., 0., 0.],\n",
       "       [0., 1., 0., 0., 0., 0., 0., 0., 0., 0.],\n",
       "       [0., 0., 0., 0., 0., 0., 0., 0., 0., 1.],\n",
       "       [0., 0., 1., 0., 0., 0., 0., 0., 0., 0.],\n",
       "       [0., 1., 0., 0., 0., 0., 0., 0., 0., 0.],\n",
       "       [0., 0., 0., 1., 0., 0., 0., 0., 0., 0.],\n",
       "       [0., 1., 0., 0., 0., 0., 0., 0., 0., 0.],\n",
       "       [0., 0., 0., 0., 1., 0., 0., 0., 0., 0.]])"
      ]
     },
     "execution_count": 7,
     "metadata": {},
     "output_type": "execute_result"
    }
   ],
   "source": [
    "y_train[:10]"
   ]
  },
  {
   "cell_type": "code",
   "execution_count": 8,
   "metadata": {
    "cell_id": "00010-3c1481af-a4d7-424b-a59e-3a2745234530",
    "deepnote_cell_type": "code",
    "deepnote_to_be_reexecuted": false,
    "execution_millis": 64,
    "execution_start": 1613342074525,
    "id": "CGlUHH6KFpj3",
    "output_cleared": false,
    "source_hash": "7facd6d8"
   },
   "outputs": [],
   "source": [
    "x_train, x_test, y_train, y_test = prepare_boston()"
   ]
  },
  {
   "cell_type": "code",
   "execution_count": 9,
   "metadata": {},
   "outputs": [
    {
     "name": "stdout",
     "output_type": "stream",
     "text": [
      "(404, 13) (404, 1)\n",
      "[[0.22666667]\n",
      " [0.82888889]\n",
      " [1.        ]\n",
      " [0.35777778]\n",
      " [0.28222222]\n",
      " [0.3       ]\n",
      " [0.14      ]\n",
      " [0.23555556]\n",
      " [0.23555556]\n",
      " [0.20888889]]\n"
     ]
    }
   ],
   "source": [
    "print(x_train.shape, y_train.shape)\n",
    "print(y_train[:10])"
   ]
  },
  {
   "cell_type": "markdown",
   "metadata": {
    "cell_id": "00011-1ecdf9c5-01c3-4a0d-a9c6-cfd28e6be23d",
    "deepnote_cell_type": "markdown",
    "id": "VRA_Ec2-yIGA"
   },
   "source": [
    "## Building your first models\n",
    "\n",
    "In the following, when fitting models, restrict the training to 10 epochs (which is not realistic, but training for more epochs takes time...)\n",
    "\n",
    "**Question #2.** Following the guidelines provided above, implement a linear regression model for the `boston` dataset that would optimize on a least squares objective using Stochastic Gradient Descent and fit your model to the corresponding training data."
   ]
  },
  {
   "cell_type": "code",
   "execution_count": 10,
   "metadata": {
    "cell_id": "00013-2e740cd6-9a8b-4a74-b85f-c7a66127d510",
    "deepnote_cell_type": "code",
    "deepnote_to_be_reexecuted": false,
    "execution_millis": 1,
    "execution_start": 1613342074582,
    "output_cleared": true,
    "source_hash": "b623e53d",
    "tags": []
   },
   "outputs": [
    {
     "name": "stdout",
     "output_type": "stream",
     "text": [
      "Epoch 1/10\n",
      "5/5 - 0s - 24ms/step - loss: 0.1227\n",
      "Epoch 2/10\n",
      "5/5 - 0s - 4ms/step - loss: 0.1171\n",
      "Epoch 3/10\n",
      "5/5 - 0s - 3ms/step - loss: 0.1144\n",
      "Epoch 4/10\n",
      "5/5 - 0s - 3ms/step - loss: 0.1131\n",
      "Epoch 5/10\n",
      "5/5 - 0s - 3ms/step - loss: 0.1117\n",
      "Epoch 6/10\n",
      "5/5 - 0s - 3ms/step - loss: 0.1107\n",
      "Epoch 7/10\n",
      "5/5 - 0s - 3ms/step - loss: 0.1100\n",
      "Epoch 8/10\n",
      "5/5 - 0s - 3ms/step - loss: 0.1089\n",
      "Epoch 9/10\n",
      "5/5 - 0s - 3ms/step - loss: 0.1081\n",
      "Epoch 10/10\n",
      "5/5 - 0s - 3ms/step - loss: 0.1073\n"
     ]
    },
    {
     "data": {
      "text/plain": [
       "<keras.src.callbacks.history.History at 0x17f9cbf70>"
      ]
     },
     "execution_count": 10,
     "metadata": {},
     "output_type": "execute_result"
    }
   ],
   "source": [
    "input_layer = InputLayer(shape=(13,))\n",
    "output_layer = Dense(units=1, activation=\"linear\")\n",
    "\n",
    "model = Sequential([\n",
    "    input_layer,\n",
    "    output_layer\n",
    "])\n",
    "model.compile(loss=\"mse\", optimizer=\"sgd\")\n",
    "model.fit(x_train, y_train, epochs=10, batch_size=100, verbose=2)"
   ]
  },
  {
   "cell_type": "markdown",
   "metadata": {
    "cell_id": "00015-c40decce-b6c2-4f3e-af55-6dc6b2eb29cd",
    "deepnote_cell_type": "markdown",
    "id": "Gqt1yH9Gzfuh"
   },
   "source": [
    "**Question #3.** Similarly, define a logistic regression model for the `mnist` dataset and print its training accuracy during training."
   ]
  },
  {
   "cell_type": "code",
   "execution_count": 11,
   "metadata": {
    "cell_id": "00014-fa195760-a859-4672-bd64-7911ece3c703",
    "deepnote_cell_type": "code",
    "tags": []
   },
   "outputs": [
    {
     "name": "stdout",
     "output_type": "stream",
     "text": [
      "Epoch 1/10\n",
      "600/600 - 4s - 6ms/step - accuracy: 0.8397 - loss: 0.6379\n",
      "Epoch 2/10\n",
      "600/600 - 4s - 6ms/step - accuracy: 0.9054 - loss: 0.3492\n",
      "Epoch 3/10\n",
      "600/600 - 4s - 6ms/step - accuracy: 0.9137 - loss: 0.3114\n",
      "Epoch 4/10\n",
      "600/600 - 4s - 6ms/step - accuracy: 0.9184 - loss: 0.2934\n",
      "Epoch 5/10\n",
      "600/600 - 3s - 6ms/step - accuracy: 0.9214 - loss: 0.2825\n",
      "Epoch 6/10\n",
      "600/600 - 3s - 6ms/step - accuracy: 0.9235 - loss: 0.2753\n",
      "Epoch 7/10\n",
      "600/600 - 3s - 6ms/step - accuracy: 0.9244 - loss: 0.2698\n",
      "Epoch 8/10\n",
      "600/600 - 3s - 6ms/step - accuracy: 0.9260 - loss: 0.2656\n",
      "Epoch 9/10\n",
      "600/600 - 3s - 6ms/step - accuracy: 0.9274 - loss: 0.2622\n",
      "Epoch 10/10\n",
      "600/600 - 3s - 6ms/step - accuracy: 0.9281 - loss: 0.2588\n"
     ]
    },
    {
     "data": {
      "text/plain": [
       "<keras.src.callbacks.history.History at 0x17fa2e920>"
      ]
     },
     "execution_count": 11,
     "metadata": {},
     "output_type": "execute_result"
    }
   ],
   "source": [
    "x_train, x_test, y_train, y_test = prepare_mnist()\n",
    "\n",
    "input_layer = InputLayer(shape=x_train.shape[1:])\n",
    "output_layer = Dense(units=y_train.shape[1], activation=\"softmax\")\n",
    "\n",
    "model = Sequential([\n",
    "    input_layer,\n",
    "    output_layer\n",
    "])\n",
    "model.compile(loss=\"categorical_crossentropy\", optimizer=\"adam\", metrics=[\"accuracy\"])\n",
    "model.fit(x_train, y_train, epochs=10, batch_size=100, verbose=2)"
   ]
  },
  {
   "cell_type": "markdown",
   "metadata": {
    "cell_id": "00018-cfad4bc9-a1de-43a4-bb43-d74840d9869d",
    "deepnote_cell_type": "markdown",
    "id": "6SGA-CdS0vwW"
   },
   "source": [
    "**Question #4.** Compare performance (in terms of training accuracy, we will come back to better ways to compare models afterwards) of this logistic regression model with that of a neural network with respectively 1, 2, and 3 hidden layers of 128 neurons each.\n",
    "You will use the `\"relu\"` activation function for hidden layers."
   ]
  },
  {
   "cell_type": "code",
   "execution_count": 12,
   "metadata": {
    "cell_id": "00016-667b31d2-ee2e-4a34-9a88-33c19a38522a",
    "deepnote_cell_type": "code",
    "deepnote_to_be_reexecuted": true,
    "source_hash": "b623e53d",
    "tags": []
   },
   "outputs": [
    {
     "name": "stdout",
     "output_type": "stream",
     "text": [
      "Epoch 1/10\n",
      "600/600 - 5s - 9ms/step - accuracy: 0.9084 - loss: 0.3310\n",
      "Epoch 2/10\n",
      "600/600 - 5s - 8ms/step - accuracy: 0.9566 - loss: 0.1511\n",
      "Epoch 3/10\n",
      "600/600 - 5s - 8ms/step - accuracy: 0.9692 - loss: 0.1069\n",
      "Epoch 4/10\n",
      "600/600 - 5s - 8ms/step - accuracy: 0.9761 - loss: 0.0819\n",
      "Epoch 5/10\n",
      "600/600 - 5s - 8ms/step - accuracy: 0.9814 - loss: 0.0656\n",
      "Epoch 6/10\n",
      "600/600 - 5s - 8ms/step - accuracy: 0.9842 - loss: 0.0542\n",
      "Epoch 7/10\n",
      "600/600 - 5s - 8ms/step - accuracy: 0.9869 - loss: 0.0444\n",
      "Epoch 8/10\n",
      "600/600 - 5s - 8ms/step - accuracy: 0.9891 - loss: 0.0375\n",
      "Epoch 9/10\n",
      "600/600 - 5s - 8ms/step - accuracy: 0.9912 - loss: 0.0313\n",
      "Epoch 10/10\n",
      "600/600 - 5s - 8ms/step - accuracy: 0.9924 - loss: 0.0267\n"
     ]
    },
    {
     "data": {
      "text/plain": [
       "<keras.src.callbacks.history.History at 0x34d925a50>"
      ]
     },
     "execution_count": 12,
     "metadata": {},
     "output_type": "execute_result"
    }
   ],
   "source": [
    "model = Sequential([\n",
    "    InputLayer(shape=x_train.shape[1:]),\n",
    "    Dense(units=128, activation=\"relu\"),\n",
    "    Dense(units=y_train.shape[1], activation=\"softmax\")\n",
    "])\n",
    "model.compile(loss=\"categorical_crossentropy\", optimizer=\"adam\", metrics=[\"accuracy\"])\n",
    "model.fit(x_train, y_train, epochs=10, batch_size=100, verbose=2)"
   ]
  },
  {
   "cell_type": "code",
   "execution_count": 13,
   "metadata": {},
   "outputs": [
    {
     "name": "stdout",
     "output_type": "stream",
     "text": [
      "Epoch 1/10\n",
      "600/600 - 5s - 8ms/step - accuracy: 0.9143 - loss: 0.2998\n",
      "Epoch 2/10\n",
      "600/600 - 5s - 8ms/step - accuracy: 0.9639 - loss: 0.1189\n",
      "Epoch 3/10\n",
      "600/600 - 5s - 8ms/step - accuracy: 0.9758 - loss: 0.0810\n",
      "Epoch 4/10\n",
      "600/600 - 5s - 8ms/step - accuracy: 0.9815 - loss: 0.0593\n",
      "Epoch 5/10\n",
      "600/600 - 5s - 8ms/step - accuracy: 0.9851 - loss: 0.0475\n",
      "Epoch 6/10\n",
      "600/600 - 5s - 8ms/step - accuracy: 0.9884 - loss: 0.0374\n",
      "Epoch 7/10\n",
      "600/600 - 5s - 8ms/step - accuracy: 0.9908 - loss: 0.0291\n",
      "Epoch 8/10\n",
      "600/600 - 5s - 8ms/step - accuracy: 0.9926 - loss: 0.0240\n",
      "Epoch 9/10\n",
      "600/600 - 5s - 8ms/step - accuracy: 0.9937 - loss: 0.0200\n",
      "Epoch 10/10\n",
      "600/600 - 5s - 8ms/step - accuracy: 0.9944 - loss: 0.0170\n"
     ]
    },
    {
     "data": {
      "text/plain": [
       "<keras.src.callbacks.history.History at 0x36c70bee0>"
      ]
     },
     "execution_count": 13,
     "metadata": {},
     "output_type": "execute_result"
    }
   ],
   "source": [
    "model = Sequential([\n",
    "    InputLayer(shape=x_train.shape[1:]),\n",
    "    Dense(units=128, activation=\"relu\"),\n",
    "    Dense(units=128, activation=\"relu\"),\n",
    "    Dense(units=y_train.shape[1], activation=\"softmax\")\n",
    "])\n",
    "model.compile(loss=\"categorical_crossentropy\", optimizer=\"adam\", metrics=[\"accuracy\"])\n",
    "model.fit(x_train, y_train, epochs=10, batch_size=100, verbose=2)"
   ]
  },
  {
   "cell_type": "code",
   "execution_count": 14,
   "metadata": {},
   "outputs": [
    {
     "name": "stdout",
     "output_type": "stream",
     "text": [
      "Epoch 1/10\n",
      "600/600 - 5s - 9ms/step - accuracy: 0.9155 - loss: 0.2858\n",
      "Epoch 2/10\n",
      "600/600 - 5s - 9ms/step - accuracy: 0.9660 - loss: 0.1131\n",
      "Epoch 3/10\n",
      "600/600 - 5s - 9ms/step - accuracy: 0.9761 - loss: 0.0782\n",
      "Epoch 4/10\n",
      "600/600 - 5s - 9ms/step - accuracy: 0.9814 - loss: 0.0575\n",
      "Epoch 5/10\n",
      "600/600 - 5s - 9ms/step - accuracy: 0.9855 - loss: 0.0449\n",
      "Epoch 6/10\n",
      "600/600 - 5s - 9ms/step - accuracy: 0.9867 - loss: 0.0404\n",
      "Epoch 7/10\n",
      "600/600 - 5s - 9ms/step - accuracy: 0.9902 - loss: 0.0295\n",
      "Epoch 8/10\n",
      "600/600 - 5s - 9ms/step - accuracy: 0.9911 - loss: 0.0282\n",
      "Epoch 9/10\n",
      "600/600 - 5s - 9ms/step - accuracy: 0.9925 - loss: 0.0219\n",
      "Epoch 10/10\n",
      "600/600 - 5s - 9ms/step - accuracy: 0.9915 - loss: 0.0245\n"
     ]
    },
    {
     "data": {
      "text/plain": [
       "<keras.src.callbacks.history.History at 0x36c73b040>"
      ]
     },
     "execution_count": 14,
     "metadata": {},
     "output_type": "execute_result"
    }
   ],
   "source": [
    "model = Sequential([\n",
    "    InputLayer(shape=x_train.shape[1:]),\n",
    "    Dense(units=128, activation=\"relu\"),\n",
    "    Dense(units=128, activation=\"relu\"),\n",
    "    Dense(units=128, activation=\"relu\"),\n",
    "    Dense(units=y_train.shape[1], activation=\"softmax\")\n",
    "])\n",
    "model.compile(loss=\"categorical_crossentropy\", optimizer=\"adam\", metrics=[\"accuracy\"])\n",
    "model.fit(x_train, y_train, epochs=10, batch_size=100, verbose=2)"
   ]
  },
  {
   "cell_type": "code",
   "execution_count": 15,
   "metadata": {},
   "outputs": [
    {
     "data": {
      "text/html": [
       "<pre style=\"white-space:pre;overflow-x:auto;line-height:normal;font-family:Menlo,'DejaVu Sans Mono',consolas,'Courier New',monospace\"><span style=\"font-weight: bold\">Model: \"sequential_5\"</span>\n",
       "</pre>\n"
      ],
      "text/plain": [
       "\u001b[1mModel: \"sequential_5\"\u001b[0m\n"
      ]
     },
     "metadata": {},
     "output_type": "display_data"
    },
    {
     "data": {
      "text/html": [
       "<pre style=\"white-space:pre;overflow-x:auto;line-height:normal;font-family:Menlo,'DejaVu Sans Mono',consolas,'Courier New',monospace\">┏━━━━━━━━━━━━━━━━━━━━━━━━━━━━━━━━━┳━━━━━━━━━━━━━━━━━━━━━━━━┳━━━━━━━━━━━━━━━┓\n",
       "┃<span style=\"font-weight: bold\"> Layer (type)                    </span>┃<span style=\"font-weight: bold\"> Output Shape           </span>┃<span style=\"font-weight: bold\">       Param # </span>┃\n",
       "┡━━━━━━━━━━━━━━━━━━━━━━━━━━━━━━━━━╇━━━━━━━━━━━━━━━━━━━━━━━━╇━━━━━━━━━━━━━━━┩\n",
       "│ dense_10 (<span style=\"color: #0087ff; text-decoration-color: #0087ff\">Dense</span>)                │ (<span style=\"color: #00d7ff; text-decoration-color: #00d7ff\">None</span>, <span style=\"color: #00af00; text-decoration-color: #00af00\">128</span>)            │       <span style=\"color: #00af00; text-decoration-color: #00af00\">100,480</span> │\n",
       "├─────────────────────────────────┼────────────────────────┼───────────────┤\n",
       "│ dense_11 (<span style=\"color: #0087ff; text-decoration-color: #0087ff\">Dense</span>)                │ (<span style=\"color: #00d7ff; text-decoration-color: #00d7ff\">None</span>, <span style=\"color: #00af00; text-decoration-color: #00af00\">128</span>)            │        <span style=\"color: #00af00; text-decoration-color: #00af00\">16,512</span> │\n",
       "├─────────────────────────────────┼────────────────────────┼───────────────┤\n",
       "│ dense_12 (<span style=\"color: #0087ff; text-decoration-color: #0087ff\">Dense</span>)                │ (<span style=\"color: #00d7ff; text-decoration-color: #00d7ff\">None</span>, <span style=\"color: #00af00; text-decoration-color: #00af00\">128</span>)            │        <span style=\"color: #00af00; text-decoration-color: #00af00\">16,512</span> │\n",
       "├─────────────────────────────────┼────────────────────────┼───────────────┤\n",
       "│ dense_13 (<span style=\"color: #0087ff; text-decoration-color: #0087ff\">Dense</span>)                │ (<span style=\"color: #00d7ff; text-decoration-color: #00d7ff\">None</span>, <span style=\"color: #00af00; text-decoration-color: #00af00\">10</span>)             │         <span style=\"color: #00af00; text-decoration-color: #00af00\">1,290</span> │\n",
       "└─────────────────────────────────┴────────────────────────┴───────────────┘\n",
       "</pre>\n"
      ],
      "text/plain": [
       "┏━━━━━━━━━━━━━━━━━━━━━━━━━━━━━━━━━┳━━━━━━━━━━━━━━━━━━━━━━━━┳━━━━━━━━━━━━━━━┓\n",
       "┃\u001b[1m \u001b[0m\u001b[1mLayer (type)                   \u001b[0m\u001b[1m \u001b[0m┃\u001b[1m \u001b[0m\u001b[1mOutput Shape          \u001b[0m\u001b[1m \u001b[0m┃\u001b[1m \u001b[0m\u001b[1m      Param #\u001b[0m\u001b[1m \u001b[0m┃\n",
       "┡━━━━━━━━━━━━━━━━━━━━━━━━━━━━━━━━━╇━━━━━━━━━━━━━━━━━━━━━━━━╇━━━━━━━━━━━━━━━┩\n",
       "│ dense_10 (\u001b[38;5;33mDense\u001b[0m)                │ (\u001b[38;5;45mNone\u001b[0m, \u001b[38;5;34m128\u001b[0m)            │       \u001b[38;5;34m100,480\u001b[0m │\n",
       "├─────────────────────────────────┼────────────────────────┼───────────────┤\n",
       "│ dense_11 (\u001b[38;5;33mDense\u001b[0m)                │ (\u001b[38;5;45mNone\u001b[0m, \u001b[38;5;34m128\u001b[0m)            │        \u001b[38;5;34m16,512\u001b[0m │\n",
       "├─────────────────────────────────┼────────────────────────┼───────────────┤\n",
       "│ dense_12 (\u001b[38;5;33mDense\u001b[0m)                │ (\u001b[38;5;45mNone\u001b[0m, \u001b[38;5;34m128\u001b[0m)            │        \u001b[38;5;34m16,512\u001b[0m │\n",
       "├─────────────────────────────────┼────────────────────────┼───────────────┤\n",
       "│ dense_13 (\u001b[38;5;33mDense\u001b[0m)                │ (\u001b[38;5;45mNone\u001b[0m, \u001b[38;5;34m10\u001b[0m)             │         \u001b[38;5;34m1,290\u001b[0m │\n",
       "└─────────────────────────────────┴────────────────────────┴───────────────┘\n"
      ]
     },
     "metadata": {},
     "output_type": "display_data"
    },
    {
     "data": {
      "text/html": [
       "<pre style=\"white-space:pre;overflow-x:auto;line-height:normal;font-family:Menlo,'DejaVu Sans Mono',consolas,'Courier New',monospace\"><span style=\"font-weight: bold\"> Total params: </span><span style=\"color: #00af00; text-decoration-color: #00af00\">404,384</span> (1.54 MB)\n",
       "</pre>\n"
      ],
      "text/plain": [
       "\u001b[1m Total params: \u001b[0m\u001b[38;5;34m404,384\u001b[0m (1.54 MB)\n"
      ]
     },
     "metadata": {},
     "output_type": "display_data"
    },
    {
     "data": {
      "text/html": [
       "<pre style=\"white-space:pre;overflow-x:auto;line-height:normal;font-family:Menlo,'DejaVu Sans Mono',consolas,'Courier New',monospace\"><span style=\"font-weight: bold\"> Trainable params: </span><span style=\"color: #00af00; text-decoration-color: #00af00\">134,794</span> (526.54 KB)\n",
       "</pre>\n"
      ],
      "text/plain": [
       "\u001b[1m Trainable params: \u001b[0m\u001b[38;5;34m134,794\u001b[0m (526.54 KB)\n"
      ]
     },
     "metadata": {},
     "output_type": "display_data"
    },
    {
     "data": {
      "text/html": [
       "<pre style=\"white-space:pre;overflow-x:auto;line-height:normal;font-family:Menlo,'DejaVu Sans Mono',consolas,'Courier New',monospace\"><span style=\"font-weight: bold\"> Non-trainable params: </span><span style=\"color: #00af00; text-decoration-color: #00af00\">0</span> (0.00 B)\n",
       "</pre>\n"
      ],
      "text/plain": [
       "\u001b[1m Non-trainable params: \u001b[0m\u001b[38;5;34m0\u001b[0m (0.00 B)\n"
      ]
     },
     "metadata": {},
     "output_type": "display_data"
    },
    {
     "data": {
      "text/html": [
       "<pre style=\"white-space:pre;overflow-x:auto;line-height:normal;font-family:Menlo,'DejaVu Sans Mono',consolas,'Courier New',monospace\"><span style=\"font-weight: bold\"> Optimizer params: </span><span style=\"color: #00af00; text-decoration-color: #00af00\">269,590</span> (1.03 MB)\n",
       "</pre>\n"
      ],
      "text/plain": [
       "\u001b[1m Optimizer params: \u001b[0m\u001b[38;5;34m269,590\u001b[0m (1.03 MB)\n"
      ]
     },
     "metadata": {},
     "output_type": "display_data"
    }
   ],
   "source": [
    "model.summary()"
   ]
  },
  {
   "cell_type": "markdown",
   "metadata": {
    "cell_id": "00020-a024cc10-c7b4-4021-89d9-0ed7447b2b9e",
    "deepnote_cell_type": "markdown",
    "id": "tC9EB0vs363m"
   },
   "source": [
    "**Question #5.** `keras` models offer a `count_params()` method to get the number of parameters to be learned in the model. Use this facility to get the number of parameters of your 3-hidden-layer model and build a new one-hidden-layer model with an equivalent number of parameters. Compare performance of these two models with similar number of parameters."
   ]
  },
  {
   "cell_type": "code",
   "execution_count": 16,
   "metadata": {
    "cell_id": "00018-d3f7b59d-095f-43d8-903e-2b92eb43619f",
    "deepnote_cell_type": "code",
    "deepnote_to_be_reexecuted": true,
    "source_hash": "b623e53d",
    "tags": []
   },
   "outputs": [
    {
     "name": "stdout",
     "output_type": "stream",
     "text": [
      "134365\n",
      "Epoch 1/10\n",
      "600/600 - 5s - 9ms/step - accuracy: 0.9113 - loss: 0.3163\n",
      "Epoch 2/10\n",
      "600/600 - 5s - 8ms/step - accuracy: 0.9589 - loss: 0.1411\n",
      "Epoch 3/10\n",
      "600/600 - 5s - 8ms/step - accuracy: 0.9716 - loss: 0.0988\n",
      "Epoch 4/10\n",
      "600/600 - 5s - 8ms/step - accuracy: 0.9780 - loss: 0.0748\n",
      "Epoch 5/10\n",
      "600/600 - 5s - 8ms/step - accuracy: 0.9824 - loss: 0.0590\n",
      "Epoch 6/10\n",
      "600/600 - 5s - 8ms/step - accuracy: 0.9863 - loss: 0.0474\n",
      "Epoch 7/10\n",
      "600/600 - 5s - 8ms/step - accuracy: 0.9893 - loss: 0.0378\n",
      "Epoch 8/10\n",
      "600/600 - 5s - 8ms/step - accuracy: 0.9915 - loss: 0.0312\n",
      "Epoch 9/10\n",
      "600/600 - 5s - 8ms/step - accuracy: 0.9929 - loss: 0.0255\n",
      "Epoch 10/10\n",
      "600/600 - 5s - 8ms/step - accuracy: 0.9944 - loss: 0.0204\n"
     ]
    },
    {
     "data": {
      "text/plain": [
       "<keras.src.callbacks.history.History at 0x36c58d450>"
      ]
     },
     "execution_count": 16,
     "metadata": {},
     "output_type": "execute_result"
    }
   ],
   "source": [
    "units = 134794 / 794\n",
    "\n",
    "model = Sequential([\n",
    "    InputLayer(shape=x_train.shape[1:]),\n",
    "    Dense(units=units, activation=\"relu\"),\n",
    "    Dense(units=y_train.shape[1], activation=\"softmax\")\n",
    "])\n",
    "print(model.count_params())\n",
    "model.compile(loss=\"categorical_crossentropy\", optimizer=\"adam\", metrics=[\"accuracy\"])\n",
    "model.fit(x_train, y_train, epochs=10, batch_size=100, verbose=2)"
   ]
  },
  {
   "cell_type": "markdown",
   "metadata": {
    "cell_id": "00024-1bdd65e7-515d-4064-882a-54c651abfd3d",
    "deepnote_cell_type": "markdown",
    "id": "iXxTGmUw5ppd"
   },
   "source": [
    "## A better way to compare models\n",
    "\n",
    "Comparing models based on training accuracy (resp. loss) is a \"great\" way to overfit your model to the training data.\n",
    "A better way to compare models is to use hold out data (aka validation set).\n",
    "\n",
    "To do so, `keras` allows to pass, at `fit` time, a fraction of the training data to be used as validation set. Have a look [there](https://keras.io/api/models/model_training_apis/#fit-method) for more details about how validation samples are selected.\n",
    "\n",
    "**Question #6.** Repeat model comparisons above (relying on validation scores) using 30% of training data as validation set."
   ]
  },
  {
   "cell_type": "code",
   "execution_count": 17,
   "metadata": {},
   "outputs": [
    {
     "name": "stdout",
     "output_type": "stream",
     "text": [
      "Epoch 1/10\n",
      "420/420 - 4s - 11ms/step - accuracy: 0.9013 - loss: 0.3322 - val_accuracy: 0.9542 - val_loss: 0.1566\n",
      "Epoch 2/10\n",
      "420/420 - 4s - 11ms/step - accuracy: 0.9640 - loss: 0.1183 - val_accuracy: 0.9601 - val_loss: 0.1314\n",
      "Epoch 3/10\n",
      "420/420 - 4s - 11ms/step - accuracy: 0.9753 - loss: 0.0795 - val_accuracy: 0.9695 - val_loss: 0.1060\n",
      "Epoch 4/10\n",
      "420/420 - 5s - 11ms/step - accuracy: 0.9818 - loss: 0.0597 - val_accuracy: 0.9727 - val_loss: 0.0956\n",
      "Epoch 5/10\n",
      "420/420 - 5s - 11ms/step - accuracy: 0.9851 - loss: 0.0456 - val_accuracy: 0.9683 - val_loss: 0.1138\n",
      "Epoch 6/10\n",
      "420/420 - 5s - 11ms/step - accuracy: 0.9875 - loss: 0.0383 - val_accuracy: 0.9709 - val_loss: 0.1072\n",
      "Epoch 7/10\n",
      "420/420 - 5s - 11ms/step - accuracy: 0.9914 - loss: 0.0276 - val_accuracy: 0.9725 - val_loss: 0.1077\n",
      "Epoch 8/10\n",
      "420/420 - 4s - 11ms/step - accuracy: 0.9916 - loss: 0.0252 - val_accuracy: 0.9711 - val_loss: 0.1228\n",
      "Epoch 9/10\n",
      "420/420 - 4s - 11ms/step - accuracy: 0.9921 - loss: 0.0233 - val_accuracy: 0.9704 - val_loss: 0.1186\n",
      "Epoch 10/10\n",
      "420/420 - 5s - 11ms/step - accuracy: 0.9940 - loss: 0.0178 - val_accuracy: 0.9729 - val_loss: 0.1134\n"
     ]
    },
    {
     "data": {
      "text/plain": [
       "<keras.src.callbacks.history.History at 0x36c58fe50>"
      ]
     },
     "execution_count": 17,
     "metadata": {},
     "output_type": "execute_result"
    }
   ],
   "source": [
    "model = Sequential([\n",
    "    InputLayer(shape=x_train.shape[1:]),\n",
    "    Dense(units=128, activation=\"relu\"),\n",
    "    Dense(units=128, activation=\"relu\"),\n",
    "    Dense(units=128, activation=\"relu\"),\n",
    "    Dense(units=y_train.shape[1], activation=\"softmax\")\n",
    "])\n",
    "model.compile(loss=\"categorical_crossentropy\", optimizer=\"adam\", metrics=[\"accuracy\"])\n",
    "model.fit(x_train, y_train, epochs=10, batch_size=100, verbose=2, validation_split=.3)"
   ]
  },
  {
   "cell_type": "code",
   "execution_count": 18,
   "metadata": {},
   "outputs": [
    {
     "name": "stdout",
     "output_type": "stream",
     "text": [
      "134365\n",
      "Epoch 1/10\n",
      "420/420 - 4s - 9ms/step - accuracy: 0.8962 - loss: 0.3708 - val_accuracy: 0.9407 - val_loss: 0.2100\n",
      "Epoch 2/10\n",
      "420/420 - 4s - 9ms/step - accuracy: 0.9529 - loss: 0.1671 - val_accuracy: 0.9568 - val_loss: 0.1529\n",
      "Epoch 3/10\n",
      "420/420 - 4s - 10ms/step - accuracy: 0.9661 - loss: 0.1171 - val_accuracy: 0.9613 - val_loss: 0.1326\n",
      "Epoch 4/10\n",
      "420/420 - 4s - 9ms/step - accuracy: 0.9747 - loss: 0.0887 - val_accuracy: 0.9667 - val_loss: 0.1159\n",
      "Epoch 5/10\n",
      "420/420 - 4s - 9ms/step - accuracy: 0.9802 - loss: 0.0693 - val_accuracy: 0.9677 - val_loss: 0.1100\n",
      "Epoch 6/10\n",
      "420/420 - 4s - 10ms/step - accuracy: 0.9840 - loss: 0.0548 - val_accuracy: 0.9689 - val_loss: 0.1068\n",
      "Epoch 7/10\n",
      "420/420 - 4s - 9ms/step - accuracy: 0.9873 - loss: 0.0450 - val_accuracy: 0.9702 - val_loss: 0.1008\n",
      "Epoch 8/10\n",
      "420/420 - 4s - 9ms/step - accuracy: 0.9901 - loss: 0.0370 - val_accuracy: 0.9726 - val_loss: 0.0973\n",
      "Epoch 9/10\n",
      "420/420 - 4s - 9ms/step - accuracy: 0.9924 - loss: 0.0302 - val_accuracy: 0.9735 - val_loss: 0.0910\n",
      "Epoch 10/10\n",
      "420/420 - 4s - 9ms/step - accuracy: 0.9943 - loss: 0.0237 - val_accuracy: 0.9725 - val_loss: 0.0954\n"
     ]
    },
    {
     "data": {
      "text/plain": [
       "<keras.src.callbacks.history.History at 0x36c78cb20>"
      ]
     },
     "execution_count": 18,
     "metadata": {},
     "output_type": "execute_result"
    }
   ],
   "source": [
    "units = 134794 / 794\n",
    "\n",
    "model = Sequential([\n",
    "    InputLayer(shape=x_train.shape[1:]),\n",
    "    Dense(units=units, activation=\"relu\"),\n",
    "    Dense(units=y_train.shape[1], activation=\"softmax\")\n",
    "])\n",
    "print(model.count_params())\n",
    "model.compile(loss=\"categorical_crossentropy\", optimizer=\"adam\", metrics=[\"accuracy\"])\n",
    "model.fit(x_train, y_train, epochs=10, batch_size=100, verbose=2, validation_split=.3)"
   ]
  },
  {
   "cell_type": "markdown",
   "metadata": {
    "cell_id": "00026-77f877a8-a870-4358-a389-6435fd380c88",
    "deepnote_cell_type": "markdown",
    "id": "WehjG92yDMcN"
   },
   "source": [
    "## Optimizers and learning rate\n",
    "\n",
    "**Question #7.** Change the optimizer used for your model. Use an optimizer with momentum and adaptive learning rate."
   ]
  },
  {
   "cell_type": "code",
   "execution_count": 19,
   "metadata": {
    "cell_id": "00021-8889ee1e-48b4-4783-b8e9-fb42783d8d39",
    "deepnote_cell_type": "code",
    "deepnote_to_be_reexecuted": true,
    "source_hash": "b623e53d",
    "tags": []
   },
   "outputs": [
    {
     "name": "stdout",
     "output_type": "stream",
     "text": [
      "Epoch 1/10\n",
      "420/420 - 4s - 10ms/step - accuracy: 0.9023 - loss: 0.3430 - val_accuracy: 0.9507 - val_loss: 0.1742\n",
      "Epoch 2/10\n",
      "420/420 - 4s - 10ms/step - accuracy: 0.9590 - loss: 0.1394 - val_accuracy: 0.9602 - val_loss: 0.1321\n",
      "Epoch 3/10\n",
      "420/420 - 4s - 10ms/step - accuracy: 0.9720 - loss: 0.0944 - val_accuracy: 0.9649 - val_loss: 0.1165\n",
      "Epoch 4/10\n",
      "420/420 - 4s - 10ms/step - accuracy: 0.9785 - loss: 0.0707 - val_accuracy: 0.9663 - val_loss: 0.1124\n",
      "Epoch 5/10\n",
      "420/420 - 4s - 10ms/step - accuracy: 0.9838 - loss: 0.0536 - val_accuracy: 0.9705 - val_loss: 0.1016\n",
      "Epoch 6/10\n",
      "420/420 - 4s - 10ms/step - accuracy: 0.9875 - loss: 0.0407 - val_accuracy: 0.9722 - val_loss: 0.1012\n",
      "Epoch 7/10\n",
      "420/420 - 4s - 10ms/step - accuracy: 0.9899 - loss: 0.0331 - val_accuracy: 0.9714 - val_loss: 0.1028\n",
      "Epoch 8/10\n",
      "420/420 - 4s - 10ms/step - accuracy: 0.9928 - loss: 0.0261 - val_accuracy: 0.9696 - val_loss: 0.1120\n",
      "Epoch 9/10\n",
      "420/420 - 4s - 10ms/step - accuracy: 0.9935 - loss: 0.0216 - val_accuracy: 0.9716 - val_loss: 0.1099\n",
      "Epoch 10/10\n",
      "420/420 - 4s - 10ms/step - accuracy: 0.9945 - loss: 0.0172 - val_accuracy: 0.9723 - val_loss: 0.1075\n"
     ]
    },
    {
     "data": {
      "text/plain": [
       "<keras.src.callbacks.history.History at 0x36c78fdf0>"
      ]
     },
     "execution_count": 19,
     "metadata": {},
     "output_type": "execute_result"
    }
   ],
   "source": [
    "model = Sequential([\n",
    "    InputLayer(shape=x_train.shape[1:]),\n",
    "    Dense(units=128, activation=\"relu\"),\n",
    "    Dense(units=128, activation=\"relu\"),\n",
    "    Dense(units=y_train.shape[1], activation=\"softmax\")\n",
    "])\n",
    "model.compile(loss=\"categorical_crossentropy\", optimizer=\"adam\", metrics=[\"accuracy\"])\n",
    "model.fit(x_train, y_train, epochs=10, batch_size=100, verbose=2, validation_split=0.3)"
   ]
  },
  {
   "cell_type": "code",
   "execution_count": 20,
   "metadata": {},
   "outputs": [
    {
     "name": "stdout",
     "output_type": "stream",
     "text": [
      "Epoch 1/10\n"
     ]
    },
    {
     "name": "stdout",
     "output_type": "stream",
     "text": [
      "420/420 - 3s - 7ms/step - accuracy: 0.6975 - loss: 1.2770 - val_accuracy: 0.8488 - val_loss: 0.6359\n",
      "Epoch 2/10\n",
      "420/420 - 3s - 7ms/step - accuracy: 0.8635 - loss: 0.5282 - val_accuracy: 0.8832 - val_loss: 0.4336\n",
      "Epoch 3/10\n",
      "420/420 - 3s - 7ms/step - accuracy: 0.8864 - loss: 0.4106 - val_accuracy: 0.8957 - val_loss: 0.3700\n",
      "Epoch 4/10\n",
      "420/420 - 3s - 7ms/step - accuracy: 0.8987 - loss: 0.3620 - val_accuracy: 0.9038 - val_loss: 0.3372\n",
      "Epoch 5/10\n",
      "420/420 - 3s - 7ms/step - accuracy: 0.9058 - loss: 0.3321 - val_accuracy: 0.9103 - val_loss: 0.3155\n",
      "Epoch 6/10\n",
      "420/420 - 3s - 7ms/step - accuracy: 0.9117 - loss: 0.3109 - val_accuracy: 0.9143 - val_loss: 0.2984\n",
      "Epoch 7/10\n",
      "420/420 - 3s - 7ms/step - accuracy: 0.9158 - loss: 0.2936 - val_accuracy: 0.9174 - val_loss: 0.2864\n",
      "Epoch 8/10\n",
      "420/420 - 3s - 8ms/step - accuracy: 0.9190 - loss: 0.2792 - val_accuracy: 0.9220 - val_loss: 0.2746\n",
      "Epoch 9/10\n",
      "420/420 - 3s - 7ms/step - accuracy: 0.9229 - loss: 0.2665 - val_accuracy: 0.9248 - val_loss: 0.2637\n",
      "Epoch 10/10\n",
      "420/420 - 3s - 7ms/step - accuracy: 0.9269 - loss: 0.2555 - val_accuracy: 0.9277 - val_loss: 0.2556\n"
     ]
    },
    {
     "data": {
      "text/plain": [
       "<keras.src.callbacks.history.History at 0x36c7b72b0>"
      ]
     },
     "execution_count": 20,
     "metadata": {},
     "output_type": "execute_result"
    }
   ],
   "source": [
    "model = Sequential([\n",
    "    InputLayer(shape=x_train.shape[1:]),\n",
    "    Dense(units=128, activation=\"relu\"),\n",
    "    Dense(units=128, activation=\"relu\"),\n",
    "    Dense(units=y_train.shape[1], activation=\"softmax\")\n",
    "])\n",
    "model.compile(loss=\"categorical_crossentropy\", optimizer=\"sgd\", metrics=[\"accuracy\"])\n",
    "model.fit(x_train, y_train, epochs=10, batch_size=100, verbose=2, validation_split=0.3)"
   ]
  },
  {
   "cell_type": "code",
   "execution_count": 21,
   "metadata": {},
   "outputs": [
    {
     "name": "stdout",
     "output_type": "stream",
     "text": [
      "Epoch 1/10\n",
      "420/420 - 4s - 10ms/step - accuracy: 0.9005 - loss: 0.3495 - val_accuracy: 0.9479 - val_loss: 0.1808\n",
      "Epoch 2/10\n",
      "420/420 - 4s - 10ms/step - accuracy: 0.9584 - loss: 0.1398 - val_accuracy: 0.9583 - val_loss: 0.1364\n",
      "Epoch 3/10\n",
      "420/420 - 4s - 10ms/step - accuracy: 0.9715 - loss: 0.0956 - val_accuracy: 0.9659 - val_loss: 0.1160\n",
      "Epoch 4/10\n",
      "420/420 - 4s - 10ms/step - accuracy: 0.9788 - loss: 0.0707 - val_accuracy: 0.9699 - val_loss: 0.1004\n",
      "Epoch 5/10\n",
      "420/420 - 4s - 10ms/step - accuracy: 0.9844 - loss: 0.0520 - val_accuracy: 0.9688 - val_loss: 0.1062\n",
      "Epoch 6/10\n",
      "420/420 - 4s - 10ms/step - accuracy: 0.9878 - loss: 0.0408 - val_accuracy: 0.9686 - val_loss: 0.1053\n",
      "Epoch 7/10\n",
      "420/420 - 4s - 10ms/step - accuracy: 0.9895 - loss: 0.0335 - val_accuracy: 0.9712 - val_loss: 0.0967\n",
      "Epoch 8/10\n",
      "420/420 - 4s - 10ms/step - accuracy: 0.9920 - loss: 0.0254 - val_accuracy: 0.9724 - val_loss: 0.1027\n",
      "Epoch 9/10\n",
      "420/420 - 4s - 10ms/step - accuracy: 0.9933 - loss: 0.0215 - val_accuracy: 0.9728 - val_loss: 0.1035\n",
      "Epoch 10/10\n",
      "420/420 - 4s - 10ms/step - accuracy: 0.9937 - loss: 0.0192 - val_accuracy: 0.9701 - val_loss: 0.1165\n"
     ]
    },
    {
     "data": {
      "text/plain": [
       "<keras.src.callbacks.history.History at 0x37e029de0>"
      ]
     },
     "execution_count": 21,
     "metadata": {},
     "output_type": "execute_result"
    }
   ],
   "source": [
    "model = Sequential([\n",
    "    InputLayer(shape=x_train.shape[1:]),\n",
    "    Dense(units=128, activation=\"relu\"),\n",
    "    Dense(units=128, activation=\"relu\"),\n",
    "    Dense(units=y_train.shape[1], activation=\"softmax\")\n",
    "])\n",
    "model.compile(loss=\"categorical_crossentropy\", optimizer=\"adam\", metrics=[\"accuracy\"])\n",
    "model.fit(x_train, y_train, epochs=10, batch_size=100, verbose=2, validation_split=0.3)"
   ]
  },
  {
   "cell_type": "markdown",
   "metadata": {
    "cell_id": "00028-47912783-f891-416d-9e9d-05d57a819e7c",
    "deepnote_cell_type": "markdown",
    "id": "ot8jiQHuEZxr"
   },
   "source": [
    "**Question #8.** Using [the docs](https://keras.io/api/optimizers/), vary the learning rate of your optimizer from a very low value to a much larger one so as to show evidence of:\n",
    "* instability when the learning rate is too large;\n",
    "* slow convergence when the learning rate is too low."
   ]
  },
  {
   "cell_type": "code",
   "execution_count": 22,
   "metadata": {
    "cell_id": "00029-16623cf9-4788-418c-8696-9e61bfe444fb",
    "deepnote_cell_type": "code",
    "deepnote_to_be_reexecuted": true,
    "execution_millis": 38776,
    "id": "pZfwWRDPEa1g",
    "output_cleared": true,
    "source_hash": "b623e53d"
   },
   "outputs": [
    {
     "name": "stdout",
     "output_type": "stream",
     "text": [
      "Epoch 1/10\n",
      "420/420 - 4s - 10ms/step - accuracy: 0.7534 - loss: 1.0075 - val_accuracy: 0.8933 - val_loss: 0.4112\n",
      "Epoch 2/10\n",
      "420/420 - 4s - 10ms/step - accuracy: 0.9062 - loss: 0.3494 - val_accuracy: 0.9173 - val_loss: 0.2970\n",
      "Epoch 3/10\n",
      "420/420 - 4s - 10ms/step - accuracy: 0.9233 - loss: 0.2751 - val_accuracy: 0.9281 - val_loss: 0.2551\n",
      "Epoch 4/10\n",
      "420/420 - 4s - 10ms/step - accuracy: 0.9330 - loss: 0.2378 - val_accuracy: 0.9351 - val_loss: 0.2310\n",
      "Epoch 5/10\n",
      "420/420 - 4s - 10ms/step - accuracy: 0.9404 - loss: 0.2118 - val_accuracy: 0.9396 - val_loss: 0.2125\n",
      "Epoch 6/10\n",
      "420/420 - 4s - 10ms/step - accuracy: 0.9459 - loss: 0.1918 - val_accuracy: 0.9431 - val_loss: 0.2001\n",
      "Epoch 7/10\n",
      "420/420 - 4s - 10ms/step - accuracy: 0.9500 - loss: 0.1754 - val_accuracy: 0.9484 - val_loss: 0.1866\n",
      "Epoch 8/10\n",
      "420/420 - 4s - 10ms/step - accuracy: 0.9540 - loss: 0.1614 - val_accuracy: 0.9481 - val_loss: 0.1795\n",
      "Epoch 9/10\n",
      "420/420 - 4s - 10ms/step - accuracy: 0.9575 - loss: 0.1497 - val_accuracy: 0.9510 - val_loss: 0.1708\n",
      "Epoch 10/10\n",
      "420/420 - 4s - 10ms/step - accuracy: 0.9603 - loss: 0.1390 - val_accuracy: 0.9536 - val_loss: 0.1642\n"
     ]
    },
    {
     "data": {
      "text/plain": [
       "<keras.src.callbacks.history.History at 0x36c7b7d60>"
      ]
     },
     "execution_count": 22,
     "metadata": {},
     "output_type": "execute_result"
    }
   ],
   "source": [
    "from keras.optimizers import Adam\n",
    "\n",
    "model = Sequential([\n",
    "    InputLayer(shape=x_train.shape[1:]),\n",
    "    Dense(units=128, activation=\"relu\"),\n",
    "    Dense(units=128, activation=\"relu\"),\n",
    "    Dense(units=y_train.shape[1], activation=\"softmax\")\n",
    "])\n",
    "model.compile(loss=\"categorical_crossentropy\", optimizer=Adam(learning_rate=0.0001), metrics=[\"accuracy\"])\n",
    "model.fit(x_train, y_train, epochs=10, batch_size=100, verbose=2, validation_split=0.3)"
   ]
  },
  {
   "cell_type": "markdown",
   "metadata": {
    "cell_id": "00030-f3edc3e5-83b2-4417-99c0-ce99030af441",
    "deepnote_cell_type": "markdown",
    "id": "tyCzy_PNEqwE"
   },
   "source": [
    "## Callbacks\n",
    "\n",
    "Callbacks are tools that, in `keras`, allow one to intervene during the training process of a model. \n",
    "Callbacks can be used to take actions (_ie._ save intermediate model, stop optimization if overfitting occurs, _etc._).\n",
    "\n",
    "A first callback one can play with is the one returned by any call to `fit` on a `keras` model.\n",
    "This callback is an object with an `.history` attribute in the form of a Python dictionnary whose keys are the metrics recorded during training. Each of these keys links to an array containing the consecutive values of the considered quantity (one value per epoch).\n",
    "\n",
    "**Question #9.** Plot correct classification rates on both training and validation sets."
   ]
  },
  {
   "cell_type": "code",
   "execution_count": 23,
   "metadata": {
    "cell_id": "00031-a30d0556-649b-490f-8b57-f0ac45eb245a",
    "deepnote_cell_type": "code",
    "deepnote_to_be_reexecuted": true,
    "execution_millis": 67,
    "id": "qA-RPKzaI4-s",
    "output_cleared": true,
    "source_hash": "b623e53d"
   },
   "outputs": [
    {
     "name": "stdout",
     "output_type": "stream",
     "text": [
      "Epoch 1/10\n",
      "420/420 - 4s - 10ms/step - accuracy: 0.9012 - loss: 0.3526 - val_accuracy: 0.9434 - val_loss: 0.1919\n",
      "Epoch 2/10\n",
      "420/420 - 4s - 10ms/step - accuracy: 0.9596 - loss: 0.1376 - val_accuracy: 0.9582 - val_loss: 0.1371\n",
      "Epoch 3/10\n",
      "420/420 - 4s - 10ms/step - accuracy: 0.9727 - loss: 0.0920 - val_accuracy: 0.9659 - val_loss: 0.1137\n",
      "Epoch 4/10\n",
      "420/420 - 4s - 10ms/step - accuracy: 0.9793 - loss: 0.0691 - val_accuracy: 0.9687 - val_loss: 0.1057\n",
      "Epoch 5/10\n",
      "420/420 - 4s - 10ms/step - accuracy: 0.9849 - loss: 0.0507 - val_accuracy: 0.9690 - val_loss: 0.1073\n",
      "Epoch 6/10\n",
      "420/420 - 4s - 10ms/step - accuracy: 0.9886 - loss: 0.0391 - val_accuracy: 0.9687 - val_loss: 0.1095\n",
      "Epoch 7/10\n",
      "420/420 - 4s - 10ms/step - accuracy: 0.9898 - loss: 0.0326 - val_accuracy: 0.9713 - val_loss: 0.1080\n",
      "Epoch 8/10\n",
      "420/420 - 4s - 10ms/step - accuracy: 0.9916 - loss: 0.0270 - val_accuracy: 0.9724 - val_loss: 0.1088\n",
      "Epoch 9/10\n",
      "420/420 - 4s - 10ms/step - accuracy: 0.9934 - loss: 0.0215 - val_accuracy: 0.9688 - val_loss: 0.1202\n",
      "Epoch 10/10\n",
      "420/420 - 4s - 10ms/step - accuracy: 0.9947 - loss: 0.0175 - val_accuracy: 0.9703 - val_loss: 0.1140\n"
     ]
    }
   ],
   "source": [
    "model = Sequential([\n",
    "    InputLayer(shape=x_train.shape[1:]),\n",
    "    Dense(units=128, activation=\"relu\"),\n",
    "    Dense(units=128, activation=\"relu\"),\n",
    "    Dense(units=y_train.shape[1], activation=\"softmax\")\n",
    "])\n",
    "model.compile(loss=\"categorical_crossentropy\", optimizer=\"adam\", metrics=[\"accuracy\"])\n",
    "h = model.fit(x_train, y_train, epochs=10, batch_size=100, verbose=2, validation_split=0.3)"
   ]
  },
  {
   "cell_type": "code",
   "execution_count": 24,
   "metadata": {},
   "outputs": [
    {
     "data": {
      "text/plain": [
       "{'accuracy': [0.9011666774749756,\n",
       "  0.9595714211463928,\n",
       "  0.9726666808128357,\n",
       "  0.9792618751525879,\n",
       "  0.9848571419715881,\n",
       "  0.9885714054107666,\n",
       "  0.989809513092041,\n",
       "  0.9916428327560425,\n",
       "  0.9934285879135132,\n",
       "  0.9946666955947876],\n",
       " 'loss': [0.3525865077972412,\n",
       "  0.13758544623851776,\n",
       "  0.09204570949077606,\n",
       "  0.06905577331781387,\n",
       "  0.05067828670144081,\n",
       "  0.039093196392059326,\n",
       "  0.03258202597498894,\n",
       "  0.026970528066158295,\n",
       "  0.021528108045458794,\n",
       "  0.01750633865594864],\n",
       " 'val_accuracy': [0.9433888792991638,\n",
       "  0.9582222104072571,\n",
       "  0.9659444689750671,\n",
       "  0.968666672706604,\n",
       "  0.968999981880188,\n",
       "  0.968666672706604,\n",
       "  0.9712777733802795,\n",
       "  0.9724444150924683,\n",
       "  0.968833327293396,\n",
       "  0.9703333377838135],\n",
       " 'val_loss': [0.19193238019943237,\n",
       "  0.1370515525341034,\n",
       "  0.11369127780199051,\n",
       "  0.10566958785057068,\n",
       "  0.1073310524225235,\n",
       "  0.10950298607349396,\n",
       "  0.10802976787090302,\n",
       "  0.10879310965538025,\n",
       "  0.12017141282558441,\n",
       "  0.11402251571416855]}"
      ]
     },
     "execution_count": 24,
     "metadata": {},
     "output_type": "execute_result"
    }
   ],
   "source": [
    "h.history"
   ]
  },
  {
   "cell_type": "code",
   "execution_count": 25,
   "metadata": {},
   "outputs": [
    {
     "data": {
      "image/png": "[encoded data removed]",
      "text/plain": [
       "<Figure size 640x480 with 1 Axes>"
      ]
     },
     "metadata": {},
     "output_type": "display_data"
    }
   ],
   "source": [
    "import matplotlib.pyplot as plt\n",
    "import numpy as np\n",
    "\n",
    "plt.plot(np.arange(1, 11), h.history[\"loss\"], label=\"Training loss\")\n",
    "plt.plot(np.arange(1, 11), h.history[\"val_loss\"], label=\"Validation loss\")\n",
    "plt.axvline(x=np.argmin(h.history[\"val_loss\"]) + 1, color='k', linestyle='--')\n",
    "plt.legend();"
   ]
  },
  {
   "cell_type": "markdown",
   "metadata": {
    "cell_id": "00032-0b2aa348-08ef-45f0-8984-70863c338c77",
    "deepnote_cell_type": "markdown",
    "id": "l9y1at8qI5cO"
   },
   "source": [
    "Setting up other callbacks must be explicit. This is done by passing a list of callbacks to the `fit` method.\n",
    "\n",
    "When training a model is long, one can wish to record intermediate models (in case of a crash during training, or just for cases when intermediate models were performing better than the final one).\n",
    "The [`ModelCheckpoint`](https://keras.io/api/callbacks/model_checkpoint/) callback is designed for that purpose.\n",
    "\n",
    "**Question #10.** Set up recording of intermediate models every epoch. Save the models into a dedicated file `model.keras` on your project. Only record models if validation loss is lower than for all previous models."
   ]
  },
  {
   "cell_type": "code",
   "execution_count": 26,
   "metadata": {
    "cell_id": "00027-fc377b2f-fe5b-4d0e-94b4-faa235dae4bc",
    "deepnote_cell_type": "code",
    "deepnote_to_be_reexecuted": true,
    "source_hash": "b623e53d",
    "tags": []
   },
   "outputs": [
    {
     "name": "stdout",
     "output_type": "stream",
     "text": [
      "Epoch 1/10\n",
      "600/600 - 17s - 29ms/step - accuracy: 0.9136 - loss: 0.2995 - val_accuracy: 0.9578 - val_loss: 0.1443\n",
      "Epoch 2/10\n",
      "600/600 - 6s - 9ms/step - accuracy: 0.9650 - loss: 0.1182 - val_accuracy: 0.9701 - val_loss: 0.1019\n",
      "Epoch 3/10\n",
      "600/600 - 5s - 9ms/step - accuracy: 0.9762 - loss: 0.0809 - val_accuracy: 0.9737 - val_loss: 0.0851\n",
      "Epoch 4/10\n",
      "600/600 - 5s - 9ms/step - accuracy: 0.9812 - loss: 0.0604 - val_accuracy: 0.9754 - val_loss: 0.0814\n",
      "Epoch 5/10\n",
      "600/600 - 5s - 9ms/step - accuracy: 0.9856 - loss: 0.0465 - val_accuracy: 0.9776 - val_loss: 0.0792\n",
      "Epoch 6/10\n",
      "600/600 - 6s - 9ms/step - accuracy: 0.9875 - loss: 0.0388 - val_accuracy: 0.9769 - val_loss: 0.0777\n",
      "Epoch 7/10\n",
      "600/600 - 5s - 9ms/step - accuracy: 0.9903 - loss: 0.0306 - val_accuracy: 0.9766 - val_loss: 0.0782\n",
      "Epoch 8/10\n",
      "600/600 - 5s - 9ms/step - accuracy: 0.9924 - loss: 0.0251 - val_accuracy: 0.9787 - val_loss: 0.0725\n",
      "Epoch 9/10\n",
      "600/600 - 5s - 9ms/step - accuracy: 0.9934 - loss: 0.0210 - val_accuracy: 0.9763 - val_loss: 0.0830\n",
      "Epoch 10/10\n",
      "600/600 - 5s - 9ms/step - accuracy: 0.9941 - loss: 0.0174 - val_accuracy: 0.9781 - val_loss: 0.0824\n"
     ]
    }
   ],
   "source": [
    "from keras.callbacks import ModelCheckpoint\n",
    "\n",
    "cb = ModelCheckpoint(\"model.keras\", save_best_only=True)\n",
    "\n",
    "model = Sequential([\n",
    "    InputLayer(shape=x_train.shape[1:]),\n",
    "    Dense(units=128, activation=\"relu\"),\n",
    "    Dense(units=128, activation=\"relu\"),\n",
    "    Dense(units=y_train.shape[1], activation=\"softmax\")\n",
    "])\n",
    "model.compile(loss=\"categorical_crossentropy\", optimizer=\"adam\", metrics=[\"accuracy\"])\n",
    "h = model.fit(x_train, y_train, epochs=10, batch_size=100, verbose=2, validation_data=(x_test, y_test), callbacks=[cb])"
   ]
  },
  {
   "cell_type": "markdown",
   "metadata": {
    "cell_id": "00028-e61b8442-9511-4a89-a53c-9590238e0fd2",
    "deepnote_cell_type": "markdown",
    "tags": []
   },
   "source": [
    "Use the code below to check that a model has been saved:"
   ]
  },
  {
   "cell_type": "code",
   "execution_count": 27,
   "metadata": {
    "cell_id": "00034-e0f2a0eb-f551-440e-94fb-2db94f18bde6",
    "deepnote_cell_type": "code",
    "deepnote_to_be_reexecuted": true,
    "id": "m0Zqsvh8Bowh",
    "source_hash": "3b41946",
    "tags": [
     "keep"
    ]
   },
   "outputs": [
    {
     "name": "stdout",
     "output_type": "stream",
     "text": [
      "-rw-r--r--@ 1 rtavenar  staff   1.4M Sep  9 17:19 model.keras\n"
     ]
    }
   ],
   "source": [
    "%ls -alh \"model.keras\""
   ]
  },
  {
   "cell_type": "code",
   "execution_count": 28,
   "metadata": {
    "tags": [
     "keep"
    ]
   },
   "outputs": [
    {
     "name": "stdout",
     "output_type": "stream",
     "text": [
      "\u001b[1m313/313\u001b[0m \u001b[32m━━━━━━━━━━━━━━━━━━━━\u001b[0m\u001b[37m\u001b[0m \u001b[1m1s\u001b[0m 4ms/step - accuracy: 0.9744 - loss: 0.0997\n"
     ]
    },
    {
     "data": {
      "text/plain": [
       "[0.08239037543535233, 0.9781000018119812]"
      ]
     },
     "execution_count": 28,
     "metadata": {},
     "output_type": "execute_result"
    }
   ],
   "source": [
    "model.evaluate(x_test, y_test)"
   ]
  },
  {
   "cell_type": "code",
   "execution_count": 29,
   "metadata": {
    "tags": [
     "keep"
    ]
   },
   "outputs": [
    {
     "name": "stdout",
     "output_type": "stream",
     "text": [
      "\u001b[1m313/313\u001b[0m \u001b[32m━━━━━━━━━━━━━━━━━━━━\u001b[0m\u001b[37m\u001b[0m \u001b[1m1s\u001b[0m 4ms/step - accuracy: 0.9740 - loss: 0.0901\n"
     ]
    },
    {
     "data": {
      "text/plain": [
       "[0.0724618062376976, 0.9786999821662903]"
      ]
     },
     "execution_count": 29,
     "metadata": {},
     "output_type": "execute_result"
    }
   ],
   "source": [
    "model.load_weights(\"model.keras\")\n",
    "model.evaluate(x_test, y_test)"
   ]
  },
  {
   "cell_type": "markdown",
   "metadata": {
    "cell_id": "00035-1206a01d-7467-4a3e-bbdc-ee72b70366a2",
    "deepnote_cell_type": "markdown",
    "id": "WFehub4rLrZm"
   },
   "source": [
    "## Regularization\n",
    "\n",
    "**Question #11.** Add an $\\ell_2$ regularization to the weights of your model and show its impact on overfitting. [These docs](https://keras.io/api/layers/regularizers/) could help."
   ]
  },
  {
   "cell_type": "code",
   "execution_count": 30,
   "metadata": {
    "cell_id": "00030-dcf2874b-1d98-4a94-9f5d-a048e99081d8",
    "deepnote_cell_type": "code",
    "deepnote_to_be_reexecuted": true,
    "source_hash": "b623e53d",
    "tags": []
   },
   "outputs": [
    {
     "name": "stdout",
     "output_type": "stream",
     "text": [
      "Epoch 1/10\n",
      "480/480 - 5s - 11ms/step - accuracy: 0.9021 - loss: 0.5851 - val_accuracy: 0.9470 - val_loss: 0.3861\n",
      "Epoch 2/10\n",
      "480/480 - 5s - 10ms/step - accuracy: 0.9520 - loss: 0.3500 - val_accuracy: 0.9579 - val_loss: 0.3143\n",
      "Epoch 3/10\n",
      "480/480 - 5s - 10ms/step - accuracy: 0.9631 - loss: 0.2918 - val_accuracy: 0.9663 - val_loss: 0.2784\n",
      "Epoch 4/10\n",
      "480/480 - 5s - 10ms/step - accuracy: 0.9676 - loss: 0.2637 - val_accuracy: 0.9687 - val_loss: 0.2567\n",
      "Epoch 5/10\n",
      "480/480 - 5s - 10ms/step - accuracy: 0.9702 - loss: 0.2454 - val_accuracy: 0.9664 - val_loss: 0.2580\n",
      "Epoch 6/10\n",
      "480/480 - 5s - 10ms/step - accuracy: 0.9715 - loss: 0.2366 - val_accuracy: 0.9675 - val_loss: 0.2477\n",
      "Epoch 7/10\n",
      "480/480 - 5s - 10ms/step - accuracy: 0.9747 - loss: 0.2276 - val_accuracy: 0.9707 - val_loss: 0.2355\n",
      "Epoch 8/10\n",
      "480/480 - 5s - 10ms/step - accuracy: 0.9747 - loss: 0.2240 - val_accuracy: 0.9718 - val_loss: 0.2292\n",
      "Epoch 9/10\n",
      "480/480 - 5s - 10ms/step - accuracy: 0.9757 - loss: 0.2201 - val_accuracy: 0.9709 - val_loss: 0.2304\n",
      "Epoch 10/10\n",
      "480/480 - 5s - 10ms/step - accuracy: 0.9760 - loss: 0.2180 - val_accuracy: 0.9738 - val_loss: 0.2239\n"
     ]
    }
   ],
   "source": [
    "from keras.regularizers import l2\n",
    "\n",
    "model = Sequential([\n",
    "    InputLayer(shape=x_train.shape[1:]),\n",
    "    Dense(units=128, activation=\"relu\", kernel_regularizer=l2(.001)),\n",
    "    Dense(units=128, activation=\"relu\", kernel_regularizer=l2(.001)),\n",
    "    Dense(units=y_train.shape[1], activation=\"softmax\", kernel_regularizer=l2(.001))\n",
    "])\n",
    "model.compile(loss=\"categorical_crossentropy\", optimizer=\"adam\", metrics=[\"accuracy\"])\n",
    "h = model.fit(x_train, y_train, epochs=10, batch_size=100, verbose=2, validation_split=.2)"
   ]
  },
  {
   "cell_type": "code",
   "execution_count": 31,
   "metadata": {},
   "outputs": [
    {
     "data": {
      "image/png": "[encoded data removed]",
      "text/plain": [
       "<Figure size 640x480 with 1 Axes>"
      ]
     },
     "metadata": {},
     "output_type": "display_data"
    }
   ],
   "source": [
    "plt.plot(h.history[\"val_loss\"], label=\"Validation loss\")\n",
    "plt.plot(h.history[\"loss\"], label=\"Training loss\")\n",
    "plt.legend();"
   ]
  },
  {
   "cell_type": "markdown",
   "metadata": {
    "cell_id": "00037-eeefff63-cd4e-4d79-b3ed-4f6bfb2ce154",
    "deepnote_cell_type": "markdown",
    "id": "vumLi62gNVhk"
   },
   "source": [
    "**Question #12.** Instead of the $\\ell_2$ regularization, set up a [drop-out](https://keras.io/api/layers/regularization_layers/dropout/) strategy and assess its impact on overfitting (you will turn off 10% of the neurons at each training batch)."
   ]
  },
  {
   "cell_type": "code",
   "execution_count": 32,
   "metadata": {
    "cell_id": "00031-76277bb0-9d1e-44c8-a795-8144cb710525",
    "deepnote_cell_type": "code",
    "deepnote_to_be_reexecuted": true,
    "source_hash": "b623e53d",
    "tags": []
   },
   "outputs": [
    {
     "name": "stdout",
     "output_type": "stream",
     "text": [
      "Epoch 1/10\n",
      "480/480 - 4s - 9ms/step - accuracy: 0.8757 - loss: 0.4114 - val_accuracy: 0.9532 - val_loss: 0.1673\n",
      "Epoch 2/10\n",
      "480/480 - 4s - 9ms/step - accuracy: 0.9451 - loss: 0.1818 - val_accuracy: 0.9607 - val_loss: 0.1302\n",
      "Epoch 3/10\n",
      "480/480 - 4s - 9ms/step - accuracy: 0.9588 - loss: 0.1354 - val_accuracy: 0.9697 - val_loss: 0.1002\n",
      "Epoch 4/10\n",
      "480/480 - 4s - 9ms/step - accuracy: 0.9677 - loss: 0.1072 - val_accuracy: 0.9721 - val_loss: 0.0899\n",
      "Epoch 5/10\n",
      "480/480 - 4s - 9ms/step - accuracy: 0.9711 - loss: 0.0921 - val_accuracy: 0.9741 - val_loss: 0.0853\n",
      "Epoch 6/10\n",
      "480/480 - 4s - 9ms/step - accuracy: 0.9755 - loss: 0.0785 - val_accuracy: 0.9767 - val_loss: 0.0802\n",
      "Epoch 7/10\n",
      "480/480 - 4s - 9ms/step - accuracy: 0.9769 - loss: 0.0723 - val_accuracy: 0.9774 - val_loss: 0.0760\n",
      "Epoch 8/10\n",
      "480/480 - 4s - 9ms/step - accuracy: 0.9792 - loss: 0.0651 - val_accuracy: 0.9789 - val_loss: 0.0761\n",
      "Epoch 9/10\n",
      "480/480 - 4s - 9ms/step - accuracy: 0.9813 - loss: 0.0572 - val_accuracy: 0.9768 - val_loss: 0.0790\n",
      "Epoch 10/10\n",
      "480/480 - 5s - 9ms/step - accuracy: 0.9831 - loss: 0.0519 - val_accuracy: 0.9788 - val_loss: 0.0733\n"
     ]
    }
   ],
   "source": [
    "from keras.layers import Dropout\n",
    "\n",
    "model = Sequential([\n",
    "    InputLayer(shape=x_train.shape[1:]),\n",
    "    Dropout(rate=0.1),\n",
    "    Dense(units=128, activation=\"relu\"),\n",
    "    Dropout(rate=0.1),\n",
    "    Dense(units=128, activation=\"relu\"),\n",
    "    Dropout(rate=0.1),\n",
    "    Dense(units=y_train.shape[1], activation=\"softmax\")\n",
    "])\n",
    "model.compile(loss=\"categorical_crossentropy\", optimizer=\"adam\", metrics=[\"accuracy\"])\n",
    "h = model.fit(x_train, y_train, epochs=10, batch_size=100, verbose=2, validation_split=.2)"
   ]
  },
  {
   "cell_type": "code",
   "execution_count": 33,
   "metadata": {},
   "outputs": [
    {
     "data": {
      "image/png": "[encoded data removed]",
      "text/plain": [
       "<Figure size 640x480 with 1 Axes>"
      ]
     },
     "metadata": {},
     "output_type": "display_data"
    }
   ],
   "source": [
    "plt.plot(h.history[\"val_loss\"], label=\"Validation loss\")\n",
    "plt.plot(h.history[\"loss\"], label=\"Training loss\")\n",
    "plt.legend();"
   ]
  },
  {
   "cell_type": "markdown",
   "metadata": {
    "cell_id": "00041-10a0c691-e01a-451e-807b-594ba76cc1fa",
    "deepnote_cell_type": "markdown",
    "id": "xbOmJKruNYyS"
   },
   "source": [
    "**Question #13.** Set up an [`EarlyStopping`](https://keras.io/api/callbacks/early_stopping/) strategy such that training the model will stop in case the validation loss does not decrease for 5 consecutive epochs."
   ]
  },
  {
   "cell_type": "code",
   "execution_count": 34,
   "metadata": {
    "cell_id": "00033-d7da52c7-7fbf-4f7d-940d-821cbe255b64",
    "deepnote_cell_type": "code",
    "deepnote_to_be_reexecuted": true,
    "source_hash": "b623e53d",
    "tags": []
   },
   "outputs": [
    {
     "name": "stdout",
     "output_type": "stream",
     "text": [
      "Epoch 1/100\n",
      "600/600 - 5s - 9ms/step - accuracy: 0.9167 - loss: 0.2953 - val_accuracy: 0.9585 - val_loss: 0.1363\n",
      "Epoch 2/100\n",
      "600/600 - 5s - 9ms/step - accuracy: 0.9656 - loss: 0.1154 - val_accuracy: 0.9697 - val_loss: 0.1005\n",
      "Epoch 3/100\n",
      "600/600 - 5s - 9ms/step - accuracy: 0.9769 - loss: 0.0766 - val_accuracy: 0.9710 - val_loss: 0.0962\n",
      "Epoch 4/100\n",
      "600/600 - 5s - 9ms/step - accuracy: 0.9828 - loss: 0.0565 - val_accuracy: 0.9727 - val_loss: 0.0849\n",
      "Epoch 5/100\n",
      "600/600 - 5s - 9ms/step - accuracy: 0.9861 - loss: 0.0440 - val_accuracy: 0.9693 - val_loss: 0.1008\n",
      "Epoch 6/100\n",
      "600/600 - 5s - 9ms/step - accuracy: 0.9890 - loss: 0.0354 - val_accuracy: 0.9772 - val_loss: 0.0765\n",
      "Epoch 7/100\n",
      "600/600 - 5s - 9ms/step - accuracy: 0.9912 - loss: 0.0278 - val_accuracy: 0.9775 - val_loss: 0.0764\n",
      "Epoch 8/100\n",
      "600/600 - 5s - 9ms/step - accuracy: 0.9922 - loss: 0.0241 - val_accuracy: 0.9779 - val_loss: 0.0766\n",
      "Epoch 9/100\n",
      "600/600 - 5s - 9ms/step - accuracy: 0.9932 - loss: 0.0197 - val_accuracy: 0.9785 - val_loss: 0.0752\n",
      "Epoch 10/100\n",
      "600/600 - 5s - 9ms/step - accuracy: 0.9947 - loss: 0.0160 - val_accuracy: 0.9720 - val_loss: 0.1025\n",
      "Epoch 11/100\n",
      "600/600 - 5s - 9ms/step - accuracy: 0.9952 - loss: 0.0140 - val_accuracy: 0.9742 - val_loss: 0.1086\n",
      "Epoch 12/100\n",
      "600/600 - 5s - 9ms/step - accuracy: 0.9953 - loss: 0.0142 - val_accuracy: 0.9787 - val_loss: 0.0888\n"
     ]
    }
   ],
   "source": [
    "from keras.callbacks import EarlyStopping\n",
    "\n",
    "cb = EarlyStopping(monitor=\"val_loss\", patience=3, restore_best_weights=True)\n",
    "\n",
    "model = Sequential([\n",
    "    InputLayer(shape=x_train.shape[1:]),\n",
    "    Dense(units=128, activation=\"relu\"),\n",
    "    Dense(units=128, activation=\"relu\"),\n",
    "    Dense(units=y_train.shape[1], activation=\"softmax\")\n",
    "])\n",
    "model.compile(loss=\"categorical_crossentropy\", optimizer=\"adam\", metrics=[\"accuracy\"])\n",
    "h = model.fit(x_train, y_train, epochs=100, batch_size=100, verbose=2, validation_data=(x_test, y_test), callbacks=[cb])"
   ]
  },
  {
   "cell_type": "code",
   "execution_count": 35,
   "metadata": {},
   "outputs": [
    {
     "name": "stdout",
     "output_type": "stream",
     "text": [
      "\u001b[1m313/313\u001b[0m \u001b[32m━━━━━━━━━━━━━━━━━━━━\u001b[0m\u001b[37m\u001b[0m \u001b[1m1s\u001b[0m 4ms/step - accuracy: 0.9723 - loss: 0.0945\n"
     ]
    },
    {
     "data": {
      "text/plain": [
       "[0.0752396211028099, 0.9785000085830688]"
      ]
     },
     "execution_count": 35,
     "metadata": {},
     "output_type": "execute_result"
    }
   ],
   "source": [
    "model.evaluate(x_test, y_test)"
   ]
  }
 ],
 "metadata": {
  "colab": {
   "collapsed_sections": [],
   "name": "MLP.ipynb",
   "provenance": []
  },
  "deepnote": {},
  "deepnote_execution_queue": [],
  "deepnote_notebook_id": "35aa3537-3e05-40fa-86f0-1f7ded16df52",
  "kernelspec": {
   "display_name": "py3.10_ml",
   "language": "python",
   "name": "python3"
  },
  "language_info": {
   "codemirror_mode": {
    "name": "ipython",
    "version": 3
   },
   "file_extension": ".py",
   "mimetype": "text/x-python",
   "name": "python",
   "nbconvert_exporter": "python",
   "pygments_lexer": "ipython3",
   "version": "3.10.13"
  }
 },
 "nbformat": 4,
 "nbformat_minor": 0
}
