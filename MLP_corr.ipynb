{
 "cells": [
  {
   "cell_type": "markdown",
   "metadata": {
    "cell_id": "00000-4e5bf590-09bc-42f5-a318-08994a30bfd4",
    "deepnote_cell_type": "markdown",
    "id": "NjCKi8REqlN6"
   },
   "source": [
    "# Multi-Layer Perceptron in `keras`\n",
    "\n",
    "In this series of lab sessions, you will use a Python library called `keras`.\n",
    "You should visit [`keras` webpage](https://keras.io/) to get access to more information about this library, including a comprehensive documentation.\n",
    "\n",
    "## The `Sequential` model in `keras`\n",
    "\n",
    "This library offers two ways to define neural network models. \n",
    "We will start with the `Sequential` class of `keras` models.\n",
    "Below is an example of how to define a `Sequential` model:"
   ]
  },
  {
   "cell_type": "code",
   "execution_count": 1,
   "metadata": {
    "tags": [
     "keep"
    ]
   },
   "outputs": [],
   "source": [
    "import os\n",
    "\n",
    "os.environ[\"KERAS_BACKEND\"] = \"torch\""
   ]
  },
  {
   "cell_type": "code",
   "execution_count": 2,
   "metadata": {
    "cell_id": "00001-e7a9d101-f83a-49f2-ae43-deb55009fadf",
    "deepnote_cell_type": "code",
    "deepnote_to_be_reexecuted": false,
    "execution_millis": 1216,
    "execution_start": 1613342071585,
    "id": "PRKkYealqiiG",
    "output_cleared": false,
    "source_hash": "b851176a",
    "tags": [
     "keep"
    ]
   },
   "outputs": [],
   "source": [
    "import keras\n",
    "from keras.models import Sequential\n",
    "from keras.layers import Dense, InputLayer"
   ]
  },
  {
   "cell_type": "markdown",
   "metadata": {
    "cell_id": "00002-fddb7023-3fe5-422a-ab01-7974d23883a6",
    "deepnote_cell_type": "markdown",
    "id": "1UdkphfnspbR"
   },
   "source": [
    "**1. Define layers, and add them one by one to the model**\n"
   ]
  },
  {
   "cell_type": "code",
   "execution_count": 3,
   "metadata": {
    "cell_id": "00003-3e192e55-740f-4e3e-9969-016701af86a1",
    "deepnote_cell_type": "code",
    "deepnote_to_be_reexecuted": false,
    "execution_millis": 57,
    "execution_start": 1613342072806,
    "id": "JD54PuqWsp4Y",
    "source_hash": "e4cce2c1",
    "tags": [
     "keep"
    ]
   },
   "outputs": [],
   "source": [
    "input_layer = InputLayer(shape=(24,))\n",
    "hidden_layer1 = Dense(units=12, activation=\"relu\")\n",
    "hidden_layer2 = Dense(units=12, activation=\"sigmoid\")\n",
    "#[...]\n",
    "output_layer = Dense(units=3, activation=\"linear\")\n",
    "\n",
    "model = Sequential([\n",
    "    input_layer,\n",
    "    hidden_layer1,\n",
    "    hidden_layer2,\n",
    "    # ...\n",
    "    output_layer\n",
    "])"
   ]
  },
  {
   "cell_type": "markdown",
   "metadata": {
    "cell_id": "00004-607dbfcd-c789-4071-98bf-f51e230e647f",
    "deepnote_cell_type": "markdown",
    "id": "FTQLjyUoszDq"
   },
   "source": [
    "**2. Pick an optimization algorithm (optimizer) and a loss function to be optimized**\n",
    "\n",
    "Usual loss functions are:\n",
    "* `\"mse\"` for regression,\n",
    "* `\"categorical_crossentropy\"` for multiclass classification (when the `y` array fed to `fit` is of shape $(n, n_\\text{classes})$)\n",
    "* `\"binary_crossentropy\"` for binary classification (when the model is fed with `y` array of shape $(n, 1)$)\n",
    "\n",
    "One can also specify additional metrics to be printed during training (correct classification rate here)."
   ]
  },
  {
   "cell_type": "code",
   "execution_count": 4,
   "metadata": {
    "cell_id": "00005-29ab32a8-52eb-40c1-9c63-1e8b8943cbdd",
    "deepnote_cell_type": "code",
    "deepnote_to_be_reexecuted": false,
    "execution_millis": 9,
    "execution_start": 1613342072870,
    "id": "A_21M9Jqs3eJ",
    "source_hash": "63a93405",
    "tags": [
     "keep"
    ]
   },
   "outputs": [],
   "source": [
    "model.compile(optimizer=\"adam\", loss=\"categorical_crossentropy\", metrics=[\"accuracy\"])"
   ]
  },
  {
   "cell_type": "markdown",
   "metadata": {
    "cell_id": "00006-1084a597-d5d5-4e2e-96ba-bf42d51d64c7",
    "deepnote_cell_type": "markdown",
    "id": "ykI4bexvs5x-"
   },
   "source": [
    "**3. Fit the model**\n",
    "\n",
    "NB: do not try to execute the following line of code: variables `X_train` and `y_train` do not exist yet!"
   ]
  },
  {
   "cell_type": "code",
   "execution_count": 5,
   "metadata": {
    "cell_id": "00007-8516017c-c628-4ef3-ac0f-d80ca5f74a93",
    "deepnote_cell_type": "code",
    "deepnote_to_be_reexecuted": false,
    "execution_millis": 2,
    "execution_start": 1613342072879,
    "id": "rt89yAdWs688",
    "source_hash": "fd94a07d",
    "tags": [
     "keep"
    ]
   },
   "outputs": [],
   "source": [
    "#model.fit(X_train, y_train, verbose=2, epochs=10, batch_size=200)"
   ]
  },
  {
   "cell_type": "markdown",
   "metadata": {
    "cell_id": "00008-79f8d9f3-2a42-42bb-8bcc-fc2f1f47eecd",
    "deepnote_cell_type": "markdown",
    "id": "nHhJosslvDRY"
   },
   "source": [
    "## Data pre-processing\n",
    "\n",
    "Have a look at the `prepare_mnist` and `prepare_boston` functions defined below.\n",
    "\n",
    "**Question #1.** What do these functions do? What are the shapes of returned arrays? Does the returned data correpond to classification or regression problems?"
   ]
  },
  {
   "cell_type": "code",
   "execution_count": 6,
   "metadata": {
    "cell_id": "00009-c7c58fdf-b6f1-4f92-b82b-8ade1f4f44ca",
    "deepnote_cell_type": "code",
    "deepnote_to_be_reexecuted": false,
    "execution_millis": 1636,
    "execution_start": 1613342072885,
    "id": "7l-s71YRwTRA",
    "output_cleared": false,
    "source_hash": "1615ed07",
    "tags": [
     "keep"
    ]
   },
   "outputs": [],
   "source": [
    "from sklearn.preprocessing import MinMaxScaler\n",
    "from keras.datasets import mnist, boston_housing\n",
    "from keras.utils import to_categorical\n",
    "\n",
    "def prepare_mnist():\n",
    "    (x_train, y_train), (x_test, y_test) = mnist.load_data()\n",
    "    x_train = x_train.reshape((x_train.shape[0], -1))\n",
    "    x_test = x_test.reshape((x_test.shape[0], -1))\n",
    "    scaler = MinMaxScaler()\n",
    "    scaler.fit(x_train)\n",
    "    x_train = scaler.transform(x_train)\n",
    "    x_test = scaler.transform(x_test)\n",
    "    y_train = to_categorical(y_train)\n",
    "    y_test = to_categorical(y_test)\n",
    "    return x_train, x_test, y_train, y_test\n",
    "\n",
    "\n",
    "def prepare_boston():\n",
    "    (x_train, y_train), (x_test, y_test) = boston_housing.load_data()\n",
    "    scaler_x = MinMaxScaler()\n",
    "    scaler_x.fit(x_train)\n",
    "    x_train = scaler_x.transform(x_train)\n",
    "    x_test = scaler_x.transform(x_test)\n",
    "    scaler_y = MinMaxScaler()\n",
    "    scaler_y.fit(y_train.reshape((-1, 1)))\n",
    "    y_train = scaler_y.transform(y_train.reshape((-1, 1)))\n",
    "    y_test = scaler_y.transform(y_test.reshape((-1, 1)))\n",
    "    return x_train, x_test, y_train, y_test\n",
    "  \n",
    "x_train, x_test, y_train, y_test = prepare_mnist()"
   ]
  },
  {
   "cell_type": "code",
   "execution_count": 7,
   "metadata": {},
   "outputs": [
    {
     "data": {
      "text/plain": [
       "array([[0., 0., 0., 0., 0., 1., 0., 0., 0., 0.],\n",
       "       [1., 0., 0., 0., 0., 0., 0., 0., 0., 0.],\n",
       "       [0., 0., 0., 0., 1., 0., 0., 0., 0., 0.],\n",
       "       [0., 1., 0., 0., 0., 0., 0., 0., 0., 0.],\n",
       "       [0., 0., 0., 0., 0., 0., 0., 0., 0., 1.],\n",
       "       [0., 0., 1., 0., 0., 0., 0., 0., 0., 0.],\n",
       "       [0., 1., 0., 0., 0., 0., 0., 0., 0., 0.],\n",
       "       [0., 0., 0., 1., 0., 0., 0., 0., 0., 0.],\n",
       "       [0., 1., 0., 0., 0., 0., 0., 0., 0., 0.],\n",
       "       [0., 0., 0., 0., 1., 0., 0., 0., 0., 0.]])"
      ]
     },
     "execution_count": 7,
     "metadata": {},
     "output_type": "execute_result"
    }
   ],
   "source": [
    "y_train[:10]"
   ]
  },
  {
   "cell_type": "code",
   "execution_count": 8,
   "metadata": {
    "cell_id": "00010-3c1481af-a4d7-424b-a59e-3a2745234530",
    "deepnote_cell_type": "code",
    "deepnote_to_be_reexecuted": false,
    "execution_millis": 64,
    "execution_start": 1613342074525,
    "id": "CGlUHH6KFpj3",
    "output_cleared": false,
    "source_hash": "7facd6d8"
   },
   "outputs": [],
   "source": [
    "x_train, x_test, y_train, y_test = prepare_boston()"
   ]
  },
  {
   "cell_type": "code",
   "execution_count": 9,
   "metadata": {},
   "outputs": [
    {
     "name": "stdout",
     "output_type": "stream",
     "text": [
      "(404, 13) (404, 1)\n",
      "[[0.22666667]\n",
      " [0.82888889]\n",
      " [1.        ]\n",
      " [0.35777778]\n",
      " [0.28222222]\n",
      " [0.3       ]\n",
      " [0.14      ]\n",
      " [0.23555556]\n",
      " [0.23555556]\n",
      " [0.20888889]]\n"
     ]
    }
   ],
   "source": [
    "print(x_train.shape, y_train.shape)\n",
    "print(y_train[:10])"
   ]
  },
  {
   "cell_type": "markdown",
   "metadata": {
    "cell_id": "00011-1ecdf9c5-01c3-4a0d-a9c6-cfd28e6be23d",
    "deepnote_cell_type": "markdown",
    "id": "VRA_Ec2-yIGA"
   },
   "source": [
    "## Building your first models\n",
    "\n",
    "In the following, when fitting models, restrict the training to 10 epochs (which is not realistic, but training for more epochs takes time...)\n",
    "\n",
    "**Question #2.** Following the guidelines provided above, implement a linear regression model for the `boston` dataset that would optimize on a least squares objective using Stochastic Gradient Descent and fit your model to the corresponding training data."
   ]
  },
  {
   "cell_type": "code",
   "execution_count": 10,
   "metadata": {
    "cell_id": "00013-2e740cd6-9a8b-4a74-b85f-c7a66127d510",
    "deepnote_cell_type": "code",
    "deepnote_to_be_reexecuted": false,
    "execution_millis": 1,
    "execution_start": 1613342074582,
    "output_cleared": true,
    "source_hash": "b623e53d",
    "tags": []
   },
   "outputs": [
    {
     "name": "stdout",
     "output_type": "stream",
     "text": [
      "Epoch 1/10\n",
      "5/5 - 0s - 95ms/step - loss: 1.4829\n",
      "Epoch 2/10\n",
      "5/5 - 0s - 4ms/step - loss: 0.8345\n",
      "Epoch 3/10\n",
      "5/5 - 0s - 3ms/step - loss: 0.5017\n",
      "Epoch 4/10\n",
      "5/5 - 0s - 4ms/step - loss: 0.3215\n",
      "Epoch 5/10\n",
      "5/5 - 0s - 4ms/step - loss: 0.2295\n",
      "Epoch 6/10\n",
      "5/5 - 0s - 3ms/step - loss: 0.2025\n",
      "Epoch 7/10\n",
      "5/5 - 0s - 4ms/step - loss: 0.1910\n",
      "Epoch 8/10\n",
      "5/5 - 0s - 3ms/step - loss: 0.1728\n",
      "Epoch 9/10\n",
      "5/5 - 0s - 3ms/step - loss: 0.1621\n",
      "Epoch 10/10\n",
      "5/5 - 0s - 4ms/step - loss: 0.1527\n"
     ]
    },
    {
     "data": {
      "text/plain": [
       "<keras.src.callbacks.history.History at 0x30f3aa470>"
      ]
     },
     "execution_count": 10,
     "metadata": {},
     "output_type": "execute_result"
    }
   ],
   "source": [
    "input_layer = InputLayer(shape=(13,))\n",
    "output_layer = Dense(units=1, activation=\"linear\")\n",
    "\n",
    "model = Sequential([\n",
    "    input_layer,\n",
    "    output_layer\n",
    "])\n",
    "model.compile(loss=\"mse\", optimizer=\"sgd\")\n",
    "model.fit(x_train, y_train, epochs=10, batch_size=100, verbose=2)"
   ]
  },
  {
   "cell_type": "markdown",
   "metadata": {
    "cell_id": "00015-c40decce-b6c2-4f3e-af55-6dc6b2eb29cd",
    "deepnote_cell_type": "markdown",
    "id": "Gqt1yH9Gzfuh"
   },
   "source": [
    "**Question #3.** Similarly, define a logistic regression model for the `mnist` dataset and print its training accuracy during training."
   ]
  },
  {
   "cell_type": "code",
   "execution_count": 11,
   "metadata": {
    "cell_id": "00014-fa195760-a859-4672-bd64-7911ece3c703",
    "deepnote_cell_type": "code",
    "tags": []
   },
   "outputs": [
    {
     "name": "stdout",
     "output_type": "stream",
     "text": [
      "Epoch 1/10\n",
      "600/600 - 4s - 7ms/step - accuracy: 0.8464 - loss: 0.6249\n",
      "Epoch 2/10\n",
      "600/600 - 4s - 6ms/step - accuracy: 0.9057 - loss: 0.3467\n",
      "Epoch 3/10\n",
      "600/600 - 4s - 6ms/step - accuracy: 0.9140 - loss: 0.3097\n",
      "Epoch 4/10\n",
      "600/600 - 4s - 6ms/step - accuracy: 0.9183 - loss: 0.2927\n",
      "Epoch 5/10\n",
      "600/600 - 4s - 6ms/step - accuracy: 0.9214 - loss: 0.2819\n",
      "Epoch 6/10\n",
      "600/600 - 4s - 6ms/step - accuracy: 0.9234 - loss: 0.2747\n",
      "Epoch 7/10\n",
      "600/600 - 4s - 6ms/step - accuracy: 0.9253 - loss: 0.2693\n",
      "Epoch 8/10\n",
      "600/600 - 4s - 6ms/step - accuracy: 0.9256 - loss: 0.2655\n",
      "Epoch 9/10\n",
      "600/600 - 4s - 6ms/step - accuracy: 0.9273 - loss: 0.2615\n",
      "Epoch 10/10\n",
      "600/600 - 4s - 6ms/step - accuracy: 0.9281 - loss: 0.2593\n"
     ]
    },
    {
     "data": {
      "text/plain": [
       "<keras.src.callbacks.history.History at 0x30f3e7550>"
      ]
     },
     "execution_count": 11,
     "metadata": {},
     "output_type": "execute_result"
    }
   ],
   "source": [
    "x_train, x_test, y_train, y_test = prepare_mnist()\n",
    "\n",
    "input_layer = InputLayer(shape=x_train.shape[1:])\n",
    "output_layer = Dense(units=y_train.shape[1], activation=\"softmax\")\n",
    "\n",
    "model = Sequential([\n",
    "    input_layer,\n",
    "    output_layer\n",
    "])\n",
    "model.compile(loss=\"categorical_crossentropy\", optimizer=\"adam\", metrics=[\"accuracy\"])\n",
    "model.fit(x_train, y_train, epochs=10, batch_size=100, verbose=2)"
   ]
  },
  {
   "cell_type": "markdown",
   "metadata": {
    "cell_id": "00018-cfad4bc9-a1de-43a4-bb43-d74840d9869d",
    "deepnote_cell_type": "markdown",
    "id": "6SGA-CdS0vwW"
   },
   "source": [
    "**Question #4.** Compare performance (in terms of training accuracy, we will come back to better ways to compare models afterwards) of this logistic regression model with that of a neural network with respectively 1, 2, and 3 hidden layers of 128 neurons each.\n",
    "You will use the `\"relu\"` activation function for hidden layers."
   ]
  },
  {
   "cell_type": "code",
   "execution_count": 12,
   "metadata": {
    "cell_id": "00016-667b31d2-ee2e-4a34-9a88-33c19a38522a",
    "deepnote_cell_type": "code",
    "deepnote_to_be_reexecuted": true,
    "source_hash": "b623e53d",
    "tags": []
   },
   "outputs": [
    {
     "name": "stdout",
     "output_type": "stream",
     "text": [
      "Epoch 1/10\n",
      "600/600 - 4s - 7ms/step - accuracy: 0.9073 - loss: 0.3361\n",
      "Epoch 2/10\n",
      "600/600 - 4s - 7ms/step - accuracy: 0.9563 - loss: 0.1545\n",
      "Epoch 3/10\n",
      "600/600 - 4s - 7ms/step - accuracy: 0.9685 - loss: 0.1105\n",
      "Epoch 4/10\n",
      "600/600 - 4s - 7ms/step - accuracy: 0.9757 - loss: 0.0846\n",
      "Epoch 5/10\n",
      "600/600 - 4s - 7ms/step - accuracy: 0.9803 - loss: 0.0671\n",
      "Epoch 6/10\n",
      "600/600 - 4s - 7ms/step - accuracy: 0.9840 - loss: 0.0553\n",
      "Epoch 7/10\n",
      "600/600 - 4s - 7ms/step - accuracy: 0.9871 - loss: 0.0451\n",
      "Epoch 8/10\n",
      "600/600 - 4s - 7ms/step - accuracy: 0.9895 - loss: 0.0373\n",
      "Epoch 9/10\n",
      "600/600 - 4s - 7ms/step - accuracy: 0.9916 - loss: 0.0311\n",
      "Epoch 10/10\n",
      "600/600 - 4s - 7ms/step - accuracy: 0.9927 - loss: 0.0262\n"
     ]
    },
    {
     "data": {
      "text/plain": [
       "<keras.src.callbacks.history.History at 0x364225ff0>"
      ]
     },
     "execution_count": 12,
     "metadata": {},
     "output_type": "execute_result"
    }
   ],
   "source": [
    "model = Sequential([\n",
    "    InputLayer(shape=x_train.shape[1:]),\n",
    "    Dense(units=128, activation=\"relu\"),\n",
    "    Dense(units=y_train.shape[1], activation=\"softmax\")\n",
    "])\n",
    "model.compile(loss=\"categorical_crossentropy\", optimizer=\"adam\", metrics=[\"accuracy\"])\n",
    "model.fit(x_train, y_train, epochs=10, batch_size=100, verbose=2)"
   ]
  },
  {
   "cell_type": "code",
   "execution_count": 13,
   "metadata": {},
   "outputs": [
    {
     "name": "stdout",
     "output_type": "stream",
     "text": [
      "Epoch 1/10\n",
      "600/600 - 5s - 8ms/step - accuracy: 0.9150 - loss: 0.2948\n",
      "Epoch 2/10\n",
      "600/600 - 5s - 8ms/step - accuracy: 0.9646 - loss: 0.1192\n",
      "Epoch 3/10\n",
      "600/600 - 5s - 8ms/step - accuracy: 0.9754 - loss: 0.0802\n",
      "Epoch 4/10\n",
      "600/600 - 5s - 8ms/step - accuracy: 0.9813 - loss: 0.0613\n",
      "Epoch 5/10\n",
      "600/600 - 5s - 8ms/step - accuracy: 0.9844 - loss: 0.0482\n",
      "Epoch 6/10\n",
      "600/600 - 5s - 8ms/step - accuracy: 0.9883 - loss: 0.0370\n",
      "Epoch 7/10\n",
      "600/600 - 5s - 8ms/step - accuracy: 0.9903 - loss: 0.0310\n",
      "Epoch 8/10\n",
      "600/600 - 5s - 8ms/step - accuracy: 0.9918 - loss: 0.0261\n",
      "Epoch 9/10\n",
      "600/600 - 5s - 8ms/step - accuracy: 0.9932 - loss: 0.0215\n",
      "Epoch 10/10\n",
      "600/600 - 5s - 8ms/step - accuracy: 0.9936 - loss: 0.0194\n"
     ]
    },
    {
     "data": {
      "text/plain": [
       "<keras.src.callbacks.history.History at 0x37471cf10>"
      ]
     },
     "execution_count": 13,
     "metadata": {},
     "output_type": "execute_result"
    }
   ],
   "source": [
    "model = Sequential([\n",
    "    InputLayer(shape=x_train.shape[1:]),\n",
    "    Dense(units=128, activation=\"relu\"),\n",
    "    Dense(units=128, activation=\"relu\"),\n",
    "    Dense(units=y_train.shape[1], activation=\"softmax\")\n",
    "])\n",
    "model.compile(loss=\"categorical_crossentropy\", optimizer=\"adam\", metrics=[\"accuracy\"])\n",
    "model.fit(x_train, y_train, epochs=10, batch_size=100, verbose=2)"
   ]
  },
  {
   "cell_type": "code",
   "execution_count": 14,
   "metadata": {},
   "outputs": [
    {
     "name": "stdout",
     "output_type": "stream",
     "text": [
      "Epoch 1/10\n",
      "600/600 - 5s - 9ms/step - accuracy: 0.9150 - loss: 0.2899\n",
      "Epoch 2/10\n",
      "600/600 - 5s - 9ms/step - accuracy: 0.9657 - loss: 0.1128\n",
      "Epoch 3/10\n",
      "600/600 - 5s - 9ms/step - accuracy: 0.9758 - loss: 0.0785\n",
      "Epoch 4/10\n",
      "600/600 - 5s - 9ms/step - accuracy: 0.9816 - loss: 0.0584\n",
      "Epoch 5/10\n",
      "600/600 - 5s - 9ms/step - accuracy: 0.9849 - loss: 0.0470\n",
      "Epoch 6/10\n",
      "600/600 - 5s - 9ms/step - accuracy: 0.9875 - loss: 0.0384\n",
      "Epoch 7/10\n",
      "600/600 - 6s - 9ms/step - accuracy: 0.9897 - loss: 0.0309\n",
      "Epoch 8/10\n",
      "600/600 - 5s - 9ms/step - accuracy: 0.9908 - loss: 0.0279\n",
      "Epoch 9/10\n",
      "600/600 - 5s - 9ms/step - accuracy: 0.9925 - loss: 0.0210\n",
      "Epoch 10/10\n",
      "600/600 - 5s - 9ms/step - accuracy: 0.9930 - loss: 0.0209\n"
     ]
    },
    {
     "data": {
      "text/plain": [
       "<keras.src.callbacks.history.History at 0x364433280>"
      ]
     },
     "execution_count": 14,
     "metadata": {},
     "output_type": "execute_result"
    }
   ],
   "source": [
    "model = Sequential([\n",
    "    InputLayer(shape=x_train.shape[1:]),\n",
    "    Dense(units=128, activation=\"relu\"),\n",
    "    Dense(units=128, activation=\"relu\"),\n",
    "    Dense(units=128, activation=\"relu\"),\n",
    "    Dense(units=y_train.shape[1], activation=\"softmax\")\n",
    "])\n",
    "model.compile(loss=\"categorical_crossentropy\", optimizer=\"adam\", metrics=[\"accuracy\"])\n",
    "model.fit(x_train, y_train, epochs=10, batch_size=100, verbose=2)"
   ]
  },
  {
   "cell_type": "code",
   "execution_count": 15,
   "metadata": {},
   "outputs": [
    {
     "data": {
      "text/html": [
       "<pre style=\"white-space:pre;overflow-x:auto;line-height:normal;font-family:Menlo,'DejaVu Sans Mono',consolas,'Courier New',monospace\"><span style=\"font-weight: bold\">Model: \"sequential_5\"</span>\n",
       "</pre>\n"
      ],
      "text/plain": [
       "\u001b[1mModel: \"sequential_5\"\u001b[0m\n"
      ]
     },
     "metadata": {},
     "output_type": "display_data"
    },
    {
     "data": {
      "text/html": [
       "<pre style=\"white-space:pre;overflow-x:auto;line-height:normal;font-family:Menlo,'DejaVu Sans Mono',consolas,'Courier New',monospace\">┏━━━━━━━━━━━━━━━━━━━━━━━━━━━━━━━━━┳━━━━━━━━━━━━━━━━━━━━━━━━┳━━━━━━━━━━━━━━━┓\n",
       "┃<span style=\"font-weight: bold\"> Layer (type)                    </span>┃<span style=\"font-weight: bold\"> Output Shape           </span>┃<span style=\"font-weight: bold\">       Param # </span>┃\n",
       "┡━━━━━━━━━━━━━━━━━━━━━━━━━━━━━━━━━╇━━━━━━━━━━━━━━━━━━━━━━━━╇━━━━━━━━━━━━━━━┩\n",
       "│ dense_10 (<span style=\"color: #0087ff; text-decoration-color: #0087ff\">Dense</span>)                │ (<span style=\"color: #00d7ff; text-decoration-color: #00d7ff\">None</span>, <span style=\"color: #00af00; text-decoration-color: #00af00\">128</span>)            │       <span style=\"color: #00af00; text-decoration-color: #00af00\">100,480</span> │\n",
       "├─────────────────────────────────┼────────────────────────┼───────────────┤\n",
       "│ dense_11 (<span style=\"color: #0087ff; text-decoration-color: #0087ff\">Dense</span>)                │ (<span style=\"color: #00d7ff; text-decoration-color: #00d7ff\">None</span>, <span style=\"color: #00af00; text-decoration-color: #00af00\">128</span>)            │        <span style=\"color: #00af00; text-decoration-color: #00af00\">16,512</span> │\n",
       "├─────────────────────────────────┼────────────────────────┼───────────────┤\n",
       "│ dense_12 (<span style=\"color: #0087ff; text-decoration-color: #0087ff\">Dense</span>)                │ (<span style=\"color: #00d7ff; text-decoration-color: #00d7ff\">None</span>, <span style=\"color: #00af00; text-decoration-color: #00af00\">128</span>)            │        <span style=\"color: #00af00; text-decoration-color: #00af00\">16,512</span> │\n",
       "├─────────────────────────────────┼────────────────────────┼───────────────┤\n",
       "│ dense_13 (<span style=\"color: #0087ff; text-decoration-color: #0087ff\">Dense</span>)                │ (<span style=\"color: #00d7ff; text-decoration-color: #00d7ff\">None</span>, <span style=\"color: #00af00; text-decoration-color: #00af00\">10</span>)             │         <span style=\"color: #00af00; text-decoration-color: #00af00\">1,290</span> │\n",
       "└─────────────────────────────────┴────────────────────────┴───────────────┘\n",
       "</pre>\n"
      ],
      "text/plain": [
       "┏━━━━━━━━━━━━━━━━━━━━━━━━━━━━━━━━━┳━━━━━━━━━━━━━━━━━━━━━━━━┳━━━━━━━━━━━━━━━┓\n",
       "┃\u001b[1m \u001b[0m\u001b[1mLayer (type)                   \u001b[0m\u001b[1m \u001b[0m┃\u001b[1m \u001b[0m\u001b[1mOutput Shape          \u001b[0m\u001b[1m \u001b[0m┃\u001b[1m \u001b[0m\u001b[1m      Param #\u001b[0m\u001b[1m \u001b[0m┃\n",
       "┡━━━━━━━━━━━━━━━━━━━━━━━━━━━━━━━━━╇━━━━━━━━━━━━━━━━━━━━━━━━╇━━━━━━━━━━━━━━━┩\n",
       "│ dense_10 (\u001b[38;5;33mDense\u001b[0m)                │ (\u001b[38;5;45mNone\u001b[0m, \u001b[38;5;34m128\u001b[0m)            │       \u001b[38;5;34m100,480\u001b[0m │\n",
       "├─────────────────────────────────┼────────────────────────┼───────────────┤\n",
       "│ dense_11 (\u001b[38;5;33mDense\u001b[0m)                │ (\u001b[38;5;45mNone\u001b[0m, \u001b[38;5;34m128\u001b[0m)            │        \u001b[38;5;34m16,512\u001b[0m │\n",
       "├─────────────────────────────────┼────────────────────────┼───────────────┤\n",
       "│ dense_12 (\u001b[38;5;33mDense\u001b[0m)                │ (\u001b[38;5;45mNone\u001b[0m, \u001b[38;5;34m128\u001b[0m)            │        \u001b[38;5;34m16,512\u001b[0m │\n",
       "├─────────────────────────────────┼────────────────────────┼───────────────┤\n",
       "│ dense_13 (\u001b[38;5;33mDense\u001b[0m)                │ (\u001b[38;5;45mNone\u001b[0m, \u001b[38;5;34m10\u001b[0m)             │         \u001b[38;5;34m1,290\u001b[0m │\n",
       "└─────────────────────────────────┴────────────────────────┴───────────────┘\n"
      ]
     },
     "metadata": {},
     "output_type": "display_data"
    },
    {
     "data": {
      "text/html": [
       "<pre style=\"white-space:pre;overflow-x:auto;line-height:normal;font-family:Menlo,'DejaVu Sans Mono',consolas,'Courier New',monospace\"><span style=\"font-weight: bold\"> Total params: </span><span style=\"color: #00af00; text-decoration-color: #00af00\">404,384</span> (1.54 MB)\n",
       "</pre>\n"
      ],
      "text/plain": [
       "\u001b[1m Total params: \u001b[0m\u001b[38;5;34m404,384\u001b[0m (1.54 MB)\n"
      ]
     },
     "metadata": {},
     "output_type": "display_data"
    },
    {
     "data": {
      "text/html": [
       "<pre style=\"white-space:pre;overflow-x:auto;line-height:normal;font-family:Menlo,'DejaVu Sans Mono',consolas,'Courier New',monospace\"><span style=\"font-weight: bold\"> Trainable params: </span><span style=\"color: #00af00; text-decoration-color: #00af00\">134,794</span> (526.54 KB)\n",
       "</pre>\n"
      ],
      "text/plain": [
       "\u001b[1m Trainable params: \u001b[0m\u001b[38;5;34m134,794\u001b[0m (526.54 KB)\n"
      ]
     },
     "metadata": {},
     "output_type": "display_data"
    },
    {
     "data": {
      "text/html": [
       "<pre style=\"white-space:pre;overflow-x:auto;line-height:normal;font-family:Menlo,'DejaVu Sans Mono',consolas,'Courier New',monospace\"><span style=\"font-weight: bold\"> Non-trainable params: </span><span style=\"color: #00af00; text-decoration-color: #00af00\">0</span> (0.00 B)\n",
       "</pre>\n"
      ],
      "text/plain": [
       "\u001b[1m Non-trainable params: \u001b[0m\u001b[38;5;34m0\u001b[0m (0.00 B)\n"
      ]
     },
     "metadata": {},
     "output_type": "display_data"
    },
    {
     "data": {
      "text/html": [
       "<pre style=\"white-space:pre;overflow-x:auto;line-height:normal;font-family:Menlo,'DejaVu Sans Mono',consolas,'Courier New',monospace\"><span style=\"font-weight: bold\"> Optimizer params: </span><span style=\"color: #00af00; text-decoration-color: #00af00\">269,590</span> (1.03 MB)\n",
       "</pre>\n"
      ],
      "text/plain": [
       "\u001b[1m Optimizer params: \u001b[0m\u001b[38;5;34m269,590\u001b[0m (1.03 MB)\n"
      ]
     },
     "metadata": {},
     "output_type": "display_data"
    }
   ],
   "source": [
    "model.summary()"
   ]
  },
  {
   "cell_type": "markdown",
   "metadata": {
    "cell_id": "00020-a024cc10-c7b4-4021-89d9-0ed7447b2b9e",
    "deepnote_cell_type": "markdown",
    "id": "tC9EB0vs363m"
   },
   "source": [
    "**Question #5.** `keras` models offer a `count_params()` method to get the number of parameters to be learned in the model. Use this facility to get the number of parameters of your 3-hidden-layer model and build a new one-hidden-layer model with an equivalent number of parameters. Compare performance of these two models with similar number of parameters."
   ]
  },
  {
   "cell_type": "code",
   "execution_count": 16,
   "metadata": {
    "cell_id": "00018-d3f7b59d-095f-43d8-903e-2b92eb43619f",
    "deepnote_cell_type": "code",
    "deepnote_to_be_reexecuted": true,
    "source_hash": "b623e53d",
    "tags": []
   },
   "outputs": [
    {
     "name": "stdout",
     "output_type": "stream",
     "text": [
      "134365\n",
      "Epoch 1/10\n",
      "600/600 - 5s - 8ms/step - accuracy: 0.9132 - loss: 0.3166\n",
      "Epoch 2/10\n",
      "600/600 - 4s - 7ms/step - accuracy: 0.9604 - loss: 0.1380\n",
      "Epoch 3/10\n",
      "600/600 - 4s - 7ms/step - accuracy: 0.9726 - loss: 0.0960\n",
      "Epoch 4/10\n",
      "600/600 - 4s - 7ms/step - accuracy: 0.9793 - loss: 0.0720\n",
      "Epoch 5/10\n",
      "600/600 - 4s - 7ms/step - accuracy: 0.9833 - loss: 0.0563\n",
      "Epoch 6/10\n",
      "600/600 - 4s - 7ms/step - accuracy: 0.9872 - loss: 0.0440\n",
      "Epoch 7/10\n",
      "600/600 - 4s - 7ms/step - accuracy: 0.9898 - loss: 0.0355\n",
      "Epoch 8/10\n",
      "600/600 - 4s - 7ms/step - accuracy: 0.9922 - loss: 0.0288\n",
      "Epoch 9/10\n",
      "600/600 - 4s - 7ms/step - accuracy: 0.9938 - loss: 0.0232\n",
      "Epoch 10/10\n",
      "600/600 - 4s - 7ms/step - accuracy: 0.9952 - loss: 0.0190\n"
     ]
    },
    {
     "data": {
      "text/plain": [
       "<keras.src.callbacks.history.History at 0x374791720>"
      ]
     },
     "execution_count": 16,
     "metadata": {},
     "output_type": "execute_result"
    }
   ],
   "source": [
    "units = 134794 / 794\n",
    "\n",
    "model = Sequential([\n",
    "    InputLayer(shape=x_train.shape[1:]),\n",
    "    Dense(units=units, activation=\"relu\"),\n",
    "    Dense(units=y_train.shape[1], activation=\"softmax\")\n",
    "])\n",
    "print(model.count_params())\n",
    "model.compile(loss=\"categorical_crossentropy\", optimizer=\"adam\", metrics=[\"accuracy\"])\n",
    "model.fit(x_train, y_train, epochs=10, batch_size=100, verbose=2)"
   ]
  },
  {
   "cell_type": "markdown",
   "metadata": {
    "cell_id": "00024-1bdd65e7-515d-4064-882a-54c651abfd3d",
    "deepnote_cell_type": "markdown",
    "id": "iXxTGmUw5ppd"
   },
   "source": [
    "## A better way to compare models\n",
    "\n",
    "Comparing models based on training accuracy (resp. loss) is a \"great\" way to overfit your model to the training data.\n",
    "A better way to compare models is to use hold out data (aka validation set).\n",
    "\n",
    "To do so, `keras` allows to pass, at `fit` time, a fraction of the training data to be used as validation set. Have a look [there](https://keras.io/api/models/model_training_apis/#fit-method) for more details about how validation samples are selected.\n",
    "\n",
    "**Question #6.** Repeat model comparisons above (relying on validation scores) using 30% of training data as validation set."
   ]
  },
  {
   "cell_type": "code",
   "execution_count": 17,
   "metadata": {},
   "outputs": [
    {
     "name": "stdout",
     "output_type": "stream",
     "text": [
      "Epoch 1/10\n",
      "420/420 - 4s - 11ms/step - accuracy: 0.9029 - loss: 0.3397 - val_accuracy: 0.9486 - val_loss: 0.1737\n",
      "Epoch 2/10\n",
      "420/420 - 4s - 11ms/step - accuracy: 0.9602 - loss: 0.1319 - val_accuracy: 0.9629 - val_loss: 0.1229\n",
      "Epoch 3/10\n",
      "420/420 - 5s - 11ms/step - accuracy: 0.9725 - loss: 0.0900 - val_accuracy: 0.9651 - val_loss: 0.1146\n",
      "Epoch 4/10\n",
      "420/420 - 4s - 11ms/step - accuracy: 0.9790 - loss: 0.0656 - val_accuracy: 0.9685 - val_loss: 0.1040\n",
      "Epoch 5/10\n",
      "420/420 - 4s - 10ms/step - accuracy: 0.9842 - loss: 0.0480 - val_accuracy: 0.9696 - val_loss: 0.1043\n",
      "Epoch 6/10\n",
      "420/420 - 4s - 10ms/step - accuracy: 0.9870 - loss: 0.0401 - val_accuracy: 0.9719 - val_loss: 0.1030\n",
      "Epoch 7/10\n",
      "420/420 - 4s - 10ms/step - accuracy: 0.9902 - loss: 0.0310 - val_accuracy: 0.9703 - val_loss: 0.1097\n",
      "Epoch 8/10\n",
      "420/420 - 4s - 10ms/step - accuracy: 0.9913 - loss: 0.0267 - val_accuracy: 0.9729 - val_loss: 0.1027\n",
      "Epoch 9/10\n",
      "420/420 - 4s - 10ms/step - accuracy: 0.9923 - loss: 0.0237 - val_accuracy: 0.9696 - val_loss: 0.1205\n",
      "Epoch 10/10\n",
      "420/420 - 4s - 10ms/step - accuracy: 0.9940 - loss: 0.0195 - val_accuracy: 0.9702 - val_loss: 0.1184\n"
     ]
    },
    {
     "data": {
      "text/plain": [
       "<keras.src.callbacks.history.History at 0x374793be0>"
      ]
     },
     "execution_count": 17,
     "metadata": {},
     "output_type": "execute_result"
    }
   ],
   "source": [
    "model = Sequential([\n",
    "    InputLayer(shape=x_train.shape[1:]),\n",
    "    Dense(units=128, activation=\"relu\"),\n",
    "    Dense(units=128, activation=\"relu\"),\n",
    "    Dense(units=128, activation=\"relu\"),\n",
    "    Dense(units=y_train.shape[1], activation=\"softmax\")\n",
    "])\n",
    "model.compile(loss=\"categorical_crossentropy\", optimizer=\"adam\", metrics=[\"accuracy\"])\n",
    "model.fit(x_train, y_train, epochs=10, batch_size=100, verbose=2, validation_split=.3)"
   ]
  },
  {
   "cell_type": "code",
   "execution_count": 18,
   "metadata": {},
   "outputs": [
    {
     "name": "stdout",
     "output_type": "stream",
     "text": [
      "134365\n",
      "Epoch 1/10\n",
      "420/420 - 4s - 8ms/step - accuracy: 0.9005 - loss: 0.3590 - val_accuracy: 0.9413 - val_loss: 0.2073\n",
      "Epoch 2/10\n",
      "420/420 - 4s - 9ms/step - accuracy: 0.9522 - loss: 0.1673 - val_accuracy: 0.9562 - val_loss: 0.1539\n",
      "Epoch 3/10\n",
      "420/420 - 4s - 8ms/step - accuracy: 0.9661 - loss: 0.1182 - val_accuracy: 0.9613 - val_loss: 0.1335\n",
      "Epoch 4/10\n",
      "420/420 - 4s - 8ms/step - accuracy: 0.9745 - loss: 0.0903 - val_accuracy: 0.9669 - val_loss: 0.1148\n",
      "Epoch 5/10\n",
      "420/420 - 4s - 8ms/step - accuracy: 0.9801 - loss: 0.0696 - val_accuracy: 0.9694 - val_loss: 0.1055\n",
      "Epoch 6/10\n",
      "420/420 - 4s - 9ms/step - accuracy: 0.9840 - loss: 0.0563 - val_accuracy: 0.9694 - val_loss: 0.1015\n",
      "Epoch 7/10\n",
      "420/420 - 4s - 8ms/step - accuracy: 0.9871 - loss: 0.0468 - val_accuracy: 0.9696 - val_loss: 0.1047\n",
      "Epoch 8/10\n",
      "420/420 - 4s - 8ms/step - accuracy: 0.9892 - loss: 0.0383 - val_accuracy: 0.9732 - val_loss: 0.0944\n",
      "Epoch 9/10\n",
      "420/420 - 4s - 8ms/step - accuracy: 0.9923 - loss: 0.0304 - val_accuracy: 0.9729 - val_loss: 0.0946\n",
      "Epoch 10/10\n",
      "420/420 - 4s - 9ms/step - accuracy: 0.9937 - loss: 0.0257 - val_accuracy: 0.9744 - val_loss: 0.0907\n"
     ]
    },
    {
     "data": {
      "text/plain": [
       "<keras.src.callbacks.history.History at 0x36447c8b0>"
      ]
     },
     "execution_count": 18,
     "metadata": {},
     "output_type": "execute_result"
    }
   ],
   "source": [
    "units = 134794 / 794\n",
    "\n",
    "model = Sequential([\n",
    "    InputLayer(shape=x_train.shape[1:]),\n",
    "    Dense(units=units, activation=\"relu\"),\n",
    "    Dense(units=y_train.shape[1], activation=\"softmax\")\n",
    "])\n",
    "print(model.count_params())\n",
    "model.compile(loss=\"categorical_crossentropy\", optimizer=\"adam\", metrics=[\"accuracy\"])\n",
    "model.fit(x_train, y_train, epochs=10, batch_size=100, verbose=2, validation_split=.3)"
   ]
  },
  {
   "cell_type": "markdown",
   "metadata": {
    "cell_id": "00026-77f877a8-a870-4358-a389-6435fd380c88",
    "deepnote_cell_type": "markdown",
    "id": "WehjG92yDMcN"
   },
   "source": [
    "## Optimizers and learning rate\n",
    "\n",
    "**Question #7.** Change the optimizer used for your model. Use an optimizer with momentum and adaptive learning rate."
   ]
  },
  {
   "cell_type": "code",
   "execution_count": 19,
   "metadata": {
    "cell_id": "00021-8889ee1e-48b4-4783-b8e9-fb42783d8d39",
    "deepnote_cell_type": "code",
    "deepnote_to_be_reexecuted": true,
    "source_hash": "b623e53d",
    "tags": []
   },
   "outputs": [
    {
     "name": "stdout",
     "output_type": "stream",
     "text": [
      "Epoch 1/10\n",
      "420/420 - 4s - 10ms/step - accuracy: 0.8990 - loss: 0.3531 - val_accuracy: 0.9438 - val_loss: 0.1893\n",
      "Epoch 2/10\n",
      "420/420 - 4s - 9ms/step - accuracy: 0.9567 - loss: 0.1430 - val_accuracy: 0.9612 - val_loss: 0.1320\n",
      "Epoch 3/10\n",
      "420/420 - 4s - 10ms/step - accuracy: 0.9706 - loss: 0.0982 - val_accuracy: 0.9631 - val_loss: 0.1244\n",
      "Epoch 4/10\n",
      "420/420 - 4s - 10ms/step - accuracy: 0.9779 - loss: 0.0731 - val_accuracy: 0.9657 - val_loss: 0.1128\n",
      "Epoch 5/10\n",
      "420/420 - 4s - 9ms/step - accuracy: 0.9822 - loss: 0.0564 - val_accuracy: 0.9698 - val_loss: 0.1006\n",
      "Epoch 6/10\n",
      "420/420 - 4s - 9ms/step - accuracy: 0.9864 - loss: 0.0435 - val_accuracy: 0.9704 - val_loss: 0.1063\n",
      "Epoch 7/10\n",
      "420/420 - 4s - 9ms/step - accuracy: 0.9887 - loss: 0.0357 - val_accuracy: 0.9684 - val_loss: 0.1086\n",
      "Epoch 8/10\n",
      "420/420 - 4s - 10ms/step - accuracy: 0.9911 - loss: 0.0281 - val_accuracy: 0.9718 - val_loss: 0.1047\n",
      "Epoch 9/10\n",
      "420/420 - 4s - 9ms/step - accuracy: 0.9932 - loss: 0.0229 - val_accuracy: 0.9717 - val_loss: 0.1104\n",
      "Epoch 10/10\n",
      "420/420 - 4s - 9ms/step - accuracy: 0.9939 - loss: 0.0193 - val_accuracy: 0.9727 - val_loss: 0.1057\n"
     ]
    },
    {
     "data": {
      "text/plain": [
       "<keras.src.callbacks.history.History at 0x36447f4c0>"
      ]
     },
     "execution_count": 19,
     "metadata": {},
     "output_type": "execute_result"
    }
   ],
   "source": [
    "model = Sequential([\n",
    "    InputLayer(shape=x_train.shape[1:]),\n",
    "    Dense(units=128, activation=\"relu\"),\n",
    "    Dense(units=128, activation=\"relu\"),\n",
    "    Dense(units=y_train.shape[1], activation=\"softmax\")\n",
    "])\n",
    "model.compile(loss=\"categorical_crossentropy\", optimizer=\"adam\", metrics=[\"accuracy\"])\n",
    "model.fit(x_train, y_train, epochs=10, batch_size=100, verbose=2, validation_split=0.3)"
   ]
  },
  {
   "cell_type": "code",
   "execution_count": 20,
   "metadata": {},
   "outputs": [
    {
     "name": "stdout",
     "output_type": "stream",
     "text": [
      "Epoch 1/10\n",
      "420/420 - 3s - 8ms/step - accuracy: 0.6922 - loss: 1.2735 - val_accuracy: 0.8524 - val_loss: 0.6321\n",
      "Epoch 2/10\n",
      "420/420 - 3s - 8ms/step - accuracy: 0.8695 - loss: 0.5178 - val_accuracy: 0.8853 - val_loss: 0.4256\n",
      "Epoch 3/10\n",
      "420/420 - 3s - 7ms/step - accuracy: 0.8912 - loss: 0.4004 - val_accuracy: 0.8986 - val_loss: 0.3634\n",
      "Epoch 4/10\n",
      "420/420 - 3s - 7ms/step - accuracy: 0.9023 - loss: 0.3526 - val_accuracy: 0.9052 - val_loss: 0.3321\n",
      "Epoch 5/10\n",
      "420/420 - 3s - 7ms/step - accuracy: 0.9093 - loss: 0.3239 - val_accuracy: 0.9132 - val_loss: 0.3086\n",
      "Epoch 6/10\n",
      "420/420 - 3s - 7ms/step - accuracy: 0.9150 - loss: 0.3025 - val_accuracy: 0.9161 - val_loss: 0.2933\n",
      "Epoch 7/10\n",
      "420/420 - 3s - 7ms/step - accuracy: 0.9193 - loss: 0.2859 - val_accuracy: 0.9199 - val_loss: 0.2798\n",
      "Epoch 8/10\n",
      "420/420 - 3s - 7ms/step - accuracy: 0.9236 - loss: 0.2714 - val_accuracy: 0.9240 - val_loss: 0.2678\n",
      "Epoch 9/10\n",
      "420/420 - 3s - 7ms/step - accuracy: 0.9270 - loss: 0.2591 - val_accuracy: 0.9244 - val_loss: 0.2590\n",
      "Epoch 10/10\n",
      "420/420 - 3s - 7ms/step - accuracy: 0.9297 - loss: 0.2481 - val_accuracy: 0.9282 - val_loss: 0.2490\n"
     ]
    },
    {
     "data": {
      "text/plain": [
       "<keras.src.callbacks.history.History at 0x3644af610>"
      ]
     },
     "execution_count": 20,
     "metadata": {},
     "output_type": "execute_result"
    }
   ],
   "source": [
    "model = Sequential([\n",
    "    InputLayer(shape=x_train.shape[1:]),\n",
    "    Dense(units=128, activation=\"relu\"),\n",
    "    Dense(units=128, activation=\"relu\"),\n",
    "    Dense(units=y_train.shape[1], activation=\"softmax\")\n",
    "])\n",
    "model.compile(loss=\"categorical_crossentropy\", optimizer=\"sgd\", metrics=[\"accuracy\"])\n",
    "model.fit(x_train, y_train, epochs=10, batch_size=100, verbose=2, validation_split=0.3)"
   ]
  },
  {
   "cell_type": "code",
   "execution_count": 21,
   "metadata": {},
   "outputs": [
    {
     "name": "stdout",
     "output_type": "stream",
     "text": [
      "Epoch 1/10\n",
      "420/420 - 4s - 9ms/step - accuracy: 0.9020 - loss: 0.3482 - val_accuracy: 0.9430 - val_loss: 0.1919\n",
      "Epoch 2/10\n",
      "420/420 - 4s - 10ms/step - accuracy: 0.9563 - loss: 0.1448 - val_accuracy: 0.9546 - val_loss: 0.1512\n",
      "Epoch 3/10\n",
      "420/420 - 4s - 10ms/step - accuracy: 0.9709 - loss: 0.0944 - val_accuracy: 0.9632 - val_loss: 0.1251\n",
      "Epoch 4/10\n",
      "420/420 - 4s - 10ms/step - accuracy: 0.9788 - loss: 0.0704 - val_accuracy: 0.9681 - val_loss: 0.1103\n",
      "Epoch 5/10\n",
      "420/420 - 4s - 10ms/step - accuracy: 0.9836 - loss: 0.0521 - val_accuracy: 0.9699 - val_loss: 0.1072\n",
      "Epoch 6/10\n",
      "420/420 - 4s - 10ms/step - accuracy: 0.9871 - loss: 0.0408 - val_accuracy: 0.9695 - val_loss: 0.1085\n",
      "Epoch 7/10\n",
      "420/420 - 4s - 10ms/step - accuracy: 0.9907 - loss: 0.0312 - val_accuracy: 0.9712 - val_loss: 0.1069\n",
      "Epoch 8/10\n",
      "420/420 - 4s - 10ms/step - accuracy: 0.9925 - loss: 0.0250 - val_accuracy: 0.9691 - val_loss: 0.1185\n",
      "Epoch 9/10\n",
      "420/420 - 4s - 10ms/step - accuracy: 0.9930 - loss: 0.0222 - val_accuracy: 0.9733 - val_loss: 0.1083\n",
      "Epoch 10/10\n",
      "420/420 - 4s - 10ms/step - accuracy: 0.9946 - loss: 0.0172 - val_accuracy: 0.9722 - val_loss: 0.1154\n"
     ]
    },
    {
     "data": {
      "text/plain": [
       "<keras.src.callbacks.history.History at 0x3644ddde0>"
      ]
     },
     "execution_count": 21,
     "metadata": {},
     "output_type": "execute_result"
    }
   ],
   "source": [
    "model = Sequential([\n",
    "    InputLayer(shape=x_train.shape[1:]),\n",
    "    Dense(units=128, activation=\"relu\"),\n",
    "    Dense(units=128, activation=\"relu\"),\n",
    "    Dense(units=y_train.shape[1], activation=\"softmax\")\n",
    "])\n",
    "model.compile(loss=\"categorical_crossentropy\", optimizer=\"adam\", metrics=[\"accuracy\"])\n",
    "model.fit(x_train, y_train, epochs=10, batch_size=100, verbose=2, validation_split=0.3)"
   ]
  },
  {
   "cell_type": "markdown",
   "metadata": {
    "cell_id": "00028-47912783-f891-416d-9e9d-05d57a819e7c",
    "deepnote_cell_type": "markdown",
    "id": "ot8jiQHuEZxr"
   },
   "source": [
    "**Question #8.** Using [the docs](https://keras.io/api/optimizers/), vary the learning rate of your optimizer from a very low value to a much larger one so as to show evidence of:\n",
    "* instability when the learning rate is too large;\n",
    "* slow convergence when the learning rate is too low."
   ]
  },
  {
   "cell_type": "code",
   "execution_count": 22,
   "metadata": {
    "cell_id": "00029-16623cf9-4788-418c-8696-9e61bfe444fb",
    "deepnote_cell_type": "code",
    "deepnote_to_be_reexecuted": true,
    "execution_millis": 38776,
    "id": "pZfwWRDPEa1g",
    "output_cleared": true,
    "source_hash": "b623e53d"
   },
   "outputs": [
    {
     "name": "stdout",
     "output_type": "stream",
     "text": [
      "Epoch 1/10\n",
      "420/420 - 4s - 10ms/step - accuracy: 0.7521 - loss: 1.0018 - val_accuracy: 0.8915 - val_loss: 0.4144\n",
      "Epoch 2/10\n",
      "420/420 - 4s - 10ms/step - accuracy: 0.9048 - loss: 0.3516 - val_accuracy: 0.9149 - val_loss: 0.3001\n",
      "Epoch 3/10\n",
      "420/420 - 4s - 10ms/step - accuracy: 0.9229 - loss: 0.2776 - val_accuracy: 0.9246 - val_loss: 0.2627\n",
      "Epoch 4/10\n",
      "420/420 - 4s - 10ms/step - accuracy: 0.9330 - loss: 0.2388 - val_accuracy: 0.9340 - val_loss: 0.2319\n",
      "Epoch 5/10\n",
      "420/420 - 4s - 10ms/step - accuracy: 0.9402 - loss: 0.2119 - val_accuracy: 0.9392 - val_loss: 0.2127\n",
      "Epoch 6/10\n",
      "420/420 - 4s - 10ms/step - accuracy: 0.9460 - loss: 0.1911 - val_accuracy: 0.9429 - val_loss: 0.1999\n",
      "Epoch 7/10\n",
      "420/420 - 4s - 10ms/step - accuracy: 0.9510 - loss: 0.1740 - val_accuracy: 0.9489 - val_loss: 0.1832\n",
      "Epoch 8/10\n",
      "420/420 - 4s - 10ms/step - accuracy: 0.9538 - loss: 0.1600 - val_accuracy: 0.9497 - val_loss: 0.1758\n",
      "Epoch 9/10\n",
      "420/420 - 4s - 10ms/step - accuracy: 0.9576 - loss: 0.1482 - val_accuracy: 0.9524 - val_loss: 0.1674\n",
      "Epoch 10/10\n",
      "420/420 - 4s - 10ms/step - accuracy: 0.9607 - loss: 0.1374 - val_accuracy: 0.9541 - val_loss: 0.1584\n"
     ]
    },
    {
     "data": {
      "text/plain": [
       "<keras.src.callbacks.history.History at 0x3644df3a0>"
      ]
     },
     "execution_count": 22,
     "metadata": {},
     "output_type": "execute_result"
    }
   ],
   "source": [
    "from keras.optimizers import Adam\n",
    "\n",
    "model = Sequential([\n",
    "    InputLayer(shape=x_train.shape[1:]),\n",
    "    Dense(units=128, activation=\"relu\"),\n",
    "    Dense(units=128, activation=\"relu\"),\n",
    "    Dense(units=y_train.shape[1], activation=\"softmax\")\n",
    "])\n",
    "model.compile(loss=\"categorical_crossentropy\", optimizer=Adam(learning_rate=0.0001), metrics=[\"accuracy\"])\n",
    "model.fit(x_train, y_train, epochs=10, batch_size=100, verbose=2, validation_split=0.3)"
   ]
  },
  {
   "cell_type": "markdown",
   "metadata": {
    "cell_id": "00030-f3edc3e5-83b2-4417-99c0-ce99030af441",
    "deepnote_cell_type": "markdown",
    "id": "tyCzy_PNEqwE"
   },
   "source": [
    "## Callbacks\n",
    "\n",
    "Callbacks are tools that, in `keras`, allow one to intervene during the training process of a model. \n",
    "Callbacks can be used to take actions (_ie._ save intermediate model, stop optimization if overfitting occurs, _etc._).\n",
    "\n",
    "A first callback one can play with is the one returned by any call to `fit` on a `keras` model.\n",
    "This callback is an object with an `.history` attribute in the form of a Python dictionnary whose keys are the metrics recorded during training. Each of these keys links to an array containing the consecutive values of the considered quantity (one value per epoch).\n",
    "\n",
    "**Question #9.** Plot correct classification rates on both training and validation sets."
   ]
  },
  {
   "cell_type": "code",
   "execution_count": 23,
   "metadata": {
    "cell_id": "00031-a30d0556-649b-490f-8b57-f0ac45eb245a",
    "deepnote_cell_type": "code",
    "deepnote_to_be_reexecuted": true,
    "execution_millis": 67,
    "id": "qA-RPKzaI4-s",
    "output_cleared": true,
    "source_hash": "b623e53d"
   },
   "outputs": [
    {
     "name": "stdout",
     "output_type": "stream",
     "text": [
      "Epoch 1/10\n",
      "420/420 - 4s - 10ms/step - accuracy: 0.9037 - loss: 0.3418 - val_accuracy: 0.9488 - val_loss: 0.1803\n",
      "Epoch 2/10\n",
      "420/420 - 4s - 10ms/step - accuracy: 0.9593 - loss: 0.1392 - val_accuracy: 0.9558 - val_loss: 0.1439\n",
      "Epoch 3/10\n",
      "420/420 - 4s - 10ms/step - accuracy: 0.9702 - loss: 0.0989 - val_accuracy: 0.9643 - val_loss: 0.1231\n",
      "Epoch 4/10\n",
      "420/420 - 4s - 10ms/step - accuracy: 0.9779 - loss: 0.0708 - val_accuracy: 0.9644 - val_loss: 0.1166\n",
      "Epoch 5/10\n",
      "420/420 - 4s - 11ms/step - accuracy: 0.9831 - loss: 0.0537 - val_accuracy: 0.9675 - val_loss: 0.1066\n",
      "Epoch 6/10\n",
      "420/420 - 4s - 10ms/step - accuracy: 0.9867 - loss: 0.0428 - val_accuracy: 0.9702 - val_loss: 0.1025\n",
      "Epoch 7/10\n",
      "420/420 - 4s - 10ms/step - accuracy: 0.9890 - loss: 0.0347 - val_accuracy: 0.9586 - val_loss: 0.1480\n",
      "Epoch 8/10\n",
      "420/420 - 4s - 9ms/step - accuracy: 0.9912 - loss: 0.0278 - val_accuracy: 0.9706 - val_loss: 0.1088\n",
      "Epoch 9/10\n",
      "420/420 - 4s - 10ms/step - accuracy: 0.9940 - loss: 0.0199 - val_accuracy: 0.9658 - val_loss: 0.1296\n",
      "Epoch 10/10\n",
      "420/420 - 4s - 10ms/step - accuracy: 0.9941 - loss: 0.0187 - val_accuracy: 0.9713 - val_loss: 0.1137\n"
     ]
    }
   ],
   "source": [
    "model = Sequential([\n",
    "    InputLayer(shape=x_train.shape[1:]),\n",
    "    Dense(units=128, activation=\"relu\"),\n",
    "    Dense(units=128, activation=\"relu\"),\n",
    "    Dense(units=y_train.shape[1], activation=\"softmax\")\n",
    "])\n",
    "model.compile(loss=\"categorical_crossentropy\", optimizer=\"adam\", metrics=[\"accuracy\"])\n",
    "h = model.fit(x_train, y_train, epochs=10, batch_size=100, verbose=2, validation_split=0.3)"
   ]
  },
  {
   "cell_type": "code",
   "execution_count": 24,
   "metadata": {},
   "outputs": [
    {
     "data": {
      "text/plain": [
       "{'accuracy': [0.9037142992019653,\n",
       "  0.9593333601951599,\n",
       "  0.970214307308197,\n",
       "  0.9778809547424316,\n",
       "  0.9831190705299377,\n",
       "  0.9866904616355896,\n",
       "  0.989047646522522,\n",
       "  0.9912142753601074,\n",
       "  0.9939523935317993,\n",
       "  0.9941428303718567],\n",
       " 'loss': [0.341793030500412,\n",
       "  0.13921228051185608,\n",
       "  0.09891991317272186,\n",
       "  0.07082367688417435,\n",
       "  0.05365399643778801,\n",
       "  0.042842742055654526,\n",
       "  0.03471831977367401,\n",
       "  0.027784254401922226,\n",
       "  0.019933296367526054,\n",
       "  0.01868293620646],\n",
       " 'val_accuracy': [0.9487777948379517,\n",
       "  0.9558333158493042,\n",
       "  0.9643333554267883,\n",
       "  0.964388906955719,\n",
       "  0.9674999713897705,\n",
       "  0.9701666831970215,\n",
       "  0.9585555791854858,\n",
       "  0.9706110954284668,\n",
       "  0.965833306312561,\n",
       "  0.9713333249092102],\n",
       " 'val_loss': [0.18031391501426697,\n",
       "  0.14390170574188232,\n",
       "  0.12306156754493713,\n",
       "  0.11659863591194153,\n",
       "  0.10656054317951202,\n",
       "  0.1025291457772255,\n",
       "  0.14801089465618134,\n",
       "  0.1088290810585022,\n",
       "  0.12961217761039734,\n",
       "  0.11366774886846542]}"
      ]
     },
     "execution_count": 24,
     "metadata": {},
     "output_type": "execute_result"
    }
   ],
   "source": [
    "h.history"
   ]
  },
  {
   "cell_type": "code",
   "execution_count": 25,
   "metadata": {},
   "outputs": [
    {
     "data": {
      "image/png": "[encoded data removed]",
      "text/plain": [
       "<Figure size 640x480 with 1 Axes>"
      ]
     },
     "metadata": {},
     "output_type": "display_data"
    }
   ],
   "source": [
    "import matplotlib.pyplot as plt\n",
    "import numpy as np\n",
    "\n",
    "plt.plot(np.arange(1, 11), h.history[\"loss\"], label=\"Training loss\")\n",
    "plt.plot(np.arange(1, 11), h.history[\"val_loss\"], label=\"Validation loss\")\n",
    "plt.axvline(x=np.argmin(h.history[\"val_loss\"]) + 1, color='k', linestyle='--')\n",
    "plt.legend();"
   ]
  },
  {
   "cell_type": "markdown",
   "metadata": {
    "cell_id": "00032-0b2aa348-08ef-45f0-8984-70863c338c77",
    "deepnote_cell_type": "markdown",
    "id": "l9y1at8qI5cO"
   },
   "source": [
    "Setting up other callbacks must be explicit. This is done by passing a list of callbacks to the `fit` method.\n",
    "\n",
    "When training a model is long, one can wish to record intermediate models (in case of a crash during training, or just for cases when intermediate models were performing better than the final one).\n",
    "The [`ModelCheckpoint`](https://keras.io/api/callbacks/model_checkpoint/) callback is designed for that purpose.\n",
    "\n",
    "**Question #10.** Set up recording of intermediate models every epoch. Save the models into a dedicated file `model.keras` on your project. Only record models if validation loss is lower than for all previous models."
   ]
  },
  {
   "cell_type": "code",
   "execution_count": 26,
   "metadata": {
    "cell_id": "00027-fc377b2f-fe5b-4d0e-94b4-faa235dae4bc",
    "deepnote_cell_type": "code",
    "deepnote_to_be_reexecuted": true,
    "source_hash": "b623e53d",
    "tags": []
   },
   "outputs": [
    {
     "name": "stdout",
     "output_type": "stream",
     "text": [
      "Epoch 1/10\n",
      "600/600 - 8s - 13ms/step - accuracy: 0.9170 - loss: 0.2934 - val_accuracy: 0.9612 - val_loss: 0.1359\n",
      "Epoch 2/10\n",
      "600/600 - 5s - 9ms/step - accuracy: 0.9639 - loss: 0.1194 - val_accuracy: 0.9694 - val_loss: 0.1027\n",
      "Epoch 3/10\n",
      "600/600 - 5s - 9ms/step - accuracy: 0.9749 - loss: 0.0810 - val_accuracy: 0.9714 - val_loss: 0.0902\n",
      "Epoch 4/10\n",
      "600/600 - 5s - 9ms/step - accuracy: 0.9814 - loss: 0.0598 - val_accuracy: 0.9733 - val_loss: 0.0820\n",
      "Epoch 5/10\n",
      "600/600 - 5s - 9ms/step - accuracy: 0.9841 - loss: 0.0485 - val_accuracy: 0.9761 - val_loss: 0.0775\n",
      "Epoch 6/10\n",
      "600/600 - 5s - 9ms/step - accuracy: 0.9883 - loss: 0.0376 - val_accuracy: 0.9780 - val_loss: 0.0711\n",
      "Epoch 7/10\n",
      "600/600 - 5s - 9ms/step - accuracy: 0.9896 - loss: 0.0316 - val_accuracy: 0.9788 - val_loss: 0.0711\n",
      "Epoch 8/10\n",
      "600/600 - 5s - 9ms/step - accuracy: 0.9921 - loss: 0.0242 - val_accuracy: 0.9771 - val_loss: 0.0799\n",
      "Epoch 9/10\n",
      "600/600 - 5s - 9ms/step - accuracy: 0.9929 - loss: 0.0221 - val_accuracy: 0.9757 - val_loss: 0.0880\n",
      "Epoch 10/10\n",
      "600/600 - 5s - 9ms/step - accuracy: 0.9937 - loss: 0.0190 - val_accuracy: 0.9786 - val_loss: 0.0795\n"
     ]
    }
   ],
   "source": [
    "from keras.callbacks import ModelCheckpoint\n",
    "\n",
    "cb = ModelCheckpoint(\"model.keras\", save_best_only=True)\n",
    "\n",
    "model = Sequential([\n",
    "    InputLayer(shape=x_train.shape[1:]),\n",
    "    Dense(units=128, activation=\"relu\"),\n",
    "    Dense(units=128, activation=\"relu\"),\n",
    "    Dense(units=y_train.shape[1], activation=\"softmax\")\n",
    "])\n",
    "model.compile(loss=\"categorical_crossentropy\", optimizer=\"adam\", metrics=[\"accuracy\"])\n",
    "h = model.fit(x_train, y_train, epochs=10, batch_size=100, verbose=2, validation_data=(x_test, y_test), callbacks=[cb])"
   ]
  },
  {
   "cell_type": "markdown",
   "metadata": {
    "cell_id": "00028-e61b8442-9511-4a89-a53c-9590238e0fd2",
    "deepnote_cell_type": "markdown",
    "tags": []
   },
   "source": [
    "Use the code below to check that a model has been saved:"
   ]
  },
  {
   "cell_type": "code",
   "execution_count": 27,
   "metadata": {
    "cell_id": "00034-e0f2a0eb-f551-440e-94fb-2db94f18bde6",
    "deepnote_cell_type": "code",
    "deepnote_to_be_reexecuted": true,
    "id": "m0Zqsvh8Bowh",
    "source_hash": "3b41946",
    "tags": [
     "keep"
    ]
   },
   "outputs": [
    {
     "name": "stdout",
     "output_type": "stream",
     "text": [
      "-rw-r--r--@ 1 rtavenar  staff   1.4M Oct 24 17:45 model.keras\n"
     ]
    }
   ],
   "source": [
    "%ls -alh \"model.keras\""
   ]
  },
  {
   "cell_type": "code",
   "execution_count": 28,
   "metadata": {
    "tags": [
     "keep"
    ]
   },
   "outputs": [
    {
     "name": "stdout",
     "output_type": "stream",
     "text": [
      "\u001b[1m313/313\u001b[0m \u001b[32m━━━━━━━━━━━━━━━━━━━━\u001b[0m\u001b[37m\u001b[0m \u001b[1m1s\u001b[0m 4ms/step - accuracy: 0.9748 - loss: 0.0935\n"
     ]
    },
    {
     "data": {
      "text/plain": [
       "[0.0794522762298584, 0.978600025177002]"
      ]
     },
     "execution_count": 28,
     "metadata": {},
     "output_type": "execute_result"
    }
   ],
   "source": [
    "model.evaluate(x_test, y_test)"
   ]
  },
  {
   "cell_type": "code",
   "execution_count": 30,
   "metadata": {
    "tags": [
     "keep"
    ]
   },
   "outputs": [
    {
     "name": "stdout",
     "output_type": "stream",
     "text": [
      "\u001b[1m313/313\u001b[0m \u001b[32m━━━━━━━━━━━━━━━━━━━━\u001b[0m\u001b[37m\u001b[0m \u001b[1m1s\u001b[0m 4ms/step - accuracy: 0.9740 - loss: 0.0824\n"
     ]
    },
    {
     "data": {
      "text/plain": [
       "[0.07106669992208481, 0.9779999852180481]"
      ]
     },
     "execution_count": 30,
     "metadata": {},
     "output_type": "execute_result"
    }
   ],
   "source": [
    "new_model = keras.models.load_model(\"model.keras\")\n",
    "new_model.evaluate(x_test, y_test)"
   ]
  },
  {
   "cell_type": "markdown",
   "metadata": {
    "cell_id": "00035-1206a01d-7467-4a3e-bbdc-ee72b70366a2",
    "deepnote_cell_type": "markdown",
    "id": "WFehub4rLrZm"
   },
   "source": [
    "## Regularization\n",
    "\n",
    "**Question #11.** Add an $\\ell_2$ regularization to the weights of your model and show its impact on overfitting. [These docs](https://keras.io/api/layers/regularizers/) could help."
   ]
  },
  {
   "cell_type": "code",
   "execution_count": 31,
   "metadata": {
    "cell_id": "00030-dcf2874b-1d98-4a94-9f5d-a048e99081d8",
    "deepnote_cell_type": "code",
    "deepnote_to_be_reexecuted": true,
    "source_hash": "b623e53d",
    "tags": []
   },
   "outputs": [
    {
     "name": "stdout",
     "output_type": "stream",
     "text": [
      "Epoch 1/10\n",
      "480/480 - 5s - 11ms/step - accuracy: 0.9001 - loss: 0.5892 - val_accuracy: 0.9511 - val_loss: 0.3750\n",
      "Epoch 2/10\n",
      "480/480 - 5s - 10ms/step - accuracy: 0.9543 - loss: 0.3419 - val_accuracy: 0.9604 - val_loss: 0.3139\n",
      "Epoch 3/10\n",
      "480/480 - 5s - 10ms/step - accuracy: 0.9640 - loss: 0.2867 - val_accuracy: 0.9632 - val_loss: 0.2764\n",
      "Epoch 4/10\n",
      "480/480 - 5s - 10ms/step - accuracy: 0.9689 - loss: 0.2582 - val_accuracy: 0.9679 - val_loss: 0.2563\n",
      "Epoch 5/10\n",
      "480/480 - 5s - 10ms/step - accuracy: 0.9705 - loss: 0.2432 - val_accuracy: 0.9697 - val_loss: 0.2439\n",
      "Epoch 6/10\n",
      "480/480 - 5s - 10ms/step - accuracy: 0.9724 - loss: 0.2338 - val_accuracy: 0.9687 - val_loss: 0.2418\n",
      "Epoch 7/10\n",
      "480/480 - 5s - 10ms/step - accuracy: 0.9736 - loss: 0.2268 - val_accuracy: 0.9726 - val_loss: 0.2301\n",
      "Epoch 8/10\n",
      "480/480 - 5s - 10ms/step - accuracy: 0.9744 - loss: 0.2233 - val_accuracy: 0.9683 - val_loss: 0.2410\n",
      "Epoch 9/10\n",
      "480/480 - 5s - 10ms/step - accuracy: 0.9761 - loss: 0.2199 - val_accuracy: 0.9697 - val_loss: 0.2354\n",
      "Epoch 10/10\n",
      "480/480 - 5s - 10ms/step - accuracy: 0.9765 - loss: 0.2177 - val_accuracy: 0.9728 - val_loss: 0.2264\n"
     ]
    }
   ],
   "source": [
    "from keras.regularizers import l2\n",
    "\n",
    "model = Sequential([\n",
    "    InputLayer(shape=x_train.shape[1:]),\n",
    "    Dense(units=128, activation=\"relu\", kernel_regularizer=l2(.001)),\n",
    "    Dense(units=128, activation=\"relu\", kernel_regularizer=l2(.001)),\n",
    "    Dense(units=y_train.shape[1], activation=\"softmax\", kernel_regularizer=l2(.001))\n",
    "])\n",
    "model.compile(loss=\"categorical_crossentropy\", optimizer=\"adam\", metrics=[\"accuracy\"])\n",
    "h = model.fit(x_train, y_train, epochs=10, batch_size=100, verbose=2, validation_split=.2)"
   ]
  },
  {
   "cell_type": "code",
   "execution_count": 32,
   "metadata": {},
   "outputs": [
    {
     "data": {
      "image/png": "[encoded data removed]",
      "text/plain": [
       "<Figure size 640x480 with 1 Axes>"
      ]
     },
     "metadata": {},
     "output_type": "display_data"
    }
   ],
   "source": [
    "plt.plot(h.history[\"val_loss\"], label=\"Validation loss\")\n",
    "plt.plot(h.history[\"loss\"], label=\"Training loss\")\n",
    "plt.legend();"
   ]
  },
  {
   "cell_type": "markdown",
   "metadata": {
    "cell_id": "00037-eeefff63-cd4e-4d79-b3ed-4f6bfb2ce154",
    "deepnote_cell_type": "markdown",
    "id": "vumLi62gNVhk"
   },
   "source": [
    "**Question #12.** Instead of the $\\ell_2$ regularization, set up a [drop-out](https://keras.io/api/layers/regularization_layers/dropout/) strategy and assess its impact on overfitting (you will turn off 10% of the neurons at each training batch)."
   ]
  },
  {
   "cell_type": "code",
   "execution_count": 33,
   "metadata": {
    "cell_id": "00031-76277bb0-9d1e-44c8-a795-8144cb710525",
    "deepnote_cell_type": "code",
    "deepnote_to_be_reexecuted": true,
    "source_hash": "b623e53d",
    "tags": []
   },
   "outputs": [
    {
     "name": "stdout",
     "output_type": "stream",
     "text": [
      "Epoch 1/10\n",
      "480/480 - 5s - 9ms/step - accuracy: 0.8813 - loss: 0.3937 - val_accuracy: 0.9538 - val_loss: 0.1576\n",
      "Epoch 2/10\n",
      "480/480 - 4s - 9ms/step - accuracy: 0.9469 - loss: 0.1740 - val_accuracy: 0.9649 - val_loss: 0.1138\n",
      "Epoch 3/10\n",
      "480/480 - 4s - 9ms/step - accuracy: 0.9600 - loss: 0.1278 - val_accuracy: 0.9694 - val_loss: 0.0991\n",
      "Epoch 4/10\n",
      "480/480 - 5s - 9ms/step - accuracy: 0.9678 - loss: 0.1053 - val_accuracy: 0.9737 - val_loss: 0.0873\n",
      "Epoch 5/10\n",
      "480/480 - 4s - 9ms/step - accuracy: 0.9720 - loss: 0.0900 - val_accuracy: 0.9750 - val_loss: 0.0794\n",
      "Epoch 6/10\n",
      "480/480 - 4s - 9ms/step - accuracy: 0.9752 - loss: 0.0780 - val_accuracy: 0.9758 - val_loss: 0.0792\n",
      "Epoch 7/10\n",
      "480/480 - 5s - 10ms/step - accuracy: 0.9771 - loss: 0.0704 - val_accuracy: 0.9768 - val_loss: 0.0770\n",
      "Epoch 8/10\n",
      "480/480 - 5s - 10ms/step - accuracy: 0.9792 - loss: 0.0635 - val_accuracy: 0.9772 - val_loss: 0.0766\n",
      "Epoch 9/10\n",
      "480/480 - 5s - 10ms/step - accuracy: 0.9815 - loss: 0.0583 - val_accuracy: 0.9779 - val_loss: 0.0760\n",
      "Epoch 10/10\n",
      "480/480 - 4s - 9ms/step - accuracy: 0.9824 - loss: 0.0534 - val_accuracy: 0.9753 - val_loss: 0.0806\n"
     ]
    }
   ],
   "source": [
    "from keras.layers import Dropout\n",
    "\n",
    "model = Sequential([\n",
    "    InputLayer(shape=x_train.shape[1:]),\n",
    "    Dropout(rate=0.1),\n",
    "    Dense(units=128, activation=\"relu\"),\n",
    "    Dropout(rate=0.1),\n",
    "    Dense(units=128, activation=\"relu\"),\n",
    "    Dropout(rate=0.1),\n",
    "    Dense(units=y_train.shape[1], activation=\"softmax\")\n",
    "])\n",
    "model.compile(loss=\"categorical_crossentropy\", optimizer=\"adam\", metrics=[\"accuracy\"])\n",
    "h = model.fit(x_train, y_train, epochs=10, batch_size=100, verbose=2, validation_split=.2)"
   ]
  },
  {
   "cell_type": "code",
   "execution_count": 35,
   "metadata": {},
   "outputs": [
    {
     "data": {
      "image/png": "[encoded data removed]",
      "text/plain": [
       "<Figure size 640x480 with 1 Axes>"
      ]
     },
     "metadata": {},
     "output_type": "display_data"
    }
   ],
   "source": [
    "plt.plot(h.history[\"val_loss\"], label=\"Validation loss\")\n",
    "plt.plot(h.history[\"loss\"], label=\"Training loss\")\n",
    "plt.legend();"
   ]
  },
  {
   "cell_type": "markdown",
   "metadata": {
    "cell_id": "00041-10a0c691-e01a-451e-807b-594ba76cc1fa",
    "deepnote_cell_type": "markdown",
    "id": "xbOmJKruNYyS"
   },
   "source": [
    "**Question #13.** Set up an [`EarlyStopping`](https://keras.io/api/callbacks/early_stopping/) strategy such that training the model will stop in case the validation loss does not decrease for 5 consecutive epochs."
   ]
  },
  {
   "cell_type": "code",
   "execution_count": 36,
   "metadata": {
    "cell_id": "00033-d7da52c7-7fbf-4f7d-940d-821cbe255b64",
    "deepnote_cell_type": "code",
    "deepnote_to_be_reexecuted": true,
    "source_hash": "b623e53d",
    "tags": []
   },
   "outputs": [
    {
     "name": "stdout",
     "output_type": "stream",
     "text": [
      "Epoch 1/100\n",
      "600/600 - 5s - 9ms/step - accuracy: 0.9162 - loss: 0.2933 - val_accuracy: 0.9607 - val_loss: 0.1331\n",
      "Epoch 2/100\n",
      "600/600 - 5s - 9ms/step - accuracy: 0.9645 - loss: 0.1188 - val_accuracy: 0.9692 - val_loss: 0.0998\n",
      "Epoch 3/100\n",
      "600/600 - 5s - 9ms/step - accuracy: 0.9747 - loss: 0.0821 - val_accuracy: 0.9743 - val_loss: 0.0877\n",
      "Epoch 4/100\n",
      "600/600 - 5s - 9ms/step - accuracy: 0.9803 - loss: 0.0610 - val_accuracy: 0.9742 - val_loss: 0.0923\n",
      "Epoch 5/100\n",
      "600/600 - 5s - 9ms/step - accuracy: 0.9844 - loss: 0.0502 - val_accuracy: 0.9772 - val_loss: 0.0725\n",
      "Epoch 6/100\n",
      "600/600 - 5s - 9ms/step - accuracy: 0.9881 - loss: 0.0385 - val_accuracy: 0.9781 - val_loss: 0.0773\n",
      "Epoch 7/100\n",
      "600/600 - 5s - 9ms/step - accuracy: 0.9898 - loss: 0.0318 - val_accuracy: 0.9758 - val_loss: 0.0837\n",
      "Epoch 8/100\n",
      "600/600 - 5s - 9ms/step - accuracy: 0.9917 - loss: 0.0260 - val_accuracy: 0.9775 - val_loss: 0.0817\n"
     ]
    }
   ],
   "source": [
    "from keras.callbacks import EarlyStopping\n",
    "\n",
    "cb = EarlyStopping(monitor=\"val_loss\", patience=3, restore_best_weights=True)\n",
    "\n",
    "model = Sequential([\n",
    "    InputLayer(shape=x_train.shape[1:]),\n",
    "    Dense(units=128, activation=\"relu\"),\n",
    "    Dense(units=128, activation=\"relu\"),\n",
    "    Dense(units=y_train.shape[1], activation=\"softmax\")\n",
    "])\n",
    "model.compile(loss=\"categorical_crossentropy\", optimizer=\"adam\", metrics=[\"accuracy\"])\n",
    "h = model.fit(x_train, y_train, epochs=100, batch_size=100, verbose=2, validation_data=(x_test, y_test), callbacks=[cb])"
   ]
  },
  {
   "cell_type": "code",
   "execution_count": 37,
   "metadata": {},
   "outputs": [
    {
     "name": "stdout",
     "output_type": "stream",
     "text": [
      "\u001b[1m313/313\u001b[0m \u001b[32m━━━━━━━━━━━━━━━━━━━━\u001b[0m\u001b[37m\u001b[0m \u001b[1m1s\u001b[0m 4ms/step - accuracy: 0.9742 - loss: 0.0871\n"
     ]
    },
    {
     "data": {
      "text/plain": [
       "[0.072513148188591, 0.9771999716758728]"
      ]
     },
     "execution_count": 37,
     "metadata": {},
     "output_type": "execute_result"
    }
   ],
   "source": [
    "model.evaluate(x_test, y_test)"
   ]
  }
 ],
 "metadata": {
  "colab": {
   "collapsed_sections": [],
   "name": "MLP.ipynb",
   "provenance": []
  },
  "deepnote": {},
  "deepnote_execution_queue": [],
  "deepnote_notebook_id": "35aa3537-3e05-40fa-86f0-1f7ded16df52",
  "kernelspec": {
   "display_name": "py3.10_ml",
   "language": "python",
   "name": "python3"
  },
  "language_info": {
   "codemirror_mode": {
    "name": "ipython",
    "version": 3
   },
   "file_extension": ".py",
   "mimetype": "text/x-python",
   "name": "python",
   "nbconvert_exporter": "python",
   "pygments_lexer": "ipython3",
   "version": "3.10.13"
  }
 },
 "nbformat": 4,
 "nbformat_minor": 0
}
