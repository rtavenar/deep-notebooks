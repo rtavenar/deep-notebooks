{
 "cells": [
  {
   "cell_type": "markdown",
   "metadata": {
    "cell_id": "00000-4e5bf590-09bc-42f5-a318-08994a30bfd4",
    "deepnote_cell_type": "markdown",
    "id": "NjCKi8REqlN6"
   },
   "source": [
    "# Multi-Layer Perceptron in `keras`\n",
    "\n",
    "In this series of lab sessions, you will use a Python library called `keras` (that is in fact embedded inside a larger library called `tensorflow`, but we will not discuss `tensorflow` in this course).\n",
    "You should visit [`keras` webpage](https://www.tensorflow.org/guide/keras/overview) to get access to more information about this library, including a comprehensive documentation.\n",
    "\n",
    "## The `Sequential` model in `keras`\n",
    "\n",
    "This library offers two ways to define neural network models. \n",
    "We will start with the `Sequential` class of `keras` models.\n",
    "Below is an example of how to define a `Sequential` model:"
   ]
  },
  {
   "cell_type": "code",
   "execution_count": 1,
   "metadata": {
    "cell_id": "00001-e7a9d101-f83a-49f2-ae43-deb55009fadf",
    "deepnote_cell_type": "code",
    "deepnote_to_be_reexecuted": false,
    "execution_millis": 1216,
    "execution_start": 1613342071585,
    "id": "PRKkYealqiiG",
    "output_cleared": false,
    "source_hash": "b851176a"
   },
   "outputs": [],
   "source": [
    "from tensorflow.keras.models import Sequential\n",
    "from tensorflow.keras.layers import Dense, InputLayer"
   ]
  },
  {
   "cell_type": "markdown",
   "metadata": {
    "cell_id": "00002-fddb7023-3fe5-422a-ab01-7974d23883a6",
    "deepnote_cell_type": "markdown",
    "id": "1UdkphfnspbR"
   },
   "source": [
    "**1. Define layers, and add them one by one to the model**\n"
   ]
  },
  {
   "cell_type": "code",
   "execution_count": null,
   "metadata": {
    "cell_id": "00003-3e192e55-740f-4e3e-9969-016701af86a1",
    "deepnote_cell_type": "code",
    "deepnote_to_be_reexecuted": false,
    "execution_millis": 57,
    "execution_start": 1613342072806,
    "id": "JD54PuqWsp4Y",
    "source_hash": "e4cce2c1"
   },
   "outputs": [],
   "source": [
    "input_layer = InputLayer(input_shape=(24,))\n",
    "hidden_layer1 = Dense(units=12, activation=\"relu\")\n",
    "hidden_layer2 = Dense(units=12, activation=\"sigmoid\")\n",
    "#[...]\n",
    "output_layer = Dense(units=3, activation=\"linear\")\n",
    "\n",
    "model = Sequential([\n",
    "    input_layer,\n",
    "    hidden_layer1,\n",
    "    hidden_layer2,\n",
    "    # ...\n",
    "    output_layer\n",
    "])"
   ]
  },
  {
   "cell_type": "markdown",
   "metadata": {
    "cell_id": "00004-607dbfcd-c789-4071-98bf-f51e230e647f",
    "deepnote_cell_type": "markdown",
    "id": "FTQLjyUoszDq"
   },
   "source": [
    "**2. Pick an optimization algorithm (optimizer) and a loss function to be optimized**\n",
    "\n",
    "Usual loss functions are:\n",
    "* `\"mse\"` for regression,\n",
    "* `\"categorical_crossentropy\"` for multiclass classification (when the `y` array fed to `fit` is of shape $(n, n_\\text{classes})$)\n",
    "* `\"binary_crossentropy\"` for binary classification (when the model is fed with `y` array of shape $(n, 1)$)\n",
    "\n",
    "One can also specify additional metrics to be printed during training (correct classification rate here)."
   ]
  },
  {
   "cell_type": "code",
   "execution_count": null,
   "metadata": {
    "cell_id": "00005-29ab32a8-52eb-40c1-9c63-1e8b8943cbdd",
    "deepnote_cell_type": "code",
    "deepnote_to_be_reexecuted": false,
    "execution_millis": 9,
    "execution_start": 1613342072870,
    "id": "A_21M9Jqs3eJ",
    "source_hash": "63a93405"
   },
   "outputs": [],
   "source": [
    "model.compile(optimizer=\"adam\", loss=\"categorical_crossentropy\", metrics=[\"accuracy\"])"
   ]
  },
  {
   "cell_type": "markdown",
   "metadata": {
    "cell_id": "00006-1084a597-d5d5-4e2e-96ba-bf42d51d64c7",
    "deepnote_cell_type": "markdown",
    "id": "ykI4bexvs5x-"
   },
   "source": [
    "**3. Fit the model**\n",
    "\n",
    "NB: do not try to execute the following line of code: variables `X_train` and `y_train` do not exist yet!"
   ]
  },
  {
   "cell_type": "code",
   "execution_count": null,
   "metadata": {
    "cell_id": "00007-8516017c-c628-4ef3-ac0f-d80ca5f74a93",
    "deepnote_cell_type": "code",
    "deepnote_to_be_reexecuted": false,
    "execution_millis": 2,
    "execution_start": 1613342072879,
    "id": "rt89yAdWs688",
    "source_hash": "fd94a07d"
   },
   "outputs": [],
   "source": [
    "#model.fit(X_train, y_train, verbose=2, epochs=10, batch_size=200)"
   ]
  },
  {
   "cell_type": "markdown",
   "metadata": {
    "cell_id": "00008-79f8d9f3-2a42-42bb-8bcc-fc2f1f47eecd",
    "deepnote_cell_type": "markdown",
    "id": "nHhJosslvDRY"
   },
   "source": [
    "## Data pre-processing\n",
    "\n",
    "Have a look at the `prepare_mnist` and `prepare_boston` functions defined below.\n",
    "\n",
    "**Question #1.** What do these functions do? What are the shapes of returned arrays? Does the returned data correpond to classification or regression problems?"
   ]
  },
  {
   "cell_type": "code",
   "execution_count": 2,
   "metadata": {
    "cell_id": "00009-c7c58fdf-b6f1-4f92-b82b-8ade1f4f44ca",
    "deepnote_cell_type": "code",
    "deepnote_to_be_reexecuted": false,
    "execution_millis": 1636,
    "execution_start": 1613342072885,
    "id": "7l-s71YRwTRA",
    "output_cleared": false,
    "source_hash": "1615ed07"
   },
   "outputs": [],
   "source": [
    "from sklearn.preprocessing import MinMaxScaler\n",
    "from tensorflow.keras.datasets import mnist, boston_housing\n",
    "from tensorflow.keras.utils import to_categorical\n",
    "\n",
    "def prepare_mnist():\n",
    "    (x_train, y_train), (x_test, y_test) = mnist.load_data()\n",
    "    x_train = x_train.reshape((x_train.shape[0], -1))\n",
    "    x_test = x_test.reshape((x_test.shape[0], -1))\n",
    "    scaler = MinMaxScaler()\n",
    "    scaler.fit(x_train)\n",
    "    x_train = scaler.transform(x_train)\n",
    "    x_test = scaler.transform(x_test)\n",
    "    y_train = to_categorical(y_train)\n",
    "    y_test = to_categorical(y_test)\n",
    "    return x_train, x_test, y_train, y_test\n",
    "\n",
    "\n",
    "def prepare_boston():\n",
    "    (x_train, y_train), (x_test, y_test) = boston_housing.load_data()\n",
    "    scaler_x = MinMaxScaler()\n",
    "    scaler_x.fit(x_train)\n",
    "    x_train = scaler_x.transform(x_train)\n",
    "    x_test = scaler_x.transform(x_test)\n",
    "    scaler_y = MinMaxScaler()\n",
    "    scaler_y.fit(y_train.reshape((-1, 1)))\n",
    "    y_train = scaler_y.transform(y_train.reshape((-1, 1)))\n",
    "    y_test = scaler_y.transform(y_test.reshape((-1, 1)))\n",
    "    return x_train, x_test, y_train, y_test\n",
    "  \n",
    "x_train, x_test, y_train, y_test = prepare_mnist()"
   ]
  },
  {
   "cell_type": "code",
   "execution_count": 4,
   "metadata": {},
   "outputs": [
    {
     "data": {
      "text/plain": [
       "array([[0., 0., 0., 0., 0., 1., 0., 0., 0., 0.],\n",
       "       [1., 0., 0., 0., 0., 0., 0., 0., 0., 0.],\n",
       "       [0., 0., 0., 0., 1., 0., 0., 0., 0., 0.],\n",
       "       [0., 1., 0., 0., 0., 0., 0., 0., 0., 0.],\n",
       "       [0., 0., 0., 0., 0., 0., 0., 0., 0., 1.],\n",
       "       [0., 0., 1., 0., 0., 0., 0., 0., 0., 0.],\n",
       "       [0., 1., 0., 0., 0., 0., 0., 0., 0., 0.],\n",
       "       [0., 0., 0., 1., 0., 0., 0., 0., 0., 0.],\n",
       "       [0., 1., 0., 0., 0., 0., 0., 0., 0., 0.],\n",
       "       [0., 0., 0., 0., 1., 0., 0., 0., 0., 0.]], dtype=float32)"
      ]
     },
     "execution_count": 4,
     "metadata": {},
     "output_type": "execute_result"
    }
   ],
   "source": [
    "y_train[:10]"
   ]
  },
  {
   "cell_type": "code",
   "execution_count": 5,
   "metadata": {
    "cell_id": "00010-3c1481af-a4d7-424b-a59e-3a2745234530",
    "deepnote_cell_type": "code",
    "deepnote_to_be_reexecuted": false,
    "execution_millis": 64,
    "execution_start": 1613342074525,
    "id": "CGlUHH6KFpj3",
    "output_cleared": false,
    "source_hash": "7facd6d8"
   },
   "outputs": [],
   "source": [
    "x_train, x_test, y_train, y_test = prepare_boston()"
   ]
  },
  {
   "cell_type": "code",
   "execution_count": 6,
   "metadata": {},
   "outputs": [
    {
     "name": "stdout",
     "output_type": "stream",
     "text": [
      "(404, 13) (404, 1)\n",
      "[[0.22666667]\n",
      " [0.82888889]\n",
      " [1.        ]\n",
      " [0.35777778]\n",
      " [0.28222222]\n",
      " [0.3       ]\n",
      " [0.14      ]\n",
      " [0.23555556]\n",
      " [0.23555556]\n",
      " [0.20888889]]\n"
     ]
    }
   ],
   "source": [
    "print(x_train.shape, y_train.shape)\n",
    "print(y_train[:10])"
   ]
  },
  {
   "cell_type": "markdown",
   "metadata": {
    "cell_id": "00011-1ecdf9c5-01c3-4a0d-a9c6-cfd28e6be23d",
    "deepnote_cell_type": "markdown",
    "id": "VRA_Ec2-yIGA"
   },
   "source": [
    "## Building your first models\n",
    "\n",
    "In the following, when fitting models, restrict the training to 10 epochs (which is not realistic, but training for more epochs takes time...)\n",
    "\n",
    "**Question #2.** Following the guidelines provided above, implement a linear regression model for the `boston` dataset that would optimize on a least squares objective using Stochastic Gradient Descent and fit your model to the corresponding training data."
   ]
  },
  {
   "cell_type": "code",
   "execution_count": 8,
   "metadata": {
    "cell_id": "00013-2e740cd6-9a8b-4a74-b85f-c7a66127d510",
    "deepnote_cell_type": "code",
    "deepnote_to_be_reexecuted": false,
    "execution_millis": 1,
    "execution_start": 1613342074582,
    "output_cleared": true,
    "source_hash": "b623e53d",
    "tags": []
   },
   "outputs": [
    {
     "name": "stdout",
     "output_type": "stream",
     "text": [
      "Epoch 1/10\n",
      "5/5 - 1s - loss: 2.6639\n",
      "Epoch 2/10\n",
      "5/5 - 0s - loss: 1.2369\n",
      "Epoch 3/10\n",
      "5/5 - 0s - loss: 0.5935\n",
      "Epoch 4/10\n",
      "5/5 - 0s - loss: 0.2994\n",
      "Epoch 5/10\n",
      "5/5 - 0s - loss: 0.1611\n",
      "Epoch 6/10\n",
      "5/5 - 0s - loss: 0.0971\n",
      "Epoch 7/10\n",
      "5/5 - 0s - loss: 0.0675\n",
      "Epoch 8/10\n",
      "5/5 - 0s - loss: 0.0552\n",
      "Epoch 9/10\n",
      "5/5 - 0s - loss: 0.0468\n",
      "Epoch 10/10\n",
      "5/5 - 0s - loss: 0.0424\n"
     ]
    },
    {
     "data": {
      "text/plain": [
       "<tensorflow.python.keras.callbacks.History at 0x13df7c700>"
      ]
     },
     "execution_count": 8,
     "metadata": {},
     "output_type": "execute_result"
    }
   ],
   "source": [
    "input_layer = InputLayer(input_shape=(13,))\n",
    "output_layer = Dense(units=1, activation=\"linear\")\n",
    "\n",
    "model = Sequential([\n",
    "    input_layer,\n",
    "    output_layer\n",
    "])\n",
    "model.compile(loss=\"mse\", optimizer=\"sgd\")\n",
    "model.fit(x_train, y_train, epochs=10, batch_size=100, verbose=2)"
   ]
  },
  {
   "cell_type": "markdown",
   "metadata": {
    "cell_id": "00015-c40decce-b6c2-4f3e-af55-6dc6b2eb29cd",
    "deepnote_cell_type": "markdown",
    "id": "Gqt1yH9Gzfuh"
   },
   "source": [
    "**Question #3.** Similarly, define a logistic regression model for the `mnist` dataset and print its training accuracy during training."
   ]
  },
  {
   "cell_type": "code",
   "execution_count": 20,
   "metadata": {
    "cell_id": "00014-fa195760-a859-4672-bd64-7911ece3c703",
    "deepnote_cell_type": "code",
    "tags": []
   },
   "outputs": [
    {
     "name": "stdout",
     "output_type": "stream",
     "text": [
      "Epoch 1/10\n",
      "600/600 - 4s - loss: 0.6244 - accuracy: 0.8411\n",
      "Epoch 2/10\n",
      "600/600 - 2s - loss: 0.3465 - accuracy: 0.9054\n",
      "Epoch 3/10\n",
      "600/600 - 2s - loss: 0.3097 - accuracy: 0.9144\n",
      "Epoch 4/10\n",
      "600/600 - 2s - loss: 0.2925 - accuracy: 0.9183\n",
      "Epoch 5/10\n",
      "600/600 - 2s - loss: 0.2824 - accuracy: 0.9214\n",
      "Epoch 6/10\n",
      "600/600 - 2s - loss: 0.2751 - accuracy: 0.9232\n",
      "Epoch 7/10\n",
      "600/600 - 2s - loss: 0.2697 - accuracy: 0.9249\n",
      "Epoch 8/10\n",
      "600/600 - 2s - loss: 0.2656 - accuracy: 0.9264\n",
      "Epoch 9/10\n",
      "600/600 - 3s - loss: 0.2622 - accuracy: 0.9271\n",
      "Epoch 10/10\n",
      "600/600 - 3s - loss: 0.2591 - accuracy: 0.9286\n"
     ]
    },
    {
     "data": {
      "text/plain": [
       "<tensorflow.python.keras.callbacks.History at 0x13ed46df0>"
      ]
     },
     "execution_count": 20,
     "metadata": {},
     "output_type": "execute_result"
    }
   ],
   "source": [
    "import tensorflow as tf\n",
    "\n",
    "tf.random.set_seed(0)\n",
    "\n",
    "x_train, x_test, y_train, y_test = prepare_mnist()\n",
    "\n",
    "input_layer = InputLayer(input_shape=x_train.shape[1:])\n",
    "output_layer = Dense(units=y_train.shape[1], activation=\"softmax\")\n",
    "\n",
    "model = Sequential([\n",
    "    input_layer,\n",
    "    output_layer\n",
    "])\n",
    "model.compile(loss=\"categorical_crossentropy\", optimizer=\"adam\", metrics=[\"accuracy\"])\n",
    "model.fit(x_train, y_train, epochs=10, batch_size=100, verbose=2)"
   ]
  },
  {
   "cell_type": "markdown",
   "metadata": {
    "cell_id": "00018-cfad4bc9-a1de-43a4-bb43-d74840d9869d",
    "deepnote_cell_type": "markdown",
    "id": "6SGA-CdS0vwW"
   },
   "source": [
    "**Question #4.** Compare performance (in terms of training accuracy, we will come back to better ways to compare models afterwards) of this logistic regression model with that of a neural network with respectively 1, 2, and 3 hidden layers of 128 neurons each.\n",
    "You will use the `\"relu\"` activation function for hidden layers."
   ]
  },
  {
   "cell_type": "code",
   "execution_count": 21,
   "metadata": {
    "cell_id": "00016-667b31d2-ee2e-4a34-9a88-33c19a38522a",
    "deepnote_cell_type": "code",
    "deepnote_to_be_reexecuted": true,
    "source_hash": "b623e53d",
    "tags": []
   },
   "outputs": [
    {
     "name": "stdout",
     "output_type": "stream",
     "text": [
      "Epoch 1/10\n",
      "600/600 - 4s - loss: 0.3323 - accuracy: 0.9089\n",
      "Epoch 2/10\n",
      "600/600 - 3s - loss: 0.1515 - accuracy: 0.9563\n",
      "Epoch 3/10\n",
      "600/600 - 3s - loss: 0.1058 - accuracy: 0.9697\n",
      "Epoch 4/10\n",
      "600/600 - 3s - loss: 0.0815 - accuracy: 0.9760\n",
      "Epoch 5/10\n",
      "600/600 - 3s - loss: 0.0650 - accuracy: 0.9810\n",
      "Epoch 6/10\n",
      "600/600 - 3s - loss: 0.0526 - accuracy: 0.9844\n",
      "Epoch 7/10\n",
      "600/600 - 3s - loss: 0.0438 - accuracy: 0.9873\n",
      "Epoch 8/10\n",
      "600/600 - 3s - loss: 0.0359 - accuracy: 0.9899\n",
      "Epoch 9/10\n",
      "600/600 - 3s - loss: 0.0296 - accuracy: 0.9917\n",
      "Epoch 10/10\n",
      "600/600 - 3s - loss: 0.0248 - accuracy: 0.9935\n"
     ]
    },
    {
     "data": {
      "text/plain": [
       "<tensorflow.python.keras.callbacks.History at 0x13ea5fd90>"
      ]
     },
     "execution_count": 21,
     "metadata": {},
     "output_type": "execute_result"
    }
   ],
   "source": [
    "tf.random.set_seed(0)\n",
    "\n",
    "model = Sequential([\n",
    "    InputLayer(input_shape=x_train.shape[1:]),\n",
    "    Dense(units=128, activation=\"relu\"),\n",
    "    Dense(units=y_train.shape[1], activation=\"softmax\")\n",
    "])\n",
    "model.compile(loss=\"categorical_crossentropy\", optimizer=\"adam\", metrics=[\"accuracy\"])\n",
    "model.fit(x_train, y_train, epochs=10, batch_size=100, verbose=2)"
   ]
  },
  {
   "cell_type": "code",
   "execution_count": 22,
   "metadata": {},
   "outputs": [
    {
     "name": "stdout",
     "output_type": "stream",
     "text": [
      "Epoch 1/10\n",
      "600/600 - 5s - loss: 0.2942 - accuracy: 0.9180\n",
      "Epoch 2/10\n",
      "600/600 - 3s - loss: 0.1161 - accuracy: 0.9655\n",
      "Epoch 3/10\n",
      "600/600 - 3s - loss: 0.0779 - accuracy: 0.9761\n",
      "Epoch 4/10\n",
      "600/600 - 3s - loss: 0.0581 - accuracy: 0.9819\n",
      "Epoch 5/10\n",
      "600/600 - 3s - loss: 0.0455 - accuracy: 0.9862\n",
      "Epoch 6/10\n",
      "600/600 - 3s - loss: 0.0349 - accuracy: 0.9893\n",
      "Epoch 7/10\n",
      "600/600 - 3s - loss: 0.0291 - accuracy: 0.9908\n",
      "Epoch 8/10\n",
      "600/600 - 3s - loss: 0.0256 - accuracy: 0.9920\n",
      "Epoch 9/10\n",
      "600/600 - 3s - loss: 0.0193 - accuracy: 0.9938\n",
      "Epoch 10/10\n",
      "600/600 - 4s - loss: 0.0173 - accuracy: 0.9944\n"
     ]
    },
    {
     "data": {
      "text/plain": [
       "<tensorflow.python.keras.callbacks.History at 0x13efbbb50>"
      ]
     },
     "execution_count": 22,
     "metadata": {},
     "output_type": "execute_result"
    }
   ],
   "source": [
    "tf.random.set_seed(0)\n",
    "\n",
    "model = Sequential([\n",
    "    InputLayer(input_shape=x_train.shape[1:]),\n",
    "    Dense(units=128, activation=\"relu\"),\n",
    "    Dense(units=128, activation=\"relu\"),\n",
    "    Dense(units=y_train.shape[1], activation=\"softmax\")\n",
    "])\n",
    "model.compile(loss=\"categorical_crossentropy\", optimizer=\"adam\", metrics=[\"accuracy\"])\n",
    "model.fit(x_train, y_train, epochs=10, batch_size=100, verbose=2)"
   ]
  },
  {
   "cell_type": "code",
   "execution_count": 23,
   "metadata": {},
   "outputs": [
    {
     "name": "stdout",
     "output_type": "stream",
     "text": [
      "Epoch 1/10\n",
      "600/600 - 7s - loss: 0.2870 - accuracy: 0.9174\n",
      "Epoch 2/10\n",
      "600/600 - 4s - loss: 0.1086 - accuracy: 0.9673\n",
      "Epoch 3/10\n",
      "600/600 - 3s - loss: 0.0742 - accuracy: 0.9769\n",
      "Epoch 4/10\n",
      "600/600 - 3s - loss: 0.0562 - accuracy: 0.9826\n",
      "Epoch 5/10\n",
      "600/600 - 3s - loss: 0.0449 - accuracy: 0.9856\n",
      "Epoch 6/10\n",
      "600/600 - 3s - loss: 0.0347 - accuracy: 0.9891\n",
      "Epoch 7/10\n",
      "600/600 - 3s - loss: 0.0299 - accuracy: 0.9903\n",
      "Epoch 8/10\n",
      "600/600 - 3s - loss: 0.0270 - accuracy: 0.9910\n",
      "Epoch 9/10\n",
      "600/600 - 3s - loss: 0.0234 - accuracy: 0.9920\n",
      "Epoch 10/10\n",
      "600/600 - 4s - loss: 0.0190 - accuracy: 0.9938\n"
     ]
    },
    {
     "data": {
      "text/plain": [
       "<tensorflow.python.keras.callbacks.History at 0x13f0b0130>"
      ]
     },
     "execution_count": 23,
     "metadata": {},
     "output_type": "execute_result"
    }
   ],
   "source": [
    "tf.random.set_seed(0)\n",
    "\n",
    "model = Sequential([\n",
    "    InputLayer(input_shape=x_train.shape[1:]),\n",
    "    Dense(units=128, activation=\"relu\"),\n",
    "    Dense(units=128, activation=\"relu\"),\n",
    "    Dense(units=128, activation=\"relu\"),\n",
    "    Dense(units=y_train.shape[1], activation=\"softmax\")\n",
    "])\n",
    "model.compile(loss=\"categorical_crossentropy\", optimizer=\"adam\", metrics=[\"accuracy\"])\n",
    "model.fit(x_train, y_train, epochs=10, batch_size=100, verbose=2)"
   ]
  },
  {
   "cell_type": "code",
   "execution_count": 24,
   "metadata": {},
   "outputs": [
    {
     "name": "stdout",
     "output_type": "stream",
     "text": [
      "Model: \"sequential_16\"\n",
      "_________________________________________________________________\n",
      "Layer (type)                 Output Shape              Param #   \n",
      "=================================================================\n",
      "dense_19 (Dense)             (None, 128)               100480    \n",
      "_________________________________________________________________\n",
      "dense_20 (Dense)             (None, 128)               16512     \n",
      "_________________________________________________________________\n",
      "dense_21 (Dense)             (None, 128)               16512     \n",
      "_________________________________________________________________\n",
      "dense_22 (Dense)             (None, 10)                1290      \n",
      "=================================================================\n",
      "Total params: 134,794\n",
      "Trainable params: 134,794\n",
      "Non-trainable params: 0\n",
      "_________________________________________________________________\n"
     ]
    }
   ],
   "source": [
    "model.summary()"
   ]
  },
  {
   "cell_type": "markdown",
   "metadata": {
    "cell_id": "00020-a024cc10-c7b4-4021-89d9-0ed7447b2b9e",
    "deepnote_cell_type": "markdown",
    "id": "tC9EB0vs363m"
   },
   "source": [
    "**Question #5.** `keras` models offer a `count_params()` method to get the number of parameters to be learned in the model. Use this facility to get the number of parameters of your 3-hidden-layer model and build a new one-hidden-layer model with an equivalent number of parameters. Compare performance of these two models with similar number of parameters."
   ]
  },
  {
   "cell_type": "code",
   "execution_count": 28,
   "metadata": {
    "cell_id": "00018-d3f7b59d-095f-43d8-903e-2b92eb43619f",
    "deepnote_cell_type": "code",
    "deepnote_to_be_reexecuted": true,
    "source_hash": "b623e53d",
    "tags": []
   },
   "outputs": [
    {
     "name": "stdout",
     "output_type": "stream",
     "text": [
      "134365\n",
      "Epoch 1/10\n",
      "600/600 - 7s - loss: 0.3106 - accuracy: 0.9132\n",
      "Epoch 2/10\n",
      "600/600 - 3s - loss: 0.1385 - accuracy: 0.9604\n",
      "Epoch 3/10\n",
      "600/600 - 3s - loss: 0.0960 - accuracy: 0.9725\n",
      "Epoch 4/10\n",
      "600/600 - 3s - loss: 0.0728 - accuracy: 0.9785\n",
      "Epoch 5/10\n",
      "600/600 - 3s - loss: 0.0579 - accuracy: 0.9827\n",
      "Epoch 6/10\n",
      "600/600 - 3s - loss: 0.0460 - accuracy: 0.9869\n",
      "Epoch 7/10\n",
      "600/600 - 3s - loss: 0.0371 - accuracy: 0.9893\n",
      "Epoch 8/10\n",
      "600/600 - 3s - loss: 0.0304 - accuracy: 0.9919\n",
      "Epoch 9/10\n",
      "600/600 - 5s - loss: 0.0247 - accuracy: 0.9934\n",
      "Epoch 10/10\n",
      "600/600 - 5s - loss: 0.0204 - accuracy: 0.9948\n"
     ]
    },
    {
     "data": {
      "text/plain": [
       "<tensorflow.python.keras.callbacks.History at 0x13f281a90>"
      ]
     },
     "execution_count": 28,
     "metadata": {},
     "output_type": "execute_result"
    }
   ],
   "source": [
    "units = 134794 / 794\n",
    "\n",
    "tf.random.set_seed(0)\n",
    "\n",
    "model = Sequential([\n",
    "    InputLayer(input_shape=x_train.shape[1:]),\n",
    "    Dense(units=units, activation=\"relu\"),\n",
    "    Dense(units=y_train.shape[1], activation=\"softmax\")\n",
    "])\n",
    "print(model.count_params())\n",
    "model.compile(loss=\"categorical_crossentropy\", optimizer=\"adam\", metrics=[\"accuracy\"])\n",
    "model.fit(x_train, y_train, epochs=10, batch_size=100, verbose=2)"
   ]
  },
  {
   "cell_type": "markdown",
   "metadata": {
    "cell_id": "00024-1bdd65e7-515d-4064-882a-54c651abfd3d",
    "deepnote_cell_type": "markdown",
    "id": "iXxTGmUw5ppd"
   },
   "source": [
    "## A better way to compare models\n",
    "\n",
    "Comparing models based on training accuracy (resp. loss) is a \"great\" way to overfit your model to the training data.\n",
    "A better way to compare models is to use hold out data (aka validation set).\n",
    "\n",
    "To do so, `keras` allows to pass, at `fit` time, a fraction of the training data to be used as validation set. Have a look [there](https://www.tensorflow.org/guide/keras/train_and_evaluate#automatically_setting_apart_a_validation_holdout_set) for more details about how validation samples are selected.\n",
    "\n",
    "**Question #6.** Repeat model comparisons above (relying on validation scores) using 30% of training data as validation set."
   ]
  },
  {
   "cell_type": "code",
   "execution_count": 29,
   "metadata": {},
   "outputs": [
    {
     "name": "stdout",
     "output_type": "stream",
     "text": [
      "Epoch 1/10\n",
      "480/480 - 10s - loss: 0.3272 - accuracy: 0.9024 - val_loss: 0.1601 - val_accuracy: 0.9523\n",
      "Epoch 2/10\n",
      "480/480 - 4s - loss: 0.1213 - accuracy: 0.9640 - val_loss: 0.1350 - val_accuracy: 0.9610\n",
      "Epoch 3/10\n",
      "480/480 - 4s - loss: 0.0819 - accuracy: 0.9751 - val_loss: 0.1019 - val_accuracy: 0.9685\n",
      "Epoch 4/10\n",
      "480/480 - 3s - loss: 0.0612 - accuracy: 0.9804 - val_loss: 0.1052 - val_accuracy: 0.9691\n",
      "Epoch 5/10\n",
      "480/480 - 3s - loss: 0.0486 - accuracy: 0.9846 - val_loss: 0.0936 - val_accuracy: 0.9722\n",
      "Epoch 6/10\n",
      "480/480 - 5s - loss: 0.0362 - accuracy: 0.9887 - val_loss: 0.0978 - val_accuracy: 0.9724\n",
      "Epoch 7/10\n",
      "480/480 - 4s - loss: 0.0298 - accuracy: 0.9906 - val_loss: 0.0879 - val_accuracy: 0.9752\n",
      "Epoch 8/10\n",
      "480/480 - 4s - loss: 0.0289 - accuracy: 0.9903 - val_loss: 0.0975 - val_accuracy: 0.9734\n",
      "Epoch 9/10\n",
      "480/480 - 4s - loss: 0.0200 - accuracy: 0.9935 - val_loss: 0.1185 - val_accuracy: 0.9712\n",
      "Epoch 10/10\n",
      "480/480 - 4s - loss: 0.0204 - accuracy: 0.9931 - val_loss: 0.1296 - val_accuracy: 0.9714\n"
     ]
    },
    {
     "data": {
      "text/plain": [
       "<tensorflow.python.keras.callbacks.History at 0x13f27b5e0>"
      ]
     },
     "execution_count": 29,
     "metadata": {},
     "output_type": "execute_result"
    }
   ],
   "source": [
    "tf.random.set_seed(0)\n",
    "\n",
    "model = Sequential([\n",
    "    InputLayer(input_shape=x_train.shape[1:]),\n",
    "    Dense(units=128, activation=\"relu\"),\n",
    "    Dense(units=128, activation=\"relu\"),\n",
    "    Dense(units=128, activation=\"relu\"),\n",
    "    Dense(units=y_train.shape[1], activation=\"softmax\")\n",
    "])\n",
    "model.compile(loss=\"categorical_crossentropy\", optimizer=\"adam\", metrics=[\"accuracy\"])\n",
    "model.fit(x_train, y_train, epochs=10, batch_size=100, verbose=2, validation_split=.3)"
   ]
  },
  {
   "cell_type": "code",
   "execution_count": 30,
   "metadata": {},
   "outputs": [
    {
     "name": "stdout",
     "output_type": "stream",
     "text": [
      "134365\n",
      "Epoch 1/10\n",
      "480/480 - 9s - loss: 0.3477 - accuracy: 0.9029 - val_loss: 0.1824 - val_accuracy: 0.9492\n",
      "Epoch 2/10\n",
      "480/480 - 3s - loss: 0.1566 - accuracy: 0.9552 - val_loss: 0.1432 - val_accuracy: 0.9580\n",
      "Epoch 3/10\n",
      "480/480 - 3s - loss: 0.1083 - accuracy: 0.9689 - val_loss: 0.1147 - val_accuracy: 0.9658\n",
      "Epoch 4/10\n",
      "480/480 - 3s - loss: 0.0838 - accuracy: 0.9754 - val_loss: 0.0993 - val_accuracy: 0.9697\n",
      "Epoch 5/10\n",
      "480/480 - 3s - loss: 0.0666 - accuracy: 0.9807 - val_loss: 0.0996 - val_accuracy: 0.9704\n",
      "Epoch 6/10\n",
      "480/480 - 3s - loss: 0.0533 - accuracy: 0.9846 - val_loss: 0.0931 - val_accuracy: 0.9724\n",
      "Epoch 7/10\n",
      "480/480 - 3s - loss: 0.0423 - accuracy: 0.9887 - val_loss: 0.0834 - val_accuracy: 0.9755\n",
      "Epoch 8/10\n",
      "480/480 - 3s - loss: 0.0355 - accuracy: 0.9900 - val_loss: 0.0874 - val_accuracy: 0.9745\n",
      "Epoch 9/10\n",
      "480/480 - 5s - loss: 0.0290 - accuracy: 0.9923 - val_loss: 0.0858 - val_accuracy: 0.9747\n",
      "Epoch 10/10\n",
      "480/480 - 3s - loss: 0.0238 - accuracy: 0.9942 - val_loss: 0.0810 - val_accuracy: 0.9771\n"
     ]
    },
    {
     "data": {
      "text/plain": [
       "<tensorflow.python.keras.callbacks.History at 0x13f575340>"
      ]
     },
     "execution_count": 30,
     "metadata": {},
     "output_type": "execute_result"
    }
   ],
   "source": [
    "units = 134794 / 794\n",
    "\n",
    "tf.random.set_seed(0)\n",
    "\n",
    "model = Sequential([\n",
    "    InputLayer(input_shape=x_train.shape[1:]),\n",
    "    Dense(units=units, activation=\"relu\"),\n",
    "    Dense(units=y_train.shape[1], activation=\"softmax\")\n",
    "])\n",
    "print(model.count_params())\n",
    "model.compile(loss=\"categorical_crossentropy\", optimizer=\"adam\", metrics=[\"accuracy\"])\n",
    "model.fit(x_train, y_train, epochs=10, batch_size=100, verbose=2, validation_split=.3)"
   ]
  },
  {
   "cell_type": "markdown",
   "metadata": {
    "cell_id": "00026-77f877a8-a870-4358-a389-6435fd380c88",
    "deepnote_cell_type": "markdown",
    "id": "WehjG92yDMcN"
   },
   "source": [
    "## Optimizers and learning rate\n",
    "\n",
    "**Question #7.** Change the optimizer used for your model. Use an optimizer with momentum and adaptive learning rate."
   ]
  },
  {
   "cell_type": "code",
   "execution_count": 31,
   "metadata": {
    "cell_id": "00021-8889ee1e-48b4-4783-b8e9-fb42783d8d39",
    "deepnote_cell_type": "code",
    "deepnote_to_be_reexecuted": true,
    "source_hash": "b623e53d",
    "tags": []
   },
   "outputs": [
    {
     "name": "stdout",
     "output_type": "stream",
     "text": [
      "Epoch 1/10\n",
      "420/420 - 10s - loss: 0.3514 - accuracy: 0.9013 - val_loss: 0.1840 - val_accuracy: 0.9461\n",
      "Epoch 2/10\n",
      "420/420 - 3s - loss: 0.1388 - accuracy: 0.9584 - val_loss: 0.1354 - val_accuracy: 0.9611\n",
      "Epoch 3/10\n",
      "420/420 - 3s - loss: 0.0941 - accuracy: 0.9714 - val_loss: 0.1172 - val_accuracy: 0.9666\n",
      "Epoch 4/10\n",
      "420/420 - 3s - loss: 0.0685 - accuracy: 0.9784 - val_loss: 0.1238 - val_accuracy: 0.9623\n",
      "Epoch 5/10\n",
      "420/420 - 3s - loss: 0.0526 - accuracy: 0.9835 - val_loss: 0.1165 - val_accuracy: 0.9663\n",
      "Epoch 6/10\n",
      "420/420 - 3s - loss: 0.0404 - accuracy: 0.9874 - val_loss: 0.1056 - val_accuracy: 0.9706\n",
      "Epoch 7/10\n",
      "420/420 - 4s - loss: 0.0296 - accuracy: 0.9908 - val_loss: 0.1035 - val_accuracy: 0.9713\n",
      "Epoch 8/10\n",
      "420/420 - 3s - loss: 0.0252 - accuracy: 0.9923 - val_loss: 0.1139 - val_accuracy: 0.9698\n",
      "Epoch 9/10\n",
      "420/420 - 3s - loss: 0.0196 - accuracy: 0.9940 - val_loss: 0.1181 - val_accuracy: 0.9707\n",
      "Epoch 10/10\n",
      "420/420 - 3s - loss: 0.0171 - accuracy: 0.9947 - val_loss: 0.1178 - val_accuracy: 0.9709\n"
     ]
    },
    {
     "data": {
      "text/plain": [
       "<tensorflow.python.keras.callbacks.History at 0x13f69d040>"
      ]
     },
     "execution_count": 31,
     "metadata": {},
     "output_type": "execute_result"
    }
   ],
   "source": [
    "tf.random.set_seed(0)\n",
    "\n",
    "model = Sequential([\n",
    "    InputLayer(input_shape=x_train.shape[1:]),\n",
    "    Dense(units=128, activation=\"relu\"),\n",
    "    Dense(units=128, activation=\"relu\"),\n",
    "    Dense(units=y_train.shape[1], activation=\"softmax\")\n",
    "])\n",
    "model.compile(loss=\"categorical_crossentropy\", optimizer=\"adam\", metrics=[\"accuracy\"])\n",
    "model.fit(x_train, y_train, epochs=10, batch_size=100, verbose=2, validation_split=0.3)"
   ]
  },
  {
   "cell_type": "code",
   "execution_count": 32,
   "metadata": {},
   "outputs": [
    {
     "name": "stdout",
     "output_type": "stream",
     "text": [
      "Epoch 1/10\n",
      "420/420 - 6s - loss: 1.4240 - accuracy: 0.6456 - val_loss: 0.6962 - val_accuracy: 0.8420\n",
      "Epoch 2/10\n",
      "420/420 - 3s - loss: 0.5469 - accuracy: 0.8607 - val_loss: 0.4354 - val_accuracy: 0.8823\n",
      "Epoch 3/10\n",
      "420/420 - 3s - loss: 0.4091 - accuracy: 0.8889 - val_loss: 0.3686 - val_accuracy: 0.8964\n",
      "Epoch 4/10\n",
      "420/420 - 4s - loss: 0.3572 - accuracy: 0.9003 - val_loss: 0.3324 - val_accuracy: 0.9057\n",
      "Epoch 5/10\n",
      "420/420 - 4s - loss: 0.3271 - accuracy: 0.9077 - val_loss: 0.3112 - val_accuracy: 0.9107\n",
      "Epoch 6/10\n",
      "420/420 - 3s - loss: 0.3054 - accuracy: 0.9134 - val_loss: 0.2961 - val_accuracy: 0.9140\n",
      "Epoch 7/10\n",
      "420/420 - 3s - loss: 0.2884 - accuracy: 0.9181 - val_loss: 0.2814 - val_accuracy: 0.9199\n",
      "Epoch 8/10\n",
      "420/420 - 3s - loss: 0.2739 - accuracy: 0.9216 - val_loss: 0.2704 - val_accuracy: 0.9214\n",
      "Epoch 9/10\n",
      "420/420 - 3s - loss: 0.2617 - accuracy: 0.9247 - val_loss: 0.2601 - val_accuracy: 0.9248\n",
      "Epoch 10/10\n",
      "420/420 - 3s - loss: 0.2504 - accuracy: 0.9283 - val_loss: 0.2512 - val_accuracy: 0.9288\n"
     ]
    },
    {
     "data": {
      "text/plain": [
       "<tensorflow.python.keras.callbacks.History at 0x13f7c06a0>"
      ]
     },
     "execution_count": 32,
     "metadata": {},
     "output_type": "execute_result"
    }
   ],
   "source": [
    "tf.random.set_seed(0)\n",
    "\n",
    "model = Sequential([\n",
    "    InputLayer(input_shape=x_train.shape[1:]),\n",
    "    Dense(units=128, activation=\"relu\"),\n",
    "    Dense(units=128, activation=\"relu\"),\n",
    "    Dense(units=y_train.shape[1], activation=\"softmax\")\n",
    "])\n",
    "model.compile(loss=\"categorical_crossentropy\", optimizer=\"sgd\", metrics=[\"accuracy\"])\n",
    "model.fit(x_train, y_train, epochs=10, batch_size=100, verbose=2, validation_split=0.3)"
   ]
  },
  {
   "cell_type": "code",
   "execution_count": 36,
   "metadata": {},
   "outputs": [
    {
     "name": "stdout",
     "output_type": "stream",
     "text": [
      "Epoch 1/10\n",
      "420/420 - 9s - loss: 0.3514 - accuracy: 0.9013 - val_loss: 0.1840 - val_accuracy: 0.9461\n",
      "Epoch 2/10\n",
      "420/420 - 4s - loss: 0.1388 - accuracy: 0.9584 - val_loss: 0.1354 - val_accuracy: 0.9611\n",
      "Epoch 3/10\n",
      "420/420 - 3s - loss: 0.0941 - accuracy: 0.9714 - val_loss: 0.1172 - val_accuracy: 0.9666\n",
      "Epoch 4/10\n",
      "420/420 - 3s - loss: 0.0685 - accuracy: 0.9784 - val_loss: 0.1238 - val_accuracy: 0.9623\n",
      "Epoch 5/10\n",
      "420/420 - 3s - loss: 0.0526 - accuracy: 0.9835 - val_loss: 0.1165 - val_accuracy: 0.9663\n",
      "Epoch 6/10\n",
      "420/420 - 3s - loss: 0.0404 - accuracy: 0.9874 - val_loss: 0.1056 - val_accuracy: 0.9706\n",
      "Epoch 7/10\n",
      "420/420 - 3s - loss: 0.0296 - accuracy: 0.9908 - val_loss: 0.1035 - val_accuracy: 0.9713\n",
      "Epoch 8/10\n",
      "420/420 - 4s - loss: 0.0252 - accuracy: 0.9923 - val_loss: 0.1139 - val_accuracy: 0.9698\n",
      "Epoch 9/10\n",
      "420/420 - 4s - loss: 0.0196 - accuracy: 0.9940 - val_loss: 0.1181 - val_accuracy: 0.9707\n",
      "Epoch 10/10\n",
      "420/420 - 4s - loss: 0.0171 - accuracy: 0.9947 - val_loss: 0.1178 - val_accuracy: 0.9709\n"
     ]
    },
    {
     "data": {
      "text/plain": [
       "<tensorflow.python.keras.callbacks.History at 0x13f75e5b0>"
      ]
     },
     "execution_count": 36,
     "metadata": {},
     "output_type": "execute_result"
    }
   ],
   "source": [
    "tf.random.set_seed(0)\n",
    "\n",
    "model = Sequential([\n",
    "    InputLayer(input_shape=x_train.shape[1:]),\n",
    "    Dense(units=128, activation=\"relu\"),\n",
    "    Dense(units=128, activation=\"relu\"),\n",
    "    Dense(units=y_train.shape[1], activation=\"softmax\")\n",
    "])\n",
    "model.compile(loss=\"categorical_crossentropy\", optimizer=\"adam\", metrics=[\"accuracy\"])\n",
    "model.fit(x_train, y_train, epochs=10, batch_size=100, verbose=2, validation_split=0.3)"
   ]
  },
  {
   "cell_type": "markdown",
   "metadata": {
    "cell_id": "00028-47912783-f891-416d-9e9d-05d57a819e7c",
    "deepnote_cell_type": "markdown",
    "id": "ot8jiQHuEZxr"
   },
   "source": [
    "**Question #8.** Using [the docs](https://www.tensorflow.org/api_docs/python/tf/keras/optimizers), vary the learning rate of your optimizer from a very low value to a much larger one so as to show evidence of:\n",
    "* instability when the learning rate is too large;\n",
    "* slow convergence when the learning rate is too low."
   ]
  },
  {
   "cell_type": "code",
   "execution_count": 37,
   "metadata": {
    "cell_id": "00029-16623cf9-4788-418c-8696-9e61bfe444fb",
    "deepnote_cell_type": "code",
    "deepnote_to_be_reexecuted": true,
    "execution_millis": 38776,
    "id": "pZfwWRDPEa1g",
    "output_cleared": true,
    "source_hash": "b623e53d"
   },
   "outputs": [
    {
     "name": "stdout",
     "output_type": "stream",
     "text": [
      "Epoch 1/10\n",
      "420/420 - 8s - loss: 1.0116 - accuracy: 0.7509 - val_loss: 0.4178 - val_accuracy: 0.8899\n",
      "Epoch 2/10\n",
      "420/420 - 3s - loss: 0.3541 - accuracy: 0.9054 - val_loss: 0.3031 - val_accuracy: 0.9150\n",
      "Epoch 3/10\n",
      "420/420 - 4s - loss: 0.2791 - accuracy: 0.9216 - val_loss: 0.2615 - val_accuracy: 0.9246\n",
      "Epoch 4/10\n",
      "420/420 - 3s - loss: 0.2389 - accuracy: 0.9320 - val_loss: 0.2305 - val_accuracy: 0.9369\n",
      "Epoch 5/10\n",
      "420/420 - 3s - loss: 0.2103 - accuracy: 0.9403 - val_loss: 0.2100 - val_accuracy: 0.9410\n",
      "Epoch 6/10\n",
      "420/420 - 3s - loss: 0.1882 - accuracy: 0.9473 - val_loss: 0.1965 - val_accuracy: 0.9443\n",
      "Epoch 7/10\n",
      "420/420 - 3s - loss: 0.1706 - accuracy: 0.9524 - val_loss: 0.1815 - val_accuracy: 0.9481\n",
      "Epoch 8/10\n",
      "420/420 - 3s - loss: 0.1560 - accuracy: 0.9553 - val_loss: 0.1716 - val_accuracy: 0.9517\n",
      "Epoch 9/10\n",
      "420/420 - 3s - loss: 0.1437 - accuracy: 0.9595 - val_loss: 0.1616 - val_accuracy: 0.9546\n",
      "Epoch 10/10\n",
      "420/420 - 4s - loss: 0.1336 - accuracy: 0.9621 - val_loss: 0.1567 - val_accuracy: 0.9551\n"
     ]
    },
    {
     "data": {
      "text/plain": [
       "<tensorflow.python.keras.callbacks.History at 0x13deb4730>"
      ]
     },
     "execution_count": 37,
     "metadata": {},
     "output_type": "execute_result"
    }
   ],
   "source": [
    "from tensorflow.keras.optimizers import Adam\n",
    "\n",
    "tf.random.set_seed(0)\n",
    "\n",
    "model = Sequential([\n",
    "    InputLayer(input_shape=x_train.shape[1:]),\n",
    "    Dense(units=128, activation=\"relu\"),\n",
    "    Dense(units=128, activation=\"relu\"),\n",
    "    Dense(units=y_train.shape[1], activation=\"softmax\")\n",
    "])\n",
    "model.compile(loss=\"categorical_crossentropy\", optimizer=Adam(learning_rate=0.0001), metrics=[\"accuracy\"])\n",
    "model.fit(x_train, y_train, epochs=10, batch_size=100, verbose=2, validation_split=0.3)"
   ]
  },
  {
   "cell_type": "markdown",
   "metadata": {
    "cell_id": "00030-f3edc3e5-83b2-4417-99c0-ce99030af441",
    "deepnote_cell_type": "markdown",
    "id": "tyCzy_PNEqwE"
   },
   "source": [
    "## Callbacks\n",
    "\n",
    "Callbacks are tools that, in `keras`, allow one to intervene during the training process of a model. \n",
    "Callbacks can be used to take actions (_ie._ save intermediate model, stop optimization if overfitting occurs, _etc._).\n",
    "\n",
    "A first callback one can play with is the one returned by any call to `fit` on a `keras` model.\n",
    "This callback is an object with an `.history` attribute in the form of a Python dictionnary whose keys are the metrics recorded during training. Each of these keys links to an array containing the consecutive values of the considered quantity (one value per epoch).\n",
    "\n",
    "**Question #9.** Plot correct classification rates on both training and validation sets."
   ]
  },
  {
   "cell_type": "code",
   "execution_count": 38,
   "metadata": {
    "cell_id": "00031-a30d0556-649b-490f-8b57-f0ac45eb245a",
    "deepnote_cell_type": "code",
    "deepnote_to_be_reexecuted": true,
    "execution_millis": 67,
    "id": "qA-RPKzaI4-s",
    "output_cleared": true,
    "source_hash": "b623e53d"
   },
   "outputs": [
    {
     "name": "stdout",
     "output_type": "stream",
     "text": [
      "Epoch 1/10\n",
      "420/420 - 7s - loss: 0.3514 - accuracy: 0.9013 - val_loss: 0.1840 - val_accuracy: 0.9461\n",
      "Epoch 2/10\n",
      "420/420 - 4s - loss: 0.1388 - accuracy: 0.9584 - val_loss: 0.1354 - val_accuracy: 0.9611\n",
      "Epoch 3/10\n",
      "420/420 - 4s - loss: 0.0941 - accuracy: 0.9714 - val_loss: 0.1172 - val_accuracy: 0.9666\n",
      "Epoch 4/10\n",
      "420/420 - 3s - loss: 0.0685 - accuracy: 0.9784 - val_loss: 0.1238 - val_accuracy: 0.9623\n",
      "Epoch 5/10\n",
      "420/420 - 3s - loss: 0.0526 - accuracy: 0.9835 - val_loss: 0.1165 - val_accuracy: 0.9663\n",
      "Epoch 6/10\n",
      "420/420 - 4s - loss: 0.0404 - accuracy: 0.9874 - val_loss: 0.1056 - val_accuracy: 0.9706\n",
      "Epoch 7/10\n",
      "420/420 - 4s - loss: 0.0296 - accuracy: 0.9908 - val_loss: 0.1035 - val_accuracy: 0.9713\n",
      "Epoch 8/10\n",
      "420/420 - 3s - loss: 0.0252 - accuracy: 0.9923 - val_loss: 0.1139 - val_accuracy: 0.9698\n",
      "Epoch 9/10\n",
      "420/420 - 3s - loss: 0.0196 - accuracy: 0.9940 - val_loss: 0.1181 - val_accuracy: 0.9707\n",
      "Epoch 10/10\n",
      "420/420 - 3s - loss: 0.0171 - accuracy: 0.9947 - val_loss: 0.1178 - val_accuracy: 0.9709\n"
     ]
    }
   ],
   "source": [
    "tf.random.set_seed(0)\n",
    "\n",
    "model = Sequential([\n",
    "    InputLayer(input_shape=x_train.shape[1:]),\n",
    "    Dense(units=128, activation=\"relu\"),\n",
    "    Dense(units=128, activation=\"relu\"),\n",
    "    Dense(units=y_train.shape[1], activation=\"softmax\")\n",
    "])\n",
    "model.compile(loss=\"categorical_crossentropy\", optimizer=\"adam\", metrics=[\"accuracy\"])\n",
    "h = model.fit(x_train, y_train, epochs=10, batch_size=100, verbose=2, validation_split=0.3)"
   ]
  },
  {
   "cell_type": "code",
   "execution_count": 40,
   "metadata": {},
   "outputs": [
    {
     "data": {
      "text/plain": [
       "{'loss': [0.3513571619987488,\n",
       "  0.1388404220342636,\n",
       "  0.09409261494874954,\n",
       "  0.06851764023303986,\n",
       "  0.05255904793739319,\n",
       "  0.04040331020951271,\n",
       "  0.029622837901115417,\n",
       "  0.025195669382810593,\n",
       "  0.01955149509012699,\n",
       "  0.017068171873688698],\n",
       " 'accuracy': [0.9013333320617676,\n",
       "  0.9584285616874695,\n",
       "  0.9714285731315613,\n",
       "  0.9783809781074524,\n",
       "  0.9835476279258728,\n",
       "  0.9873809814453125,\n",
       "  0.9908333420753479,\n",
       "  0.9922857284545898,\n",
       "  0.9940237998962402,\n",
       "  0.994690477848053],\n",
       " 'val_loss': [0.18397927284240723,\n",
       "  0.13543133437633514,\n",
       "  0.11717640608549118,\n",
       "  0.12379680573940277,\n",
       "  0.11652684211730957,\n",
       "  0.10558784008026123,\n",
       "  0.10346890240907669,\n",
       "  0.11387269198894501,\n",
       "  0.11811681091785431,\n",
       "  0.11782754212617874],\n",
       " 'val_accuracy': [0.9461110830307007,\n",
       "  0.9610555768013,\n",
       "  0.9665555357933044,\n",
       "  0.9623333215713501,\n",
       "  0.9663333296775818,\n",
       "  0.9706110954284668,\n",
       "  0.9713333249092102,\n",
       "  0.9698333144187927,\n",
       "  0.9706666469573975,\n",
       "  0.9709444642066956]}"
      ]
     },
     "execution_count": 40,
     "metadata": {},
     "output_type": "execute_result"
    }
   ],
   "source": [
    "h.history"
   ]
  },
  {
   "cell_type": "code",
   "execution_count": 47,
   "metadata": {},
   "outputs": [
    {
     "data": {
      "image/png": "[encoded data removed]",
      "text/plain": [
       "<Figure size 432x288 with 1 Axes>"
      ]
     },
     "metadata": {
      "needs_background": "light"
     },
     "output_type": "display_data"
    }
   ],
   "source": [
    "import matplotlib.pyplot as plt\n",
    "import numpy as np\n",
    "\n",
    "plt.plot(np.arange(1, 11), h.history[\"loss\"], label=\"Training loss\")\n",
    "plt.plot(np.arange(1, 11), h.history[\"val_loss\"], label=\"Validation loss\")\n",
    "plt.axvline(x=np.argmin(h.history[\"val_loss\"]) + 1, color='k', linestyle='--')\n",
    "plt.legend();"
   ]
  },
  {
   "cell_type": "markdown",
   "metadata": {
    "cell_id": "00032-0b2aa348-08ef-45f0-8984-70863c338c77",
    "deepnote_cell_type": "markdown",
    "id": "l9y1at8qI5cO"
   },
   "source": [
    "Setting up other callbacks must be explicit. This is done by passing a list of callbacks to the `fit` method.\n",
    "\n",
    "When training a model is long, one can wish to record intermediate models (in case of a crash during training, or just for cases when intermediate models were performing better than the final one).\n",
    "The [`ModelCheckpoint`](https://www.tensorflow.org/api_docs/python/tf/keras/callbacks/ModelCheckpoint) callback is designed for that purpose.\n",
    "\n",
    "**Question #10.** Set up recording of intermediate models every epoch. Save the models into a dedicated file `model.hdf5` on your Deepnote project. Only record models if validation loss is lower than for all previous models."
   ]
  },
  {
   "cell_type": "code",
   "execution_count": 50,
   "metadata": {
    "cell_id": "00027-fc377b2f-fe5b-4d0e-94b4-faa235dae4bc",
    "deepnote_cell_type": "code",
    "deepnote_to_be_reexecuted": true,
    "source_hash": "b623e53d",
    "tags": []
   },
   "outputs": [
    {
     "name": "stdout",
     "output_type": "stream",
     "text": [
      "Epoch 1/10\n",
      "600/600 - 9s - loss: 0.2942 - accuracy: 0.9180 - val_loss: 0.1464 - val_accuracy: 0.9548\n",
      "Epoch 2/10\n",
      "600/600 - 4s - loss: 0.1161 - accuracy: 0.9655 - val_loss: 0.1032 - val_accuracy: 0.9676\n",
      "Epoch 3/10\n",
      "600/600 - 4s - loss: 0.0779 - accuracy: 0.9761 - val_loss: 0.0819 - val_accuracy: 0.9732\n",
      "Epoch 4/10\n",
      "600/600 - 4s - loss: 0.0581 - accuracy: 0.9819 - val_loss: 0.0818 - val_accuracy: 0.9737\n",
      "Epoch 5/10\n",
      "600/600 - 4s - loss: 0.0455 - accuracy: 0.9862 - val_loss: 0.0727 - val_accuracy: 0.9773\n",
      "Epoch 6/10\n",
      "600/600 - 4s - loss: 0.0349 - accuracy: 0.9893 - val_loss: 0.0733 - val_accuracy: 0.9765\n",
      "Epoch 7/10\n",
      "600/600 - 4s - loss: 0.0291 - accuracy: 0.9908 - val_loss: 0.0735 - val_accuracy: 0.9778\n",
      "Epoch 8/10\n",
      "600/600 - 4s - loss: 0.0256 - accuracy: 0.9920 - val_loss: 0.0804 - val_accuracy: 0.9769\n",
      "Epoch 9/10\n",
      "600/600 - 3s - loss: 0.0193 - accuracy: 0.9938 - val_loss: 0.0820 - val_accuracy: 0.9765\n",
      "Epoch 10/10\n",
      "600/600 - 4s - loss: 0.0173 - accuracy: 0.9944 - val_loss: 0.0844 - val_accuracy: 0.9773\n"
     ]
    }
   ],
   "source": [
    "from tensorflow.keras.callbacks import ModelCheckpoint\n",
    "\n",
    "cb = ModelCheckpoint(\"model.hdf5\", save_best_only=True)\n",
    "\n",
    "tf.random.set_seed(0)\n",
    "\n",
    "model = Sequential([\n",
    "    InputLayer(input_shape=x_train.shape[1:]),\n",
    "    Dense(units=128, activation=\"relu\"),\n",
    "    Dense(units=128, activation=\"relu\"),\n",
    "    Dense(units=y_train.shape[1], activation=\"softmax\")\n",
    "])\n",
    "model.compile(loss=\"categorical_crossentropy\", optimizer=\"adam\", metrics=[\"accuracy\"])\n",
    "h = model.fit(x_train, y_train, epochs=10, batch_size=100, verbose=2, validation_data=(x_test, y_test), callbacks=[cb])"
   ]
  },
  {
   "cell_type": "markdown",
   "metadata": {
    "cell_id": "00028-e61b8442-9511-4a89-a53c-9590238e0fd2",
    "deepnote_cell_type": "markdown",
    "tags": []
   },
   "source": [
    "Use the code below to check that a model has been saved:"
   ]
  },
  {
   "cell_type": "code",
   "execution_count": 49,
   "metadata": {
    "cell_id": "00034-e0f2a0eb-f551-440e-94fb-2db94f18bde6",
    "deepnote_cell_type": "code",
    "deepnote_to_be_reexecuted": true,
    "id": "m0Zqsvh8Bowh",
    "source_hash": "3b41946"
   },
   "outputs": [
    {
     "name": "stdout",
     "output_type": "stream",
     "text": [
      "-rw-r--r--  1 tavenard_r  staff   1.4M Feb  8 16:39 model.hdf5\n"
     ]
    }
   ],
   "source": [
    "!ls -alh \"model.hdf5\""
   ]
  },
  {
   "cell_type": "code",
   "execution_count": 51,
   "metadata": {},
   "outputs": [
    {
     "name": "stdout",
     "output_type": "stream",
     "text": [
      "313/313 [==============================] - 5s 11ms/step - loss: 0.0844 - accuracy: 0.9773\n"
     ]
    },
    {
     "data": {
      "text/plain": [
       "[0.08437619358301163, 0.9772999882698059]"
      ]
     },
     "execution_count": 51,
     "metadata": {},
     "output_type": "execute_result"
    }
   ],
   "source": [
    "model.evaluate(x_test, y_test)"
   ]
  },
  {
   "cell_type": "code",
   "execution_count": 52,
   "metadata": {},
   "outputs": [
    {
     "name": "stdout",
     "output_type": "stream",
     "text": [
      "313/313 [==============================] - 3s 9ms/step - loss: 0.0727 - accuracy: 0.9773: 0s - loss: 0.0731 - accura\n"
     ]
    },
    {
     "data": {
      "text/plain": [
       "[0.07268590480089188, 0.9772999882698059]"
      ]
     },
     "execution_count": 52,
     "metadata": {},
     "output_type": "execute_result"
    }
   ],
   "source": [
    "model.load_weights(\"model.hdf5\")\n",
    "model.evaluate(x_test, y_test)"
   ]
  },
  {
   "cell_type": "markdown",
   "metadata": {
    "cell_id": "00035-1206a01d-7467-4a3e-bbdc-ee72b70366a2",
    "deepnote_cell_type": "markdown",
    "id": "WFehub4rLrZm"
   },
   "source": [
    "## Regularization\n",
    "\n",
    "**Question #11.** Add an $\\ell_2$ regularization to the weights of your model and show its impact on overfitting. [These docs](https://www.tensorflow.org/api_docs/python/tf/keras/regularizers) could help."
   ]
  },
  {
   "cell_type": "code",
   "execution_count": 53,
   "metadata": {
    "cell_id": "00030-dcf2874b-1d98-4a94-9f5d-a048e99081d8",
    "deepnote_cell_type": "code",
    "deepnote_to_be_reexecuted": true,
    "source_hash": "b623e53d",
    "tags": []
   },
   "outputs": [
    {
     "name": "stdout",
     "output_type": "stream",
     "text": [
      "Epoch 1/10\n",
      "480/480 - 12s - loss: 0.5847 - accuracy: 0.9015 - val_loss: 0.3803 - val_accuracy: 0.9492\n",
      "Epoch 2/10\n",
      "480/480 - 4s - loss: 0.3450 - accuracy: 0.9528 - val_loss: 0.3195 - val_accuracy: 0.9577\n",
      "Epoch 3/10\n",
      "480/480 - 3s - loss: 0.2869 - accuracy: 0.9641 - val_loss: 0.2756 - val_accuracy: 0.9653\n",
      "Epoch 4/10\n",
      "480/480 - 4s - loss: 0.2599 - accuracy: 0.9678 - val_loss: 0.2585 - val_accuracy: 0.9661\n",
      "Epoch 5/10\n",
      "480/480 - 4s - loss: 0.2445 - accuracy: 0.9703 - val_loss: 0.2525 - val_accuracy: 0.9667\n",
      "Epoch 6/10\n",
      "480/480 - 4s - loss: 0.2341 - accuracy: 0.9733 - val_loss: 0.2411 - val_accuracy: 0.9684\n",
      "Epoch 7/10\n",
      "480/480 - 3s - loss: 0.2284 - accuracy: 0.9736 - val_loss: 0.2377 - val_accuracy: 0.9702\n",
      "Epoch 8/10\n",
      "480/480 - 3s - loss: 0.2206 - accuracy: 0.9761 - val_loss: 0.2328 - val_accuracy: 0.9699\n",
      "Epoch 9/10\n",
      "480/480 - 4s - loss: 0.2198 - accuracy: 0.9758 - val_loss: 0.2407 - val_accuracy: 0.9669\n",
      "Epoch 10/10\n",
      "480/480 - 3s - loss: 0.2161 - accuracy: 0.9776 - val_loss: 0.2263 - val_accuracy: 0.9722\n"
     ]
    }
   ],
   "source": [
    "from tensorflow.keras.regularizers import l2\n",
    "\n",
    "tf.random.set_seed(0)\n",
    "\n",
    "model = Sequential([\n",
    "    InputLayer(input_shape=x_train.shape[1:]),\n",
    "    Dense(units=128, activation=\"relu\", kernel_regularizer=l2(.001)),\n",
    "    Dense(units=128, activation=\"relu\", kernel_regularizer=l2(.001)),\n",
    "    Dense(units=y_train.shape[1], activation=\"softmax\", kernel_regularizer=l2(.001))\n",
    "])\n",
    "model.compile(loss=\"categorical_crossentropy\", optimizer=\"adam\", metrics=[\"accuracy\"])\n",
    "h = model.fit(x_train, y_train, epochs=10, batch_size=100, verbose=2, validation_split=.2)"
   ]
  },
  {
   "cell_type": "code",
   "execution_count": 55,
   "metadata": {},
   "outputs": [
    {
     "data": {
      "image/png": "[encoded data removed]",
      "text/plain": [
       "<Figure size 432x288 with 1 Axes>"
      ]
     },
     "metadata": {
      "needs_background": "light"
     },
     "output_type": "display_data"
    }
   ],
   "source": [
    "plt.plot(h.history[\"val_loss\"], label=\"Validation loss\")\n",
    "plt.plot(h.history[\"loss\"], label=\"Training loss\")\n",
    "plt.legend();"
   ]
  },
  {
   "cell_type": "markdown",
   "metadata": {
    "cell_id": "00037-eeefff63-cd4e-4d79-b3ed-4f6bfb2ce154",
    "deepnote_cell_type": "markdown",
    "id": "vumLi62gNVhk"
   },
   "source": [
    "**Question #12.** Instead of the $\\ell_2$ regularization, set up a [drop-out](https://www.tensorflow.org/api_docs/python/tf/keras/layers/Dropout) strategy and assess its impact on overfitting (you will turn off 10% of the neurons at each training batch)."
   ]
  },
  {
   "cell_type": "code",
   "execution_count": 56,
   "metadata": {
    "cell_id": "00031-76277bb0-9d1e-44c8-a795-8144cb710525",
    "deepnote_cell_type": "code",
    "deepnote_to_be_reexecuted": true,
    "source_hash": "b623e53d",
    "tags": []
   },
   "outputs": [
    {
     "name": "stdout",
     "output_type": "stream",
     "text": [
      "Epoch 1/10\n",
      "480/480 - 5s - loss: 0.4029 - accuracy: 0.8810 - val_loss: 0.1549 - val_accuracy: 0.9542\n",
      "Epoch 2/10\n",
      "480/480 - 4s - loss: 0.1698 - accuracy: 0.9491 - val_loss: 0.1195 - val_accuracy: 0.9643\n",
      "Epoch 3/10\n",
      "480/480 - 5s - loss: 0.1281 - accuracy: 0.9600 - val_loss: 0.1022 - val_accuracy: 0.9680\n",
      "Epoch 4/10\n",
      "480/480 - 4s - loss: 0.1053 - accuracy: 0.9668 - val_loss: 0.0920 - val_accuracy: 0.9710\n",
      "Epoch 5/10\n",
      "480/480 - 3s - loss: 0.0905 - accuracy: 0.9711 - val_loss: 0.0901 - val_accuracy: 0.9716\n",
      "Epoch 6/10\n",
      "480/480 - 3s - loss: 0.0767 - accuracy: 0.9753 - val_loss: 0.0807 - val_accuracy: 0.9754\n",
      "Epoch 7/10\n",
      "480/480 - 3s - loss: 0.0715 - accuracy: 0.9779 - val_loss: 0.0776 - val_accuracy: 0.9766\n",
      "Epoch 8/10\n",
      "480/480 - 3s - loss: 0.0644 - accuracy: 0.9799 - val_loss: 0.0768 - val_accuracy: 0.9768\n",
      "Epoch 9/10\n",
      "480/480 - 3s - loss: 0.0586 - accuracy: 0.9811 - val_loss: 0.0818 - val_accuracy: 0.9750\n",
      "Epoch 10/10\n",
      "480/480 - 3s - loss: 0.0520 - accuracy: 0.9824 - val_loss: 0.0775 - val_accuracy: 0.9793\n"
     ]
    }
   ],
   "source": [
    "from tensorflow.keras.layers import Dropout\n",
    "\n",
    "tf.random.set_seed(0)\n",
    "\n",
    "model = Sequential([\n",
    "    InputLayer(input_shape=x_train.shape[1:]),\n",
    "    Dropout(rate=0.1),\n",
    "    Dense(units=128, activation=\"relu\"),\n",
    "    Dropout(rate=0.1),\n",
    "    Dense(units=128, activation=\"relu\"),\n",
    "    Dropout(rate=0.1),\n",
    "    Dense(units=y_train.shape[1], activation=\"softmax\")\n",
    "])\n",
    "model.compile(loss=\"categorical_crossentropy\", optimizer=\"adam\", metrics=[\"accuracy\"])\n",
    "h = model.fit(x_train, y_train, epochs=10, batch_size=100, verbose=2, validation_split=.2)"
   ]
  },
  {
   "cell_type": "code",
   "execution_count": 57,
   "metadata": {},
   "outputs": [
    {
     "data": {
      "image/png": "[encoded data removed]",
      "text/plain": [
       "<Figure size 432x288 with 1 Axes>"
      ]
     },
     "metadata": {
      "needs_background": "light"
     },
     "output_type": "display_data"
    }
   ],
   "source": [
    "plt.plot(h.history[\"val_loss\"], label=\"Validation loss\")\n",
    "plt.plot(h.history[\"loss\"], label=\"Training loss\")\n",
    "plt.legend();"
   ]
  },
  {
   "cell_type": "markdown",
   "metadata": {
    "cell_id": "00041-10a0c691-e01a-451e-807b-594ba76cc1fa",
    "deepnote_cell_type": "markdown",
    "id": "xbOmJKruNYyS"
   },
   "source": [
    "**Question #13.** Set up an [`EarlyStopping`](https://www.tensorflow.org/api_docs/python/tf/keras/callbacks/EarlyStopping) strategy such that training the model will stop in case the validation loss does not decrease for 5 consecutive epochs."
   ]
  },
  {
   "cell_type": "code",
   "execution_count": 58,
   "metadata": {
    "cell_id": "00033-d7da52c7-7fbf-4f7d-940d-821cbe255b64",
    "deepnote_cell_type": "code",
    "deepnote_to_be_reexecuted": true,
    "source_hash": "b623e53d",
    "tags": []
   },
   "outputs": [
    {
     "name": "stdout",
     "output_type": "stream",
     "text": [
      "Epoch 1/100\n",
      "600/600 - 4s - loss: 0.2942 - accuracy: 0.9180 - val_loss: 0.1464 - val_accuracy: 0.9548\n",
      "Epoch 2/100\n",
      "600/600 - 2s - loss: 0.1161 - accuracy: 0.9655 - val_loss: 0.1032 - val_accuracy: 0.9676\n",
      "Epoch 3/100\n",
      "600/600 - 3s - loss: 0.0779 - accuracy: 0.9761 - val_loss: 0.0819 - val_accuracy: 0.9732\n",
      "Epoch 4/100\n",
      "600/600 - 3s - loss: 0.0581 - accuracy: 0.9819 - val_loss: 0.0818 - val_accuracy: 0.9737\n",
      "Epoch 5/100\n",
      "600/600 - 3s - loss: 0.0455 - accuracy: 0.9862 - val_loss: 0.0727 - val_accuracy: 0.9773\n",
      "Epoch 6/100\n",
      "600/600 - 3s - loss: 0.0349 - accuracy: 0.9893 - val_loss: 0.0733 - val_accuracy: 0.9765\n",
      "Epoch 7/100\n",
      "600/600 - 3s - loss: 0.0291 - accuracy: 0.9908 - val_loss: 0.0735 - val_accuracy: 0.9778\n",
      "Epoch 8/100\n",
      "600/600 - 3s - loss: 0.0256 - accuracy: 0.9920 - val_loss: 0.0804 - val_accuracy: 0.9769\n"
     ]
    }
   ],
   "source": [
    "from tensorflow.keras.callbacks import EarlyStopping\n",
    "\n",
    "cb = EarlyStopping(monitor=\"val_loss\", patience=3, restore_best_weights=True)\n",
    "\n",
    "tf.random.set_seed(0)\n",
    "\n",
    "model = Sequential([\n",
    "    InputLayer(input_shape=x_train.shape[1:]),\n",
    "    Dense(units=128, activation=\"relu\"),\n",
    "    Dense(units=128, activation=\"relu\"),\n",
    "    Dense(units=y_train.shape[1], activation=\"softmax\")\n",
    "])\n",
    "model.compile(loss=\"categorical_crossentropy\", optimizer=\"adam\", metrics=[\"accuracy\"])\n",
    "h = model.fit(x_train, y_train, epochs=100, batch_size=100, verbose=2, validation_data=(x_test, y_test), callbacks=[cb])"
   ]
  },
  {
   "cell_type": "code",
   "execution_count": 59,
   "metadata": {},
   "outputs": [
    {
     "name": "stdout",
     "output_type": "stream",
     "text": [
      "313/313 [==============================] - 2s 5ms/step - loss: 0.0727 - accuracy: 0.9773: 0s - loss: 0.0782 - ac\n"
     ]
    },
    {
     "data": {
      "text/plain": [
       "[0.07268590480089188, 0.9772999882698059]"
      ]
     },
     "execution_count": 59,
     "metadata": {},
     "output_type": "execute_result"
    }
   ],
   "source": [
    "model.evaluate(x_test, y_test)"
   ]
  }
 ],
 "metadata": {
  "colab": {
   "collapsed_sections": [],
   "name": "MLP.ipynb",
   "provenance": []
  },
  "deepnote": {},
  "deepnote_execution_queue": [],
  "deepnote_notebook_id": "35aa3537-3e05-40fa-86f0-1f7ded16df52",
  "kernelspec": {
   "display_name": "Python 3",
   "name": "python3"
  },
  "language_info": {
   "codemirror_mode": {
    "name": "ipython",
    "version": 3
   },
   "file_extension": ".py",
   "mimetype": "text/x-python",
   "name": "python",
   "nbconvert_exporter": "python",
   "pygments_lexer": "ipython3",
   "version": "3.8.9"
  }
 },
 "nbformat": 4,
 "nbformat_minor": 0
}
