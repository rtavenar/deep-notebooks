{
 "cells": [
  {
   "cell_type": "markdown",
   "metadata": {
    "tags": []
   },
   "outputs": "",
   "source": [
    "# U-Net On Vaihingen Dataset\n",
    "\n",
    "In this lab session, you will use a U-Net model to perform semantic segmentation on the Vaihingen Dataset.\n",
    "The full Vaihingen dataset is available for download [here](https://www.kaggle.com/datasets/naydex/vaihingen-cropped), but in this lab you will use a smaller version (see details below) to have affordable training times."
   ]
  },
  {
   "cell_type": "markdown",
   "metadata": {
    "execution": {
     "iopub.execute_input": "2022-11-08T15:47:46.847688Z",
     "iopub.status.busy": "2022-11-08T15:47:46.847231Z",
     "iopub.status.idle": "2022-11-08T15:47:46.855802Z",
     "shell.execute_reply": "2022-11-08T15:47:46.854341Z",
     "shell.execute_reply.started": "2022-11-08T15:47:46.847646Z"
    },
    "tags": []
   },
   "outputs": "",
   "source": [
    "As a reminder, the U-Net architecture is defined as follows :\n",
    "\n",
    "[<img src=\"https://camo.githubusercontent.com/41ded1456b9dbe13b8d73d8da539dac95cb8aa721ebe5fb798af732ca9f04c92/68747470733a2f2f692e696d6775722e636f6d2f6a6544567071462e706e67\" alt=\"drawing\" width=\"1000\">](https://github.com/milesial/Pytorch-UNet)\n",
    "\n",
    "This notebook is derived from a nice U-Net implementation in PyTorch (click the image to access it). For more information, you can take a look at the [paper](https://arxiv.org/pdf/1505.04597.pdf)!"
   ]
  },
  {
   "cell_type": "code",
   "execution_count": 1,
   "metadata": {
    "_cell_guid": "b1076dfc-b9ad-4769-8c92-a6c4dae69d19",
    "_uuid": "8f2839f25d086af736a60e9eeb907d3b93b6e0e5",
    "execution": {
     "iopub.execute_input": "2022-11-09T14:04:58.353666Z",
     "iopub.status.busy": "2022-11-09T14:04:58.353302Z",
     "iopub.status.idle": "2022-11-09T14:04:58.362917Z",
     "shell.execute_reply": "2022-11-09T14:04:58.361827Z",
     "shell.execute_reply.started": "2022-11-09T14:04:58.353635Z"
    },
    "tags": []
   },
   "outputs": "",
   "source": []
  },
  {
   "cell_type": "markdown",
   "metadata": {
    "tags": []
   },
   "outputs": "",
   "source": [
    "## The UNet Model\n",
    "\n",
    "You will start by defining the UNet architecture to be used for this session. As a helper, the following blocks are defined:\n",
    "\n",
    "* `double_conv2d`: each sequence of two consecutive convolutions in the UNet model can be replaced by such a block\n",
    "* `down_sampling_block`: each sequence of a down-sampling followed by a two convolutions can be replaced by such a block\n",
    "* `up_sampling_block`: each sequence of an up-sampling (transposed convolution) followed by two convolutions can be replaced by such a block."
   ]
  },
  {
   "cell_type": "code",
   "execution_count": 2,
   "metadata": {
    "execution": {
     "iopub.execute_input": "2022-11-09T14:04:59.060792Z",
     "iopub.status.busy": "2022-11-09T14:04:59.060109Z",
     "iopub.status.idle": "2022-11-09T14:04:59.078766Z",
     "shell.execute_reply": "2022-11-09T14:04:59.077751Z",
     "shell.execute_reply.started": "2022-11-09T14:04:59.060755Z"
    },
    "tags": []
   },
   "outputs": "",
   "source": []
  },
  {
   "cell_type": "markdown",
   "metadata": {
    "tags": []
   },
   "outputs": "",
   "source": [
    "**Question 1.** Using the Keras Functional API, define the UNet architecture shown above."
   ]
  },
  {
   "cell_type": "code",
   "execution_count": 3,
   "metadata": {
    "tags": []
   },
   "outputs": "",
   "source": []
  },
  {
   "cell_type": "markdown",
   "metadata": {
    "tags": []
   },
   "outputs": "",
   "source": [
    "## The data\n",
    "\n",
    "You will now download the mini-Vaihingen dataset from CURSUS and put the zip file in your working folder.\n",
    "The following command should unzip it:"
   ]
  },
  {
   "cell_type": "code",
   "execution_count": 4,
   "metadata": {
    "tags": []
   },
   "outputs": "",
   "source": []
  },
  {
   "cell_type": "markdown",
   "metadata": {
    "tags": []
   },
   "outputs": "",
   "source": [
    "Now the following code defines a loader for the training data and another one for the validation data:"
   ]
  },
  {
   "cell_type": "code",
   "execution_count": 5,
   "metadata": {
    "tags": []
   },
   "outputs": "",
   "source": []
  },
  {
   "cell_type": "markdown",
   "metadata": {
    "tags": []
   },
   "outputs": "",
   "source": [
    "**Question 2.** Inspect the first batch (`train_loader[0]`) from the training set. What are the shapes of `X` and `y`? And what values can they take?"
   ]
  },
  {
   "cell_type": "code",
   "execution_count": 6,
   "metadata": {
    "tags": []
   },
   "outputs": "",
   "source": []
  },
  {
   "cell_type": "markdown",
   "metadata": {
    "tags": []
   },
   "outputs": "",
   "source": [
    "**Question 3.** Define, compile and fit (for one or two epochs, no more) a UNet model using the `unet_model` function defined above.\n",
    "What accuracy can you reach on the validation set?"
   ]
  },
  {
   "cell_type": "code",
   "execution_count": 7,
   "metadata": {
    "tags": []
   },
   "outputs": "",
   "source": []
  },
  {
   "cell_type": "markdown",
   "metadata": {
    "tags": []
   },
   "outputs": "",
   "source": [
    "**Question 4.** Download the pre-trained model from CURSUS and put it in your working folder.\n",
    "Load its weights using `model.load_weights(\"pretrained_unet.h5\")` and evaluate its performance on the validation set using [`model.evaluate`](https://keras.io/api/models/model_training_apis/#evaluate-method)."
   ]
  },
  {
   "cell_type": "code",
   "execution_count": 8,
   "metadata": {
    "tags": []
   },
   "outputs": "",
   "source": []
  },
  {
   "cell_type": "markdown",
   "metadata": {
    "tags": []
   },
   "outputs": "",
   "source": [
    "## Let's see the results !\n",
    "\n",
    "**Question 5.** Use the code below to visualize the obtained results on some of the validation samples."
   ]
  },
  {
   "cell_type": "code",
   "execution_count": 9,
   "metadata": {
    "execution": {
     "iopub.execute_input": "2022-11-09T14:16:29.863663Z",
     "iopub.status.busy": "2022-11-09T14:16:29.863235Z",
     "iopub.status.idle": "2022-11-09T14:16:29.87002Z",
     "shell.execute_reply": "2022-11-09T14:16:29.868859Z",
     "shell.execute_reply.started": "2022-11-09T14:16:29.863625Z"
    },
    "tags": []
   },
   "outputs": "",
   "source": []
  },
  {
   "cell_type": "code",
   "execution_count": 10,
   "metadata": {
    "execution": {
     "iopub.execute_input": "2022-11-09T14:16:30.288304Z",
     "iopub.status.busy": "2022-11-09T14:16:30.2876Z",
     "iopub.status.idle": "2022-11-09T14:16:30.800803Z",
     "shell.execute_reply": "2022-11-09T14:16:30.799808Z",
     "shell.execute_reply.started": "2022-11-09T14:16:30.288267Z"
    },
    "tags": []
   },
   "outputs": "",
   "source": []
  },
  {
   "cell_type": "code",
   "execution_count": 11,
   "metadata": {
    "execution": {
     "iopub.execute_input": "2022-11-09T14:16:32.001091Z",
     "iopub.status.busy": "2022-11-09T14:16:32.000023Z",
     "iopub.status.idle": "2022-11-09T14:16:32.125553Z",
     "shell.execute_reply": "2022-11-09T14:16:32.124553Z",
     "shell.execute_reply.started": "2022-11-09T14:16:32.001033Z"
    },
    "tags": []
   },
   "outputs": "",
   "source": []
  },
  {
   "cell_type": "code",
   "execution_count": 12,
   "metadata": {
    "execution": {
     "iopub.execute_input": "2022-11-09T14:16:32.722987Z",
     "iopub.status.busy": "2022-11-09T14:16:32.722597Z",
     "iopub.status.idle": "2022-11-09T14:16:33.976595Z",
     "shell.execute_reply": "2022-11-09T14:16:33.97577Z",
     "shell.execute_reply.started": "2022-11-09T14:16:32.722952Z"
    },
    "tags": []
   },
   "outputs": "",
   "source": []
  }
 ],
 "metadata": {
  "kernelspec": {
   "display_name": "Python 3.9.6 ('py38_data')",
   "language": "python",
   "name": "python3"
  },
  "language_info": {
   "codemirror_mode": {
    "name": "ipython",
    "version": 3
   },
   "file_extension": ".py",
   "mimetype": "text/x-python",
   "name": "python",
   "nbconvert_exporter": "python",
   "pygments_lexer": "ipython3",
   "version": "3.10.12"
  },
  "vscode": {
   "interpreter": {
    "hash": "25f9a3951446179f6c2016b22a60b44495fe90f43bda7f3caedfe2c1a9cd31f9"
   }
  }
 },
 "nbformat": 4,
 "nbformat_minor": 4
}
