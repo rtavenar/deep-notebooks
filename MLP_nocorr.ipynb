{
 "cells": [
  {
   "cell_type": "markdown",
   "metadata": {
    "cell_id": "00000-4e5bf590-09bc-42f5-a318-08994a30bfd4",
    "deepnote_cell_type": "markdown",
    "id": "NjCKi8REqlN6",
    "tags": []
   },
   "outputs": "",
   "source": [
    "# Multi-Layer Perceptron in `keras`\n",
    "\n",
    "In this series of lab sessions, you will use a Python library called `keras`.\n",
    "You should visit [`keras` webpage](https://keras.io/) to get access to more information about this library, including a comprehensive documentation.\n",
    "\n",
    "## The `Sequential` model in `keras`\n",
    "\n",
    "This library offers two ways to define neural network models. \n",
    "We will start with the `Sequential` class of `keras` models.\n",
    "Below is an example of how to define a `Sequential` model:"
   ]
  },
  {
   "cell_type": "markdown",
   "metadata": {
    "tags": []
   },
   "outputs": "",
   "source": [
    "!pip install tensorflow keras_core"
   ]
  },
  {
   "cell_type": "code",
   "execution_count": 1,
   "metadata": {
    "tags": []
   },
   "outputs": "",
   "source": [
    "import os\n",
    "\n",
    "os.environ[\"KERAS_BACKEND\"] = \"torch\""
   ]
  },
  {
   "cell_type": "code",
   "execution_count": 2,
   "metadata": {
    "tags": []
   },
   "outputs": "",
   "source": [
    "import keras\n",
    "from keras.models import Sequential\n",
    "from keras.layers import Dense, InputLayer"
   ]
  },
  {
   "cell_type": "markdown",
   "metadata": {
    "cell_id": "00002-fddb7023-3fe5-422a-ab01-7974d23883a6",
    "deepnote_cell_type": "markdown",
    "id": "1UdkphfnspbR",
    "tags": []
   },
   "outputs": "",
   "source": [
    "**1. Define layers, and add them one by one to the model**\n"
   ]
  },
  {
   "cell_type": "code",
   "execution_count": 3,
   "metadata": {
    "cell_id": "00003-3e192e55-740f-4e3e-9969-016701af86a1",
    "deepnote_cell_type": "code",
    "deepnote_to_be_reexecuted": false,
    "execution_millis": 57,
    "execution_start": 1613342072806,
    "id": "JD54PuqWsp4Y",
    "source_hash": "e4cce2c1",
    "tags": []
   },
   "outputs": "",
   "source": [
    "input_layer = InputLayer(input_shape=(24,))\n",
    "hidden_layer1 = Dense(units=12, activation=\"relu\")\n",
    "hidden_layer2 = Dense(units=12, activation=\"sigmoid\")\n",
    "#[...]\n",
    "output_layer = Dense(units=3, activation=\"linear\")\n",
    "\n",
    "model = Sequential([\n",
    "    input_layer,\n",
    "    hidden_layer1,\n",
    "    hidden_layer2,\n",
    "    # ...\n",
    "    output_layer\n",
    "])"
   ]
  },
  {
   "cell_type": "markdown",
   "metadata": {
    "cell_id": "00004-607dbfcd-c789-4071-98bf-f51e230e647f",
    "deepnote_cell_type": "markdown",
    "id": "FTQLjyUoszDq",
    "tags": []
   },
   "outputs": "",
   "source": [
    "**2. Pick an optimization algorithm (optimizer) and a loss function to be optimized**\n",
    "\n",
    "Usual loss functions are:\n",
    "* `\"mse\"` for regression,\n",
    "* `\"categorical_crossentropy\"` for multiclass classification (when the `y` array fed to `fit` is of shape $(n, n_\\text{classes})$)\n",
    "* `\"binary_crossentropy\"` for binary classification (when the model is fed with `y` array of shape $(n, 1)$)\n",
    "\n",
    "One can also specify additional metrics to be printed during training (correct classification rate here)."
   ]
  },
  {
   "cell_type": "code",
   "execution_count": 4,
   "metadata": {
    "cell_id": "00005-29ab32a8-52eb-40c1-9c63-1e8b8943cbdd",
    "deepnote_cell_type": "code",
    "deepnote_to_be_reexecuted": false,
    "execution_millis": 9,
    "execution_start": 1613342072870,
    "id": "A_21M9Jqs3eJ",
    "source_hash": "63a93405",
    "tags": []
   },
   "outputs": "",
   "source": [
    "model.compile(optimizer=\"adam\", loss=\"categorical_crossentropy\", metrics=[\"accuracy\"])"
   ]
  },
  {
   "cell_type": "markdown",
   "metadata": {
    "cell_id": "00006-1084a597-d5d5-4e2e-96ba-bf42d51d64c7",
    "deepnote_cell_type": "markdown",
    "id": "ykI4bexvs5x-",
    "tags": []
   },
   "outputs": "",
   "source": [
    "**3. Fit the model**\n",
    "\n",
    "NB: do not try to execute the following line of code: variables `X_train` and `y_train` do not exist yet!"
   ]
  },
  {
   "cell_type": "code",
   "execution_count": 5,
   "metadata": {
    "cell_id": "00007-8516017c-c628-4ef3-ac0f-d80ca5f74a93",
    "deepnote_cell_type": "code",
    "deepnote_to_be_reexecuted": false,
    "execution_millis": 2,
    "execution_start": 1613342072879,
    "id": "rt89yAdWs688",
    "source_hash": "fd94a07d",
    "tags": []
   },
   "outputs": "",
   "source": [
    "#model.fit(X_train, y_train, verbose=2, epochs=10, batch_size=200)"
   ]
  },
  {
   "cell_type": "markdown",
   "metadata": {
    "cell_id": "00008-79f8d9f3-2a42-42bb-8bcc-fc2f1f47eecd",
    "deepnote_cell_type": "markdown",
    "id": "nHhJosslvDRY",
    "tags": []
   },
   "outputs": "",
   "source": [
    "## Data pre-processing\n",
    "\n",
    "Have a look at the `prepare_mnist` and `prepare_boston` functions defined below.\n",
    "\n",
    "**Question #1.** What do these functions do? What are the shapes of returned arrays? Does the returned data correpond to classification or regression problems?"
   ]
  },
  {
   "cell_type": "code",
   "execution_count": 6,
   "metadata": {
    "cell_id": "00009-c7c58fdf-b6f1-4f92-b82b-8ade1f4f44ca",
    "deepnote_cell_type": "code",
    "deepnote_to_be_reexecuted": false,
    "execution_millis": 1636,
    "execution_start": 1613342072885,
    "id": "7l-s71YRwTRA",
    "output_cleared": false,
    "source_hash": "1615ed07",
    "tags": []
   },
   "outputs": "",
   "source": [
    "from sklearn.preprocessing import MinMaxScaler\n",
    "from keras.datasets import mnist, boston_housing\n",
    "from keras.utils import to_categorical\n",
    "\n",
    "def prepare_mnist():\n",
    "    (x_train, y_train), (x_test, y_test) = mnist.load_data()\n",
    "    x_train = x_train.reshape((x_train.shape[0], -1))\n",
    "    x_test = x_test.reshape((x_test.shape[0], -1))\n",
    "    scaler = MinMaxScaler()\n",
    "    scaler.fit(x_train)\n",
    "    x_train = scaler.transform(x_train)\n",
    "    x_test = scaler.transform(x_test)\n",
    "    y_train = to_categorical(y_train)\n",
    "    y_test = to_categorical(y_test)\n",
    "    return x_train, x_test, y_train, y_test\n",
    "\n",
    "\n",
    "def prepare_boston():\n",
    "    (x_train, y_train), (x_test, y_test) = boston_housing.load_data()\n",
    "    scaler_x = MinMaxScaler()\n",
    "    scaler_x.fit(x_train)\n",
    "    x_train = scaler_x.transform(x_train)\n",
    "    x_test = scaler_x.transform(x_test)\n",
    "    scaler_y = MinMaxScaler()\n",
    "    scaler_y.fit(y_train.reshape((-1, 1)))\n",
    "    y_train = scaler_y.transform(y_train.reshape((-1, 1)))\n",
    "    y_test = scaler_y.transform(y_test.reshape((-1, 1)))\n",
    "    return x_train, x_test, y_train, y_test\n",
    "  \n",
    "x_train, x_test, y_train, y_test = prepare_mnist()"
   ]
  },
  {
   "cell_type": "code",
   "execution_count": 7,
   "metadata": {
    "tags": []
   },
   "outputs": "",
   "source": []
  },
  {
   "cell_type": "code",
   "execution_count": 8,
   "metadata": {
    "cell_id": "00010-3c1481af-a4d7-424b-a59e-3a2745234530",
    "deepnote_cell_type": "code",
    "deepnote_to_be_reexecuted": false,
    "execution_millis": 64,
    "execution_start": 1613342074525,
    "id": "CGlUHH6KFpj3",
    "output_cleared": false,
    "source_hash": "7facd6d8",
    "tags": []
   },
   "outputs": "",
   "source": []
  },
  {
   "cell_type": "code",
   "execution_count": 9,
   "metadata": {
    "tags": []
   },
   "outputs": "",
   "source": []
  },
  {
   "cell_type": "markdown",
   "metadata": {
    "cell_id": "00011-1ecdf9c5-01c3-4a0d-a9c6-cfd28e6be23d",
    "deepnote_cell_type": "markdown",
    "id": "VRA_Ec2-yIGA",
    "tags": []
   },
   "outputs": "",
   "source": [
    "## Building your first models\n",
    "\n",
    "In the following, when fitting models, restrict the training to 10 epochs (which is not realistic, but training for more epochs takes time...)\n",
    "\n",
    "**Question #2.** Following the guidelines provided above, implement a linear regression model for the `boston` dataset that would optimize on a least squares objective using Stochastic Gradient Descent and fit your model to the corresponding training data."
   ]
  },
  {
   "cell_type": "code",
   "execution_count": 10,
   "metadata": {
    "cell_id": "00013-2e740cd6-9a8b-4a74-b85f-c7a66127d510",
    "deepnote_cell_type": "code",
    "deepnote_to_be_reexecuted": false,
    "execution_millis": 1,
    "execution_start": 1613342074582,
    "output_cleared": true,
    "source_hash": "b623e53d",
    "tags": []
   },
   "outputs": "",
   "source": []
  },
  {
   "cell_type": "markdown",
   "metadata": {
    "cell_id": "00015-c40decce-b6c2-4f3e-af55-6dc6b2eb29cd",
    "deepnote_cell_type": "markdown",
    "id": "Gqt1yH9Gzfuh",
    "tags": []
   },
   "outputs": "",
   "source": [
    "**Question #3.** Similarly, define a logistic regression model for the `mnist` dataset and print its training accuracy during training."
   ]
  },
  {
   "cell_type": "code",
   "execution_count": 11,
   "metadata": {
    "cell_id": "00014-fa195760-a859-4672-bd64-7911ece3c703",
    "deepnote_cell_type": "code",
    "tags": []
   },
   "outputs": "",
   "source": []
  },
  {
   "cell_type": "markdown",
   "metadata": {
    "cell_id": "00018-cfad4bc9-a1de-43a4-bb43-d74840d9869d",
    "deepnote_cell_type": "markdown",
    "id": "6SGA-CdS0vwW",
    "tags": []
   },
   "outputs": "",
   "source": [
    "**Question #4.** Compare performance (in terms of training accuracy, we will come back to better ways to compare models afterwards) of this logistic regression model with that of a neural network with respectively 1, 2, and 3 hidden layers of 128 neurons each.\n",
    "You will use the `\"relu\"` activation function for hidden layers."
   ]
  },
  {
   "cell_type": "code",
   "execution_count": 12,
   "metadata": {
    "cell_id": "00016-667b31d2-ee2e-4a34-9a88-33c19a38522a",
    "deepnote_cell_type": "code",
    "deepnote_to_be_reexecuted": true,
    "source_hash": "b623e53d",
    "tags": []
   },
   "outputs": "",
   "source": []
  },
  {
   "cell_type": "code",
   "execution_count": 13,
   "metadata": {
    "tags": []
   },
   "outputs": "",
   "source": []
  },
  {
   "cell_type": "code",
   "execution_count": 14,
   "metadata": {
    "tags": []
   },
   "outputs": "",
   "source": []
  },
  {
   "cell_type": "code",
   "execution_count": 15,
   "metadata": {
    "tags": []
   },
   "outputs": "",
   "source": []
  },
  {
   "cell_type": "markdown",
   "metadata": {
    "cell_id": "00020-a024cc10-c7b4-4021-89d9-0ed7447b2b9e",
    "deepnote_cell_type": "markdown",
    "id": "tC9EB0vs363m",
    "tags": []
   },
   "outputs": "",
   "source": [
    "**Question #5.** `keras` models offer a `count_params()` method to get the number of parameters to be learned in the model. Use this facility to get the number of parameters of your 3-hidden-layer model and build a new one-hidden-layer model with an equivalent number of parameters. Compare performance of these two models with similar number of parameters."
   ]
  },
  {
   "cell_type": "code",
   "execution_count": 16,
   "metadata": {
    "cell_id": "00018-d3f7b59d-095f-43d8-903e-2b92eb43619f",
    "deepnote_cell_type": "code",
    "deepnote_to_be_reexecuted": true,
    "source_hash": "b623e53d",
    "tags": []
   },
   "outputs": "",
   "source": []
  },
  {
   "cell_type": "markdown",
   "metadata": {
    "cell_id": "00024-1bdd65e7-515d-4064-882a-54c651abfd3d",
    "deepnote_cell_type": "markdown",
    "id": "iXxTGmUw5ppd",
    "tags": []
   },
   "outputs": "",
   "source": [
    "## A better way to compare models\n",
    "\n",
    "Comparing models based on training accuracy (resp. loss) is a \"great\" way to overfit your model to the training data.\n",
    "A better way to compare models is to use hold out data (aka validation set).\n",
    "\n",
    "To do so, `keras` allows to pass, at `fit` time, a fraction of the training data to be used as validation set. Have a look [there](https://keras.io/api/models/model_training_apis/#fit-method) for more details about how validation samples are selected.\n",
    "\n",
    "**Question #6.** Repeat model comparisons above (relying on validation scores) using 30% of training data as validation set."
   ]
  },
  {
   "cell_type": "code",
   "execution_count": 17,
   "metadata": {
    "tags": []
   },
   "outputs": "",
   "source": []
  },
  {
   "cell_type": "code",
   "execution_count": 18,
   "metadata": {
    "tags": []
   },
   "outputs": "",
   "source": []
  },
  {
   "cell_type": "markdown",
   "metadata": {
    "cell_id": "00026-77f877a8-a870-4358-a389-6435fd380c88",
    "deepnote_cell_type": "markdown",
    "id": "WehjG92yDMcN",
    "tags": []
   },
   "outputs": "",
   "source": [
    "## Optimizers and learning rate\n",
    "\n",
    "**Question #7.** Change the optimizer used for your model. Use an optimizer with momentum and adaptive learning rate."
   ]
  },
  {
   "cell_type": "code",
   "execution_count": 19,
   "metadata": {
    "cell_id": "00021-8889ee1e-48b4-4783-b8e9-fb42783d8d39",
    "deepnote_cell_type": "code",
    "deepnote_to_be_reexecuted": true,
    "source_hash": "b623e53d",
    "tags": []
   },
   "outputs": "",
   "source": []
  },
  {
   "cell_type": "code",
   "execution_count": 20,
   "metadata": {
    "tags": []
   },
   "outputs": "",
   "source": []
  },
  {
   "cell_type": "code",
   "execution_count": 21,
   "metadata": {
    "tags": []
   },
   "outputs": "",
   "source": []
  },
  {
   "cell_type": "markdown",
   "metadata": {
    "cell_id": "00028-47912783-f891-416d-9e9d-05d57a819e7c",
    "deepnote_cell_type": "markdown",
    "id": "ot8jiQHuEZxr",
    "tags": []
   },
   "outputs": "",
   "source": [
    "**Question #8.** Using [the docs](https://keras.io/api/optimizers/), vary the learning rate of your optimizer from a very low value to a much larger one so as to show evidence of:\n",
    "* instability when the learning rate is too large;\n",
    "* slow convergence when the learning rate is too low."
   ]
  },
  {
   "cell_type": "code",
   "execution_count": 22,
   "metadata": {
    "cell_id": "00029-16623cf9-4788-418c-8696-9e61bfe444fb",
    "deepnote_cell_type": "code",
    "deepnote_to_be_reexecuted": true,
    "execution_millis": 38776,
    "id": "pZfwWRDPEa1g",
    "output_cleared": true,
    "source_hash": "b623e53d",
    "tags": []
   },
   "outputs": "",
   "source": []
  },
  {
   "cell_type": "markdown",
   "metadata": {
    "cell_id": "00030-f3edc3e5-83b2-4417-99c0-ce99030af441",
    "deepnote_cell_type": "markdown",
    "id": "tyCzy_PNEqwE",
    "tags": []
   },
   "outputs": "",
   "source": [
    "## Callbacks\n",
    "\n",
    "Callbacks are tools that, in `keras`, allow one to intervene during the training process of a model. \n",
    "Callbacks can be used to take actions (_ie._ save intermediate model, stop optimization if overfitting occurs, _etc._).\n",
    "\n",
    "A first callback one can play with is the one returned by any call to `fit` on a `keras` model.\n",
    "This callback is an object with an `.history` attribute in the form of a Python dictionnary whose keys are the metrics recorded during training. Each of these keys links to an array containing the consecutive values of the considered quantity (one value per epoch).\n",
    "\n",
    "**Question #9.** Plot correct classification rates on both training and validation sets."
   ]
  },
  {
   "cell_type": "code",
   "execution_count": 23,
   "metadata": {
    "cell_id": "00031-a30d0556-649b-490f-8b57-f0ac45eb245a",
    "deepnote_cell_type": "code",
    "deepnote_to_be_reexecuted": true,
    "execution_millis": 67,
    "id": "qA-RPKzaI4-s",
    "output_cleared": true,
    "source_hash": "b623e53d",
    "tags": []
   },
   "outputs": "",
   "source": []
  },
  {
   "cell_type": "code",
   "execution_count": 24,
   "metadata": {
    "tags": []
   },
   "outputs": "",
   "source": []
  },
  {
   "cell_type": "code",
   "execution_count": 25,
   "metadata": {
    "tags": []
   },
   "outputs": "",
   "source": []
  },
  {
   "cell_type": "markdown",
   "metadata": {
    "cell_id": "00032-0b2aa348-08ef-45f0-8984-70863c338c77",
    "deepnote_cell_type": "markdown",
    "id": "l9y1at8qI5cO",
    "tags": []
   },
   "outputs": "",
   "source": [
    "Setting up other callbacks must be explicit. This is done by passing a list of callbacks to the `fit` method.\n",
    "\n",
    "When training a model is long, one can wish to record intermediate models (in case of a crash during training, or just for cases when intermediate models were performing better than the final one).\n",
    "The [`ModelCheckpoint`](https://keras.io/api/callbacks/model_checkpoint/) callback is designed for that purpose.\n",
    "\n",
    "**Question #10.** Set up recording of intermediate models every epoch. Save the models into a dedicated file `model.keras` on your project. Only record models if validation loss is lower than for all previous models."
   ]
  },
  {
   "cell_type": "code",
   "execution_count": 26,
   "metadata": {
    "cell_id": "00027-fc377b2f-fe5b-4d0e-94b4-faa235dae4bc",
    "deepnote_cell_type": "code",
    "deepnote_to_be_reexecuted": true,
    "source_hash": "b623e53d",
    "tags": []
   },
   "outputs": "",
   "source": []
  },
  {
   "cell_type": "markdown",
   "metadata": {
    "cell_id": "00028-e61b8442-9511-4a89-a53c-9590238e0fd2",
    "deepnote_cell_type": "markdown",
    "tags": []
   },
   "outputs": "",
   "source": [
    "Use the code below to check that a model has been saved:"
   ]
  },
  {
   "cell_type": "code",
   "execution_count": 27,
   "metadata": {
    "cell_id": "00034-e0f2a0eb-f551-440e-94fb-2db94f18bde6",
    "deepnote_cell_type": "code",
    "deepnote_to_be_reexecuted": true,
    "id": "m0Zqsvh8Bowh",
    "source_hash": "3b41946",
    "tags": []
   },
   "outputs": "",
   "source": [
    "%ls -alh \"model.keras\""
   ]
  },
  {
   "cell_type": "code",
   "execution_count": 28,
   "metadata": {
    "tags": []
   },
   "outputs": "",
   "source": [
    "model.evaluate(x_test, y_test)"
   ]
  },
  {
   "cell_type": "code",
   "execution_count": 30,
   "metadata": {
    "tags": []
   },
   "outputs": "",
   "source": [
    "new_model = keras.models.load_model(\"model.keras\")\n",
    "new_model.evaluate(x_test, y_test)"
   ]
  },
  {
   "cell_type": "markdown",
   "metadata": {
    "cell_id": "00035-1206a01d-7467-4a3e-bbdc-ee72b70366a2",
    "deepnote_cell_type": "markdown",
    "id": "WFehub4rLrZm",
    "tags": []
   },
   "outputs": "",
   "source": [
    "## Regularization"
   ]
  },
  {
   "cell_type": "markdown",
   "metadata": {
    "cell_id": "00041-10a0c691-e01a-451e-807b-594ba76cc1fa",
    "deepnote_cell_type": "markdown",
    "id": "xbOmJKruNYyS",
    "tags": []
   },
   "outputs": "",
   "source": [
    "**Question #11.** Set up an [`EarlyStopping`](https://keras.io/api/callbacks/early_stopping/) strategy such that training the model will stop in case the validation loss does not decrease for 5 consecutive epochs."
   ]
  },
  {
   "cell_type": "code",
   "execution_count": 31,
   "metadata": {
    "cell_id": "00033-d7da52c7-7fbf-4f7d-940d-821cbe255b64",
    "deepnote_cell_type": "code",
    "deepnote_to_be_reexecuted": true,
    "source_hash": "b623e53d",
    "tags": []
   },
   "outputs": "",
   "source": []
  },
  {
   "cell_type": "code",
   "execution_count": 32,
   "metadata": {
    "tags": []
   },
   "outputs": "",
   "source": []
  }
 ],
 "metadata": {
  "colab": {
   "collapsed_sections": [],
   "name": "MLP.ipynb",
   "provenance": []
  },
  "deepnote": {},
  "deepnote_execution_queue": [],
  "deepnote_notebook_id": "35aa3537-3e05-40fa-86f0-1f7ded16df52",
  "kernelspec": {
   "display_name": "py3.10_ml",
   "language": "python",
   "name": "python3"
  },
  "language_info": {
   "codemirror_mode": {
    "name": "ipython",
    "version": 3
   },
   "file_extension": ".py",
   "mimetype": "text/x-python",
   "name": "python",
   "nbconvert_exporter": "python",
   "pygments_lexer": "ipython3",
   "version": "3.10.13"
  }
 },
 "nbformat": 4,
 "nbformat_minor": 0
}
