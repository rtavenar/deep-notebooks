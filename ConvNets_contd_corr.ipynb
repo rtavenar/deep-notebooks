{
 "cells": [
  {
   "cell_type": "markdown",
   "metadata": {
    "cell_id": "00000-a1adc4b1-4149-4f25-83f8-faabc945a92c",
    "deepnote_cell_type": "markdown",
    "id": "MTDStjAJrLT-"
   },
   "source": [
    "# Images and convolutional networks\n",
    "\n",
    "In this notebook, we will dig deeper into convolutional neural networks for image classification.\n",
    "\n",
    "## Filter visualization\n",
    "\n",
    "We will first try to visualize what these networks learn, _i.e._ what kind of local patterns their convolution blocks typically detect.\n",
    "For this exercise, we will focus on the first layer of these models to keep the maths simple.\n",
    "\n",
    "**Question 1.** Suppose a model has learned a convolution filter (_aka_ kernel) $W$ and a bias $b$.\n",
    "What is (theoretically) the unit-norm image patch $P$ that maximizes the ouput activation for \n",
    "this specific configuration:\n",
    "\n",
    "$$\\max_{P} \\varphi(W \\cdot P + b)) \\text{ such that } \\|P\\| = 1$$\n",
    "\n",
    "where $\\varphi$ is the activation function, for which our only assumption will be that it is an non-decreasing function."
   ]
  },
  {
   "cell_type": "markdown",
   "metadata": {
    "cell_id": "00001-716925eb-afb4-4200-b267-0ceaa591c3ca",
    "deepnote_cell_type": "markdown",
    "tags": []
   },
   "source": [
    "Write your (text) answer here."
   ]
  },
  {
   "cell_type": "markdown",
   "metadata": {
    "cell_id": "00002-432ef628-e939-4322-829b-40a0658c80e2",
    "deepnote_cell_type": "markdown",
    "tags": []
   },
   "source": [
    "**Question 2.** Given your answer above, and the model fit below, visualize, for each filter of the first convolutional \n",
    "layer, the input patch that would correspond to maximum activation.\n",
    "See [`keras` docs](https://keras.io/api/layers/) for more information on how to access weights of \n",
    "a given layer."
   ]
  },
  {
   "cell_type": "code",
   "execution_count": 1,
   "metadata": {
    "cell_id": "00003-21e8f66a-2713-45dc-87fa-c88e1a44caad",
    "colab": {
     "base_uri": "https://localhost:8080/",
     "height": 85
    },
    "deepnote_cell_type": "code",
    "deepnote_to_be_reexecuted": false,
    "execution_millis": 2149,
    "execution_start": 1614771639461,
    "id": "eZHk0xOhqUH6",
    "outputId": "39552619-cae6-44e7-bbc4-acaf800af98f",
    "output_cleared": false,
    "source_hash": "ffa07d02"
   },
   "outputs": [],
   "source": [
    "import keras\n",
    "from keras.datasets import mnist\n",
    "from keras.utils import to_categorical\n",
    "\n",
    "def prepare_mnist():\n",
    "    (x_train, y_train), (x_test, y_test) = mnist.load_data()\n",
    "    x_train = x_train / 255.\n",
    "    x_test = x_test / 255.\n",
    "    x_train = x_train.reshape((-1, 28, 28, 1))\n",
    "    x_test = x_test.reshape((-1, 28, 28, 1))\n",
    "    \n",
    "    y_train = to_categorical(y_train)\n",
    "    y_test = to_categorical(y_test)\n",
    "    return x_train, x_test, y_train, y_test\n",
    "\n",
    "x_train, x_test, y_train, y_test = prepare_mnist()"
   ]
  },
  {
   "cell_type": "code",
   "execution_count": 2,
   "metadata": {
    "cell_id": "00004-8ae61253-9ea8-4e40-bab1-7031326481c7",
    "colab": {
     "base_uri": "https://localhost:8080/",
     "height": 496
    },
    "deepnote_cell_type": "code",
    "deepnote_output_heights": [
     null,
     21.1875
    ],
    "deepnote_to_be_reexecuted": false,
    "execution_millis": 124121,
    "execution_start": 1614771645224,
    "id": "ug40MwR-uD0X",
    "outputId": "0683554f-22d6-4b3d-c5f0-ba80a33b13ef",
    "output_cleared": false,
    "source_hash": "b8f76da2"
   },
   "outputs": [
    {
     "name": "stderr",
     "output_type": "stream",
     "text": [
      "2024-02-02 17:14:05.590492: I metal_plugin/src/device/metal_device.cc:1154] Metal device set to: Apple M2 Max\n",
      "2024-02-02 17:14:05.590515: I metal_plugin/src/device/metal_device.cc:296] systemMemory: 32.00 GB\n",
      "2024-02-02 17:14:05.590524: I metal_plugin/src/device/metal_device.cc:313] maxCacheSize: 10.67 GB\n",
      "2024-02-02 17:14:05.590554: I tensorflow/core/common_runtime/pluggable_device/pluggable_device_factory.cc:306] Could not identify NUMA node of platform GPU ID 0, defaulting to 0. Your kernel may not have been built with NUMA support.\n",
      "2024-02-02 17:14:05.590569: I tensorflow/core/common_runtime/pluggable_device/pluggable_device_factory.cc:272] Created TensorFlow device (/job:localhost/replica:0/task:0/device:GPU:0 with 0 MB memory) -> physical PluggableDevice (device: 0, name: METAL, pci bus id: <undefined>)\n"
     ]
    },
    {
     "name": "stdout",
     "output_type": "stream",
     "text": [
      "Epoch 1/5\n"
     ]
    },
    {
     "name": "stderr",
     "output_type": "stream",
     "text": [
      "2024-02-02 17:14:05.994521: I tensorflow/core/grappler/optimizers/custom_graph_optimizer_registry.cc:117] Plugin optimizer for device_type GPU is enabled.\n"
     ]
    },
    {
     "name": "stdout",
     "output_type": "stream",
     "text": [
      "600/600 [==============================] - 7s 11ms/step - loss: 0.4590 - accuracy: 0.8661 - val_loss: 0.1736 - val_accuracy: 0.9457\n",
      "Epoch 2/5\n",
      "600/600 [==============================] - 6s 11ms/step - loss: 0.1644 - accuracy: 0.9505 - val_loss: 0.1255 - val_accuracy: 0.9637\n",
      "Epoch 3/5\n",
      "600/600 [==============================] - 6s 10ms/step - loss: 0.1280 - accuracy: 0.9606 - val_loss: 0.1025 - val_accuracy: 0.9688\n",
      "Epoch 4/5\n",
      "600/600 [==============================] - 6s 11ms/step - loss: 0.1078 - accuracy: 0.9671 - val_loss: 0.0872 - val_accuracy: 0.9739\n",
      "Epoch 5/5\n",
      "600/600 [==============================] - 6s 10ms/step - loss: 0.0956 - accuracy: 0.9712 - val_loss: 0.0846 - val_accuracy: 0.9744\n"
     ]
    },
    {
     "data": {
      "text/plain": [
       "<keras.src.callbacks.History at 0x2d7829900>"
      ]
     },
     "execution_count": 2,
     "metadata": {},
     "output_type": "execute_result"
    }
   ],
   "source": [
    "from keras.models import Sequential\n",
    "from keras.layers import InputLayer, Conv2D, MaxPooling2D, Flatten, Dense\n",
    "\n",
    "first_conv_layer = Conv2D(filters=5, kernel_size=4, padding='valid', activation=\"relu\")\n",
    "\n",
    "model = Sequential([\n",
    "    InputLayer(input_shape=(28, 28, 1)),\n",
    "    first_conv_layer,\n",
    "    MaxPooling2D(pool_size=2),\n",
    "    Conv2D(filters=10, kernel_size=5, padding='valid', activation=\"relu\"),\n",
    "    MaxPooling2D(pool_size=2),\n",
    "    Flatten(),\n",
    "    Dense(units=10, activation=\"softmax\")\n",
    "])\n",
    "model.compile(optimizer=\"adam\", loss=\"categorical_crossentropy\", metrics=[\"accuracy\"])\n",
    "model.fit(x_train, y_train, epochs=5, batch_size=100, validation_data=(x_test, y_test))"
   ]
  },
  {
   "cell_type": "code",
   "execution_count": 3,
   "metadata": {
    "cell_id": "00005-8b52665c-a14e-49b0-aed8-314f1da3fd1c",
    "deepnote_cell_type": "code",
    "deepnote_to_be_reexecuted": false,
    "execution_millis": 228,
    "execution_start": 1614771788343,
    "output_cleared": true,
    "source_hash": "fd189b5a",
    "tags": []
   },
   "outputs": [
    {
     "data": {
      "image/png": "[encoded data removed]",
      "text/plain": [
       "<Figure size 640x480 with 5 Axes>"
      ]
     },
     "metadata": {},
     "output_type": "display_data"
    }
   ],
   "source": [
    "import matplotlib.pyplot as plt\n",
    "import numpy as np\n",
    "\n",
    "filters = first_conv_layer.weights[0]\n",
    "\n",
    "for filter_id in range(5):\n",
    "  plt.subplot(1, 5, filter_id + 1)\n",
    "  plt.imshow(filters[:, :, 0, filter_id])"
   ]
  },
  {
   "cell_type": "markdown",
   "metadata": {
    "cell_id": "00006-1cf6b102-550a-43fd-a591-dc8f44048c0a",
    "deepnote_cell_type": "markdown",
    "tags": []
   },
   "source": [
    "**Question 3.** Repeat this process for the pre-trained ResNet50 model you used in the previous\n",
    "lab session.\n",
    "Visualize the first 16 filters of the first convolutional layer."
   ]
  },
  {
   "cell_type": "code",
   "execution_count": 4,
   "metadata": {},
   "outputs": [
    {
     "data": {
      "text/plain": [
       "[<keras.src.engine.input_layer.InputLayer at 0x33f381ab0>,\n",
       " <keras.src.layers.reshaping.zero_padding2d.ZeroPadding2D at 0x33ecf09d0>,\n",
       " <keras.src.layers.convolutional.conv2d.Conv2D at 0x2b36f2da0>,\n",
       " <keras.src.layers.normalization.batch_normalization.BatchNormalization at 0x33f399b40>,\n",
       " <keras.src.layers.core.activation.Activation at 0x33f39ad40>,\n",
       " <keras.src.layers.reshaping.zero_padding2d.ZeroPadding2D at 0x33f39ae60>,\n",
       " <keras.src.layers.pooling.max_pooling2d.MaxPooling2D at 0x33f500070>,\n",
       " <keras.src.layers.convolutional.conv2d.Conv2D at 0x33f502440>,\n",
       " <keras.src.layers.normalization.batch_normalization.BatchNormalization at 0x33f5026b0>,\n",
       " <keras.src.layers.core.activation.Activation at 0x33f503eb0>,\n",
       " <keras.src.layers.convolutional.conv2d.Conv2D at 0x33f503820>,\n",
       " <keras.src.layers.normalization.batch_normalization.BatchNormalization at 0x33f5140d0>,\n",
       " <keras.src.layers.core.activation.Activation at 0x33f515de0>,\n",
       " <keras.src.layers.convolutional.conv2d.Conv2D at 0x33f500cd0>,\n",
       " <keras.src.layers.convolutional.conv2d.Conv2D at 0x33f5162f0>,\n",
       " <keras.src.layers.normalization.batch_normalization.BatchNormalization at 0x33f500e50>,\n",
       " <keras.src.layers.normalization.batch_normalization.BatchNormalization at 0x33f5146a0>,\n",
       " <keras.src.layers.merging.add.Add at 0x33f5172e0>,\n",
       " <keras.src.layers.core.activation.Activation at 0x33f516a70>,\n",
       " <keras.src.layers.convolutional.conv2d.Conv2D at 0x33f5141c0>,\n",
       " <keras.src.layers.normalization.batch_normalization.BatchNormalization at 0x33f500af0>,\n",
       " <keras.src.layers.core.activation.Activation at 0x33f501ea0>,\n",
       " <keras.src.layers.convolutional.conv2d.Conv2D at 0x33f503190>,\n",
       " <keras.src.layers.normalization.batch_normalization.BatchNormalization at 0x33f5036d0>,\n",
       " <keras.src.layers.core.activation.Activation at 0x33f5173d0>,\n",
       " <keras.src.layers.convolutional.conv2d.Conv2D at 0x33ecf1780>,\n",
       " <keras.src.layers.normalization.batch_normalization.BatchNormalization at 0x33f5174c0>,\n",
       " <keras.src.layers.merging.add.Add at 0x33f5154e0>,\n",
       " <keras.src.layers.core.activation.Activation at 0x33ecf26e0>,\n",
       " <keras.src.layers.convolutional.conv2d.Conv2D at 0x33ecf2dd0>,\n",
       " <keras.src.layers.normalization.batch_normalization.BatchNormalization at 0x33ecf1cf0>,\n",
       " <keras.src.layers.core.activation.Activation at 0x33ecf3070>,\n",
       " <keras.src.layers.convolutional.conv2d.Conv2D at 0x33f380430>,\n",
       " <keras.src.layers.normalization.batch_normalization.BatchNormalization at 0x33f3832e0>,\n",
       " <keras.src.layers.core.activation.Activation at 0x33f380be0>,\n",
       " <keras.src.layers.convolutional.conv2d.Conv2D at 0x33f383400>,\n",
       " <keras.src.layers.normalization.batch_normalization.BatchNormalization at 0x33f383d30>,\n",
       " <keras.src.layers.merging.add.Add at 0x33f3802b0>,\n",
       " <keras.src.layers.core.activation.Activation at 0x33f327700>,\n",
       " <keras.src.layers.convolutional.conv2d.Conv2D at 0x33f325ab0>,\n",
       " <keras.src.layers.normalization.batch_normalization.BatchNormalization at 0x33f327310>,\n",
       " <keras.src.layers.core.activation.Activation at 0x33f3254b0>,\n",
       " <keras.src.layers.convolutional.conv2d.Conv2D at 0x33f35f1f0>,\n",
       " <keras.src.layers.normalization.batch_normalization.BatchNormalization at 0x33f35d180>,\n",
       " <keras.src.layers.core.activation.Activation at 0x33f35e050>,\n",
       " <keras.src.layers.convolutional.conv2d.Conv2D at 0x33f3265c0>,\n",
       " <keras.src.layers.convolutional.conv2d.Conv2D at 0x33f35ec20>,\n",
       " <keras.src.layers.normalization.batch_normalization.BatchNormalization at 0x33f326b90>,\n",
       " <keras.src.layers.normalization.batch_normalization.BatchNormalization at 0x33f398250>,\n",
       " <keras.src.layers.merging.add.Add at 0x33f35c910>,\n",
       " <keras.src.layers.core.activation.Activation at 0x33ebd3eb0>,\n",
       " <keras.src.layers.convolutional.conv2d.Conv2D at 0x33ebd34f0>,\n",
       " <keras.src.layers.normalization.batch_normalization.BatchNormalization at 0x33ebd17b0>,\n",
       " <keras.src.layers.core.activation.Activation at 0x33ebd33a0>,\n",
       " <keras.src.layers.convolutional.conv2d.Conv2D at 0x33ebd01f0>,\n",
       " <keras.src.layers.normalization.batch_normalization.BatchNormalization at 0x33eb93130>,\n",
       " <keras.src.layers.core.activation.Activation at 0x33eb93640>,\n",
       " <keras.src.layers.convolutional.conv2d.Conv2D at 0x33ebd1240>,\n",
       " <keras.src.layers.normalization.batch_normalization.BatchNormalization at 0x33f325e10>,\n",
       " <keras.src.layers.merging.add.Add at 0x33f324c40>,\n",
       " <keras.src.layers.core.activation.Activation at 0x33f3801c0>,\n",
       " <keras.src.layers.convolutional.conv2d.Conv2D at 0x32c04bc40>,\n",
       " <keras.src.layers.normalization.batch_normalization.BatchNormalization at 0x33ecf2800>,\n",
       " <keras.src.layers.core.activation.Activation at 0x33f5032e0>,\n",
       " <keras.src.layers.convolutional.conv2d.Conv2D at 0x32c061420>,\n",
       " <keras.src.layers.normalization.batch_normalization.BatchNormalization at 0x32c0610f0>,\n",
       " <keras.src.layers.core.activation.Activation at 0x2d78290c0>,\n",
       " <keras.src.layers.convolutional.conv2d.Conv2D at 0x2d7829360>,\n",
       " <keras.src.layers.normalization.batch_normalization.BatchNormalization at 0x2d78289d0>,\n",
       " <keras.src.layers.merging.add.Add at 0x2d7829690>,\n",
       " <keras.src.layers.core.activation.Activation at 0x2b36f3f70>,\n",
       " <keras.src.layers.convolutional.conv2d.Conv2D at 0x33f52c190>,\n",
       " <keras.src.layers.normalization.batch_normalization.BatchNormalization at 0x33f52caf0>,\n",
       " <keras.src.layers.core.activation.Activation at 0x33f52e200>,\n",
       " <keras.src.layers.convolutional.conv2d.Conv2D at 0x33f52ea40>,\n",
       " <keras.src.layers.normalization.batch_normalization.BatchNormalization at 0x33f52c820>,\n",
       " <keras.src.layers.core.activation.Activation at 0x33f52fb50>,\n",
       " <keras.src.layers.convolutional.conv2d.Conv2D at 0x2d7874850>,\n",
       " <keras.src.layers.normalization.batch_normalization.BatchNormalization at 0x2d7874a30>,\n",
       " <keras.src.layers.merging.add.Add at 0x33f52e500>,\n",
       " <keras.src.layers.core.activation.Activation at 0x2d7876740>,\n",
       " <keras.src.layers.convolutional.conv2d.Conv2D at 0x2d7877a00>,\n",
       " <keras.src.layers.normalization.batch_normalization.BatchNormalization at 0x2b35c47c0>,\n",
       " <keras.src.layers.core.activation.Activation at 0x2b35c64d0>,\n",
       " <keras.src.layers.convolutional.conv2d.Conv2D at 0x2b35c6950>,\n",
       " <keras.src.layers.normalization.batch_normalization.BatchNormalization at 0x2b35c70d0>,\n",
       " <keras.src.layers.core.activation.Activation at 0x2b35c5a50>,\n",
       " <keras.src.layers.convolutional.conv2d.Conv2D at 0x2d7877460>,\n",
       " <keras.src.layers.convolutional.conv2d.Conv2D at 0x2b35c6c50>,\n",
       " <keras.src.layers.normalization.batch_normalization.BatchNormalization at 0x2d78775b0>,\n",
       " <keras.src.layers.normalization.batch_normalization.BatchNormalization at 0x2b35c7970>,\n",
       " <keras.src.layers.merging.add.Add at 0x33f52dbd0>,\n",
       " <keras.src.layers.core.activation.Activation at 0x2b36f3700>,\n",
       " <keras.src.layers.convolutional.conv2d.Conv2D at 0x2b35c66e0>,\n",
       " <keras.src.layers.normalization.batch_normalization.BatchNormalization at 0x33f324070>,\n",
       " <keras.src.layers.core.activation.Activation at 0x32c04beb0>,\n",
       " <keras.src.layers.convolutional.conv2d.Conv2D at 0x33f306470>,\n",
       " <keras.src.layers.normalization.batch_normalization.BatchNormalization at 0x33f3066b0>,\n",
       " <keras.src.layers.core.activation.Activation at 0x33f3076d0>,\n",
       " <keras.src.layers.convolutional.conv2d.Conv2D at 0x33ecc44f0>,\n",
       " <keras.src.layers.normalization.batch_normalization.BatchNormalization at 0x33ecc4d00>,\n",
       " <keras.src.layers.merging.add.Add at 0x33f305f60>,\n",
       " <keras.src.layers.core.activation.Activation at 0x33ecc63e0>,\n",
       " <keras.src.layers.convolutional.conv2d.Conv2D at 0x33ecc7400>,\n",
       " <keras.src.layers.normalization.batch_normalization.BatchNormalization at 0x33ecc78b0>,\n",
       " <keras.src.layers.core.activation.Activation at 0x33ecc7070>,\n",
       " <keras.src.layers.convolutional.conv2d.Conv2D at 0x33ecd4700>,\n",
       " <keras.src.layers.normalization.batch_normalization.BatchNormalization at 0x33ecd4a90>,\n",
       " <keras.src.layers.core.activation.Activation at 0x33ecd6890>,\n",
       " <keras.src.layers.convolutional.conv2d.Conv2D at 0x33ecd6da0>,\n",
       " <keras.src.layers.normalization.batch_normalization.BatchNormalization at 0x33ecd7520>,\n",
       " <keras.src.layers.merging.add.Add at 0x33ecd7f70>,\n",
       " <keras.src.layers.core.activation.Activation at 0x33ecf8f40>,\n",
       " <keras.src.layers.convolutional.conv2d.Conv2D at 0x33ecf9a50>,\n",
       " <keras.src.layers.normalization.batch_normalization.BatchNormalization at 0x33ecf9f00>,\n",
       " <keras.src.layers.core.activation.Activation at 0x33ecfb2e0>,\n",
       " <keras.src.layers.convolutional.conv2d.Conv2D at 0x33ecfb7f0>,\n",
       " <keras.src.layers.normalization.batch_normalization.BatchNormalization at 0x33ecfbfd0>,\n",
       " <keras.src.layers.core.activation.Activation at 0x33ecfb520>,\n",
       " <keras.src.layers.convolutional.conv2d.Conv2D at 0x33ecac250>,\n",
       " <keras.src.layers.normalization.batch_normalization.BatchNormalization at 0x33ecad990>,\n",
       " <keras.src.layers.merging.add.Add at 0x33ecae920>,\n",
       " <keras.src.layers.core.activation.Activation at 0x33ecaf460>,\n",
       " <keras.src.layers.convolutional.conv2d.Conv2D at 0x33ecaf610>,\n",
       " <keras.src.layers.normalization.batch_normalization.BatchNormalization at 0x33ecae290>,\n",
       " <keras.src.layers.core.activation.Activation at 0x33ecc5bd0>,\n",
       " <keras.src.layers.convolutional.conv2d.Conv2D at 0x33ecc6170>,\n",
       " <keras.src.layers.normalization.batch_normalization.BatchNormalization at 0x33f307ca0>,\n",
       " <keras.src.layers.core.activation.Activation at 0x33ecd4760>,\n",
       " <keras.src.layers.convolutional.conv2d.Conv2D at 0x33f3044c0>,\n",
       " <keras.src.layers.normalization.batch_normalization.BatchNormalization at 0x33f307c10>,\n",
       " <keras.src.layers.merging.add.Add at 0x33ecacca0>,\n",
       " <keras.src.layers.core.activation.Activation at 0x33ec84640>,\n",
       " <keras.src.layers.convolutional.conv2d.Conv2D at 0x33ec84fd0>,\n",
       " <keras.src.layers.normalization.batch_normalization.BatchNormalization at 0x33ec84400>,\n",
       " <keras.src.layers.core.activation.Activation at 0x33ec84370>,\n",
       " <keras.src.layers.convolutional.conv2d.Conv2D at 0x33eca54b0>,\n",
       " <keras.src.layers.normalization.batch_normalization.BatchNormalization at 0x33eca56f0>,\n",
       " <keras.src.layers.core.activation.Activation at 0x33eca5600>,\n",
       " <keras.src.layers.convolutional.conv2d.Conv2D at 0x33eca6350>,\n",
       " <keras.src.layers.normalization.batch_normalization.BatchNormalization at 0x33eca6bc0>,\n",
       " <keras.src.layers.merging.add.Add at 0x33eca4fd0>,\n",
       " <keras.src.layers.core.activation.Activation at 0x33ec79420>,\n",
       " <keras.src.layers.convolutional.conv2d.Conv2D at 0x33ec7b460>,\n",
       " <keras.src.layers.normalization.batch_normalization.BatchNormalization at 0x33ec7b6d0>,\n",
       " <keras.src.layers.core.activation.Activation at 0x33ec79120>,\n",
       " <keras.src.layers.convolutional.conv2d.Conv2D at 0x33ec59600>,\n",
       " <keras.src.layers.normalization.batch_normalization.BatchNormalization at 0x33ec5a230>,\n",
       " <keras.src.layers.core.activation.Activation at 0x33ec5b520>,\n",
       " <keras.src.layers.convolutional.conv2d.Conv2D at 0x33ec7a140>,\n",
       " <keras.src.layers.convolutional.conv2d.Conv2D at 0x33ec5ba30>,\n",
       " <keras.src.layers.normalization.batch_normalization.BatchNormalization at 0x33ec7a290>,\n",
       " <keras.src.layers.normalization.batch_normalization.BatchNormalization at 0x33ec59b40>,\n",
       " <keras.src.layers.merging.add.Add at 0x33ec5b640>,\n",
       " <keras.src.layers.core.activation.Activation at 0x33ec01bd0>,\n",
       " <keras.src.layers.convolutional.conv2d.Conv2D at 0x33ec01030>,\n",
       " <keras.src.layers.normalization.batch_normalization.BatchNormalization at 0x33ec02d70>,\n",
       " <keras.src.layers.core.activation.Activation at 0x33ec03fd0>,\n",
       " <keras.src.layers.convolutional.conv2d.Conv2D at 0x33ec02080>,\n",
       " <keras.src.layers.normalization.batch_normalization.BatchNormalization at 0x33ec7aa10>,\n",
       " <keras.src.layers.core.activation.Activation at 0x33ec78eb0>,\n",
       " <keras.src.layers.convolutional.conv2d.Conv2D at 0x33eca49d0>,\n",
       " <keras.src.layers.normalization.batch_normalization.BatchNormalization at 0x33ecfa980>,\n",
       " <keras.src.layers.merging.add.Add at 0x33ecc4130>,\n",
       " <keras.src.layers.core.activation.Activation at 0x33f534ca0>,\n",
       " <keras.src.layers.convolutional.conv2d.Conv2D at 0x33f535db0>,\n",
       " <keras.src.layers.normalization.batch_normalization.BatchNormalization at 0x33f536260>,\n",
       " <keras.src.layers.core.activation.Activation at 0x33ec03880>,\n",
       " <keras.src.layers.convolutional.conv2d.Conv2D at 0x33f5358d0>,\n",
       " <keras.src.layers.normalization.batch_normalization.BatchNormalization at 0x33f5357e0>,\n",
       " <keras.src.layers.core.activation.Activation at 0x33f537700>,\n",
       " <keras.src.layers.convolutional.conv2d.Conv2D at 0x33f5376d0>,\n",
       " <keras.src.layers.normalization.batch_normalization.BatchNormalization at 0x33f5376a0>,\n",
       " <keras.src.layers.merging.add.Add at 0x33f535000>,\n",
       " <keras.src.layers.core.activation.Activation at 0x33f53a830>,\n",
       " <keras.src.layers.pooling.global_average_pooling2d.GlobalAveragePooling2D at 0x33ec013c0>,\n",
       " <keras.src.layers.core.dense.Dense at 0x33f53bbb0>]"
      ]
     },
     "execution_count": 4,
     "metadata": {},
     "output_type": "execute_result"
    }
   ],
   "source": [
    "from keras.applications.resnet50 import ResNet50\n",
    "\n",
    "model_resnet = ResNet50(weights='imagenet')\n",
    "\n",
    "model_resnet.layers"
   ]
  },
  {
   "cell_type": "code",
   "execution_count": 5,
   "metadata": {
    "cell_id": "00007-7c42c15f-ed4e-475e-8ee7-9e4b0c284bfc",
    "deepnote_cell_type": "code",
    "tags": []
   },
   "outputs": [
    {
     "data": {
      "image/png": "[encoded data removed]",
      "text/plain": [
       "<Figure size 640x480 with 16 Axes>"
      ]
     },
     "metadata": {},
     "output_type": "display_data"
    }
   ],
   "source": [
    "filters = model_resnet.layers[2].weights[0]\n",
    "for filter_id in range(16):\n",
    "  plt.subplot(4, 4, filter_id + 1)\n",
    "  plt.imshow(filters[:, :, 0, filter_id])"
   ]
  },
  {
   "cell_type": "markdown",
   "metadata": {
    "cell_id": "00008-30462a62-6e73-4e35-b07f-a45ae67d1b04",
    "deepnote_cell_type": "markdown",
    "tags": []
   },
   "source": [
    "# Adversarial examples\n",
    "\n",
    "In this section, we will illustrate the concept of adversarial examples and implement a simple \n",
    "[fast-sign-gradient method](https://arxiv.org/abs/1412.6572) to generate such examples.\n",
    "The idea of this method is the following:\n",
    "\n",
    "Suppose we denote by $\\mathcal{L}(x, y; \\theta)$ the loss function (typically categorical cross-entropy) evaluated for\n",
    "the current parameters $\\theta$ of a model on a single example $(x, y)$.\n",
    "If we compute the gradient of $\\mathcal{L}$ **with respect to $x$**, it will give us the direction of \n",
    "steepest increase \n",
    "of $\\mathcal{L}$, hence the the direction that is most likely to increase $\\mathcal{L}$ if we perform a small modification on $x$ (not on model parameters, as we usually do when our goal is to fit a model).\n",
    "Hence if we push $x$ (which is an image here) in that direction, we will perform a gradient ascent on $x$, \n",
    "which means we will change its pixel content in order to fool the \n",
    "classifier.\n",
    "If we are able to fool the classifier even with small changes, we have successfully generated an adversarial example: an \n",
    "example that is generated on purpose to look easy to classify for a human eye, but still fool the classifier.\n",
    "\n",
    "More precisely the update rule for the fast-sign-gradient method is:\n",
    "\n",
    "$$x^{(t+1)} = x^{(t)}+ \\eta \\, \\text{sign}(\\nabla_x\\mathcal{L}(x^{(t)}, y; \\theta))$$\n",
    "\n",
    "where $\\eta$ is a gradient step (or learning rate).\n",
    "\n",
    "Note that an alternative way to use this fast-sign-gradient method would be to perform a gradient descent (not ascent, this time)\n",
    "on the quantity $\\mathcal{L}(x, y^\\prime; \\theta)$ where $y^\\prime$ is a target class that we want the classifier to predict."
   ]
  },
  {
   "cell_type": "code",
   "execution_count": 6,
   "metadata": {
    "cell_id": "00009-6e6d0711-b1a6-449e-adc0-de08e606fcc5",
    "deepnote_cell_type": "code",
    "deepnote_output_heights": [
     250
    ],
    "deepnote_to_be_reexecuted": false,
    "execution_millis": 206,
    "execution_start": 1614771791687,
    "source_hash": "3d7fee32",
    "tags": []
   },
   "outputs": [
    {
     "data": {
      "image/png": "[encoded data removed]",
      "text/plain": [
       "<Figure size 640x480 with 1 Axes>"
      ]
     },
     "metadata": {},
     "output_type": "display_data"
    }
   ],
   "source": [
    "img = x_test[0]\n",
    "\n",
    "plt.imshow(img, cmap='gray')\n",
    "label = y_test[0]"
   ]
  },
  {
   "cell_type": "markdown",
   "metadata": {
    "cell_id": "00010-5fdaa36f-d5ac-45fc-85cd-221129dc7cb8",
    "deepnote_cell_type": "markdown",
    "tags": []
   },
   "source": [
    "**Question 3.** For the first sample in the MNIST test set (plotted just above ⬆️), what is the probability assigned by\n",
    "the simple model (made of 2 convolutional layers) defined above to **the correct class**?"
   ]
  },
  {
   "cell_type": "code",
   "execution_count": 7,
   "metadata": {
    "cell_id": "00011-5c8a881e-0bbf-4cf8-8f51-83d8c7cb339c",
    "deepnote_cell_type": "code",
    "deepnote_to_be_reexecuted": false,
    "execution_millis": 4,
    "execution_start": 1614771794790,
    "output_cleared": false,
    "source_hash": "85f5147d",
    "tags": []
   },
   "outputs": [
    {
     "name": "stdout",
     "output_type": "stream",
     "text": [
      "0.9999858\n"
     ]
    }
   ],
   "source": [
    "def predict_single_image(model, x):\n",
    "    return model(x[None]).numpy()[0]\n",
    "\n",
    "preds = predict_single_image(model, img)\n",
    "print(preds[7])"
   ]
  },
  {
   "cell_type": "markdown",
   "metadata": {
    "cell_id": "00012-52869203-fdc6-4707-9250-ec8315960ec6",
    "deepnote_cell_type": "markdown",
    "tags": []
   },
   "source": [
    "**Question 4.** The code below adds white noise to the image. See how this impacts (or not) the prediction quality of \n",
    "the model on this sample. You can play with the level of white noise to better visualize the robustness of the model to this \n",
    "kind of content modification."
   ]
  },
  {
   "cell_type": "code",
   "execution_count": 8,
   "metadata": {
    "cell_id": "00013-e188da28-1400-46b9-a0dc-7a3903734287",
    "deepnote_cell_type": "code",
    "deepnote_output_heights": [
     21.199996948242188,
     250
    ],
    "deepnote_to_be_reexecuted": false,
    "execution_millis": 116,
    "execution_start": 1614771797978,
    "output_cleared": false,
    "source_hash": "7a8c18f3",
    "tags": []
   },
   "outputs": [
    {
     "name": "stdout",
     "output_type": "stream",
     "text": [
      "0.999846\n"
     ]
    },
    {
     "data": {
      "image/png": "[encoded data removed]",
      "text/plain": [
       "<Figure size 640x480 with 1 Axes>"
      ]
     },
     "metadata": {},
     "output_type": "display_data"
    }
   ],
   "source": [
    "noisy_image = img + .1 * np.random.randn(*img.shape)\n",
    "plt.imshow(noisy_image, cmap='gray')\n",
    "\n",
    "preds = predict_single_image(model, noisy_image)\n",
    "print(preds[7])"
   ]
  },
  {
   "cell_type": "markdown",
   "metadata": {
    "cell_id": "00014-8ebccdf8-ada4-49dd-8b54-bce9a0b6573d",
    "deepnote_cell_type": "markdown",
    "tags": []
   },
   "source": [
    "**Question 5.** The function `sign_grad` below computes the quantity $\\text{sign}(\\nabla_x\\mathcal{L}(x^{(t)}, y; \\theta))$.\n",
    "Using calls to this function, iteratively change the content of the non-noisy image to generate an adversarial example.\n",
    "You can use a gradient step of .1 and 5 iterations should be sufficient.\n"
   ]
  },
  {
   "cell_type": "code",
   "execution_count": 9,
   "metadata": {
    "cell_id": "00015-0ce89e7d-6f58-40b9-b51f-43918dbf4f9a",
    "deepnote_cell_type": "code",
    "deepnote_to_be_reexecuted": false,
    "execution_millis": 1,
    "execution_start": 1614771800982,
    "output_cleared": true,
    "source_hash": "7c661f81",
    "tags": []
   },
   "outputs": [
    {
     "name": "stdout",
     "output_type": "stream",
     "text": [
      "0.8709388 7\n",
      "6.312311e-05 3\n",
      "5.860545e-10 3\n",
      "1.0469994e-14 3\n",
      "8.236721e-19 3\n"
     ]
    },
    {
     "data": {
      "image/png": "[encoded data removed]",
      "text/plain": [
       "<Figure size 640x480 with 5 Axes>"
      ]
     },
     "metadata": {},
     "output_type": "display_data"
    }
   ],
   "source": [
    "import tensorflow as tf\n",
    "from keras.losses import CategoricalCrossentropy\n",
    "\n",
    "def sign_grad(model, image, label):\n",
    "    image = tf.cast(image, tf.float32)\n",
    "\n",
    "    image_batch = image[None]\n",
    "    label_batch = label[None]\n",
    "    \n",
    "    with tf.GradientTape() as tape:\n",
    "        tape.watch(image_batch)\n",
    "        prediction = model(image_batch)\n",
    "        loss = CategoricalCrossentropy()(label_batch, prediction)\n",
    "    \n",
    "    gradient = tape.gradient(loss, image_batch)\n",
    "    \n",
    "    signed_grad = tf.sign(gradient)\n",
    "    \n",
    "    return signed_grad[0]\n",
    "\n",
    "\n",
    "num_iter = 5\n",
    "eta = .1\n",
    "\n",
    "adv_img = img.copy()\n",
    "for iter in range(num_iter):\n",
    "    adv_img = adv_img + eta * sign_grad(model, adv_img, label)\n",
    "    plt.subplot(1, 5, iter + 1)\n",
    "    plt.imshow(adv_img[:, :, 0])\n",
    "    preds = predict_single_image(model, adv_img)\n",
    "    print(preds[7], np.argmax(preds))"
   ]
  },
  {
   "cell_type": "code",
   "execution_count": 10,
   "metadata": {},
   "outputs": [
    {
     "name": "stdout",
     "output_type": "stream",
     "text": [
      "8.236721e-19\n"
     ]
    }
   ],
   "source": [
    "preds = predict_single_image(model, adv_img)\n",
    "print(preds[7])"
   ]
  },
  {
   "cell_type": "markdown",
   "metadata": {
    "cell_id": "00016-3d4aa88d-b20c-4e2b-a03a-71537a64af1b",
    "deepnote_cell_type": "markdown",
    "tags": []
   },
   "source": [
    "**Question 6.** Adapt your code above to push the model towards classifying the image into a 2."
   ]
  },
  {
   "cell_type": "code",
   "execution_count": 11,
   "metadata": {
    "cell_id": "00017-1222c7f3-8b52-44e1-9560-07f295415c39",
    "deepnote_cell_type": "code",
    "deepnote_to_be_reexecuted": false,
    "execution_millis": 93,
    "execution_start": 1614771991443,
    "output_cleared": true,
    "source_hash": null,
    "tags": []
   },
   "outputs": [
    {
     "name": "stdout",
     "output_type": "stream",
     "text": [
      "0.9350708 7\n",
      "0.0024720954 2\n",
      "0.00066818134 5\n",
      "1.0821954e-05 6\n",
      "5.924735e-08 6\n"
     ]
    },
    {
     "data": {
      "image/png": "[encoded data removed]",
      "text/plain": [
       "<Figure size 640x480 with 5 Axes>"
      ]
     },
     "metadata": {},
     "output_type": "display_data"
    }
   ],
   "source": [
    "from keras.utils import to_categorical\n",
    "\n",
    "img = x_test[0]\n",
    "target_label = to_categorical(6, num_classes=10)\n",
    "\n",
    "num_iter = 5\n",
    "eta = .1\n",
    "\n",
    "adv_img = img.copy()\n",
    "for iter in range(num_iter):\n",
    "    adv_img = adv_img - eta * sign_grad(model, adv_img, target_label)\n",
    "    plt.subplot(1, 5, iter + 1)\n",
    "    plt.imshow(adv_img[:, :, 0])\n",
    "    preds = predict_single_image(model, adv_img)\n",
    "    print(preds[7], np.argmax(preds))"
   ]
  }
 ],
 "metadata": {
  "accelerator": "GPU",
  "colab": {
   "collapsed_sections": [],
   "name": "Images & ConvNets.ipynb",
   "provenance": []
  },
  "deepnote": {},
  "deepnote_execution_queue": [],
  "deepnote_notebook_id": "303bba85-4d53-440b-942d-6eadc6d91c15",
  "kernelspec": {
   "display_name": "Python 3",
   "name": "python3"
  },
  "language_info": {
   "codemirror_mode": {
    "name": "ipython",
    "version": 3
   },
   "file_extension": ".py",
   "mimetype": "text/x-python",
   "name": "python",
   "nbconvert_exporter": "python",
   "pygments_lexer": "ipython3",
   "version": "3.10.13"
  }
 },
 "nbformat": 4,
 "nbformat_minor": 0
}
