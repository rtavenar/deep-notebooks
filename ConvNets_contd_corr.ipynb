{
 "cells": [
  {
   "cell_type": "markdown",
   "metadata": {
    "cell_id": "00000-a1adc4b1-4149-4f25-83f8-faabc945a92c",
    "deepnote_cell_type": "markdown",
    "id": "MTDStjAJrLT-"
   },
   "source": [
    "# Images and convolutional networks\n",
    "\n",
    "In this notebook, we will dig deeper into convolutional neural networks for image classification.\n",
    "\n",
    "## Filter visualization\n",
    "\n",
    "We will first try to visualize what these networks learn, _i.e._ what kind of local patterns their convolution blocks typically detect.\n",
    "For this exercise, we will focus on the first layer of these models to keep the maths simple.\n",
    "\n",
    "**Question 1.** Suppose a model has learned a convolution filter (_aka_ kernel) $W$ and a bias $b$.\n",
    "What is (theoretically) the unit-norm image patch $P$ that maximizes the ouput activation for \n",
    "this specific configuration:\n",
    "\n",
    "$$\\max_{P} \\varphi(W \\cdot P + b)) \\text{ such that } \\|P\\| = 1$$\n",
    "\n",
    "where $\\varphi$ is the activation function, for which our only assumption will be that it is an non-decreasing function."
   ]
  },
  {
   "cell_type": "markdown",
   "metadata": {
    "cell_id": "00001-716925eb-afb4-4200-b267-0ceaa591c3ca",
    "deepnote_cell_type": "markdown",
    "tags": []
   },
   "source": [
    "Write your (text) answer here."
   ]
  },
  {
   "cell_type": "markdown",
   "metadata": {
    "cell_id": "00002-432ef628-e939-4322-829b-40a0658c80e2",
    "deepnote_cell_type": "markdown",
    "tags": []
   },
   "source": [
    "**Question 2.** Given your answer above, and the model fit below, visualize, for each filter of the first convolutional \n",
    "layer, the input patch that would correspond to maximum activation.\n",
    "See [`keras` docs](https://keras.io/api/layers/) for more information on how to access weights of \n",
    "a given layer."
   ]
  },
  {
   "cell_type": "code",
   "execution_count": 1,
   "metadata": {
    "cell_id": "00003-21e8f66a-2713-45dc-87fa-c88e1a44caad",
    "colab": {
     "base_uri": "https://localhost:8080/",
     "height": 85
    },
    "deepnote_cell_type": "code",
    "deepnote_to_be_reexecuted": false,
    "execution_millis": 2149,
    "execution_start": 1614771639461,
    "id": "eZHk0xOhqUH6",
    "outputId": "39552619-cae6-44e7-bbc4-acaf800af98f",
    "output_cleared": false,
    "source_hash": "ffa07d02",
    "tags": [
     "keep"
    ]
   },
   "outputs": [],
   "source": [
    "import keras\n",
    "from keras.datasets import mnist\n",
    "from keras.utils import to_categorical\n",
    "\n",
    "def prepare_mnist():\n",
    "    (x_train, y_train), (x_test, y_test) = mnist.load_data()\n",
    "    x_train = x_train / 255.\n",
    "    x_test = x_test / 255.\n",
    "    x_train = x_train.reshape((-1, 28, 28, 1))\n",
    "    x_test = x_test.reshape((-1, 28, 28, 1))\n",
    "    \n",
    "    y_train = to_categorical(y_train)\n",
    "    y_test = to_categorical(y_test)\n",
    "    return x_train, x_test, y_train, y_test\n",
    "\n",
    "x_train, x_test, y_train, y_test = prepare_mnist()"
   ]
  },
  {
   "cell_type": "code",
   "execution_count": 2,
   "metadata": {
    "cell_id": "00004-8ae61253-9ea8-4e40-bab1-7031326481c7",
    "colab": {
     "base_uri": "https://localhost:8080/",
     "height": 496
    },
    "deepnote_cell_type": "code",
    "deepnote_output_heights": [
     null,
     21.1875
    ],
    "deepnote_to_be_reexecuted": false,
    "execution_millis": 124121,
    "execution_start": 1614771645224,
    "id": "ug40MwR-uD0X",
    "outputId": "0683554f-22d6-4b3d-c5f0-ba80a33b13ef",
    "output_cleared": false,
    "source_hash": "b8f76da2",
    "tags": [
     "keep"
    ]
   },
   "outputs": [
    {
     "name": "stderr",
     "output_type": "stream",
     "text": [
      "2024-02-03 16:48:53.650307: I metal_plugin/src/device/metal_device.cc:1154] Metal device set to: Apple M2 Max\n",
      "2024-02-03 16:48:53.650329: I metal_plugin/src/device/metal_device.cc:296] systemMemory: 32.00 GB\n",
      "2024-02-03 16:48:53.650335: I metal_plugin/src/device/metal_device.cc:313] maxCacheSize: 10.67 GB\n",
      "2024-02-03 16:48:53.650366: I tensorflow/core/common_runtime/pluggable_device/pluggable_device_factory.cc:306] Could not identify NUMA node of platform GPU ID 0, defaulting to 0. Your kernel may not have been built with NUMA support.\n",
      "2024-02-03 16:48:53.650382: I tensorflow/core/common_runtime/pluggable_device/pluggable_device_factory.cc:272] Created TensorFlow device (/job:localhost/replica:0/task:0/device:GPU:0 with 0 MB memory) -> physical PluggableDevice (device: 0, name: METAL, pci bus id: <undefined>)\n"
     ]
    },
    {
     "name": "stdout",
     "output_type": "stream",
     "text": [
      "Epoch 1/5\n"
     ]
    },
    {
     "name": "stderr",
     "output_type": "stream",
     "text": [
      "2024-02-03 16:48:54.171634: I tensorflow/core/grappler/optimizers/custom_graph_optimizer_registry.cc:117] Plugin optimizer for device_type GPU is enabled.\n"
     ]
    },
    {
     "name": "stdout",
     "output_type": "stream",
     "text": [
      "600/600 [==============================] - 7s 10ms/step - loss: 0.5140 - accuracy: 0.8505 - val_loss: 0.1678 - val_accuracy: 0.9500\n",
      "Epoch 2/5\n",
      "600/600 [==============================] - 6s 10ms/step - loss: 0.1379 - accuracy: 0.9595 - val_loss: 0.0997 - val_accuracy: 0.9689\n",
      "Epoch 3/5\n",
      "600/600 [==============================] - 6s 10ms/step - loss: 0.1000 - accuracy: 0.9697 - val_loss: 0.0817 - val_accuracy: 0.9748\n",
      "Epoch 4/5\n",
      "600/600 [==============================] - 6s 10ms/step - loss: 0.0852 - accuracy: 0.9747 - val_loss: 0.0745 - val_accuracy: 0.9754\n",
      "Epoch 5/5\n",
      "600/600 [==============================] - 6s 10ms/step - loss: 0.0756 - accuracy: 0.9775 - val_loss: 0.0733 - val_accuracy: 0.9776\n"
     ]
    },
    {
     "data": {
      "text/plain": [
       "<keras.src.callbacks.History at 0x303b29900>"
      ]
     },
     "execution_count": 2,
     "metadata": {},
     "output_type": "execute_result"
    }
   ],
   "source": [
    "from keras.models import Sequential\n",
    "from keras.layers import InputLayer, Conv2D, MaxPooling2D, Flatten, Dense\n",
    "\n",
    "first_conv_layer = Conv2D(filters=5, kernel_size=4, padding='valid', activation=\"relu\")\n",
    "\n",
    "model = Sequential([\n",
    "    InputLayer(input_shape=(28, 28, 1)),\n",
    "    first_conv_layer,\n",
    "    MaxPooling2D(pool_size=2),\n",
    "    Conv2D(filters=10, kernel_size=5, padding='valid', activation=\"relu\"),\n",
    "    MaxPooling2D(pool_size=2),\n",
    "    Flatten(),\n",
    "    Dense(units=10, activation=\"softmax\")\n",
    "])\n",
    "model.compile(optimizer=\"adam\", loss=\"categorical_crossentropy\", metrics=[\"accuracy\"])\n",
    "model.fit(x_train, y_train, epochs=5, batch_size=100, validation_data=(x_test, y_test))"
   ]
  },
  {
   "cell_type": "code",
   "execution_count": 3,
   "metadata": {
    "cell_id": "00005-8b52665c-a14e-49b0-aed8-314f1da3fd1c",
    "deepnote_cell_type": "code",
    "deepnote_to_be_reexecuted": false,
    "execution_millis": 228,
    "execution_start": 1614771788343,
    "output_cleared": true,
    "source_hash": "fd189b5a",
    "tags": []
   },
   "outputs": [
    {
     "data": {
      "image/png": "[encoded data removed]",
      "text/plain": [
       "<Figure size 640x480 with 5 Axes>"
      ]
     },
     "metadata": {},
     "output_type": "display_data"
    }
   ],
   "source": [
    "import matplotlib.pyplot as plt\n",
    "import numpy as np\n",
    "\n",
    "filters = first_conv_layer.weights[0]\n",
    "\n",
    "for filter_id in range(5):\n",
    "  plt.subplot(1, 5, filter_id + 1)\n",
    "  plt.imshow(filters[:, :, 0, filter_id])"
   ]
  },
  {
   "cell_type": "markdown",
   "metadata": {
    "cell_id": "00006-1cf6b102-550a-43fd-a591-dc8f44048c0a",
    "deepnote_cell_type": "markdown",
    "tags": []
   },
   "source": [
    "**Question 3.** Repeat this process for the pre-trained ResNet50 model you used in the previous\n",
    "lab session.\n",
    "Visualize the first 16 filters of the first convolutional layer."
   ]
  },
  {
   "cell_type": "code",
   "execution_count": 4,
   "metadata": {},
   "outputs": [
    {
     "data": {
      "text/plain": [
       "[<keras.src.engine.input_layer.InputLayer at 0x33d17fdc0>,\n",
       " <keras.src.layers.reshaping.zero_padding2d.ZeroPadding2D at 0x33c7f09a0>,\n",
       " <keras.src.layers.convolutional.conv2d.Conv2D at 0x2bfb0ab60>,\n",
       " <keras.src.layers.normalization.batch_normalization.BatchNormalization at 0x33d19a3b0>,\n",
       " <keras.src.layers.core.activation.Activation at 0x33d19ae30>,\n",
       " <keras.src.layers.reshaping.zero_padding2d.ZeroPadding2D at 0x33d19aef0>,\n",
       " <keras.src.layers.pooling.max_pooling2d.MaxPooling2D at 0x33d1fc100>,\n",
       " <keras.src.layers.convolutional.conv2d.Conv2D at 0x33d1fe410>,\n",
       " <keras.src.layers.normalization.batch_normalization.BatchNormalization at 0x33d1fe680>,\n",
       " <keras.src.layers.core.activation.Activation at 0x33d1ffe80>,\n",
       " <keras.src.layers.convolutional.conv2d.Conv2D at 0x33d1fe830>,\n",
       " <keras.src.layers.normalization.batch_normalization.BatchNormalization at 0x33d510ee0>,\n",
       " <keras.src.layers.core.activation.Activation at 0x33d511db0>,\n",
       " <keras.src.layers.convolutional.conv2d.Conv2D at 0x33d1fcca0>,\n",
       " <keras.src.layers.convolutional.conv2d.Conv2D at 0x33d5122c0>,\n",
       " <keras.src.layers.normalization.batch_normalization.BatchNormalization at 0x33d1fce20>,\n",
       " <keras.src.layers.normalization.batch_normalization.BatchNormalization at 0x33d510670>,\n",
       " <keras.src.layers.merging.add.Add at 0x33d5132b0>,\n",
       " <keras.src.layers.core.activation.Activation at 0x33d5129e0>,\n",
       " <keras.src.layers.convolutional.conv2d.Conv2D at 0x33d510310>,\n",
       " <keras.src.layers.normalization.batch_normalization.BatchNormalization at 0x33d1fcac0>,\n",
       " <keras.src.layers.core.activation.Activation at 0x33d1fde70>,\n",
       " <keras.src.layers.convolutional.conv2d.Conv2D at 0x33d1ff160>,\n",
       " <keras.src.layers.normalization.batch_normalization.BatchNormalization at 0x33d1ff6a0>,\n",
       " <keras.src.layers.core.activation.Activation at 0x33d513940>,\n",
       " <keras.src.layers.convolutional.conv2d.Conv2D at 0x33c7f0f70>,\n",
       " <keras.src.layers.normalization.batch_normalization.BatchNormalization at 0x33d510b20>,\n",
       " <keras.src.layers.merging.add.Add at 0x33d511420>,\n",
       " <keras.src.layers.core.activation.Activation at 0x33c7f1cf0>,\n",
       " <keras.src.layers.convolutional.conv2d.Conv2D at 0x33c7f2e30>,\n",
       " <keras.src.layers.normalization.batch_normalization.BatchNormalization at 0x33c7f02e0>,\n",
       " <keras.src.layers.core.activation.Activation at 0x33c7f1a50>,\n",
       " <keras.src.layers.convolutional.conv2d.Conv2D at 0x33d17c7c0>,\n",
       " <keras.src.layers.normalization.batch_normalization.BatchNormalization at 0x33d17eef0>,\n",
       " <keras.src.layers.core.activation.Activation at 0x33d17db40>,\n",
       " <keras.src.layers.convolutional.conv2d.Conv2D at 0x33d17c640>,\n",
       " <keras.src.layers.normalization.batch_normalization.BatchNormalization at 0x33d17efe0>,\n",
       " <keras.src.layers.merging.add.Add at 0x33d17f0a0>,\n",
       " <keras.src.layers.core.activation.Activation at 0x33d126830>,\n",
       " <keras.src.layers.convolutional.conv2d.Conv2D at 0x33d125db0>,\n",
       " <keras.src.layers.normalization.batch_normalization.BatchNormalization at 0x33d127340>,\n",
       " <keras.src.layers.core.activation.Activation at 0x33d125990>,\n",
       " <keras.src.layers.convolutional.conv2d.Conv2D at 0x33d15f1f0>,\n",
       " <keras.src.layers.normalization.batch_normalization.BatchNormalization at 0x33d15d120>,\n",
       " <keras.src.layers.core.activation.Activation at 0x33d15e020>,\n",
       " <keras.src.layers.convolutional.conv2d.Conv2D at 0x33d126ad0>,\n",
       " <keras.src.layers.convolutional.conv2d.Conv2D at 0x33d15e290>,\n",
       " <keras.src.layers.normalization.batch_normalization.BatchNormalization at 0x33d1272b0>,\n",
       " <keras.src.layers.normalization.batch_normalization.BatchNormalization at 0x33d198040>,\n",
       " <keras.src.layers.merging.add.Add at 0x33d15c8e0>,\n",
       " <keras.src.layers.core.activation.Activation at 0x33c6d3dc0>,\n",
       " <keras.src.layers.convolutional.conv2d.Conv2D at 0x33c6d3490>,\n",
       " <keras.src.layers.normalization.batch_normalization.BatchNormalization at 0x33c6d1660>,\n",
       " <keras.src.layers.core.activation.Activation at 0x33c6d3340>,\n",
       " <keras.src.layers.convolutional.conv2d.Conv2D at 0x33c6d0220>,\n",
       " <keras.src.layers.normalization.batch_normalization.BatchNormalization at 0x33c692f80>,\n",
       " <keras.src.layers.core.activation.Activation at 0x33c693100>,\n",
       " <keras.src.layers.convolutional.conv2d.Conv2D at 0x33c6d1570>,\n",
       " <keras.src.layers.normalization.batch_normalization.BatchNormalization at 0x33d125e40>,\n",
       " <keras.src.layers.merging.add.Add at 0x33d1264a0>,\n",
       " <keras.src.layers.core.activation.Activation at 0x33d17dd20>,\n",
       " <keras.src.layers.convolutional.conv2d.Conv2D at 0x33154bb20>,\n",
       " <keras.src.layers.normalization.batch_normalization.BatchNormalization at 0x33d5113f0>,\n",
       " <keras.src.layers.core.activation.Activation at 0x33d1fe980>,\n",
       " <keras.src.layers.convolutional.conv2d.Conv2D at 0x3315664d0>,\n",
       " <keras.src.layers.normalization.batch_normalization.BatchNormalization at 0x3315658a0>,\n",
       " <keras.src.layers.core.activation.Activation at 0x303b29240>,\n",
       " <keras.src.layers.convolutional.conv2d.Conv2D at 0x303b28e80>,\n",
       " <keras.src.layers.normalization.batch_normalization.BatchNormalization at 0x303b28760>,\n",
       " <keras.src.layers.merging.add.Add at 0x303b29720>,\n",
       " <keras.src.layers.core.activation.Activation at 0x2c728b2e0>,\n",
       " <keras.src.layers.convolutional.conv2d.Conv2D at 0x33d524160>,\n",
       " <keras.src.layers.normalization.batch_normalization.BatchNormalization at 0x33d524ac0>,\n",
       " <keras.src.layers.core.activation.Activation at 0x33d5261d0>,\n",
       " <keras.src.layers.convolutional.conv2d.Conv2D at 0x33d526a10>,\n",
       " <keras.src.layers.normalization.batch_normalization.BatchNormalization at 0x33d5247f0>,\n",
       " <keras.src.layers.core.activation.Activation at 0x33d5278b0>,\n",
       " <keras.src.layers.convolutional.conv2d.Conv2D at 0x33d104820>,\n",
       " <keras.src.layers.normalization.batch_normalization.BatchNormalization at 0x33d104a00>,\n",
       " <keras.src.layers.merging.add.Add at 0x33d5264d0>,\n",
       " <keras.src.layers.core.activation.Activation at 0x33d106710>,\n",
       " <keras.src.layers.convolutional.conv2d.Conv2D at 0x33d107970>,\n",
       " <keras.src.layers.normalization.batch_normalization.BatchNormalization at 0x33d174790>,\n",
       " <keras.src.layers.core.activation.Activation at 0x33d1764a0>,\n",
       " <keras.src.layers.convolutional.conv2d.Conv2D at 0x33d176920>,\n",
       " <keras.src.layers.normalization.batch_normalization.BatchNormalization at 0x33d1770a0>,\n",
       " <keras.src.layers.core.activation.Activation at 0x33d1759c0>,\n",
       " <keras.src.layers.convolutional.conv2d.Conv2D at 0x33d107430>,\n",
       " <keras.src.layers.convolutional.conv2d.Conv2D at 0x33d175c90>,\n",
       " <keras.src.layers.normalization.batch_normalization.BatchNormalization at 0x33d107580>,\n",
       " <keras.src.layers.normalization.batch_normalization.BatchNormalization at 0x33d177610>,\n",
       " <keras.src.layers.merging.add.Add at 0x33d525f60>,\n",
       " <keras.src.layers.core.activation.Activation at 0x2c728b220>,\n",
       " <keras.src.layers.convolutional.conv2d.Conv2D at 0x33154b8e0>,\n",
       " <keras.src.layers.normalization.batch_normalization.BatchNormalization at 0x33d17c3a0>,\n",
       " <keras.src.layers.core.activation.Activation at 0x303b28610>,\n",
       " <keras.src.layers.convolutional.conv2d.Conv2D at 0x33c7d6440>,\n",
       " <keras.src.layers.normalization.batch_normalization.BatchNormalization at 0x33c7d6680>,\n",
       " <keras.src.layers.core.activation.Activation at 0x33c7d7b20>,\n",
       " <keras.src.layers.convolutional.conv2d.Conv2D at 0x33c7d04c0>,\n",
       " <keras.src.layers.normalization.batch_normalization.BatchNormalization at 0x33c7d0cd0>,\n",
       " <keras.src.layers.merging.add.Add at 0x33c7d7670>,\n",
       " <keras.src.layers.core.activation.Activation at 0x33c7d23b0>,\n",
       " <keras.src.layers.convolutional.conv2d.Conv2D at 0x33c7d33d0>,\n",
       " <keras.src.layers.normalization.batch_normalization.BatchNormalization at 0x33c7d3880>,\n",
       " <keras.src.layers.core.activation.Activation at 0x33c7d3040>,\n",
       " <keras.src.layers.convolutional.conv2d.Conv2D at 0x33c7986d0>,\n",
       " <keras.src.layers.normalization.batch_normalization.BatchNormalization at 0x33c798a60>,\n",
       " <keras.src.layers.core.activation.Activation at 0x33c79a860>,\n",
       " <keras.src.layers.convolutional.conv2d.Conv2D at 0x33c79ad70>,\n",
       " <keras.src.layers.normalization.batch_normalization.BatchNormalization at 0x33c79b4f0>,\n",
       " <keras.src.layers.merging.add.Add at 0x33c79bf40>,\n",
       " <keras.src.layers.core.activation.Activation at 0x33c7b8f10>,\n",
       " <keras.src.layers.convolutional.conv2d.Conv2D at 0x33c7b9a20>,\n",
       " <keras.src.layers.normalization.batch_normalization.BatchNormalization at 0x33c7b9ed0>,\n",
       " <keras.src.layers.core.activation.Activation at 0x33c7bb2b0>,\n",
       " <keras.src.layers.convolutional.conv2d.Conv2D at 0x33c7bb7c0>,\n",
       " <keras.src.layers.normalization.batch_normalization.BatchNormalization at 0x33c7bbfd0>,\n",
       " <keras.src.layers.core.activation.Activation at 0x33c7bb4f0>,\n",
       " <keras.src.layers.convolutional.conv2d.Conv2D at 0x33c7dc220>,\n",
       " <keras.src.layers.normalization.batch_normalization.BatchNormalization at 0x33c7dd960>,\n",
       " <keras.src.layers.merging.add.Add at 0x33c7de8f0>,\n",
       " <keras.src.layers.core.activation.Activation at 0x33c7df430>,\n",
       " <keras.src.layers.convolutional.conv2d.Conv2D at 0x33c7df5e0>,\n",
       " <keras.src.layers.normalization.batch_normalization.BatchNormalization at 0x33c7de6b0>,\n",
       " <keras.src.layers.core.activation.Activation at 0x33c7d1ba0>,\n",
       " <keras.src.layers.convolutional.conv2d.Conv2D at 0x33c7d01c0>,\n",
       " <keras.src.layers.normalization.batch_normalization.BatchNormalization at 0x33c79a9b0>,\n",
       " <keras.src.layers.core.activation.Activation at 0x33c7d1c90>,\n",
       " <keras.src.layers.convolutional.conv2d.Conv2D at 0x33c7d4a00>,\n",
       " <keras.src.layers.normalization.batch_normalization.BatchNormalization at 0x33c7d7a90>,\n",
       " <keras.src.layers.merging.add.Add at 0x33c7d7c70>,\n",
       " <keras.src.layers.core.activation.Activation at 0x33c76b0a0>,\n",
       " <keras.src.layers.convolutional.conv2d.Conv2D at 0x33c76b9a0>,\n",
       " <keras.src.layers.normalization.batch_normalization.BatchNormalization at 0x33c76bdf0>,\n",
       " <keras.src.layers.core.activation.Activation at 0x33c76bcd0>,\n",
       " <keras.src.layers.convolutional.conv2d.Conv2D at 0x33c719480>,\n",
       " <keras.src.layers.normalization.batch_normalization.BatchNormalization at 0x33c7196c0>,\n",
       " <keras.src.layers.core.activation.Activation at 0x33c7195d0>,\n",
       " <keras.src.layers.convolutional.conv2d.Conv2D at 0x33c71a800>,\n",
       " <keras.src.layers.normalization.batch_normalization.BatchNormalization at 0x33c71ac50>,\n",
       " <keras.src.layers.merging.add.Add at 0x33c71ab90>,\n",
       " <keras.src.layers.core.activation.Activation at 0x33c764700>,\n",
       " <keras.src.layers.convolutional.conv2d.Conv2D at 0x33c767430>,\n",
       " <keras.src.layers.normalization.batch_normalization.BatchNormalization at 0x33c7676a0>,\n",
       " <keras.src.layers.core.activation.Activation at 0x33c7651e0>,\n",
       " <keras.src.layers.convolutional.conv2d.Conv2D at 0x33d52d5d0>,\n",
       " <keras.src.layers.normalization.batch_normalization.BatchNormalization at 0x33d52e200>,\n",
       " <keras.src.layers.core.activation.Activation at 0x33d52f4f0>,\n",
       " <keras.src.layers.convolutional.conv2d.Conv2D at 0x33c766110>,\n",
       " <keras.src.layers.convolutional.conv2d.Conv2D at 0x33d52fa00>,\n",
       " <keras.src.layers.normalization.batch_normalization.BatchNormalization at 0x33c766260>,\n",
       " <keras.src.layers.normalization.batch_normalization.BatchNormalization at 0x33d52d9c0>,\n",
       " <keras.src.layers.merging.add.Add at 0x33d52f610>,\n",
       " <keras.src.layers.core.activation.Activation at 0x33d529ba0>,\n",
       " <keras.src.layers.convolutional.conv2d.Conv2D at 0x33d529000>,\n",
       " <keras.src.layers.normalization.batch_normalization.BatchNormalization at 0x33d52ad40>,\n",
       " <keras.src.layers.core.activation.Activation at 0x33d52bfa0>,\n",
       " <keras.src.layers.convolutional.conv2d.Conv2D at 0x33d528af0>,\n",
       " <keras.src.layers.normalization.batch_normalization.BatchNormalization at 0x33c766fb0>,\n",
       " <keras.src.layers.core.activation.Activation at 0x33c764d90>,\n",
       " <keras.src.layers.convolutional.conv2d.Conv2D at 0x33c719600>,\n",
       " <keras.src.layers.normalization.batch_normalization.BatchNormalization at 0x33c768100>,\n",
       " <keras.src.layers.merging.add.Add at 0x33c76a0e0>,\n",
       " <keras.src.layers.core.activation.Activation at 0x33d53cc70>,\n",
       " <keras.src.layers.convolutional.conv2d.Conv2D at 0x33d53dd80>,\n",
       " <keras.src.layers.normalization.batch_normalization.BatchNormalization at 0x33d53e230>,\n",
       " <keras.src.layers.core.activation.Activation at 0x33d52b850>,\n",
       " <keras.src.layers.convolutional.conv2d.Conv2D at 0x33d53d8a0>,\n",
       " <keras.src.layers.normalization.batch_normalization.BatchNormalization at 0x33d53d7b0>,\n",
       " <keras.src.layers.core.activation.Activation at 0x33d53f6d0>,\n",
       " <keras.src.layers.convolutional.conv2d.Conv2D at 0x33d53f6a0>,\n",
       " <keras.src.layers.normalization.batch_normalization.BatchNormalization at 0x33d53f670>,\n",
       " <keras.src.layers.merging.add.Add at 0x33d53cfd0>,\n",
       " <keras.src.layers.core.activation.Activation at 0x33d546800>,\n",
       " <keras.src.layers.pooling.global_average_pooling2d.GlobalAveragePooling2D at 0x33d529390>,\n",
       " <keras.src.layers.core.dense.Dense at 0x33d547b80>]"
      ]
     },
     "execution_count": 4,
     "metadata": {},
     "output_type": "execute_result"
    }
   ],
   "source": [
    "from keras.applications.resnet50 import ResNet50\n",
    "\n",
    "model_resnet = ResNet50(weights='imagenet')\n",
    "\n",
    "model_resnet.layers"
   ]
  },
  {
   "cell_type": "code",
   "execution_count": 5,
   "metadata": {
    "cell_id": "00007-7c42c15f-ed4e-475e-8ee7-9e4b0c284bfc",
    "deepnote_cell_type": "code",
    "tags": []
   },
   "outputs": [
    {
     "data": {
      "image/png": "[encoded data removed]",
      "text/plain": [
       "<Figure size 640x480 with 16 Axes>"
      ]
     },
     "metadata": {},
     "output_type": "display_data"
    }
   ],
   "source": [
    "filters = model_resnet.layers[2].weights[0]\n",
    "for filter_id in range(16):\n",
    "  plt.subplot(4, 4, filter_id + 1)\n",
    "  plt.imshow(filters[:, :, 0, filter_id])"
   ]
  },
  {
   "cell_type": "markdown",
   "metadata": {
    "cell_id": "00008-30462a62-6e73-4e35-b07f-a45ae67d1b04",
    "deepnote_cell_type": "markdown",
    "tags": []
   },
   "source": [
    "# Adversarial examples\n",
    "\n",
    "In this section, we will illustrate the concept of adversarial examples and implement a simple \n",
    "[fast-sign-gradient method](https://arxiv.org/abs/1412.6572) to generate such examples.\n",
    "The idea of this method is the following:\n",
    "\n",
    "Suppose we denote by $\\mathcal{L}(x, y; \\theta)$ the loss function (typically categorical cross-entropy) evaluated for\n",
    "the current parameters $\\theta$ of a model on a single example $(x, y)$.\n",
    "If we compute the gradient of $\\mathcal{L}$ **with respect to $x$**, it will give us the direction of \n",
    "steepest increase \n",
    "of $\\mathcal{L}$, hence the the direction that is most likely to increase $\\mathcal{L}$ if we perform a small modification on $x$ (not on model parameters, as we usually do when our goal is to fit a model).\n",
    "Hence if we push $x$ (which is an image here) in that direction, we will perform a gradient ascent on $x$, \n",
    "which means we will change its pixel content in order to fool the \n",
    "classifier.\n",
    "If we are able to fool the classifier even with small changes, we have successfully generated an adversarial example: an \n",
    "example that is generated on purpose to look easy to classify for a human eye, but still fool the classifier.\n",
    "\n",
    "More precisely the update rule for the fast-sign-gradient method is:\n",
    "\n",
    "$$x^{(t+1)} = x^{(t)}+ \\eta \\, \\text{sign}(\\nabla_x\\mathcal{L}(x^{(t)}, y; \\theta))$$\n",
    "\n",
    "where $\\eta$ is a gradient step (or learning rate).\n",
    "\n",
    "Note that an alternative way to use this fast-sign-gradient method would be to perform a gradient descent (not ascent, this time)\n",
    "on the quantity $\\mathcal{L}(x, y^\\prime; \\theta)$ where $y^\\prime$ is a target class that we want the classifier to predict."
   ]
  },
  {
   "cell_type": "code",
   "execution_count": 6,
   "metadata": {
    "cell_id": "00009-6e6d0711-b1a6-449e-adc0-de08e606fcc5",
    "deepnote_cell_type": "code",
    "deepnote_output_heights": [
     250
    ],
    "deepnote_to_be_reexecuted": false,
    "execution_millis": 206,
    "execution_start": 1614771791687,
    "source_hash": "3d7fee32",
    "tags": [
     "keep"
    ]
   },
   "outputs": [
    {
     "data": {
      "image/png": "[encoded data removed]",
      "text/plain": [
       "<Figure size 640x480 with 1 Axes>"
      ]
     },
     "metadata": {},
     "output_type": "display_data"
    }
   ],
   "source": [
    "img = x_test[0]\n",
    "\n",
    "plt.imshow(img, cmap='gray')\n",
    "label = y_test[0]"
   ]
  },
  {
   "cell_type": "markdown",
   "metadata": {
    "cell_id": "00010-5fdaa36f-d5ac-45fc-85cd-221129dc7cb8",
    "deepnote_cell_type": "markdown",
    "tags": []
   },
   "source": [
    "**Question 3.** For the first sample in the MNIST test set (plotted just above ⬆️), what is the probability assigned by\n",
    "the simple model (made of 2 convolutional layers) defined above to **the correct class**?"
   ]
  },
  {
   "cell_type": "code",
   "execution_count": 7,
   "metadata": {
    "cell_id": "00011-5c8a881e-0bbf-4cf8-8f51-83d8c7cb339c",
    "deepnote_cell_type": "code",
    "deepnote_to_be_reexecuted": false,
    "execution_millis": 4,
    "execution_start": 1614771794790,
    "output_cleared": false,
    "source_hash": "85f5147d",
    "tags": []
   },
   "outputs": [
    {
     "name": "stdout",
     "output_type": "stream",
     "text": [
      "0.99990904\n"
     ]
    }
   ],
   "source": [
    "def predict_single_image(model, x):\n",
    "    return model(x[None]).numpy()[0]\n",
    "\n",
    "preds = predict_single_image(model, img)\n",
    "print(preds[7])"
   ]
  },
  {
   "cell_type": "markdown",
   "metadata": {
    "cell_id": "00012-52869203-fdc6-4707-9250-ec8315960ec6",
    "deepnote_cell_type": "markdown",
    "tags": []
   },
   "source": [
    "**Question 4.** The code below adds white noise to the image. See how this impacts (or not) the prediction quality of \n",
    "the model on this sample. You can play with the level of white noise to better visualize the robustness of the model to this \n",
    "kind of content modification."
   ]
  },
  {
   "cell_type": "code",
   "execution_count": 8,
   "metadata": {
    "tags": [
     "keep"
    ]
   },
   "outputs": [
    {
     "data": {
      "text/plain": [
       "<matplotlib.image.AxesImage at 0x34fc3cd60>"
      ]
     },
     "execution_count": 8,
     "metadata": {},
     "output_type": "execute_result"
    },
    {
     "data": {
      "image/png": "[encoded data removed]",
      "text/plain": [
       "<Figure size 640x480 with 1 Axes>"
      ]
     },
     "metadata": {},
     "output_type": "display_data"
    }
   ],
   "source": [
    "noisy_image = img + .1 * np.random.randn(*img.shape)\n",
    "plt.imshow(noisy_image, cmap='gray')"
   ]
  },
  {
   "cell_type": "code",
   "execution_count": 9,
   "metadata": {
    "cell_id": "00013-e188da28-1400-46b9-a0dc-7a3903734287",
    "deepnote_cell_type": "code",
    "deepnote_output_heights": [
     21.199996948242188,
     250
    ],
    "deepnote_to_be_reexecuted": false,
    "execution_millis": 116,
    "execution_start": 1614771797978,
    "output_cleared": false,
    "source_hash": "7a8c18f3",
    "tags": []
   },
   "outputs": [
    {
     "name": "stdout",
     "output_type": "stream",
     "text": [
      "0.99985147\n"
     ]
    }
   ],
   "source": [
    "preds = predict_single_image(model, noisy_image)\n",
    "print(preds[7])"
   ]
  },
  {
   "cell_type": "markdown",
   "metadata": {
    "cell_id": "00014-8ebccdf8-ada4-49dd-8b54-bce9a0b6573d",
    "deepnote_cell_type": "markdown",
    "tags": []
   },
   "source": [
    "**Question 5.** The function `sign_grad` below computes the quantity $\\text{sign}(\\nabla_x\\mathcal{L}(x^{(t)}, y; \\theta))$.\n",
    "Using calls to this function, iteratively change the content of the non-noisy image to generate an adversarial example.\n",
    "You can use a gradient step of .1 and 5 iterations should be sufficient.\n"
   ]
  },
  {
   "cell_type": "code",
   "execution_count": 10,
   "metadata": {
    "cell_id": "00015-0ce89e7d-6f58-40b9-b51f-43918dbf4f9a",
    "deepnote_cell_type": "code",
    "deepnote_to_be_reexecuted": false,
    "execution_millis": 1,
    "execution_start": 1614771800982,
    "output_cleared": true,
    "source_hash": "7c661f81",
    "tags": [
     "keep"
    ]
   },
   "outputs": [],
   "source": [
    "import tensorflow as tf\n",
    "from keras.losses import CategoricalCrossentropy\n",
    "\n",
    "def sign_grad(model, image, label):\n",
    "    image = tf.cast(image, tf.float32)\n",
    "\n",
    "    image_batch = image[None]\n",
    "    label_batch = label[None]\n",
    "    \n",
    "    with tf.GradientTape() as tape:\n",
    "        tape.watch(image_batch)\n",
    "        prediction = model(image_batch)\n",
    "        loss = CategoricalCrossentropy()(label_batch, prediction)\n",
    "    \n",
    "    gradient = tape.gradient(loss, image_batch)\n",
    "    \n",
    "    signed_grad = tf.sign(gradient)\n",
    "    \n",
    "    return signed_grad[0]\n"
   ]
  },
  {
   "cell_type": "code",
   "execution_count": 11,
   "metadata": {},
   "outputs": [
    {
     "name": "stdout",
     "output_type": "stream",
     "text": [
      "0.59264773 7\n",
      "3.140885e-05 2\n",
      "2.6941533e-09 2\n",
      "6.922388e-14 2\n",
      "3.6344385e-18 2\n",
      "3.6344385e-18\n"
     ]
    },
    {
     "data": {
      "image/png": "[encoded data removed]",
      "text/plain": [
       "<Figure size 640x480 with 5 Axes>"
      ]
     },
     "metadata": {},
     "output_type": "display_data"
    }
   ],
   "source": [
    "num_iter = 5\n",
    "eta = .1\n",
    "\n",
    "adv_img = img.copy()\n",
    "for iter in range(num_iter):\n",
    "    adv_img = adv_img + eta * sign_grad(model, adv_img, label)\n",
    "    plt.subplot(1, 5, iter + 1)\n",
    "    plt.imshow(adv_img[:, :, 0])\n",
    "    preds = predict_single_image(model, adv_img)\n",
    "    print(preds[7], np.argmax(preds))\n",
    "\n",
    "preds = predict_single_image(model, adv_img)\n",
    "print(preds[7])"
   ]
  },
  {
   "cell_type": "markdown",
   "metadata": {
    "cell_id": "00016-3d4aa88d-b20c-4e2b-a03a-71537a64af1b",
    "deepnote_cell_type": "markdown",
    "tags": []
   },
   "source": [
    "**Question 6.** Adapt your code above to push the model towards classifying the image into a 2."
   ]
  },
  {
   "cell_type": "code",
   "execution_count": 12,
   "metadata": {
    "cell_id": "00017-1222c7f3-8b52-44e1-9560-07f295415c39",
    "deepnote_cell_type": "code",
    "deepnote_to_be_reexecuted": false,
    "execution_millis": 93,
    "execution_start": 1614771991443,
    "output_cleared": true,
    "source_hash": null,
    "tags": []
   },
   "outputs": [
    {
     "name": "stdout",
     "output_type": "stream",
     "text": [
      "0.9570896 7\n",
      "0.019532032 2\n",
      "0.013839208 6\n",
      "1.35307855e-05 6\n",
      "4.4660833e-08 6\n"
     ]
    },
    {
     "data": {
      "image/png": "[encoded data removed]",
      "text/plain": [
       "<Figure size 640x480 with 5 Axes>"
      ]
     },
     "metadata": {},
     "output_type": "display_data"
    }
   ],
   "source": [
    "from keras.utils import to_categorical\n",
    "\n",
    "img = x_test[0]\n",
    "target_label = to_categorical(6, num_classes=10)\n",
    "\n",
    "num_iter = 5\n",
    "eta = .1\n",
    "\n",
    "adv_img = img.copy()\n",
    "for iter in range(num_iter):\n",
    "    adv_img = adv_img - eta * sign_grad(model, adv_img, target_label)\n",
    "    plt.subplot(1, 5, iter + 1)\n",
    "    plt.imshow(adv_img[:, :, 0])\n",
    "    preds = predict_single_image(model, adv_img)\n",
    "    print(preds[7], np.argmax(preds))"
   ]
  }
 ],
 "metadata": {
  "accelerator": "GPU",
  "colab": {
   "collapsed_sections": [],
   "name": "Images & ConvNets.ipynb",
   "provenance": []
  },
  "deepnote": {},
  "deepnote_execution_queue": [],
  "deepnote_notebook_id": "303bba85-4d53-440b-942d-6eadc6d91c15",
  "kernelspec": {
   "display_name": "Python 3",
   "name": "python3"
  },
  "language_info": {
   "codemirror_mode": {
    "name": "ipython",
    "version": 3
   },
   "file_extension": ".py",
   "mimetype": "text/x-python",
   "name": "python",
   "nbconvert_exporter": "python",
   "pygments_lexer": "ipython3",
   "version": "3.10.13"
  }
 },
 "nbformat": 4,
 "nbformat_minor": 0
}
