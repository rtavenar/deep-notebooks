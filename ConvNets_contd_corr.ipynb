{
 "cells": [
  {
   "cell_type": "markdown",
   "metadata": {
    "cell_id": "00000-a1adc4b1-4149-4f25-83f8-faabc945a92c",
    "deepnote_cell_type": "markdown",
    "id": "MTDStjAJrLT-"
   },
   "source": [
    "# Images and convolutional networks\n",
    "\n",
    "In this notebook, we will dig deeper into convolutional neural networks for image classification.\n",
    "\n",
    "## Filter visualization\n",
    "\n",
    "We will first try to visualize what these networks learn, _i.e._ what kind of local patterns their convolution blocks typically detect.\n",
    "For this exercise, we will focus on the first layer of these models to keep the maths simple.\n",
    "\n",
    "**Question 1.** Suppose a model has learned a convolution filter (_aka_ kernel) $W$ and a bias $b$.\n",
    "What is (theoretically) the unit-norm image patch $P$ that maximizes the ouput activation for \n",
    "this specific configuration:\n",
    "\n",
    "$$\\max_{P} \\varphi(W \\cdot P + b)) \\text{ such that } \\|P\\| = 1$$\n",
    "\n",
    "where $\\varphi$ is the activation function, for which our only assumption will be that it is an non-decreasing function."
   ]
  },
  {
   "cell_type": "markdown",
   "metadata": {
    "cell_id": "00001-716925eb-afb4-4200-b267-0ceaa591c3ca",
    "deepnote_cell_type": "markdown",
    "tags": []
   },
   "source": [
    "Write your (text) answer here."
   ]
  },
  {
   "cell_type": "markdown",
   "metadata": {
    "cell_id": "00002-432ef628-e939-4322-829b-40a0658c80e2",
    "deepnote_cell_type": "markdown",
    "tags": []
   },
   "source": [
    "**Question 2.** Given your answer above, and the model fit below, visualize, for each filter of the first convolutional \n",
    "layer, the input patch that would correspond to maximum activation.\n",
    "See [`keras` docs](https://keras.io/api/layers/) for more information on how to access weights of \n",
    "a given layer."
   ]
  },
  {
   "cell_type": "code",
   "execution_count": 1,
   "metadata": {
    "cell_id": "00003-21e8f66a-2713-45dc-87fa-c88e1a44caad",
    "colab": {
     "base_uri": "https://localhost:8080/",
     "height": 85
    },
    "deepnote_cell_type": "code",
    "deepnote_to_be_reexecuted": false,
    "execution_millis": 2149,
    "execution_start": 1614771639461,
    "id": "eZHk0xOhqUH6",
    "outputId": "39552619-cae6-44e7-bbc4-acaf800af98f",
    "output_cleared": false,
    "source_hash": "ffa07d02"
   },
   "outputs": [
    {
     "name": "stdout",
     "output_type": "stream",
     "text": [
      "Using TensorFlow backend\n"
     ]
    }
   ],
   "source": [
    "import keras_core as keras\n",
    "from keras.datasets import mnist\n",
    "from keras.utils import to_categorical\n",
    "\n",
    "def prepare_mnist():\n",
    "    (x_train, y_train), (x_test, y_test) = mnist.load_data()\n",
    "    x_train = x_train / 255.\n",
    "    x_test = x_test / 255.\n",
    "    x_train = x_train.reshape((-1, 28, 28, 1))\n",
    "    x_test = x_test.reshape((-1, 28, 28, 1))\n",
    "    \n",
    "    y_train = to_categorical(y_train)\n",
    "    y_test = to_categorical(y_test)\n",
    "    return x_train, x_test, y_train, y_test\n",
    "\n",
    "x_train, x_test, y_train, y_test = prepare_mnist()"
   ]
  },
  {
   "cell_type": "code",
   "execution_count": 2,
   "metadata": {
    "cell_id": "00004-8ae61253-9ea8-4e40-bab1-7031326481c7",
    "colab": {
     "base_uri": "https://localhost:8080/",
     "height": 496
    },
    "deepnote_cell_type": "code",
    "deepnote_output_heights": [
     null,
     21.1875
    ],
    "deepnote_to_be_reexecuted": false,
    "execution_millis": 124121,
    "execution_start": 1614771645224,
    "id": "ug40MwR-uD0X",
    "outputId": "0683554f-22d6-4b3d-c5f0-ba80a33b13ef",
    "output_cleared": false,
    "source_hash": "b8f76da2"
   },
   "outputs": [
    {
     "name": "stdout",
     "output_type": "stream",
     "text": [
      "Epoch 1/5\n"
     ]
    },
    {
     "name": "stderr",
     "output_type": "stream",
     "text": [
      "2023-07-18 14:44:29.215166: I metal_plugin/src/device/metal_device.cc:1154] Metal device set to: Apple M2 Max\n",
      "2023-07-18 14:44:29.215184: I metal_plugin/src/device/metal_device.cc:296] systemMemory: 32.00 GB\n",
      "2023-07-18 14:44:29.215189: I metal_plugin/src/device/metal_device.cc:313] maxCacheSize: 10.67 GB\n",
      "2023-07-18 14:44:29.215221: I tensorflow/core/common_runtime/pluggable_device/pluggable_device_factory.cc:303] Could not identify NUMA node of platform GPU ID 0, defaulting to 0. Your kernel may not have been built with NUMA support.\n",
      "2023-07-18 14:44:29.215237: I tensorflow/core/common_runtime/pluggable_device/pluggable_device_factory.cc:269] Created TensorFlow device (/job:localhost/replica:0/task:0/device:GPU:0 with 0 MB memory) -> physical PluggableDevice (device: 0, name: METAL, pci bus id: <undefined>)\n"
     ]
    },
    {
     "name": "stdout",
     "output_type": "stream",
     "text": [
      "  8/600 [..............................] - ETA: 4s - loss: 2.3169 - accuracy: 0.1025  "
     ]
    },
    {
     "name": "stderr",
     "output_type": "stream",
     "text": [
      "2023-07-18 14:44:29.583944: I tensorflow/core/grappler/optimizers/custom_graph_optimizer_registry.cc:114] Plugin optimizer for device_type GPU is enabled.\n"
     ]
    },
    {
     "name": "stdout",
     "output_type": "stream",
     "text": [
      "595/600 [============================>.] - ETA: 0s - loss: 0.4885 - accuracy: 0.8542"
     ]
    },
    {
     "name": "stderr",
     "output_type": "stream",
     "text": [
      "2023-07-18 14:44:33.900439: I tensorflow/core/grappler/optimizers/custom_graph_optimizer_registry.cc:114] Plugin optimizer for device_type GPU is enabled.\n"
     ]
    },
    {
     "name": "stdout",
     "output_type": "stream",
     "text": [
      "600/600 [==============================] - 5s 8ms/step - loss: 0.4863 - accuracy: 0.8549 - val_loss: 0.1655 - val_accuracy: 0.9494\n",
      "Epoch 2/5\n",
      "600/600 [==============================] - 5s 8ms/step - loss: 0.1409 - accuracy: 0.9568 - val_loss: 0.1034 - val_accuracy: 0.9682\n",
      "Epoch 3/5\n",
      "600/600 [==============================] - 5s 8ms/step - loss: 0.1055 - accuracy: 0.9686 - val_loss: 0.0801 - val_accuracy: 0.9744\n",
      "Epoch 4/5\n",
      "600/600 [==============================] - 5s 8ms/step - loss: 0.0891 - accuracy: 0.9724 - val_loss: 0.0774 - val_accuracy: 0.9760\n",
      "Epoch 5/5\n",
      "600/600 [==============================] - 5s 8ms/step - loss: 0.0773 - accuracy: 0.9760 - val_loss: 0.0601 - val_accuracy: 0.9805\n"
     ]
    },
    {
     "data": {
      "text/plain": [
       "<keras.src.callbacks.History at 0x2c455d3f0>"
      ]
     },
     "execution_count": 2,
     "metadata": {},
     "output_type": "execute_result"
    }
   ],
   "source": [
    "from keras.models import Sequential\n",
    "from keras.layers import InputLayer, Conv2D, MaxPool2D, Flatten, Dense\n",
    "\n",
    "first_conv_layer = Conv2D(filters=5, kernel_size=4, padding='valid', activation=\"relu\")\n",
    "\n",
    "model = Sequential([\n",
    "    InputLayer(input_shape=(28, 28, 1)),\n",
    "    first_conv_layer,\n",
    "    MaxPool2D(pool_size=2),\n",
    "    Conv2D(filters=10, kernel_size=5, padding='valid', activation=\"relu\"),\n",
    "    MaxPool2D(pool_size=2),\n",
    "    Flatten(),\n",
    "    Dense(units=10, activation=\"softmax\")\n",
    "])\n",
    "model.compile(optimizer=\"adam\", loss=\"categorical_crossentropy\", metrics=[\"accuracy\"])\n",
    "model.fit(x_train, y_train, epochs=5, batch_size=100, validation_data=(x_test, y_test))"
   ]
  },
  {
   "cell_type": "code",
   "execution_count": 3,
   "metadata": {
    "cell_id": "00005-8b52665c-a14e-49b0-aed8-314f1da3fd1c",
    "deepnote_cell_type": "code",
    "deepnote_to_be_reexecuted": false,
    "execution_millis": 228,
    "execution_start": 1614771788343,
    "output_cleared": true,
    "source_hash": "fd189b5a",
    "tags": []
   },
   "outputs": [
    {
     "data": {
      "image/png": "[encoded data removed]",
      "text/plain": [
       "<Figure size 640x480 with 5 Axes>"
      ]
     },
     "metadata": {},
     "output_type": "display_data"
    }
   ],
   "source": [
    "import matplotlib.pyplot as plt\n",
    "import numpy as np\n",
    "\n",
    "filters = first_conv_layer.weights[0]\n",
    "\n",
    "for filter_id in range(5):\n",
    "  plt.subplot(1, 5, filter_id + 1)\n",
    "  plt.imshow(filters[:, :, 0, filter_id])"
   ]
  },
  {
   "cell_type": "markdown",
   "metadata": {
    "cell_id": "00006-1cf6b102-550a-43fd-a591-dc8f44048c0a",
    "deepnote_cell_type": "markdown",
    "tags": []
   },
   "source": [
    "**Question 3.** Repeat this process for the pre-trained ResNet50 model you used in the previous\n",
    "lab session.\n",
    "Visualize the first 16 filters of the first convolutional layer."
   ]
  },
  {
   "cell_type": "code",
   "execution_count": 4,
   "metadata": {},
   "outputs": [
    {
     "name": "stdout",
     "output_type": "stream",
     "text": [
      "Downloading data from https://storage.googleapis.com/tensorflow/keras-applications/resnet/resnet50_weights_tf_dim_ordering_tf_kernels.h5\n",
      "102967424/102967424 [==============================] - 7s 0us/step\n"
     ]
    },
    {
     "data": {
      "text/plain": [
       "[<keras.src.engine.input_layer.InputLayer at 0x175ceeb90>,\n",
       " <keras.src.layers.reshaping.zero_padding2d.ZeroPadding2D at 0x104ca74f0>,\n",
       " <keras.src.layers.convolutional.conv2d.Conv2D at 0x104ca7c40>,\n",
       " <keras.src.layers.normalization.batch_normalization.BatchNormalization at 0x175d07490>,\n",
       " <keras.src.layers.core.activation.Activation at 0x175cec700>,\n",
       " <keras.src.layers.reshaping.zero_padding2d.ZeroPadding2D at 0x104ca7ca0>,\n",
       " <keras.src.layers.pooling.max_pooling2d.MaxPooling2D at 0x3266b8df0>,\n",
       " <keras.src.layers.convolutional.conv2d.Conv2D at 0x3266bae00>,\n",
       " <keras.src.layers.normalization.batch_normalization.BatchNormalization at 0x3266bad40>,\n",
       " <keras.src.layers.core.activation.Activation at 0x3266b9cf0>,\n",
       " <keras.src.layers.convolutional.conv2d.Conv2D at 0x3266d4790>,\n",
       " <keras.src.layers.normalization.batch_normalization.BatchNormalization at 0x3266d4bb0>,\n",
       " <keras.src.layers.core.activation.Activation at 0x3266d68f0>,\n",
       " <keras.src.layers.convolutional.conv2d.Conv2D at 0x3266b9990>,\n",
       " <keras.src.layers.convolutional.conv2d.Conv2D at 0x3266d6ec0>,\n",
       " <keras.src.layers.normalization.batch_normalization.BatchNormalization at 0x3266b8c70>,\n",
       " <keras.src.layers.normalization.batch_normalization.BatchNormalization at 0x3266d7340>,\n",
       " <keras.src.layers.merging.add.Add at 0x3266d7d00>,\n",
       " <keras.src.layers.core.activation.Activation at 0x3266f0ee0>,\n",
       " <keras.src.layers.convolutional.conv2d.Conv2D at 0x3266f16c0>,\n",
       " <keras.src.layers.normalization.batch_normalization.BatchNormalization at 0x3266f1f00>,\n",
       " <keras.src.layers.core.activation.Activation at 0x3266f30d0>,\n",
       " <keras.src.layers.convolutional.conv2d.Conv2D at 0x3266f36a0>,\n",
       " <keras.src.layers.normalization.batch_normalization.BatchNormalization at 0x3266f3df0>,\n",
       " <keras.src.layers.core.activation.Activation at 0x3266f3fa0>,\n",
       " <keras.src.layers.convolutional.conv2d.Conv2D at 0x326709120>,\n",
       " <keras.src.layers.normalization.batch_normalization.BatchNormalization at 0x326709300>,\n",
       " <keras.src.layers.merging.add.Add at 0x32670a5c0>,\n",
       " <keras.src.layers.core.activation.Activation at 0x32670aef0>,\n",
       " <keras.src.layers.convolutional.conv2d.Conv2D at 0x32670ba30>,\n",
       " <keras.src.layers.normalization.batch_normalization.BatchNormalization at 0x326709f00>,\n",
       " <keras.src.layers.core.activation.Activation at 0x32670ba00>,\n",
       " <keras.src.layers.convolutional.conv2d.Conv2D at 0x32671d390>,\n",
       " <keras.src.layers.normalization.batch_normalization.BatchNormalization at 0x32671d810>,\n",
       " <keras.src.layers.core.activation.Activation at 0x32671ece0>,\n",
       " <keras.src.layers.convolutional.conv2d.Conv2D at 0x32671f2b0>,\n",
       " <keras.src.layers.normalization.batch_normalization.BatchNormalization at 0x32671ffd0>,\n",
       " <keras.src.layers.merging.add.Add at 0x32671ead0>,\n",
       " <keras.src.layers.core.activation.Activation at 0x32670ae00>,\n",
       " <keras.src.layers.convolutional.conv2d.Conv2D at 0x3266bbc70>,\n",
       " <keras.src.layers.normalization.batch_normalization.BatchNormalization at 0x3266b9420>,\n",
       " <keras.src.layers.core.activation.Activation at 0x32673a830>,\n",
       " <keras.src.layers.convolutional.conv2d.Conv2D at 0x32673ada0>,\n",
       " <keras.src.layers.normalization.batch_normalization.BatchNormalization at 0x32673b220>,\n",
       " <keras.src.layers.core.activation.Activation at 0x3267394e0>,\n",
       " <keras.src.layers.convolutional.conv2d.Conv2D at 0x3266d6bf0>,\n",
       " <keras.src.layers.convolutional.conv2d.Conv2D at 0x326741030>,\n",
       " <keras.src.layers.normalization.batch_normalization.BatchNormalization at 0x3266d4850>,\n",
       " <keras.src.layers.normalization.batch_normalization.BatchNormalization at 0x326741300>,\n",
       " <keras.src.layers.merging.add.Add at 0x326741ff0>,\n",
       " <keras.src.layers.core.activation.Activation at 0x326742fe0>,\n",
       " <keras.src.layers.convolutional.conv2d.Conv2D at 0x326743850>,\n",
       " <keras.src.layers.normalization.batch_normalization.BatchNormalization at 0x326743e50>,\n",
       " <keras.src.layers.core.activation.Activation at 0x326743d00>,\n",
       " <keras.src.layers.convolutional.conv2d.Conv2D at 0x32674d270>,\n",
       " <keras.src.layers.normalization.batch_normalization.BatchNormalization at 0x32674d4e0>,\n",
       " <keras.src.layers.core.activation.Activation at 0x32674df30>,\n",
       " <keras.src.layers.convolutional.conv2d.Conv2D at 0x32674d1e0>,\n",
       " <keras.src.layers.normalization.batch_normalization.BatchNormalization at 0x32674e230>,\n",
       " <keras.src.layers.merging.add.Add at 0x32674ceb0>,\n",
       " <keras.src.layers.core.activation.Activation at 0x326765060>,\n",
       " <keras.src.layers.convolutional.conv2d.Conv2D at 0x326765ba0>,\n",
       " <keras.src.layers.normalization.batch_normalization.BatchNormalization at 0x3267660e0>,\n",
       " <keras.src.layers.core.activation.Activation at 0x326766ef0>,\n",
       " <keras.src.layers.convolutional.conv2d.Conv2D at 0x3267675e0>,\n",
       " <keras.src.layers.normalization.batch_normalization.BatchNormalization at 0x326767940>,\n",
       " <keras.src.layers.core.activation.Activation at 0x339a9cfa0>,\n",
       " <keras.src.layers.convolutional.conv2d.Conv2D at 0x339a9d570>,\n",
       " <keras.src.layers.normalization.batch_normalization.BatchNormalization at 0x339a9d9f0>,\n",
       " <keras.src.layers.merging.add.Add at 0x339a9eb30>,\n",
       " <keras.src.layers.core.activation.Activation at 0x339a9f460>,\n",
       " <keras.src.layers.convolutional.conv2d.Conv2D at 0x339a9f7f0>,\n",
       " <keras.src.layers.normalization.batch_normalization.BatchNormalization at 0x339a9cd60>,\n",
       " <keras.src.layers.core.activation.Activation at 0x326742c80>,\n",
       " <keras.src.layers.convolutional.conv2d.Conv2D at 0x326740eb0>,\n",
       " <keras.src.layers.normalization.batch_normalization.BatchNormalization at 0x3267390c0>,\n",
       " <keras.src.layers.core.activation.Activation at 0x326741e40>,\n",
       " <keras.src.layers.convolutional.conv2d.Conv2D at 0x339ab94e0>,\n",
       " <keras.src.layers.normalization.batch_normalization.BatchNormalization at 0x339ab9a80>,\n",
       " <keras.src.layers.merging.add.Add at 0x339aba7a0>,\n",
       " <keras.src.layers.core.activation.Activation at 0x339abb790>,\n",
       " <keras.src.layers.convolutional.conv2d.Conv2D at 0x339ac1510>,\n",
       " <keras.src.layers.normalization.batch_normalization.BatchNormalization at 0x339ac15a0>,\n",
       " <keras.src.layers.core.activation.Activation at 0x339ac31c0>,\n",
       " <keras.src.layers.convolutional.conv2d.Conv2D at 0x339ac1cf0>,\n",
       " <keras.src.layers.normalization.batch_normalization.BatchNormalization at 0x339ac3f10>,\n",
       " <keras.src.layers.core.activation.Activation at 0x339ac2560>,\n",
       " <keras.src.layers.convolutional.conv2d.Conv2D at 0x339ab9cc0>,\n",
       " <keras.src.layers.convolutional.conv2d.Conv2D at 0x339acd570>,\n",
       " <keras.src.layers.normalization.batch_normalization.BatchNormalization at 0x339abb9a0>,\n",
       " <keras.src.layers.normalization.batch_normalization.BatchNormalization at 0x339acc730>,\n",
       " <keras.src.layers.merging.add.Add at 0x339ace650>,\n",
       " <keras.src.layers.core.activation.Activation at 0x339ace800>,\n",
       " <keras.src.layers.convolutional.conv2d.Conv2D at 0x339acffd0>,\n",
       " <keras.src.layers.normalization.batch_normalization.BatchNormalization at 0x339ae40a0>,\n",
       " <keras.src.layers.core.activation.Activation at 0x339ae5600>,\n",
       " <keras.src.layers.convolutional.conv2d.Conv2D at 0x339ae58a0>,\n",
       " <keras.src.layers.normalization.batch_normalization.BatchNormalization at 0x339ae5d20>,\n",
       " <keras.src.layers.core.activation.Activation at 0x339ae6a70>,\n",
       " <keras.src.layers.convolutional.conv2d.Conv2D at 0x339ae77c0>,\n",
       " <keras.src.layers.normalization.batch_normalization.BatchNormalization at 0x339ae4b80>,\n",
       " <keras.src.layers.merging.add.Add at 0x339ae5780>,\n",
       " <keras.src.layers.core.activation.Activation at 0x339af96f0>,\n",
       " <keras.src.layers.convolutional.conv2d.Conv2D at 0x339afa230>,\n",
       " <keras.src.layers.normalization.batch_normalization.BatchNormalization at 0x339afa770>,\n",
       " <keras.src.layers.core.activation.Activation at 0x339afb880>,\n",
       " <keras.src.layers.convolutional.conv2d.Conv2D at 0x339afbe50>,\n",
       " <keras.src.layers.normalization.batch_normalization.BatchNormalization at 0x339afb160>,\n",
       " <keras.src.layers.core.activation.Activation at 0x339ac2920>,\n",
       " <keras.src.layers.convolutional.conv2d.Conv2D at 0x339ab9510>,\n",
       " <keras.src.layers.normalization.batch_normalization.BatchNormalization at 0x339acf280>,\n",
       " <keras.src.layers.merging.add.Add at 0x339ac10f0>,\n",
       " <keras.src.layers.core.activation.Activation at 0x339b11960>,\n",
       " <keras.src.layers.convolutional.conv2d.Conv2D at 0x339b121a0>,\n",
       " <keras.src.layers.normalization.batch_normalization.BatchNormalization at 0x339b12380>,\n",
       " <keras.src.layers.core.activation.Activation at 0x339b13b50>,\n",
       " <keras.src.layers.convolutional.conv2d.Conv2D at 0x339b12710>,\n",
       " <keras.src.layers.normalization.batch_normalization.BatchNormalization at 0x339b10220>,\n",
       " <keras.src.layers.core.activation.Activation at 0x339b21510>,\n",
       " <keras.src.layers.convolutional.conv2d.Conv2D at 0x339b20b80>,\n",
       " <keras.src.layers.normalization.batch_normalization.BatchNormalization at 0x339b21f00>,\n",
       " <keras.src.layers.merging.add.Add at 0x339b23040>,\n",
       " <keras.src.layers.core.activation.Activation at 0x339b23970>,\n",
       " <keras.src.layers.convolutional.conv2d.Conv2D at 0x339b2c4f0>,\n",
       " <keras.src.layers.normalization.batch_normalization.BatchNormalization at 0x339b208b0>,\n",
       " <keras.src.layers.core.activation.Activation at 0x339b2d840>,\n",
       " <keras.src.layers.convolutional.conv2d.Conv2D at 0x339b2de10>,\n",
       " <keras.src.layers.normalization.batch_normalization.BatchNormalization at 0x339b2e290>,\n",
       " <keras.src.layers.core.activation.Activation at 0x339b2f760>,\n",
       " <keras.src.layers.convolutional.conv2d.Conv2D at 0x339b2fd30>,\n",
       " <keras.src.layers.normalization.batch_normalization.BatchNormalization at 0x339b2f940>,\n",
       " <keras.src.layers.merging.add.Add at 0x339b2f9d0>,\n",
       " <keras.src.layers.core.activation.Activation at 0x339b3dc60>,\n",
       " <keras.src.layers.convolutional.conv2d.Conv2D at 0x339b3e7a0>,\n",
       " <keras.src.layers.normalization.batch_normalization.BatchNormalization at 0x339b3ece0>,\n",
       " <keras.src.layers.core.activation.Activation at 0x339b3fdf0>,\n",
       " <keras.src.layers.convolutional.conv2d.Conv2D at 0x339b3f7c0>,\n",
       " <keras.src.layers.normalization.batch_normalization.BatchNormalization at 0x339b3fac0>,\n",
       " <keras.src.layers.core.activation.Activation at 0x339b3f490>,\n",
       " <keras.src.layers.convolutional.conv2d.Conv2D at 0x339b59b10>,\n",
       " <keras.src.layers.normalization.batch_normalization.BatchNormalization at 0x339b5add0>,\n",
       " <keras.src.layers.merging.add.Add at 0x339b59150>,\n",
       " <keras.src.layers.core.activation.Activation at 0x339b5b8b0>,\n",
       " <keras.src.layers.convolutional.conv2d.Conv2D at 0x339b2fa30>,\n",
       " <keras.src.layers.normalization.batch_normalization.BatchNormalization at 0x339b3ec20>,\n",
       " <keras.src.layers.core.activation.Activation at 0x339b3f010>,\n",
       " <keras.src.layers.convolutional.conv2d.Conv2D at 0x32674cf10>,\n",
       " <keras.src.layers.normalization.batch_normalization.BatchNormalization at 0x339b21390>,\n",
       " <keras.src.layers.core.activation.Activation at 0x339b23880>,\n",
       " <keras.src.layers.convolutional.conv2d.Conv2D at 0x339b5bb50>,\n",
       " <keras.src.layers.convolutional.conv2d.Conv2D at 0x339b78ac0>,\n",
       " <keras.src.layers.normalization.batch_normalization.BatchNormalization at 0x339b3ffa0>,\n",
       " <keras.src.layers.normalization.batch_normalization.BatchNormalization at 0x339b7a7d0>,\n",
       " <keras.src.layers.merging.add.Add at 0x339b12a40>,\n",
       " <keras.src.layers.core.activation.Activation at 0x339b7b370>,\n",
       " <keras.src.layers.convolutional.conv2d.Conv2D at 0x339b79b40>,\n",
       " <keras.src.layers.normalization.batch_normalization.BatchNormalization at 0x339b7a590>,\n",
       " <keras.src.layers.core.activation.Activation at 0x339b7b0d0>,\n",
       " <keras.src.layers.convolutional.conv2d.Conv2D at 0x339b7b820>,\n",
       " <keras.src.layers.normalization.batch_normalization.BatchNormalization at 0x339b7a200>,\n",
       " <keras.src.layers.core.activation.Activation at 0x339b84d30>,\n",
       " <keras.src.layers.convolutional.conv2d.Conv2D at 0x339b86200>,\n",
       " <keras.src.layers.normalization.batch_normalization.BatchNormalization at 0x339b85840>,\n",
       " <keras.src.layers.merging.add.Add at 0x339b7bd30>,\n",
       " <keras.src.layers.core.activation.Activation at 0x339b87be0>,\n",
       " <keras.src.layers.convolutional.conv2d.Conv2D at 0x339b87730>,\n",
       " <keras.src.layers.normalization.batch_normalization.BatchNormalization at 0x339b87190>,\n",
       " <keras.src.layers.core.activation.Activation at 0x339b7bd90>,\n",
       " <keras.src.layers.convolutional.conv2d.Conv2D at 0x345515450>,\n",
       " <keras.src.layers.normalization.batch_normalization.BatchNormalization at 0x345516a10>,\n",
       " <keras.src.layers.core.activation.Activation at 0x345516410>,\n",
       " <keras.src.layers.convolutional.conv2d.Conv2D at 0x345516d40>,\n",
       " <keras.src.layers.normalization.batch_normalization.BatchNormalization at 0x3455145e0>,\n",
       " <keras.src.layers.merging.add.Add at 0x345515510>,\n",
       " <keras.src.layers.core.activation.Activation at 0x345517b80>,\n",
       " <keras.src.layers.pooling.global_average_pooling2d.GlobalAveragePooling2D at 0x345515810>,\n",
       " <keras.src.layers.core.dense.Dense at 0x345515f00>]"
      ]
     },
     "execution_count": 4,
     "metadata": {},
     "output_type": "execute_result"
    }
   ],
   "source": [
    "from keras.applications.resnet50 import ResNet50\n",
    "\n",
    "model_resnet = ResNet50(weights='imagenet')\n",
    "\n",
    "model_resnet.layers"
   ]
  },
  {
   "cell_type": "code",
   "execution_count": 5,
   "metadata": {
    "cell_id": "00007-7c42c15f-ed4e-475e-8ee7-9e4b0c284bfc",
    "deepnote_cell_type": "code",
    "tags": []
   },
   "outputs": [
    {
     "data": {
      "image/png": "[encoded data removed]",
      "text/plain": [
       "<Figure size 640x480 with 16 Axes>"
      ]
     },
     "metadata": {},
     "output_type": "display_data"
    }
   ],
   "source": [
    "filters = model_resnet.layers[2].weights[0]\n",
    "for filter_id in range(16):\n",
    "  plt.subplot(4, 4, filter_id + 1)\n",
    "  plt.imshow(filters[:, :, 0, filter_id])"
   ]
  },
  {
   "cell_type": "markdown",
   "metadata": {
    "cell_id": "00008-30462a62-6e73-4e35-b07f-a45ae67d1b04",
    "deepnote_cell_type": "markdown",
    "tags": []
   },
   "source": [
    "# Adversarial examples\n",
    "\n",
    "In this section, we will illustrate the concept of adversarial examples and implement a simple \n",
    "[fast-sign-gradient method](https://arxiv.org/abs/1412.6572) to generate such examples.\n",
    "The idea of this method is the following:\n",
    "\n",
    "Suppose we denote by $\\mathcal{L}(x, y; \\theta)$ the loss function (typically categorical cross-entropy) evaluated for\n",
    "the current parameters $\\theta$ of a model on a single example $(x, y)$.\n",
    "If we compute the gradient of $\\mathcal{L}$ **with respect to $x$**, it will give us the direction of \n",
    "steepest increase \n",
    "of $\\mathcal{L}$, hence the the direction that is most likely to increase $\\mathcal{L}$ if we perform a small modification on $x$ (not on model parameters, as we usually do when our goal is to fit a model).\n",
    "Hence if we push $x$ (which is an image here) in that direction, we will perform a gradient ascent on $x$, \n",
    "which means we will change its pixel content in order to fool the \n",
    "classifier.\n",
    "If we are able to fool the classifier even with small changes, we have successfully generated an adversarial example: an \n",
    "example that is generated on purpose to look easy to classify for a human eye, but still fool the classifier.\n",
    "\n",
    "More precisely the update rule for the fast-sign-gradient method is:\n",
    "\n",
    "$$x^{(t+1)} = x^{(t)}+ \\eta \\, \\text{sign}(\\nabla_x\\mathcal{L}(x^{(t)}, y; \\theta))$$\n",
    "\n",
    "where $\\eta$ is a gradient step (or learning rate).\n",
    "\n",
    "Note that an alternative way to use this fast-sign-gradient method would be to perform a gradient descent (not ascent, this time)\n",
    "on the quantity $\\mathcal{L}(x, y^\\prime; \\theta)$ where $y^\\prime$ is a target class that we want the classifier to predict."
   ]
  },
  {
   "cell_type": "code",
   "execution_count": 6,
   "metadata": {
    "cell_id": "00009-6e6d0711-b1a6-449e-adc0-de08e606fcc5",
    "deepnote_cell_type": "code",
    "deepnote_output_heights": [
     250
    ],
    "deepnote_to_be_reexecuted": false,
    "execution_millis": 206,
    "execution_start": 1614771791687,
    "source_hash": "3d7fee32",
    "tags": []
   },
   "outputs": [
    {
     "data": {
      "image/png": "[encoded data removed]",
      "text/plain": [
       "<Figure size 640x480 with 1 Axes>"
      ]
     },
     "metadata": {},
     "output_type": "display_data"
    }
   ],
   "source": [
    "img = x_test[0]\n",
    "\n",
    "plt.imshow(img, cmap='gray')\n",
    "label = y_test[0]"
   ]
  },
  {
   "cell_type": "markdown",
   "metadata": {
    "cell_id": "00010-5fdaa36f-d5ac-45fc-85cd-221129dc7cb8",
    "deepnote_cell_type": "markdown",
    "tags": []
   },
   "source": [
    "**Question 3.** For the first sample in the MNIST test set (plotted just above ⬆️), what is the probability assigned by\n",
    "the simple model (made of 2 convolutional layers) defined above to **the correct class**?"
   ]
  },
  {
   "cell_type": "code",
   "execution_count": 7,
   "metadata": {
    "cell_id": "00011-5c8a881e-0bbf-4cf8-8f51-83d8c7cb339c",
    "deepnote_cell_type": "code",
    "deepnote_to_be_reexecuted": false,
    "execution_millis": 4,
    "execution_start": 1614771794790,
    "output_cleared": false,
    "source_hash": "85f5147d",
    "tags": []
   },
   "outputs": [
    {
     "name": "stdout",
     "output_type": "stream",
     "text": [
      "0.99996686\n"
     ]
    }
   ],
   "source": [
    "def predict_single_image(model, x):\n",
    "    return model(x[None]).numpy()[0]\n",
    "\n",
    "preds = predict_single_image(model, img)\n",
    "print(preds[7])"
   ]
  },
  {
   "cell_type": "markdown",
   "metadata": {
    "cell_id": "00012-52869203-fdc6-4707-9250-ec8315960ec6",
    "deepnote_cell_type": "markdown",
    "tags": []
   },
   "source": [
    "**Question 4.** The code below adds white noise to the image. See how this impacts (or not) the prediction quality of \n",
    "the model on this sample. You can play with the level of white noise to better visualize the robustness of the model to this \n",
    "kind of content modification."
   ]
  },
  {
   "cell_type": "code",
   "execution_count": 8,
   "metadata": {
    "cell_id": "00013-e188da28-1400-46b9-a0dc-7a3903734287",
    "deepnote_cell_type": "code",
    "deepnote_output_heights": [
     21.199996948242188,
     250
    ],
    "deepnote_to_be_reexecuted": false,
    "execution_millis": 116,
    "execution_start": 1614771797978,
    "output_cleared": false,
    "source_hash": "7a8c18f3",
    "tags": []
   },
   "outputs": [
    {
     "name": "stdout",
     "output_type": "stream",
     "text": [
      "0.99991035\n"
     ]
    },
    {
     "data": {
      "image/png": "[encoded data removed]",
      "text/plain": [
       "<Figure size 640x480 with 1 Axes>"
      ]
     },
     "metadata": {},
     "output_type": "display_data"
    }
   ],
   "source": [
    "noisy_image = img + .1 * np.random.randn(*img.shape)\n",
    "plt.imshow(noisy_image, cmap='gray')\n",
    "\n",
    "preds = predict_single_image(model, noisy_image)\n",
    "print(preds[7])"
   ]
  },
  {
   "cell_type": "markdown",
   "metadata": {
    "cell_id": "00014-8ebccdf8-ada4-49dd-8b54-bce9a0b6573d",
    "deepnote_cell_type": "markdown",
    "tags": []
   },
   "source": [
    "**Question 5.** The function `sign_grad` below computes the quantity $\\text{sign}(\\nabla_x\\mathcal{L}(x^{(t)}, y; \\theta))$.\n",
    "Using calls to this function, iteratively change the content of the non-noisy image to generate an adversarial example.\n",
    "You can use a gradient step of .1 and 5 iterations should be sufficient.\n"
   ]
  },
  {
   "cell_type": "code",
   "execution_count": 9,
   "metadata": {
    "cell_id": "00015-0ce89e7d-6f58-40b9-b51f-43918dbf4f9a",
    "deepnote_cell_type": "code",
    "deepnote_to_be_reexecuted": false,
    "execution_millis": 1,
    "execution_start": 1614771800982,
    "output_cleared": true,
    "source_hash": "7c661f81",
    "tags": []
   },
   "outputs": [
    {
     "name": "stdout",
     "output_type": "stream",
     "text": [
      "0.78160626 7\n",
      "0.00041534568 3\n",
      "9.945177e-08 3\n",
      "5.7607787e-11 3\n",
      "2.2568224e-14 3\n"
     ]
    },
    {
     "data": {
      "image/png": "[encoded data removed]",
      "text/plain": [
       "<Figure size 640x480 with 5 Axes>"
      ]
     },
     "metadata": {},
     "output_type": "display_data"
    }
   ],
   "source": [
    "import tensorflow as tf\n",
    "from keras.losses import CategoricalCrossentropy\n",
    "\n",
    "def sign_grad(model, image, label):\n",
    "    image = tf.cast(image, tf.float32)\n",
    "\n",
    "    image_batch = image[None]\n",
    "    label_batch = label[None]\n",
    "    \n",
    "    with tf.GradientTape() as tape:\n",
    "        tape.watch(image_batch)\n",
    "        prediction = model(image_batch)\n",
    "        loss = CategoricalCrossentropy()(label_batch, prediction)\n",
    "    \n",
    "    gradient = tape.gradient(loss, image_batch)\n",
    "    \n",
    "    signed_grad = tf.sign(gradient)\n",
    "    \n",
    "    return signed_grad[0]\n",
    "\n",
    "\n",
    "num_iter = 5\n",
    "eta = .1\n",
    "\n",
    "adv_img = img.copy()\n",
    "for iter in range(num_iter):\n",
    "    adv_img = adv_img + eta * sign_grad(model, adv_img, label)\n",
    "    plt.subplot(1, 5, iter + 1)\n",
    "    plt.imshow(adv_img[:, :, 0])\n",
    "    preds = predict_single_image(model, adv_img)\n",
    "    print(preds[7], np.argmax(preds))"
   ]
  },
  {
   "cell_type": "code",
   "execution_count": 10,
   "metadata": {},
   "outputs": [
    {
     "name": "stdout",
     "output_type": "stream",
     "text": [
      "2.2568224e-14\n"
     ]
    }
   ],
   "source": [
    "preds = predict_single_image(model, adv_img)\n",
    "print(preds[7])"
   ]
  },
  {
   "cell_type": "markdown",
   "metadata": {
    "cell_id": "00016-3d4aa88d-b20c-4e2b-a03a-71537a64af1b",
    "deepnote_cell_type": "markdown",
    "tags": []
   },
   "source": [
    "**Question 6.** Adapt your code above to push the model towards classifying the image into a 2."
   ]
  },
  {
   "cell_type": "code",
   "execution_count": 11,
   "metadata": {
    "cell_id": "00017-1222c7f3-8b52-44e1-9560-07f295415c39",
    "deepnote_cell_type": "code",
    "deepnote_to_be_reexecuted": false,
    "execution_millis": 93,
    "execution_start": 1614771991443,
    "output_cleared": true,
    "source_hash": null,
    "tags": []
   },
   "outputs": [
    {
     "name": "stdout",
     "output_type": "stream",
     "text": [
      "0.97779727 7\n",
      "0.030200578 5\n",
      "0.0011374066 6\n",
      "4.6249024e-06 6\n",
      "1.1171579e-10 6\n"
     ]
    },
    {
     "data": {
      "image/png": "[encoded data removed]",
      "text/plain": [
       "<Figure size 640x480 with 5 Axes>"
      ]
     },
     "metadata": {},
     "output_type": "display_data"
    }
   ],
   "source": [
    "from keras.utils import to_categorical\n",
    "\n",
    "img = x_test[0]\n",
    "target_label = to_categorical(6, num_classes=10)\n",
    "\n",
    "num_iter = 5\n",
    "eta = .1\n",
    "\n",
    "adv_img = img.copy()\n",
    "for iter in range(num_iter):\n",
    "    adv_img = adv_img - eta * sign_grad(model, adv_img, target_label)\n",
    "    plt.subplot(1, 5, iter + 1)\n",
    "    plt.imshow(adv_img[:, :, 0])\n",
    "    preds = predict_single_image(model, adv_img)\n",
    "    print(preds[7], np.argmax(preds))"
   ]
  }
 ],
 "metadata": {
  "accelerator": "GPU",
  "colab": {
   "collapsed_sections": [],
   "name": "Images & ConvNets.ipynb",
   "provenance": []
  },
  "deepnote": {},
  "deepnote_execution_queue": [],
  "deepnote_notebook_id": "303bba85-4d53-440b-942d-6eadc6d91c15",
  "kernelspec": {
   "display_name": "Python 3",
   "name": "python3"
  },
  "language_info": {
   "codemirror_mode": {
    "name": "ipython",
    "version": 3
   },
   "file_extension": ".py",
   "mimetype": "text/x-python",
   "name": "python",
   "nbconvert_exporter": "python",
   "pygments_lexer": "ipython3",
   "version": "3.10.12"
  }
 },
 "nbformat": 4,
 "nbformat_minor": 0
}
